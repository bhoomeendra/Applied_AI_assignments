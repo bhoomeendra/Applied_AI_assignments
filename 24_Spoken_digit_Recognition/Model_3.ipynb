{
 "cells": [
  {
   "cell_type": "markdown",
   "id": "dfd7f8a2-2690-4872-841c-32114c99d0ce",
   "metadata": {},
   "source": [
    "# Model 3 \n",
    "### 3. Data augmentation with raw features \n",
    "\n",
    "Till now we have done with 2000 samples only. It is very less data. We are giving the process of generating augmented data below.\n",
    "\n",
    "There are two types of augmentation:\n",
    "1. time stretching - Time stretching either increases or decreases the length of the file. For time stretching we move the file 30% faster or slower\n",
    "2. pitch shifting - pitch shifting moves the frequencies higher or lower. For pitch shifting we shift up or down one half-step.\n"
   ]
  },
  {
   "cell_type": "code",
   "execution_count": 1,
   "id": "af7b3e43-103c-4062-a157-8fc9a12f8bf2",
   "metadata": {},
   "outputs": [
    {
     "name": "stderr",
     "output_type": "stream",
     "text": [
      "<frozen importlib._bootstrap>:228: RuntimeWarning: scipy._lib.messagestream.MessageStream size changed, may indicate binary incompatibility. Expected 56 from C header, got 64 from PyObject\n"
     ]
    }
   ],
   "source": [
    "import numpy as np\n",
    "import pandas as pd\n",
    "import librosa\n",
    "import os\n",
    "from glob import glob\n",
    "from tqdm import tqdm\n",
    "from tensorflow.keras.layers import Input, LSTM, Dense\n",
    "from tensorflow.keras.models import Model\n",
    "import tensorflow as tf\n",
    "from sklearn.metrics import f1_score"
   ]
  },
  {
   "cell_type": "markdown",
   "id": "b4939365-65be-42b7-b5a9-3ce85b9ff1ee",
   "metadata": {},
   "source": [
    "#### Making the data Frame"
   ]
  },
  {
   "cell_type": "code",
   "execution_count": 2,
   "id": "79983e76-4773-4211-b42b-7bfb0eca87da",
   "metadata": {},
   "outputs": [
    {
     "name": "stderr",
     "output_type": "stream",
     "text": [
      "100%|███████████████████████████████████████████████████████████████████████████████████████████████████████████████████████████████| 2000/2000 [00:00<00:00, 2165919.96it/s]\n"
     ]
    },
    {
     "data": {
      "text/html": [
       "<div>\n",
       "<style scoped>\n",
       "    .dataframe tbody tr th:only-of-type {\n",
       "        vertical-align: middle;\n",
       "    }\n",
       "\n",
       "    .dataframe tbody tr th {\n",
       "        vertical-align: top;\n",
       "    }\n",
       "\n",
       "    .dataframe thead th {\n",
       "        text-align: right;\n",
       "    }\n",
       "</style>\n",
       "<table border=\"1\" class=\"dataframe\">\n",
       "  <thead>\n",
       "    <tr style=\"text-align: right;\">\n",
       "      <th></th>\n",
       "      <th>path</th>\n",
       "      <th>label</th>\n",
       "    </tr>\n",
       "  </thead>\n",
       "  <tbody>\n",
       "    <tr>\n",
       "      <th>0</th>\n",
       "      <td>./recordings/1_theo_39.wav</td>\n",
       "      <td>1</td>\n",
       "    </tr>\n",
       "    <tr>\n",
       "      <th>1</th>\n",
       "      <td>./recordings/0_jackson_21.wav</td>\n",
       "      <td>0</td>\n",
       "    </tr>\n",
       "    <tr>\n",
       "      <th>2</th>\n",
       "      <td>./recordings/9_theo_26.wav</td>\n",
       "      <td>9</td>\n",
       "    </tr>\n",
       "    <tr>\n",
       "      <th>3</th>\n",
       "      <td>./recordings/9_jackson_29.wav</td>\n",
       "      <td>9</td>\n",
       "    </tr>\n",
       "    <tr>\n",
       "      <th>4</th>\n",
       "      <td>./recordings/8_nicolas_33.wav</td>\n",
       "      <td>8</td>\n",
       "    </tr>\n",
       "  </tbody>\n",
       "</table>\n",
       "</div>"
      ],
      "text/plain": [
       "                            path label\n",
       "0     ./recordings/1_theo_39.wav     1\n",
       "1  ./recordings/0_jackson_21.wav     0\n",
       "2     ./recordings/9_theo_26.wav     9\n",
       "3  ./recordings/9_jackson_29.wav     9\n",
       "4  ./recordings/8_nicolas_33.wav     8"
      ]
     },
     "execution_count": 2,
     "metadata": {},
     "output_type": "execute_result"
    }
   ],
   "source": [
    "paths = './recordings/*'\n",
    "all_files = []\n",
    "for path in tqdm(glob(paths)):\n",
    "    all_files.append(path)\n",
    "\n",
    "data = []\n",
    "for path in all_files:\n",
    "    label = path.split('/')[-1].split('_')[0]\n",
    "    data.append([path,label])\n",
    "df_audio = pd.DataFrame(data,columns=['path','label'])\n",
    "df_audio.head()"
   ]
  },
  {
   "cell_type": "markdown",
   "id": "479bab9a-ea9b-4918-abd7-23e9d84cceb2",
   "metadata": {},
   "source": [
    "#### Shuffle the data so that same labels dont get passed in the sequence"
   ]
  },
  {
   "cell_type": "code",
   "execution_count": 3,
   "id": "69371a91-1e10-430c-92ee-7fb83ed97140",
   "metadata": {},
   "outputs": [],
   "source": [
    "from sklearn.utils import shuffle\n",
    "df_audio = shuffle(df_audio, random_state=33)#don't change the random state"
   ]
  },
  {
   "cell_type": "code",
   "execution_count": 4,
   "id": "98066dc0-8a3a-4ac3-9a12-2b94bb998832",
   "metadata": {},
   "outputs": [],
   "source": [
    "sample_rate = 22050\n",
    "def load_wav(x, get_duration=True):\n",
    "    '''This return the array values of audio with sampling rate of 22050 and Duration'''\n",
    "    #loading the wav file with sampling rate of 22050\n",
    "    samples, sample_rate = librosa.load(x, sr=22050)\n",
    "    if get_duration:\n",
    "        duration = librosa.get_duration(y=samples, sr=sample_rate)\n",
    "        return [samples, duration]\n",
    "    else:\n",
    "        return samples\n",
    "\n",
    "def generate_augmented_data(file_path):\n",
    "    ''' This will agument the data on pitch and time a create 9 variation of a single sound'''\n",
    "    augmented_data = []\n",
    "    samples = load_wav(file_path,get_duration=False)\n",
    "    for time_value in [0.7, 1, 1.3]:\n",
    "        for pitch_value in [-1, 0, 1]:\n",
    "            time_stretch_data = librosa.effects.time_stretch(samples, rate=time_value)\n",
    "            final_data = librosa.effects.pitch_shift(time_stretch_data, sr=sample_rate, n_steps=pitch_value)\n",
    "            augmented_data.append(final_data)\n",
    "    return augmented_data\n",
    "\n"
   ]
  },
  {
   "cell_type": "code",
   "execution_count": 5,
   "id": "10e93f7d-5ca9-4fa8-81a4-756b5a5147f9",
   "metadata": {},
   "outputs": [
    {
     "data": {
      "text/plain": [
       "8180"
      ]
     },
     "execution_count": 5,
     "metadata": {},
     "output_type": "execute_result"
    }
   ],
   "source": [
    "temp_path = df_audio.iloc[0].path\n",
    "aug_temp = generate_augmented_data(temp_path)\n",
    "len(aug_temp[8])"
   ]
  },
  {
   "cell_type": "code",
   "execution_count": 6,
   "id": "ba2336be-c0ed-490a-8351-6431e0b67ecc",
   "metadata": {},
   "outputs": [],
   "source": [
    "from sklearn.model_selection import train_test_split\n",
    "X_train, X_test, y_train, y_test=train_test_split(df_audio['path'],df_audio['label'].to_numpy(dtype='int'),\n",
    "                                                  random_state=45,test_size=0.2,stratify=df_audio['label'])"
   ]
  },
  {
   "cell_type": "markdown",
   "id": "263030a3-590c-4023-b453-26ee596110a5",
   "metadata": {},
   "source": [
    "#### Agument the train data which would result in 1400*9 data points "
   ]
  },
  {
   "cell_type": "code",
   "execution_count": 7,
   "id": "46a903a9-3e9f-4c09-9235-672372bda7bd",
   "metadata": {},
   "outputs": [
    {
     "name": "stderr",
     "output_type": "stream",
     "text": [
      "1600it [04:38,  5.74it/s]\n"
     ]
    }
   ],
   "source": [
    "agumented_train_data = []\n",
    "agumented_train_label = [] \n",
    "\n",
    "for i,path in tqdm(enumerate(X_train)):\n",
    "    agumented_train_data.extend(generate_augmented_data(path))\n",
    "    agumented_train_label.extend([y_train[i] for j in range(9)])\n",
    "agumented_train_label = np.array(agumented_train_label)"
   ]
  },
  {
   "cell_type": "code",
   "execution_count": 8,
   "id": "c54062ef-ed5e-4609-afa3-da7ea9d37f92",
   "metadata": {},
   "outputs": [
    {
     "name": "stderr",
     "output_type": "stream",
     "text": [
      "100%|██████████████████████████████████████████████████████████████████████████████████████████████████████████████████████████████████████| 400/400 [00:04<00:00, 92.09it/s]\n"
     ]
    }
   ],
   "source": [
    "test_data = []\n",
    "for path in tqdm(X_test):\n",
    "    test_data.append(load_wav(path,get_duration=False))"
   ]
  },
  {
   "cell_type": "markdown",
   "id": "366eb740-51e6-4a2f-ba52-bf93c6318b4d",
   "metadata": {},
   "source": [
    "### Padding and masking the sequence"
   ]
  },
  {
   "cell_type": "code",
   "execution_count": 9,
   "id": "8a5345cb-a7a9-4814-9d84-1ec324852143",
   "metadata": {},
   "outputs": [],
   "source": [
    "max_length = 17640\n",
    "\n",
    "X_train_pad_seq_m3 = tf.keras.utils.pad_sequences(agumented_train_data, maxlen = max_length, padding = 'post', \n",
    "                                                  dtype = 'float32', truncating = 'post')\n",
    "X_test_pad_seq_m3 = tf.keras.utils.pad_sequences(test_data, maxlen = max_length, padding = 'post', \n",
    "                                                 dtype = 'float32', truncating = 'post')\n",
    "\n",
    "# This step can be Masking layer by tf.keras.layers.Masking\n",
    "\n",
    "X_train_mask_m3 = X_train_pad_seq_m3 != 0 \n",
    "X_test_mask_m3 = X_test_pad_seq_m3 != 0"
   ]
  },
  {
   "cell_type": "code",
   "execution_count": 10,
   "id": "2c908320-48a7-4155-8332-c660b45f8242",
   "metadata": {},
   "outputs": [
    {
     "data": {
      "text/plain": [
       "((14400, 17640), (400, 17640))"
      ]
     },
     "execution_count": 10,
     "metadata": {},
     "output_type": "execute_result"
    }
   ],
   "source": [
    "X_train_pad_seq_m3.shape , X_test_pad_seq_m3.shape"
   ]
  },
  {
   "cell_type": "code",
   "execution_count": 11,
   "id": "a05da632-0628-4285-981e-235527006487",
   "metadata": {},
   "outputs": [],
   "source": [
    "np.save('./X_train_pad_seq_m3.npy',X_train_pad_seq_m3)\n",
    "np.save('./X_test_pad_seq_m3.npy',X_test_pad_seq_m3)\n",
    "np.save('./X_train_mask_m3.npy',X_train_mask_m3)\n",
    "np.save('./X_test_mask_m3.npy',X_test_mask_m3)\n",
    "np.save('./y_test.npy',y_test)\n",
    "np.save(\"./agumented_train_label.npy\",agumented_train_label)"
   ]
  },
  {
   "cell_type": "code",
   "execution_count": 2,
   "id": "2979149f-b8ed-481d-9dc5-382716568312",
   "metadata": {},
   "outputs": [],
   "source": [
    "max_length = 17640\n",
    "X_train_pad_seq_m3 = np.load('./X_train_pad_seq_m3.npy')\n",
    "X_test_pad_seq_m3 = np.load('X_test_pad_seq_m3.npy')\n",
    "X_train_mask_m3 = np.load('X_train_mask_m3.npy')\n",
    "X_test_mask_m3 = np.load('X_test_mask_m3.npy')\n",
    "agumented_train_label = np.load('agumented_train_label.npy')\n",
    "y_test = np.load('y_test.npy')"
   ]
  },
  {
   "cell_type": "code",
   "execution_count": 3,
   "id": "f49f0f84-fa6a-4846-b2b8-e97f1d6bd5f1",
   "metadata": {},
   "outputs": [],
   "source": [
    "class F1ScoreCB(tf.keras.callbacks.Callback):\n",
    "    \n",
    "    def __init__(self, train_data, test_data):\n",
    "        super().__init__()\n",
    "        self.train_data = train_data\n",
    "        self.test_data = test_data\n",
    "        self.history = {}\n",
    "        self.history['val_f1_score'] = []\n",
    "  \n",
    "    def on_epoch_end(self, epochs, logs = {}):\n",
    "        train_preds = np.argmax(self.model.predict(self.train_data[0]), axis = -1)\n",
    "        train_f1_score = f1_score(self.train_data[1], train_preds, average='micro')\n",
    "        train_f1_score = np.round(train_f1_score, 4)\n",
    "\n",
    "        test_preds = np.argmax(self.model.predict(self.test_data[0]), axis = -1)\n",
    "        test_f1_score = f1_score(self.test_data[1], test_preds, average='micro')\n",
    "        test_f1_score = np.round(test_f1_score, 4)\n",
    "        self.history['val_f1_score'].append(test_f1_score)\n",
    "\n",
    "        print(f\"train_f1_score: {train_f1_score} - val_f1_score: {test_f1_score}\")\n",
    "        print(\"########### EPOCH ENDED ##########\")"
   ]
  },
  {
   "cell_type": "code",
   "execution_count": 4,
   "id": "9687edda-1122-406d-9746-6c9c7a118d49",
   "metadata": {},
   "outputs": [
    {
     "name": "stderr",
     "output_type": "stream",
     "text": [
      "2022-10-28 23:55:19.952758: I tensorflow/core/platform/cpu_feature_guard.cc:193] This TensorFlow binary is optimized with oneAPI Deep Neural Network Library (oneDNN) to use the following CPU instructions in performance-critical operations:  AVX2 FMA\n",
      "To enable them in other operations, rebuild TensorFlow with the appropriate compiler flags.\n",
      "2022-10-28 23:55:20.668321: I tensorflow/core/common_runtime/gpu/gpu_device.cc:1532] Created device /job:localhost/replica:0/task:0/device:GPU:0 with 9651 MB memory:  -> device: 0, name: NVIDIA GeForce RTX 2080 Ti, pci bus id: 0000:82:00.0, compute capability: 7.5\n"
     ]
    },
    {
     "name": "stdout",
     "output_type": "stream",
     "text": [
      "Model: \"model\"\n",
      "__________________________________________________________________________________________________\n",
      " Layer (type)                   Output Shape         Param #     Connected to                     \n",
      "==================================================================================================\n",
      " Input_sequence_layer (InputLay  [(None, 17640, 1)]  0           []                               \n",
      " er)                                                                                              \n",
      "                                                                                                  \n",
      " Input_mask_layer (InputLayer)  [(None, 17640)]      0           []                               \n",
      "                                                                                                  \n",
      " lstm (LSTM)                    (None, 100)          40800       ['Input_sequence_layer[0][0]',   \n",
      "                                                                  'Input_mask_layer[0][0]']       \n",
      "                                                                                                  \n",
      " Flatten (Flatten)              (None, 100)          0           ['lstm[0][0]']                   \n",
      "                                                                                                  \n",
      " dense (Dense)                  (None, 10)           1010        ['Flatten[0][0]']                \n",
      "                                                                                                  \n",
      "==================================================================================================\n",
      "Total params: 41,810\n",
      "Trainable params: 41,810\n",
      "Non-trainable params: 0\n",
      "__________________________________________________________________________________________________\n"
     ]
    }
   ],
   "source": [
    "input_layer_m3 = Input(shape=(max_length,1,) ,name = \"Input_sequence_layer\")\n",
    "input_mask_layer_m3 = Input(shape=(max_length,),dtype='bool', name = 'Input_mask_layer')\n",
    "lstm_layer_m3 = LSTM(units = 100)(input_layer_m3,mask = input_mask_layer_m3)\n",
    "flatten_m3 = tf.keras.layers.Flatten(name='Flatten')(lstm_layer_m3)\n",
    "output_m3 = Dense(10,activation = 'softmax')(flatten_m3)\n",
    "\n",
    "model_3 = Model([input_layer_m3,input_mask_layer_m3],output_m3)\n",
    "model_3.summary()"
   ]
  },
  {
   "cell_type": "code",
   "execution_count": 6,
   "id": "37293681-ae1c-471b-a8bd-6ea3985ab047",
   "metadata": {},
   "outputs": [
    {
     "name": "stdout",
     "output_type": "stream",
     "text": [
      "Epoch 1/10\n",
      "450/450 [==============================] - 69s 151ms/step\n",
      "13/13 [==============================] - 3s 150ms/step\n",
      "train_f1_score: 0.0999 - val_f1_score: 0.1\n",
      "########### EPOCH ENDED ##########\n",
      "900/900 [==============================] - 425s 469ms/step - loss: 2.3036 - val_loss: 2.3028\n",
      "Epoch 2/10\n",
      "450/450 [==============================] - 68s 151ms/step\n",
      "13/13 [==============================] - 2s 145ms/step\n",
      "train_f1_score: 0.0938 - val_f1_score: 0.0875\n",
      "########### EPOCH ENDED ##########\n",
      "900/900 [==============================] - 417s 463ms/step - loss: 2.3031 - val_loss: 2.3030\n",
      "Epoch 3/10\n",
      "450/450 [==============================] - 68s 151ms/step\n",
      "13/13 [==============================] - 2s 149ms/step\n",
      "train_f1_score: 0.1 - val_f1_score: 0.1\n",
      "########### EPOCH ENDED ##########\n",
      "900/900 [==============================] - 416s 462ms/step - loss: 2.3032 - val_loss: 2.3028\n",
      "Epoch 3: early stopping\n"
     ]
    },
    {
     "data": {
      "text/plain": [
       "<keras.callbacks.History at 0x14ed1956fcd0>"
      ]
     },
     "execution_count": 6,
     "metadata": {},
     "output_type": "execute_result"
    }
   ],
   "source": [
    "model_3.compile(optimizer = tf.keras.optimizers.Adam(0.001), loss = 'sparse_categorical_crossentropy')\n",
    "early_stop = tf.keras.callbacks.EarlyStopping(monitor='val_loss', min_delta=0.05, patience=2,verbose=1)\n",
    "model_3.fit([X_train_pad_seq_m3, X_train_mask_m3], agumented_train_label,\n",
    "           validation_data = ([X_test_pad_seq_m3, X_test_mask_m3], y_test),\n",
    "           batch_size = 16,epochs = 10,\n",
    "           callbacks = [early_stop,\n",
    "               F1ScoreCB(([X_train_pad_seq_m3, X_train_mask_m3], agumented_train_label), ([X_test_pad_seq_m3, X_test_mask_m3], y_test))]\n",
    "           )"
   ]
  },
  {
   "cell_type": "code",
   "execution_count": null,
   "id": "b816b191-8c9b-4777-90a5-b3e4380ef77c",
   "metadata": {},
   "outputs": [],
   "source": []
  }
 ],
 "metadata": {
  "kernelspec": {
   "display_name": "Python 3 (ipykernel)",
   "language": "python",
   "name": "python3"
  },
  "language_info": {
   "codemirror_mode": {
    "name": "ipython",
    "version": 3
   },
   "file_extension": ".py",
   "mimetype": "text/x-python",
   "name": "python",
   "nbconvert_exporter": "python",
   "pygments_lexer": "ipython3",
   "version": "3.9.0"
  }
 },
 "nbformat": 4,
 "nbformat_minor": 5
}
