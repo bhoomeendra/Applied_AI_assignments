{
 "cells": [
  {
   "cell_type": "markdown",
   "metadata": {
    "id": "ZwoTWIysaNmc"
   },
   "source": [
    "# <font color='red'> Spoken Digit Recognition</font>"
   ]
  },
  {
   "cell_type": "markdown",
   "metadata": {
    "id": "rPO3mjDDaNmf"
   },
   "source": [
    "\n",
    "In this notebook, You will do Spoken Digit Recognition. \n",
    "\n",
    "Input - speech signal, output - digit number\n",
    "\n",
    "\n",
    "\n",
    "It contains  \n",
    "\n",
    "1. Reading the dataset. and Preprocess the data set. Detailed instrctions are given below. You have to write the code in the same cell which contains the instrction. \n",
    "2. Training the LSTM with RAW data\n",
    "3. Converting to spectrogram and Training the LSTM network\n",
    "4. Creating the augmented data and doing step 2 and 3 again.  \n",
    "\n",
    "<font size=5>Instructions:</font>\n",
    "\n",
    "    1. Don't change any Grader Functions. Don't manipulate any Grader functions. If you manipulate any, it will be considered as plagiarised. \n",
    "    \n",
    "    2. Please read the instructions on the code cells and markdown cells. We will explain what to write. \n",
    "    \n",
    "    3. Please return outputs in the same format what we asked. Eg. Don't return List of we are asking for a numpy array.\n",
    "    \n",
    "    4. Please read the external links that we are given so that you will learn the concept behind the code that you are writing.\n",
    "    \n",
    "    5. We are giving instructions at each section if necessary, please follow them. \n",
    "\n",
    "<font size=5>Every Grader function has to return True. </font>\n",
    "\n"
   ]
  },
  {
   "cell_type": "code",
   "execution_count": 1,
   "metadata": {
    "id": "_qGuPcj-aNmh"
   },
   "outputs": [
    {
     "name": "stderr",
     "output_type": "stream",
     "text": [
      "<frozen importlib._bootstrap>:228: RuntimeWarning: scipy._lib.messagestream.MessageStream size changed, may indicate binary incompatibility. Expected 56 from C header, got 64 from PyObject\n"
     ]
    }
   ],
   "source": [
    "import numpy as np\n",
    "import pandas as pd\n",
    "import librosa\n",
    "import os\n",
    "##if you need any imports you can do that here. "
   ]
  },
  {
   "cell_type": "markdown",
   "metadata": {
    "id": "PdhFzGK1aNmo"
   },
   "source": [
    "We shared recordings.zip, please unzip those. "
   ]
  },
  {
   "cell_type": "code",
   "execution_count": 2,
   "metadata": {
    "id": "HDBcl_PUaNmp"
   },
   "outputs": [
    {
     "name": "stderr",
     "output_type": "stream",
     "text": [
      "100%|███████████████████████████████████████████████████████████████████████████████████████████████████████████████████████████████| 2000/2000 [00:00<00:00, 2201156.65it/s]\n"
     ]
    }
   ],
   "source": [
    "#read the all file names in the recordings folder given by us\n",
    "#(if you get entire path, it is very useful in future)\n",
    "#save those files names as list in \"all_files\"\n",
    "from glob import glob\n",
    "from tqdm import tqdm\n",
    "paths = './recordings/*'\n",
    "all_files = []\n",
    "for path in tqdm(glob(paths)):\n",
    "    all_files.append(path)"
   ]
  },
  {
   "cell_type": "markdown",
   "metadata": {
    "id": "8NYYpfqoaNmv"
   },
   "source": [
    "<font size=4>Grader function 1 </font>"
   ]
  },
  {
   "cell_type": "code",
   "execution_count": 3,
   "metadata": {
    "id": "2oJSOmYBaNmx",
    "outputId": "d4509e7d-1cb6-4e7f-e469-ef40314a8510"
   },
   "outputs": [
    {
     "data": {
      "text/plain": [
       "True"
      ]
     },
     "execution_count": 3,
     "metadata": {},
     "output_type": "execute_result"
    }
   ],
   "source": [
    "def grader_files():\n",
    "    temp = len(all_files)==2000\n",
    "    temp1 = all([x[-3:]==\"wav\" for x in all_files])\n",
    "    temp = temp and temp1\n",
    "    return temp\n",
    "grader_files()"
   ]
  },
  {
   "cell_type": "code",
   "execution_count": 4,
   "metadata": {
    "id": "MhvSIN6raNm3"
   },
   "outputs": [
    {
     "data": {
      "text/html": [
       "<div>\n",
       "<style scoped>\n",
       "    .dataframe tbody tr th:only-of-type {\n",
       "        vertical-align: middle;\n",
       "    }\n",
       "\n",
       "    .dataframe tbody tr th {\n",
       "        vertical-align: top;\n",
       "    }\n",
       "\n",
       "    .dataframe thead th {\n",
       "        text-align: right;\n",
       "    }\n",
       "</style>\n",
       "<table border=\"1\" class=\"dataframe\">\n",
       "  <thead>\n",
       "    <tr style=\"text-align: right;\">\n",
       "      <th></th>\n",
       "      <th>path</th>\n",
       "      <th>label</th>\n",
       "    </tr>\n",
       "  </thead>\n",
       "  <tbody>\n",
       "    <tr>\n",
       "      <th>0</th>\n",
       "      <td>./recordings/1_theo_39.wav</td>\n",
       "      <td>1</td>\n",
       "    </tr>\n",
       "    <tr>\n",
       "      <th>1</th>\n",
       "      <td>./recordings/0_jackson_21.wav</td>\n",
       "      <td>0</td>\n",
       "    </tr>\n",
       "    <tr>\n",
       "      <th>2</th>\n",
       "      <td>./recordings/9_theo_26.wav</td>\n",
       "      <td>9</td>\n",
       "    </tr>\n",
       "    <tr>\n",
       "      <th>3</th>\n",
       "      <td>./recordings/9_jackson_29.wav</td>\n",
       "      <td>9</td>\n",
       "    </tr>\n",
       "    <tr>\n",
       "      <th>4</th>\n",
       "      <td>./recordings/8_nicolas_33.wav</td>\n",
       "      <td>8</td>\n",
       "    </tr>\n",
       "  </tbody>\n",
       "</table>\n",
       "</div>"
      ],
      "text/plain": [
       "                            path label\n",
       "0     ./recordings/1_theo_39.wav     1\n",
       "1  ./recordings/0_jackson_21.wav     0\n",
       "2     ./recordings/9_theo_26.wav     9\n",
       "3  ./recordings/9_jackson_29.wav     9\n",
       "4  ./recordings/8_nicolas_33.wav     8"
      ]
     },
     "execution_count": 4,
     "metadata": {},
     "output_type": "execute_result"
    }
   ],
   "source": [
    "# Create a dataframe(name=df_audio) with two columns(path, label).   \n",
    "# You can get the label from the first letter of name.  \n",
    "# Eg: 0_jackson_0 --> 0  \n",
    "# 0_jackson_43 --> 0\n",
    "\n",
    "data = []\n",
    "for path in all_files:\n",
    "    label = path.split('/')[-1].split('_')[0]\n",
    "    data.append([path,label])\n",
    "df_audio = pd.DataFrame(data,columns=['path','label'])\n",
    "df_audio.head()"
   ]
  },
  {
   "cell_type": "markdown",
   "metadata": {
    "id": "LZbhCvvRPPMw"
   },
   "source": [
    "## Exploring the sound dataset"
   ]
  },
  {
   "cell_type": "code",
   "execution_count": 5,
   "metadata": {
    "id": "ilJsqdhhPMed"
   },
   "outputs": [],
   "source": [
    "#It is a good programming practise to explore the dataset that you are dealing with. This dataset is unique in itself because it has sounds as input\n",
    "#https://colab.research.google.com/github/Tyler-Hilbert/AudioProcessingInPythonWorkshop/blob/master/AudioProcessingInPython.ipynb\n",
    "#visualize the data and write code to play 2-3 sound samples in the notebook for better understanding.\n",
    "#please go through the following reference video https://www.youtube.com/watch?v=37zCgCdV468"
   ]
  },
  {
   "cell_type": "code",
   "execution_count": 6,
   "metadata": {
    "id": "bX_umjikPy5Y"
   },
   "outputs": [
    {
     "data": {
      "text/html": [
       "\n",
       "                <audio  controls=\"controls\" >\n",
       "                    <source src=\"data:audio/x-wav;base64,UklGRlwoAABXQVZFZm10IBAAAAABAAEAQB8AAIA+AAACABAAZGF0YTgoAACP/lH+Jf7h/cX90/3w/Tn+dv7P/iD/qP8KAHwAuQANAT4BggGIAZwBiAFwAUYBSgEpASsBJAE9AV8BkgGuAeQB+gEwAjECNAIMAvABqAFnAQgBlwBRAAEAov9f/zj//v7Y/p7+dv5P/jL+8v2V/UH96vyH/Dr8/PvQ+5/7lvus+9v7C/x//PP8qf1w/nf/agBpAY4CqQOCBEcFxAX1BQQG3QVpBZwEvAOwAqsBnQCs/7v+9f1G/dn8y/wz/ev9Dv+KADcC3ANhBXUG4gbCBhAGygRBA0UBGf8J/XX7KvpY+dX4/fi5+QD7WPzL/WL/JQFOAuYCxgKIAuUBLQHA//P9ffxn+3r4UPXj89nysPIh9DH2ovh7/ZoCdQbGCTENXA/9EF8RABCeDXALxggpBSUBrf0p+4P5W/h795T3Qvmw+7n9rv+NAc4DfgWpBdcEVwT/A5UDvwKEAccAvwAGALn+t/3p/K784/zU/N789/3//q7/EwC5AOQAUAF1AXkB+wCnACoAXv+9/tr9Jf20/JL8xfst+v72e/Qs877xc/AM8WLz0PZ6+wYA6ANuCAsNFxDpEd8SGhLCEBcP/QvSB3gErAFg/2f9fPsU+oL6t/ti/JL9Zv8HAboCTAPkAU0BygGFAdAAzwDAACcBnQH/ANr/cf8U/1r+5f1r/fz8I/2A/WX9Sv2f/Uz9Tv3n/WP+Yv5j/+//kwCqAMYAQQDk/+3+Yv3V+iX3KPTb8d7vHe5b7tfvS/Pr90X9bgLaCL4OmxOyFqYYqRhGGK0WKxNzDmoKUAZPAin+QPq194T3l/dz90T4U/rV/F3/TQAtAM8AIwI4Al8B+ADOAVoC6gFKAAz/7P37/OT74/pt+sP6ivsF/M78tv2E/jD/6f8GAF4A9gDpATgB9gCtADoAof8T/3H9ivwF/Fr5c/X08nLxD/AM8HDwS/JH9kL7RP8KBK0J7A6rElIVbxbbFkwWThRVETcOsArXBtACZP+r/Nj6LPmB+Hb4WvmI+j38RP2t/pD/3/9O/3T/1P+oAC8BeAE1AYQBVwEkAGf+gv2z/Oj7Bfve+of6ZPvz+3j87PxT/Rr+av7I/8UAQgE+ArYCBgMTAqgB8P+w/kH9a/vE96P1KfOl8DPvye+f8PTyR/ce/LEBkQfyDCYRXhU8GMoYKhgrFxQVTBKDDicKsAUpAo/+EvsJ+LP2c/bK9q73k/jf+R78jf4K/07+B/92AGoBLQJQAlYCpwIkAon/wP3A/Mz7Avo/+Tf4hPi1+Zb63Pp4+8v8y/31/vv/wwEpAz4DmwPrAuYC2wFrAVj/j/5O/nf8G/mX9o30tPKx8Yjx8fHk9D/5yv0DAgkHtAtNEBYUORauFvIWgBZXFA4RMg0fCSoFhwF0/dH5ZPdY9o71aPW49Vf3UfkN+0/8VP0Z/1wBhAMbBNAEeAWDBQ0E3gIbAOL9UPxF+lj4T/cM+G/3oPgd+j/7xfxs/kD/iAAZAuUCtQKVAwgESgNqA6MCpAHt/yj/iv0u/ZT7vfh19Trzs/GK8bnxxPLz9cf6pv8WBIgIwAzdEMsTZxXRFSsWOhUXE5YP+AvwBygE8/8d/MT4VPdx9gb28PWF9/n4LPow/DT9Df70AFQD3gMOBYAFYgXnA1QCVv8t/Rj8ivnN91D3/vZW9/b3LvnY+Ov6gPyg/dL+JgBmAZoCCAQdA6kChALGAu8C/wGUAfYAlgD//xz99fhl9vP0mPJ98onzwvS796D8NADzAzIJSw1PEPUSdhSQFMYUBhRxEU4OBgswB5ACuf7q+jj49fa59gX2Sffp+EP62vp3/HL9J/72/8QA2AFYAzkEVQOpAicBMf8e/bz7pfli+WH57vlr+aj6XPtP+5D9I/1E/07/kAGiAFMCMQJqAosC+wGGAiAC+gK3AYsBNf9JACH+BPuG99v2WvSK82nzBfTQ9p/6nf2gAK4FBQkoDMUOdBFEEi4TpRJKEVYP0Aw5CB4FugJO/+b84Pqc+U75gfmN+Cn5T/mu+ur6lvtY/Qn+LwCNAQ0CVQIOAkQCz//U/xT93PzH++D7Dfor+3b6vPtF++37aPt//A/9sP6U/kX/zwCyAXQDDAJVBMgDbQVpBAQEpQJSAogBNP+U+4D33/fu9B/z2/KB9Ef2QvkR+7H9gQKEBpIINQyED8IRexPwEjATZxFcEJMLMQkTBtUCpP4b/NT5b/jw9+n11vZ496L4YPhI+Tr86fxX/0oArALOAjcEhgLUAe4ArP0E/Rv+wfwk/Pr80Pus+5b6s/sh+E75vfuA+xD9dv85AcoBVgRDBDkF/AVqBpQE0gXaA14CEAEu/0P57PdF95LyKvF88kTyj/N899P4yf0dA4UGkwjfDlgSdRPoFD8VwhX4FHUQ0gu3CXsGzgCV/Vf69vmF9xr3XPRx9xv52Pfg+HH5Cvwd/u39eP+9AD8D1gLS/0wBAv8g/zr8J/60+hf9pvqj+0j58fvK+on6S/xq+xz/MP0LAY8CwwEtBcEDfQUrBvEFNAY9BUkEpAQw/7P6aPo69JTyl/BM8I/vEfQF9hD4jP6EAzgHKQxOEAQTnBYFF2wVUxVtE9cOTQp3B30CbgDl/qf6kfkB+pv4/Pib+MH37/jq+JP5rflR+n3/+fsjAWj+SgHG/tYAPfxY/iT+NPxa/K38APzu+4n8WPot/bf6kv6I/Gz/BQBwAdQA4wO6A6wEDwihBasIFga+BgD/EP+y+7v0xvHR8rLuae8d8zLyYfgF/bH/iANLDBQMwhDMFG8UpxUdFrMRYg7cDbMH3gMPAo//uPzm/dv7f/rW/DP7r/oJ/TP60Pn/+xH80/l6/vn8NvyZAOX8qvxP/mb9SvvQ+z/9Xfkq/lv8Ovrr/GP9Gftu/Sn+V/xaAXgCNv8vBmkBzQVnBbMGmgTyBzMHIv4oAer75PRD9BL0Uu1e8Zn0e/K++r/+8/5JBuIMEwrfEMgSXxEBFLYUEQ7ODi4MSATNA/UBLPyo/Cz+ZvoS/f3+Wvp7/vT+sfka/Mn8u/pw/VL/e/tCALoBSPzs/239/PqM/Vj7f/h4/E76QPn++0L8tPcJALP6Hv7XAYEAQP9LBYAIxv+hCPoFvQS9CQ4DevjNBAj4APFP9K7wuO158zzyW/FNARv+mQEyDLoQsw0PFyIUhRLGF3AP7wrtDOcGZ/3g/0T7Pfn1+gr4NviIAOH7rP05Av0CDwBlAt7/i/5XA2799v3MArcBz/ymAVb9P/0w/h/6/veI/H/61Pc6+DP7z/mS/ar8uf1+AuT/TAD+AXUD2AAJBB0H2gR2+5z/8fok8Jrz1u3s7MXv2PMP8Ab9vABuAmEMQRL2FMsYrhvHFr8bihUYDOAKbAbI/nL6YvW98nH1mPNU8Q758Py6/D4DxgQLB2YJIgPwBt8GYgF+AdgCpQAk/yP/TPwC/o38wflO/DL8H/s4+F/+3Pv0+V39hP+Y/RL+SQGy/dUCNQWT/eAHMQKI8w8AZvCl53PysOY55VDuUe8Y7mT/kP/mAzoVdxUjGHojzSKiHYwiXhoBEe0QwgWL+on5u/LP7bPt9u0m67P2z/fq+koDFgjOClQLuAtOCEwNBgedAUoD4QG0+5H6OvrQ+P33p/hX95f8if4v/UgBLwLkBCAEZwBFBR0DKv4PA+IABvxrAdADhPKD7aH7e+Fs3YbqKuBq4RTtuO2j9RMDxwfLCTceGyBMHFwmlCQaH4EcwhaVC/kHrwHY9eHy+vEA7XTxqPLq8n/73gDWAx0IUw4zEIUR4AvBCmMKSv9R++H7e/bG8dvycvOR8u/1cvdo+p4D4gJRBF4KDA3SCeMJHgzXB4oFqQW+/vj+1AJZ8Sbi9/OE4TfTUN/D3s3hkuV28z/3QQVQDx4NXxr0JG4j5xykHt8jLxYlCKEFif/k+Irvneyn7IDzrfNQ8N79DQmKChcM7BQTHpAa7xbhElURowyx/gT2AfOX8zLpX+TA6Fvu8+7U7mL2BwGeBtkHSwv3ElQVBRNCDdMKxg4BB177ZQSb9dTczuum3n7RvdPV2xvgzeAP9AL+EAMJFNge2SF6I+kskSXuGAUbWBQOBKT4jfES7a3jRN9O4F7lVvDG9LD6CAl8GYgfkh4hJS8uiSpZGvwU2RFDBEX28Oum5t/mdeNA3wrhF+xP9PHzYftgCDURghHzEWkWIhlHFdMNUgmkCQED3P0G8x/a694U30zMXMfT0sXj1OGV6CwB6BDVFzMfMTC8MhouzCyBJB8VHxHYBlrv8eTc5W/f+dNt11jgmOpB9ib7egt6HnEnXytAKwQzwSxvHqEQ1Qkz/wLx/uZu33XgNOHi3hHj0e1S9ov9RwaBECAUeh0eHHIW/BcvF9AMCwI3Aj7+cPtx5DbJBdh32dLMVsH/0zTs2/Aj94wFzBsGJb8qqTCJLjkukylPGcsJGgWD+bHk3trV2W/Z39Wu1V3lvPhPBAMHiRkpMq80VzT0L4M1zyxFFMkFz/gW8Srg1tbC1DjURdx34S7oo/Dk/q8OMBXlGEAhbSeqIroYhRVoEp4HOPvl9ib0N/GI6gTPzclk1SnYGc/nzAvqpPzgAbQIihpZK5IulS0FL3AuRiNaEQMF5//58WvezNLw1GDX9NdZ2PvltvmWDRwaaR1zLVQ+QEJoNbMpCClYHfgAiuwh4wLcCdFrzQPR29vN5ZztrfjbCEsS0xiiIsMn0yWsHgcbdhMvCB38qfJg8IXqVunK6NrPZshg1C7f7d0R1Bvp0wJjEHsRGho1K5UvXC8eLvYotRp7CQgAgftf7jjdDtAE1Kna0ttN2pHk3v2uE/gb0R9nL2RAskBlMxEnWSGEGOH+7+eg3ZfaQ9WfzG3NRt/17qX2tP0NCmMZTCQJKfQiaiLaIbEaGw7R/dv2MPC/6T7jJOJS6kzcE80Q0xnZpORa5JDqnfhcBS8V0RwdKNsnuSXKKB8rMii2DY/2afbi/Ljxh9UTzNPXLudv547iUfE/C0Ecgx9SKII3cTxYMocnmSBmGRkDIOwh3VfV1tiX0jXPn9cI6gr63wPEC18V3BwbKQUsPyixGm4P9w69B4/7buia4bHnqur26Nrl39vm17faruKR6MbmcPLJ/mIG3g3xGQMnwiTJHiEdDSXEISAK2Pbf8Z32F/Ae4ZHadNwE5WntIvWWAQ8OmRawH/os+zo6NjYpvRycF/UT/AGv6j7UfdNB1YXPBtJV4gL0FvZ3/6EWRCWvIl4aOCAxKz0hXQ2U/ob93veP7aDmneL55rroj+459SDsReOE2cXh4vBx+R76YvLb/UcNgB1MIVcdiRsuGbga3hiPEd0D4fC/5ijr1/Ox7IzbSdp0764H9wvRDfEV3CCFLBMygi+YI10VQQ87CEz75Ovn44nW98bFy0Di1PfY9sL14wMeHWworiBKGBIUJRipEycKmv8D9YTsgeVk6mDv8eps6BXzzQThAM3vqOCD3hDuWPaO9y7xIPG2/lILLxc/HhkfZBYwEVUc3SBeEe/2Ze9r+IH3hu3p5Vvr3O8Y9Cf+0gzJGUscVRwiINgiryMaH4cRUQSK/aL6svFS3wLRT89T3KnrNfgnAgwJWg77E0wbix23FZUO0QziCvMGdfoW8VXtuuyd6YnnG+1u91wCNgQc8//j/t9V6KjvTO1I8M7xLvh+ARoQ/x1dHU0ZFxwyIiUfhxKLCzcBnvUS8170UPLO58roGfEP+SICLgqLFfkaahunHOsdMiJ3GzAPNQQ+/v77wu783GTOa9JW4krv4fiq/6UGyQ20EWkUdxXDFtwUGg23BxUGzAJi+K/tgOea56Hr5PLN+jUArPgS64bgzNw05AXvCvio9qXwEfnECi4chyJZHYgZAxkjIXYgUhEWAHP47Psu+O3t0Oi16uPy1/Mg9tYC3xQ2Ib8a6hUeHJ0k9SLUEbwGHAPdANHz3t9H06XTaduR49rrkPhkBcwKqA2UEeEXsxn/FmkU/BEhDnEEnfrN8xnrpuaA5z3sTPKO+t3+hPOO4/bW/9ss7W75mvj98cb1bQQyGIEkDCExGf4YHh7GHQ4UIQcz/af4B/VP73vpkOr970/z8/buABkTPx85I1Yd1xpuHR0ggRyyDS3/bff29fDuZtzHy9/K9des6P/03v9nClIUyBgoF7oXEht1GrUS5gkRBID+B/d17D/j7+IO5xfsaPTnAxcHVfN33mPY4eTI84D60Pek8uz48QZ8Gugipx9gGogavBwnGqkT2QZF+yD1C/Mp7zDpMerx8ID5uvxIBOoUTSU2JrYYLhXlHPUi0xbOAqL4+PaL9SzoUtYDy2LO5tsr6Gb31gjhFoQYAxRlFl8d9yDtFuMINQKYAO/8OvMO6EDgmeH/6ZH1Sv6KBVQHC/uE56XWw9vU7Xb6Uvg78Mjze/+zFuolmiX+GwYZuyCCI2sbsgcq+wv2gvLe6krmVOpL70fzWvhJBWQTWyBlIlUcBRnuGh8hnxhoB5D5fPRC8iLoI94e09DMRs6H2yT1jgvmFnoWYhRTGTIgKSEDF7EKggMWAI77V/Q37A/nY+WR6ePydQClCXAMhQYk9CHfG9C22dvt+vdb8PrnIfN7CTIfCSeQJ94m0ilDLSsoAxnlAyT1Eu846vziXN1k46PtsvNW+J8FMBlZJBckByGnIRUjGR4yE5UFVPeZ64DklOJz3CbUMsusyZHbiPm6ERQXBBQoF/8fdifEI1IZSwp//Hj3mvdi9kzupORX4dXqf/46DRAQqwzKCrv/9ekG08zMRNpV6w3uwOO842j42BjwMVo6xzjbNa41QzAGIq8LN/OZ4pnatNhJ2KDb2eFm6Vn0nwTIGCQq3jD/Lggpjyb1I8sbpQpd8njgRdp123jYX8+MxwbL0dtd8TIFDxG9Ge0gHyiJK+go9B6vDa39V/OD8I3vQO6L63vn0eyH/NgPcBcNEiUMTgwuCe7xaNZlwiTGhNTU3N/eLeNI/bgfzT9ySytIJ0GFOm8xRB0DAv7mNdbozsLKtctB02zgge28+kANfietO6g/vzYxLhIq2R/MDZT1IeK81DnM/8iBykXSttc135rtLAJVFKEccR4yH8siOyRUHZgOngD+9o3tFOdJ6X3yP/eS9d/6uQ2PHvMdxRNSD1oSFhSuA9jcK7xSrVm0QMGY0c/lu/6gGQYuZkNJVWNeyFBHNhobUga28ojZW8P2twe8BsqM2wDvDwPfF6Aodzi0QZ9EojivJMwQ7v5y74nd/s4zwt2/ycq/28fsFPlHBukRoR8kKFokqRcJC3UDA/4b+XP1cfJD7ozsCvPl/ecDxAeHENsc3yTfH+AVShAaDdUE3fOZ5tbjMN95xxmyZ6tAv6je4fs0ESshZjY4SCNXMlZ4SlMt2guz7/PeDdRBxcC7m7+B1WbuPwTsFXwlsTGIM8IyUy04JyMUM/mp4h3WWtZ21VDVktWZ4zr8Ow8uGcAZ7B0bH6gbchBx/+LtYeDd3Cbf8ugd9doAmggNDlMUqR3gJnImxByTEwMS1A6sAtTx9OhO6a/mhd9L2o7j9u6v5U3Q/sRh2uz88BYfIpglmi07NCE5gjYHKqERcPX25Ajd/9qE1T7WJ96y7hgC4xSsJFgmUB1xEw0T1BLbB7T2x+oO6iDtx+wZ71L2ygERBwMMwROqGRkUrwQp/LT7Dfz88Grj8dyn3SThTOr0/3EZSCdcJKcgKCf+K6Ye5gTY8xX1J/1w/CTweeXd43/pae7G7zL1A/ofAXsAO/F547zcEOhC9UsDlw7TEr0W6Ro+J+co1x1WChz/7fuj9hDrVOCd5JDwYPrY/a4Ftw5bEkQO5AvVE4wX4RFqAif7jPy6/Aj50POJ9qL7jP8vA/0FAweRAp/8jfhh9XX0hfbG+EDxweX95j77ABPeGzIY2xbQHX0fGxFT+uHtFvGV+Pn65PsZ/58BaP4n9rXzvvVm/Kz9s/yc+b/zluck2zHZod8u7iv7kQkZEwkbXSFPKDUsnCXwF+kGePtu8UrnQuEN5s70ZwKkClIMhhG4FuQZ3hckE64ORgNi+VvvTO4F7sbtGfCa9GD/8gefD1gOlwf3/sv5r/tU/zMBpPni7s7lx+Xx7fn2ZP5ZA8AL0hIPFr0TwA5YCpkG4QQjB2wLzwtYBdn7TvQh8ATsAufL557tgfZO9/L1EPMA7yzryecj7ej2+wZJE4gchiB8J9YtySrVHIoI/P4b+kb2Vu8g7uLzDPmQ/fYAGQpiD7MNvAjhBVUIngUcALX2nfG88Njy/vkhANMHVAeAB8sFugSo/w/4AvSk8XzyT/D37bjo1uQh5yfwUf5VDHAY0R9bI5Ajqx9lGLMOGAlwBG8AgPh18SrtpOmE5ivinOG16FD1XgFGBW8DdgF4+wj0CO5D8x7+ZQjXC0MObBUfH4kmbyTEGz4NFwHs94T03fOy9En1/PRz9qD7tAOhCeoLkAsxDFoMSgthB28BLPlc8N/rQ+7j9M36Cfz7+nf6cvuU+xX5bfaR9p74vPiI9p/3TP1GAWT+LPpiAOMNnxvCIBof5Rf1DmMHkwF7/mX7KfiA82XxfPLf8qnxqPCz9Nf7ff+sAokGxAtICZ8BGfnZ8k7vtfD99QX7if8TAq0HMw+eGg4inCCBFgYLzANoABT/6fry8k7toO6e9y//NAQ/BoMHFAi/AzEAGPsW+b3yN+7k607xufvYASoCHf40AKUEwwb5A2//Yv4h+wH2iPG/8dv1Y/rdA9wPjhxYIOId3xdfEtYOxAqxBrv/U/jA8SDuM+5D7sntZOzd7Jr0ovz+A7gDUgGq+C3x9+yE7pf1GP1zB2sJOQw1EJMaYR83G6ASSwkiBFT/VP62/db+Zv8m/P/3+vSq+Qn/HQLDAN7+aP/O/uj/Yf39+8/4zvi/+i79jwCpANv+xPcT83vxf/Si+X3+WQONBgIK7wy1DAYJkQN5ApwEeQcoCZUK+AytDLcI4AK+/6H/tP5G/Hj55vdF9qb0h/Re9af3evgI+m782P9CAtkBcv8B+3H0+e0N6qHsiPN5+woHkxFxG+wdNCAGIfgerhg4Dd3/n/DW5urhDuLI5uPvzvqwBZgNsRKDE+0SPA55Bi39y/Nf7p3s5O0r8FDyj/Z8+9YC/gkQEAEUgBT7EgsNzQRJ+tjxb+x966fuRfdcBAwRrRcNGGUV2hF5Da0Gdf4e9izzt/E68CPsm+ob7BzvIPPo9zn/SgVsCLsHAAfrBXgBOvko8kXx+vRq+/sASwZPCrcNtxF1FbgauRvJFxcMxwBg+Df0bvRh9NT1rvUd+Ln6ov7VAxAFpAMLANb+bf9Z/7z+a/wp+235aPh3+XX7ufxt/JT9wgJ5ClcOvgm4AKP6kvm4+8T/8gTJCBILqAqRCGYGMQWjBGcDCQIjAT8AlP3E+b/1YPLZ7o/u8fAX9d35fvtT/Gz6Rffz8gnxLvM09lj+YgZ/DT8RzhWtGCgYdRmyGHoU3QwTBVv9dvjT9MjxGPHs8+P3dv68AycFFAa0CD8JtQYrA/z+ZPpn9cbv+e1d8HDzRPW59nb59/11BKcKlA7+DmsLewayAjEA7/2c/fP+hAHvAFkBewHrAg8FiAc2Ck0M8gyECHsCCP1+9x7yQ+2w6rXqhe2L7x/zj/ju/J7+Hv5A/aH8zvyC/uoCCgkaDVYOzRF2ELQPkg4CDmMOYA+lCkoFxv9c/Kb5a/ki+FT5o/pH+yX86v2+/kgBrv/Y+qb31/ic+pf6RPg79x75ePrl+TX9FAGIBCkHlgdVBxoGJQMR/1X9ef01/tQD7AdxCeEJSQhSBo0Gawh8CuEJFAUeAKX99/nD9JbuUOos6fbpSu348xT7jv4KAK/+pv2w/pj9/Pyw/ooCcgfIChAODg0KDrgN1gyIDjIPGg4iC2sG3gC1/BL7S/iH94b1xfTa9jv7O//AAPD/cv+Z//7/qgAQANb92fn39gH1x/Qd9uP4Tf38ABME5AYlCAwHpwZkBjMH6wYABqEFHQTtA1YD+QJ4A+QEBwfnBrMGGAUEArr+ivnQ867uPesM6i3qV+2M8xH4Vvs2/WL/lv9Y/ib/QAMfCNoJXwsRDf8LLgvPCsEJLQi3B9IG0Ac0CR8Jrgb8Akj/Zv2U+5z6ift6+xz6tvlK+sr69/o/+UT5//nb+kv8d/2r/Rz8M/yp/DX/oQHVAb0BZwEYAbkBDQM8A4IC8gMHBzIJAAuNCwMJBQaqBFgEYQRyA5IBt/6X+xj31/PY8p/x9+9i71rwnPMW+AL8oP16/ZT/AAGkAqEC3QPEBEoE8QKmAlEE1QV7BaIHpAi/CtcMkwx+C2EKbAcgBDgBqP3++gT6kvn9+ZX6Tfqp+9b8Sv3h/Yv9yv5O/5P+Kf4//TT8DPxF/PD7Tvw+/uAASAMKBOgCPgJSAi4C0AOkBQkGHAXTBOME/ANUA5gCQAK2AcsAp/94/uL8Ufqa9yH2f/Xr9fL1VvT38371pPgu/Ij/bgGYAEUAUQGCA/AF6wcxCZcJ6AjRB3oG/wVSBR4GbgcdCAkIQwaqAr/+H/2a/bD+0f69/Qr9lPz0+2f75vqm+pr6g/o4+/78eP9xAKf/IP5x/pX/Vv+8/Cr8C/4e/+r/owCtAgwE2QSjBKQE6gT0BUQHogeqBlEFOwPvAGD/kP0B/GX6lviG94v2mPUe9Qn2lPdA+cf7Vf65/53/NP9s/7//wQBxAoYC6gKrA7wE+QVeBioHuQhvChoMiwz9CuYH9ATeAev/ff9l/nD9AfzB+gL7Xfub+3H81vt7+hX6ovqz+2r9H/5i/Sb9tvww/aH9WP5r/h3/ZAAIAuoDZgUhBnMGNQYRBhcGrgWCBNUDAgQnBIcDLAFB/gz80fo1+jb6xfln+A73VPbG9bL18fXj9lX3jPdD+Nv6k/6iAdUDhgSJBQsIzAqFDJUMMgs/CukJ3QmrCcQJGwn6BiEEZgGeAJT/bv6M/Mb6Yvqu+lf7Zfyi/OL6Qvj+9kb3vvjF+fb6Af2F/gX/Rf8SADgB6QFgAogDOgWBBiYGDgVtBKgDKgNLAsYB5wHxAc8BhwGNAN7+JP5c/Vn8Yvug+ob63vlS+Ff3DPeW9l32Vfaz99j56vvf/rIBJgQmBrQHOQkgCwkMvwvhCvUJbgmsCTUJNAggB7AFeQQBA4kBPQDo/jj9Tvz9+2b7qfp8+vz5s/k/+Vv4Hfg2+A75efoo/Hv9yf74/5AAnAEmArkCSQO7A+MDcAMhA3gDbAPkAsYBuABFAG4AQgAmAH7/Z/4S/Vr8PvxK/Ef7LPr5+YT6ZftN+xf7Xvso+xb7r/zq/qUAAgLFAooDywSbBVUGWgc2CKIICwl/CaYJTQlbCLUG3AWUBZcFtATpAqUAbf7T/HP7Lvo4+SH5FvnS+Kn4lfjY+Cj5Z/kc+qH7ZPy2/Lz8Z/0D/7IAeAFxAWEBgAGJAq4DhwSrBBwEPwOAAhQCXQGUAIr/zv6J/qv+2v7r/mT+2v2D/Wn9jf1h/i7/ev+9/qn9tPyV/PP8f/2c/uH/GgFKAmIDewRHBi4IggnICQAJ1QfYBh8GswV8BYkE/AJzAQ4A2/5l/j/+EP4z/cP7uvqN+oj6F/o++QL5Zvmm+WT5Ifm2+fr6Dvy+/If9Xf48/+H/gwA+AeoBpQKoA/cDZwRmBDIEPwPvAQgB4ADLAIcAowCTANYA2AB9APz/cP/L/jz+//37/af+Bf+5/vf9JP0v/Qz+LP9aABMB1gHsAg8EGwWwBfgFCQbEBbsFcwU0BR0E0QK2ARcBtwBEAPH/Sf9j/nX9h/wO/AL8zvtP+4X63PnF+ef58Pk7+tH6tPtj/MT8KP3d/V3+9f7K/w0BEAK/AlgD0gNvBAIFXwVdBf8EKwTLAp8BHQE/AXEBMQGRAAUAqf9F/+D+yP6v/m3+Df4c/j7+Iv4C/uD96/0o/r7+Z/8aAOwAngFcAjoDAwR3BKsEmgQxBOADjQMYA0UCTQGfAAkAlP/r/i3+jv36/KH8l/yI/Iz8Sfzk+6j7g/tQ+z/7LPtf+wn8+PwG/u7+gv/3/5QAagE/Av8CawPNAy8EbASFBDEEyQOKAxEDcgLuAY4BMgHRADkA3P/Q/73/vv+R//7+W/7e/WD9Nf0k/Qj9EP0t/Vf9Bv65/oj/TACMANcAfgEiAuMCPAMmAx8DuQJMAj4CXgKOApcCBwJCAXYA9/+t/xD/Wf6f/dH8Ufwa/Pv7Ivxd/KD8D/0e/WH92/1l/sn+Ov+F/00A8wA2AWoBqQHvAWQCCwOQA/oD5QOdAygD8QK/AmAC4QFIAa0AWwDU/1T/DP+E/hT+8P2X/ZX9nP1z/bT98f3P/ej9D/52/jf/nv/A/wYAIwC3AE8BmwH6AWACSAJAAjkCPgJqAk0CzAGcATkBEgHOACoAZP+x/u/9hf0b/fL89vwK/R79If0Y/UT9bv3G/XP+7v5l/+X/UgCNAOAACAFoAYgBnQGhAekBWgIpA1EDTgMNA8cCdgIoAoEB6wBLAJ3/E/+R/kD+CP61/WX9f/2h/Ub+4/4V/zn/V/84/y//Y/97/5H/aP9c/77/JwC3ADsBkwHCAegBCgIsAjYCcwKDAmsCEQKlAScBtAA9ANj/V/+5/hT+q/1U/Ub9N/0x/TX9JP14/QL+e/7a/iP/jP/9/20AtwD7AC4BXQFmAYsB3QFeArgC+ALVArMCewIgAsMBYQHSAEAAv/9O/8/+f/4b/sL9b/1J/T/9gv3a/T/+X/58/qb+//5T/7n/BgBLAJUA2gD4APIACwFNAWABggGRAaMBzwHuAeIBvwGNAW0BPAHkAHoACwCW/yX/sP4P/qP9d/0+/QX97PwK/T79uv0r/qf+DP9a/8r/HQB6AM4AIgFBAU8BTAFZAXUBqAHvATMCJAJKAm8CdwJRAt8BWAG1ABoAcf/r/oz+Vf5A/jH+Uf5a/mv+rf63/rH+2f4B/x//V/+M/8z/JQBaAMQAVwGsAdgB1gHIAeEB3QHyAa4BNgH1ALwAggBLADQAFADX/1j/Ef/X/p7+bP44/gz+9v3Q/br91/0D/k7+mf7g/jn/mf/e/0kAdwC6APYALAF9AckB4wHpAdsBywHPAZsBiAFbASwBFAHjAKcAaQAvAM3/e/84//T+r/5x/ir+Bv7c/fL9Cf40/mv+uv72/if/X/+g/+j/MABhAHcArQDcAP0AMQFfAXIBdgGCAXsBXQFmATEBDwHGAGgAFwDi/5T/Nv/S/nf+Kf7g/Zb9tP3p/Qn+O/5r/sv+Qv+l/wUAbQDKABIBOQF1Aa8BvgHZAeQB8QHVAcMBsgGvAYUBcgFNAS4BAwHRAHMAHADI/3b/J//w/q3+av5Z/kX+N/5m/pH+uv7b/uj+Kf9T/4n/rP/C/8f/2//q/wMAPgBlAJ0AygDlAAcBEwERASgBDgH1ANEAmACFAFIABgDG/5j/a/8+/xL/9f7g/s/+xP62/rP+zv7//jL/WP9k/5L/7P8sAGcAlADDAO0AGwEjAT4BcgGaAY0BeAFaATgBEAHeALoAkgBgACcA6P+a/0z/FP/p/qP+gf6A/nP+Xf5e/ob+u/7o/hT/PP96/8L/BAA9AHMAoADGAOIA/AAHARIBFwEHAf8A7ADkANEAswCoAJMAWQBDACwAEgD1//P/x/+p/6H/jf90/2L/Vf9H/zP/LP83/1D/ev+j/7v/9f8qAF8AqQDbAAkBGwE4ATIBHAH1ANYAuQCOAGMALAAbAPr/xv+T/2j/UP8x/wD/z/6w/pL+nf6l/qH+qf7E/uX+BP8d/0v/mv/v/y8AXwCmANcABAEtAUQBMAE=\" type=\"audio/x-wav\" />\n",
       "                    Your browser does not support the audio element.\n",
       "                </audio>\n",
       "              "
      ],
      "text/plain": [
       "<IPython.lib.display.Audio object>"
      ]
     },
     "execution_count": 6,
     "metadata": {},
     "output_type": "execute_result"
    },
    {
     "data": {
      "image/png": "[encoded data removed]",
      "text/plain": [
       "<Figure size 640x480 with 1 Axes>"
      ]
     },
     "metadata": {},
     "output_type": "display_data"
    }
   ],
   "source": [
    "import matplotlib.pyplot as plt\n",
    "import librosa.display\n",
    "import IPython\n",
    "\n",
    "def visual_audio(file_name):\n",
    "    plt.xlabel('Time')\n",
    "    plt.ylabel('Frequency')\n",
    "    plt.title('jackson 0')\n",
    "    data, sample_rate = librosa.load(file_name)\n",
    "    librosa.display.waveshow(data, sr = sample_rate)\n",
    "    \n",
    "visual_audio(file_name = './recordings/0_jackson_0.wav')\n",
    "IPython.display.Audio('./recordings/0_jackson_0.wav')"
   ]
  },
  {
   "cell_type": "code",
   "execution_count": 7,
   "metadata": {
    "id": "7Wx5tOjSPX2Y"
   },
   "outputs": [
    {
     "data": {
      "text/html": [
       "\n",
       "                <audio  controls=\"controls\" >\n",
       "                    <source src=\"data:audio/x-wav;base64,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\" type=\"audio/x-wav\" />\n",
       "                    Your browser does not support the audio element.\n",
       "                </audio>\n",
       "              "
      ],
      "text/plain": [
       "<IPython.lib.display.Audio object>"
      ]
     },
     "execution_count": 7,
     "metadata": {},
     "output_type": "execute_result"
    },
    {
     "data": {
      "image/png": "[encoded data removed]",
      "text/plain": [
       "<Figure size 640x480 with 1 Axes>"
      ]
     },
     "metadata": {},
     "output_type": "display_data"
    }
   ],
   "source": [
    "visual_audio(file_name = './recordings/0_yweweler_9.wav')\n",
    "IPython.display.Audio('./recordings/0_yweweler_9.wav')"
   ]
  },
  {
   "cell_type": "code",
   "execution_count": 8,
   "metadata": {},
   "outputs": [
    {
     "data": {
      "text/html": [
       "\n",
       "                <audio  controls=\"controls\" >\n",
       "                    <source src=\"data:audio/x-wav;base64,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\" type=\"audio/x-wav\" />\n",
       "                    Your browser does not support the audio element.\n",
       "                </audio>\n",
       "              "
      ],
      "text/plain": [
       "<IPython.lib.display.Audio object>"
      ]
     },
     "execution_count": 8,
     "metadata": {},
     "output_type": "execute_result"
    },
    {
     "data": {
      "image/png": "[encoded data removed]",
      "text/plain": [
       "<Figure size 640x480 with 1 Axes>"
      ]
     },
     "metadata": {},
     "output_type": "display_data"
    }
   ],
   "source": [
    "visual_audio(file_name = './recordings/1_jackson_23.wav')\n",
    "IPython.display.Audio('./recordings/1_jackson_23.wav')"
   ]
  },
  {
   "cell_type": "markdown",
   "metadata": {},
   "source": [
    "As we can see there is some patter differences between the sounds of the different digits"
   ]
  },
  {
   "cell_type": "markdown",
   "metadata": {
    "id": "AA0nAtjbQLmu"
   },
   "source": [
    "## Creating dataframe"
   ]
  },
  {
   "cell_type": "code",
   "execution_count": 9,
   "metadata": {
    "id": "fWP6vXBeaNm3"
   },
   "outputs": [],
   "source": [
    "#Create a dataframe(name=df_audio) with two columns(path, label).   \n",
    "#You can get the label from the first letter of name.  \n",
    "#Eg: 0_jackson_0 --> 0  \n",
    "#0_jackson_43 --> 0\n"
   ]
  },
  {
   "cell_type": "code",
   "execution_count": 5,
   "metadata": {
    "id": "5ZpuaGuJaNm8",
    "outputId": "76da0fb5-2033-49ef-eba7-880c395cf87a"
   },
   "outputs": [
    {
     "name": "stdout",
     "output_type": "stream",
     "text": [
      "<class 'pandas.core.frame.DataFrame'>\n",
      "RangeIndex: 2000 entries, 0 to 1999\n",
      "Data columns (total 2 columns):\n",
      " #   Column  Non-Null Count  Dtype \n",
      "---  ------  --------------  ----- \n",
      " 0   path    2000 non-null   object\n",
      " 1   label   2000 non-null   object\n",
      "dtypes: object(2)\n",
      "memory usage: 31.4+ KB\n"
     ]
    }
   ],
   "source": [
    "#info\n",
    "df_audio.info()"
   ]
  },
  {
   "cell_type": "markdown",
   "metadata": {
    "id": "VOKpYJ_LaNnD"
   },
   "source": [
    "<font size=4>Grader function 2 </font>"
   ]
  },
  {
   "cell_type": "code",
   "execution_count": 6,
   "metadata": {
    "id": "7Q8r_T8-aNnE",
    "outputId": "849e3f3e-e77c-492c-ba29-77508e74fc57"
   },
   "outputs": [
    {
     "data": {
      "text/plain": [
       "True"
      ]
     },
     "execution_count": 6,
     "metadata": {},
     "output_type": "execute_result"
    }
   ],
   "source": [
    "def grader_df():\n",
    "    flag_shape = df_audio.shape==(2000,2)\n",
    "    flag_columns = all(df_audio.columns==['path', 'label'])\n",
    "    list_values = list(df_audio.label.value_counts())\n",
    "    flag_label = len(list_values)==10\n",
    "    flag_label2 = all([i==200 for i in list_values])\n",
    "    final_flag = flag_shape and flag_columns and flag_label and flag_label2\n",
    "    return final_flag\n",
    "grader_df()"
   ]
  },
  {
   "cell_type": "code",
   "execution_count": 7,
   "metadata": {
    "id": "PlfssCc3aNnL"
   },
   "outputs": [],
   "source": [
    "from sklearn.utils import shuffle\n",
    "df_audio = shuffle(df_audio, random_state=33)#don't change the random state"
   ]
  },
  {
   "cell_type": "markdown",
   "metadata": {
    "id": "PZ448aENaNnR"
   },
   "source": [
    "<pre><font size=4>Train and Validation split</font></pre>"
   ]
  },
  {
   "cell_type": "code",
   "execution_count": 13,
   "metadata": {
    "id": "vSPy-Ln6aNnS"
   },
   "outputs": [],
   "source": [
    "#split the data into train and validation and save in X_train, X_test, y_train, y_test\n",
    "#use stratify sampling\n",
    "#use random state of 45\n",
    "#use test size of 30%\n",
    "from sklearn.model_selection import train_test_split\n",
    "\n",
    "X_train,X_test,y_train,y_test = train_test_split(df_audio['path'],df_audio['label'].astype(int),test_size=0.3,random_state=45,stratify=df_audio['label'])\n"
   ]
  },
  {
   "cell_type": "markdown",
   "metadata": {
    "id": "YPK3sbzUaNnW"
   },
   "source": [
    "<font size=4>Grader function 3 </font>"
   ]
  },
  {
   "cell_type": "code",
   "execution_count": 14,
   "metadata": {
    "id": "chZzntKUaNnX",
    "outputId": "e2949c8b-2f00-434f-8403-56b577faf04f"
   },
   "outputs": [
    {
     "data": {
      "text/plain": [
       "True"
      ]
     },
     "execution_count": 14,
     "metadata": {},
     "output_type": "execute_result"
    }
   ],
   "source": [
    "def grader_split():\n",
    "    flag_len = (len(X_train)==1400) and (len(X_test)==600) and (len(y_train)==1400) and (len(y_test)==600)\n",
    "    values_ytrain = list(y_train.value_counts())\n",
    "    flag_ytrain = (len(values_ytrain)==10) and (all([i==140 for i in values_ytrain]))\n",
    "    values_ytest = list(y_test.value_counts())\n",
    "    flag_ytest = (len(values_ytest)==10) and (all([i==60 for i in values_ytest]))\n",
    "    final_flag = flag_len and flag_ytrain and flag_ytest\n",
    "    return final_flag\n",
    "grader_split()"
   ]
  },
  {
   "cell_type": "markdown",
   "metadata": {
    "id": "LGhh-39vaNnb"
   },
   "source": [
    "<pre><font size=4>Preprocessing</font>\n",
    "\n",
    "All files are in the \"WAV\" format. We will read those raw data files using the librosa</pre>"
   ]
  },
  {
   "cell_type": "code",
   "execution_count": 7,
   "metadata": {
    "id": "i99JacQSaNnc"
   },
   "outputs": [],
   "source": [
    "sample_rate = 22050\n",
    "def load_wav(x, get_duration=True):\n",
    "    '''This return the array values of audio with sampling rate of 22050 and Duration'''\n",
    "    #loading the wav file with sampling rate of 22050\n",
    "    samples, sample_rate = librosa.load(x, sr=22050)\n",
    "    if get_duration:\n",
    "        duration = librosa.get_duration(y=samples, sr=sample_rate)\n",
    "        return [samples, duration]\n",
    "    else:\n",
    "        return samples"
   ]
  },
  {
   "cell_type": "code",
   "execution_count": 16,
   "metadata": {
    "id": "Rx97f8GGaNnh"
   },
   "outputs": [],
   "source": [
    "#use load_wav function that was written above to get every wave. \n",
    "#save it in X_train_processed and X_test_processed\n",
    "# X_train_processed/X_test_processed should be dataframes with two columns(raw_data, duration) with same index of X_train/y_train\n",
    "\n",
    "def process_files(paths):\n",
    "    output = []\n",
    "    for path in paths:\n",
    "        output.append(load_wav(path))\n",
    "    return pd.DataFrame(output,columns=['raw_data','duration'])\n",
    "X_train_processed = process_files(X_train)\n",
    "X_test_processed = process_files(X_test)"
   ]
  },
  {
   "cell_type": "code",
   "execution_count": 17,
   "metadata": {
    "id": "duQZPQevaNno",
    "outputId": "05986007-6321-4b26-99f6-2197b1811a24"
   },
   "outputs": [
    {
     "data": {
      "text/plain": [
       "<AxesSubplot:xlabel='duration', ylabel='Count'>"
      ]
     },
     "execution_count": 17,
     "metadata": {},
     "output_type": "execute_result"
    },
    {
     "data": {
      "image/png": "[encoded data removed]",
      "text/plain": [
       "<Figure size 640x480 with 1 Axes>"
      ]
     },
     "metadata": {},
     "output_type": "display_data"
    }
   ],
   "source": [
    "#plot the histogram of the duration for trian\n",
    "import seaborn as sns\n",
    "sns.histplot(data=X_train_processed,x='duration',kde = True)"
   ]
  },
  {
   "cell_type": "code",
   "execution_count": 18,
   "metadata": {
    "id": "wE5SDRzSaNns",
    "outputId": "f2501a90-2a43-43db-f02c-1463defe2146"
   },
   "outputs": [
    {
     "data": {
      "text/plain": [
       "<AxesSubplot:xlabel='duration', ylabel='Count'>"
      ]
     },
     "execution_count": 18,
     "metadata": {},
     "output_type": "execute_result"
    },
    {
     "data": {
      "image/png": "[encoded data removed]",
      "text/plain": [
       "<Figure size 640x480 with 1 Axes>"
      ]
     },
     "metadata": {},
     "output_type": "display_data"
    }
   ],
   "source": [
    "#plot the histogram of the duration for trian\n",
    "sns.histplot(data=X_test_processed,x='duration',kde = True)"
   ]
  },
  {
   "cell_type": "code",
   "execution_count": 19,
   "metadata": {
    "id": "vvLhm1AqaNny",
    "outputId": "a4430992-0f16-4d24-de92-0a6fcec1df06"
   },
   "outputs": [
    {
     "name": "stdout",
     "output_type": "stream",
     "text": [
      "0 th percentile is 0.1435374149659864\n",
      "10 th percentile is 0.2571065759637188\n",
      "20 th percentile is 0.2996371882086168\n",
      "30 th percentile is 0.3309115646258503\n",
      "40 th percentile is 0.3576689342403628\n",
      "50 th percentile is 0.38752834467120184\n",
      "60 th percentile is 0.4142766439909297\n",
      "70 th percentile is 0.4458820861678004\n",
      "80 th percentile is 0.48431746031746037\n",
      "90 th percentile is 0.5549160997732426\n",
      "100 th percentile is 1.025170068027211\n",
      "\n"
     ]
    }
   ],
   "source": [
    "#print 0 to 100 percentile values with step size of 10 for train data duration. \n",
    "[print(f\"{i} th percentile is {np.percentile(X_train_processed.duration.values,i)}\") for i in range(0,101,10)]\n",
    "print()"
   ]
  },
  {
   "cell_type": "code",
   "execution_count": 20,
   "metadata": {
    "id": "rSlVQh4CaNn2",
    "outputId": "d6970436-db83-4d01-c910-7ebe92baab41"
   },
   "outputs": [
    {
     "name": "stdout",
     "output_type": "stream",
     "text": [
      "90 th percentile is 0.5549160997732426\n",
      "91 th percentile is 0.5698444444444446\n",
      "92 th percentile is 0.5816507936507939\n",
      "93 th percentile is 0.5978285714285715\n",
      "94 th percentile is 0.6090929705215419\n",
      "95 th percentile is 0.6216031746031745\n",
      "96 th percentile is 0.6359473922902493\n",
      "97 th percentile is 0.6528517006802721\n",
      "98 th percentile is 0.6822902494331066\n",
      "99 th percentile is 0.7930485260770975\n",
      "100 th percentile is 1.025170068027211\n",
      "\n"
     ]
    }
   ],
   "source": [
    "##print 90 to 100 percentile values with step size of 1. \n",
    "[print(f\"{i} th percentile is {np.percentile(X_train_processed.duration.values,i)}\") for i in range(90,101,1)]\n",
    "print()"
   ]
  },
  {
   "cell_type": "markdown",
   "metadata": {
    "id": "JbMb4Y0RaNoA"
   },
   "source": [
    "<font size=4>Grader function 4 </font>"
   ]
  },
  {
   "cell_type": "code",
   "execution_count": 21,
   "metadata": {
    "id": "UMoyLLSAaNoF",
    "outputId": "cfb3ad33-3dc0-49e7-d078-8619b164b5db"
   },
   "outputs": [
    {
     "data": {
      "text/plain": [
       "True"
      ]
     },
     "execution_count": 21,
     "metadata": {},
     "output_type": "execute_result"
    }
   ],
   "source": [
    "def grader_processed():\n",
    "    flag_columns = (all(X_train_processed.columns==['raw_data', 'duration'])) and (all(X_test_processed.columns==['raw_data', 'duration']))\n",
    "    flag_shape = (X_train_processed.shape ==(1400, 2)) and (X_test_processed.shape==(600,2))\n",
    "    return flag_columns and flag_shape\n",
    "grader_processed()"
   ]
  },
  {
   "cell_type": "code",
   "execution_count": 22,
   "metadata": {},
   "outputs": [
    {
     "data": {
      "text/plain": [
       "array([-2.7477401e-04, -1.2400288e-04,  1.8482348e-05, ...,\n",
       "        1.2216924e-05,  1.8793127e-05,  0.0000000e+00], dtype=float32)"
      ]
     },
     "execution_count": 22,
     "metadata": {},
     "output_type": "execute_result"
    }
   ],
   "source": [
    "X_train_processed['raw_data'].iloc[0]"
   ]
  },
  {
   "cell_type": "markdown",
   "metadata": {
    "id": "Cux3_jfcaNoM"
   },
   "source": [
    "<b>Based on our analysis 99 percentile values are less than 0.8sec so we will limit maximum length of X_train_processed and X_test_processed to 0.8 sec. It is similar to pad_sequence for a text dataset.</b>\n",
    "\n",
    "<b>While loading the audio files, we are using sampling rate of 22050 so one sec will give array of length 22050. so, our maximum length is 0.8*22050 = 17640\n",
    "</b>\n",
    "<b>Pad with Zero if length of sequence is less than 17640 else Truncate the number. </b>\n",
    "\n",
    "<b> Also create a masking vector for train and test. </b>\n",
    "\n",
    "<b> masking vector value = 1 if it is real value, 0 if it is pad value. Masking vector data type must be bool.</b>\n"
   ]
  },
  {
   "cell_type": "code",
   "execution_count": 23,
   "metadata": {
    "id": "voqSEyvcaNoO"
   },
   "outputs": [],
   "source": [
    "max_length  = 17640\n",
    "import tensorflow as tf"
   ]
  },
  {
   "cell_type": "code",
   "execution_count": 44,
   "metadata": {
    "id": "B1-_r20BaNoW"
   },
   "outputs": [],
   "source": [
    "## as discussed above, Pad with Zero if length of sequence is less than 17640 else Truncate the number. \n",
    "## save in the X_train_pad_seq, X_test_pad_seq\n",
    "## also Create masking vector X_train_mask, X_test_mask\n",
    "X_train_pad_seq = tf.keras.utils.pad_sequences(X_train_processed.raw_data, maxlen = max_length, padding = 'post', dtype = 'float32', truncating = 'post')\n",
    "X_test_pad_seq = tf.keras.utils.pad_sequences(X_test_processed.raw_data, maxlen = max_length, padding = 'post', dtype = 'float32', truncating = 'post')\n",
    "\n",
    "# This step can be Masking layer by tf.keras.layers.Masking\n",
    "\n",
    "X_train_mask = X_train_pad_seq != 0 \n",
    "X_test_mask = X_test_pad_seq != 0\n",
    "## all the X_train_pad_seq, X_test_pad_seq, X_train_mask, X_test_mask will be numpy arrays mask vector dtype must be bool."
   ]
  },
  {
   "cell_type": "markdown",
   "metadata": {
    "id": "zEHMgm4DaNoe"
   },
   "source": [
    "<font size=4>Grader function 5 </font>"
   ]
  },
  {
   "cell_type": "code",
   "execution_count": 45,
   "metadata": {
    "id": "Th3KhplGaNof",
    "outputId": "5e783ec9-81d2-4156-9e88-efdee0ff8b2b"
   },
   "outputs": [
    {
     "data": {
      "text/plain": [
       "True"
      ]
     },
     "execution_count": 45,
     "metadata": {},
     "output_type": "execute_result"
    }
   ],
   "source": [
    "def grader_padoutput():\n",
    "    flag_padshape = (X_train_pad_seq.shape==(1400, 17640)) and (X_test_pad_seq.shape==(600, 17640)) and (y_train.shape==(1400,))\n",
    "    flag_maskshape = (X_train_mask.shape==(1400, 17640)) and (X_test_mask.shape==(600, 17640)) and (y_test.shape==(600,))\n",
    "    flag_dtype = (X_train_mask.dtype==bool) and (X_test_mask.dtype==bool)\n",
    "    return flag_padshape and flag_maskshape and flag_dtype\n",
    "grader_padoutput()"
   ]
  },
  {
   "cell_type": "markdown",
   "metadata": {
    "id": "K0kaYQ1jaNop"
   },
   "source": [
    "### 1. Giving Raw data directly. "
   ]
  },
  {
   "cell_type": "markdown",
   "metadata": {
    "id": "xGHxh3jTaNoq"
   },
   "source": [
    "\n",
    "Now we have\n",
    "\n",
    "Train data: X_train_pad_seq, X_train_mask and y_train  \n",
    "Test data: X_test_pad_seq, X_test_mask and y_test   \n",
    "\n",
    "We will create a LSTM model which takes this input. \n",
    "\n",
    "Task:\n",
    "\n",
    "1. Create an LSTM network which takes \"X_train_pad_seq\" as input, \"X_train_mask\" as mask input. You can use any number of LSTM cells. Please read LSTM documentation(https://www.tensorflow.org/api_docs/python/tf/keras/layers/LSTM) in tensorflow to know more about mask and also https://www.tensorflow.org/guide/keras/masking_and_padding \n",
    "2. Get the final output of the LSTM and give it to Dense layer of any size and then give it to Dense layer of size 10(because we have 10 outputs) and then compile with the sparse categorical cross entropy( because we are not converting it to one hot vectors). Also check the datatype of class labels(y_values) and make sure that you convert your class labels  to integer datatype before fitting in the model.\n",
    "3. While defining your model make sure that you pass both the input layer and mask input layer as input to lstm layer as follows\n",
    "<img src='https://i.imgur.com/FvcgvbY.jpg'>\n",
    "4. Use tensorboard to plot the graphs of loss and metric(use custom micro F1 score as metric) and histograms of gradients. You can write your code for computing F1 score using this <a  href='https://i.imgur.com/8YULUcu.jpg'>link</a> \n",
    "\n",
    "5. make sure that it won't overfit. \n",
    "6. You are free to include any regularization\n"
   ]
  },
  {
   "cell_type": "code",
   "execution_count": 9,
   "metadata": {
    "id": "X8yg951AaNor"
   },
   "outputs": [],
   "source": [
    "from tensorflow.keras.layers import Input, LSTM, Dense\n",
    "from tensorflow.keras.models import Model\n",
    "import tensorflow as tf"
   ]
  },
  {
   "cell_type": "code",
   "execution_count": 47,
   "metadata": {
    "id": "d8y1sgeVaNoy"
   },
   "outputs": [],
   "source": [
    "## as discussed above, please write the architecture of the model.\n",
    "## you will have two input layers in your model (data input layer and mask input layer)\n",
    "## make sure that you have defined the data type of masking layer as bool"
   ]
  },
  {
   "cell_type": "code",
   "execution_count": 48,
   "metadata": {
    "id": "RPj_DGW2aNo9"
   },
   "outputs": [
    {
     "name": "stdout",
     "output_type": "stream",
     "text": [
      "Model: \"model_2\"\n",
      "__________________________________________________________________________________________________\n",
      " Layer (type)                   Output Shape         Param #     Connected to                     \n",
      "==================================================================================================\n",
      " Input_sequence_layer (InputLay  [(None, 17640, 1)]  0           []                               \n",
      " er)                                                                                              \n",
      "                                                                                                  \n",
      " Input_mask_layer (InputLayer)  [(None, 17640)]      0           []                               \n",
      "                                                                                                  \n",
      " lstm_1 (LSTM)                  (None, 100)          40800       ['Input_sequence_layer[0][0]',   \n",
      "                                                                  'Input_mask_layer[0][0]']       \n",
      "                                                                                                  \n",
      " Flatten (Flatten)              (None, 100)          0           ['lstm_1[0][0]']                 \n",
      "                                                                                                  \n",
      " dense_3 (Dense)                (None, 10)           1010        ['Flatten[0][0]']                \n",
      "                                                                                                  \n",
      "==================================================================================================\n",
      "Total params: 41,810\n",
      "Trainable params: 41,810\n",
      "Non-trainable params: 0\n",
      "__________________________________________________________________________________________________\n"
     ]
    }
   ],
   "source": [
    "input_layer = Input(shape=(max_length,1,) ,name = \"Input_sequence_layer\")\n",
    "input_mask_layer = Input(shape=(max_length,),dtype='bool', name = 'Input_mask_layer')\n",
    "lstm_layer = LSTM(units = 100)(input_layer,mask = input_mask_layer)\n",
    "flatten = tf.keras.layers.Flatten(name='Flatten')(lstm_layer)\n",
    "output = Dense(10,activation = 'softmax')(flatten)\n",
    "\n",
    "model_1 = Model([input_layer,input_mask_layer],output)\n",
    "model_1.summary()"
   ]
  },
  {
   "cell_type": "code",
   "execution_count": 26,
   "metadata": {},
   "outputs": [],
   "source": [
    "from sklearn.metrics import f1_score\n",
    "\n",
    "class F1ScoreCB(tf.keras.callbacks.Callback):\n",
    "    def __init__(self, train_data, test_data):\n",
    "        super().__init__()\n",
    "        self.train_data = train_data\n",
    "        self.test_data = test_data\n",
    "        self.history = {}\n",
    "        self.history['val_f1_score'] = []\n",
    "  \n",
    "    def on_epoch_end(self, epochs, logs = {}):\n",
    "        train_preds = np.argmax(self.model.predict(self.train_data[0]), axis = -1)\n",
    "        train_f1_score = f1_score(self.train_data[1], train_preds, average='micro')\n",
    "        train_f1_score = np.round(train_f1_score, 4)\n",
    "\n",
    "        test_preds = np.argmax(self.model.predict(self.test_data[0]), axis = -1)\n",
    "        test_f1_score = f1_score(self.test_data[1], test_preds, average='micro')\n",
    "        test_f1_score = np.round(test_f1_score, 4)\n",
    "        self.history['val_f1_score'].append(test_f1_score)\n",
    "\n",
    "        print(f\"train_f1_score: {train_f1_score} - val_f1_score: {test_f1_score}\")\n",
    "        print(\"########### EPOCH ENDED ##########\")"
   ]
  },
  {
   "cell_type": "code",
   "execution_count": 32,
   "metadata": {
    "id": "MzpPjxvHaNpJ"
   },
   "outputs": [
    {
     "name": "stdout",
     "output_type": "stream",
     "text": [
      "Epoch 1/5\n"
     ]
    },
    {
     "name": "stderr",
     "output_type": "stream",
     "text": [
      "2022-10-28 16:34:56.988537: W tensorflow/core/common_runtime/forward_type_inference.cc:231] Type inference failed. This indicates an invalid graph that escaped type checking. Error message: INVALID_ARGUMENT: expected compatible input types, but input 1:\n",
      "type_id: TFT_OPTIONAL\n",
      "args {\n",
      "  type_id: TFT_PRODUCT\n",
      "  args {\n",
      "    type_id: TFT_TENSOR\n",
      "    args {\n",
      "      type_id: TFT_LEGACY_VARIANT\n",
      "    }\n",
      "  }\n",
      "}\n",
      " is neither a subtype nor a supertype of the combined inputs preceding it:\n",
      "type_id: TFT_OPTIONAL\n",
      "args {\n",
      "  type_id: TFT_PRODUCT\n",
      "  args {\n",
      "    type_id: TFT_TENSOR\n",
      "    args {\n",
      "      type_id: TFT_FLOAT\n",
      "    }\n",
      "  }\n",
      "}\n",
      "\n",
      "\twhile inferring type of node 'cond_40/output/_19'\n",
      "2022-10-28 16:34:59.081092: I tensorflow/stream_executor/cuda/cuda_dnn.cc:384] Loaded cuDNN version 8400\n"
     ]
    },
    {
     "name": "stdout",
     "output_type": "stream",
     "text": [
      "44/44 [==============================] - 7s 145ms/step\n",
      "19/19 [==============================] - 3s 147ms/step\n",
      "train_f1_score: 0.1 - val_f1_score: 0.1\n",
      "########### EPOCH ENDED ##########\n",
      "88/88 [==============================] - 51s 514ms/step - loss: 2.3044 - val_loss: 2.3027\n",
      "Epoch 2/5\n",
      "44/44 [==============================] - 6s 145ms/step\n",
      "19/19 [==============================] - 3s 149ms/step\n",
      "train_f1_score: 0.1014 - val_f1_score: 0.1\n",
      "########### EPOCH ENDED ##########\n",
      "88/88 [==============================] - 44s 495ms/step - loss: 2.3048 - val_loss: 2.3026\n",
      "Epoch 3/5\n",
      "44/44 [==============================] - 6s 144ms/step\n",
      "19/19 [==============================] - 3s 148ms/step\n",
      "train_f1_score: 0.1079 - val_f1_score: 0.1117\n",
      "########### EPOCH ENDED ##########\n",
      "88/88 [==============================] - 43s 495ms/step - loss: 2.3035 - val_loss: 2.3026\n",
      "Epoch 4/5\n",
      "44/44 [==============================] - 6s 145ms/step\n",
      "19/19 [==============================] - 3s 146ms/step\n",
      "train_f1_score: 0.0914 - val_f1_score: 0.0783\n",
      "########### EPOCH ENDED ##########\n",
      "88/88 [==============================] - 42s 483ms/step - loss: 2.3036 - val_loss: 2.3026\n",
      "Epoch 5/5\n",
      "44/44 [==============================] - 6s 142ms/step\n",
      "19/19 [==============================] - 3s 150ms/step\n",
      "train_f1_score: 0.1036 - val_f1_score: 0.105\n",
      "########### EPOCH ENDED ##########\n",
      "88/88 [==============================] - 44s 497ms/step - loss: 2.3039 - val_loss: 2.3026\n"
     ]
    },
    {
     "data": {
      "text/plain": [
       "<keras.callbacks.History at 0x154920172bb0>"
      ]
     },
     "execution_count": 32,
     "metadata": {},
     "output_type": "execute_result"
    }
   ],
   "source": [
    "model_1.compile(optimizer = tf.keras.optimizers.Adam(0.001), loss = 'sparse_categorical_crossentropy')\n",
    "model_1.fit([X_train_pad_seq, X_train_mask], y_train,\n",
    "           validation_data = ([X_test_pad_seq, X_test_mask], y_test),\n",
    "           batch_size = 16, epochs = 5,\n",
    "           callbacks = [F1ScoreCB(([X_train_pad_seq, X_train_mask], y_train), ([X_test_pad_seq, X_test_mask], y_test))]\n",
    "           )"
   ]
  },
  {
   "cell_type": "markdown",
   "metadata": {
    "id": "2Fwk0X4zaNpR"
   },
   "source": [
    "### 2. Converting into spectrogram and giving spectrogram data as input  \n",
    "\n",
    "We can use librosa to convert raw data into spectrogram. A spectrogram shows the features in a two-dimensional representation with the\n",
    "intensity of a frequency at a point in time i.e we are converting Time domain to frequency domain. you can read more about this in https://pnsn.org/spectrograms/what-is-a-spectrogram\n"
   ]
  },
  {
   "cell_type": "code",
   "execution_count": 51,
   "metadata": {
    "id": "nb5AGzTjaNpS"
   },
   "outputs": [],
   "source": [
    "def convert_to_spectrogram(raw_data):\n",
    "    '''converting to spectrogram'''\n",
    "    spectrum = librosa.feature.melspectrogram(y=raw_data, sr=sample_rate, n_mels=64)\n",
    "    logmel_spectrum = librosa.power_to_db(S=spectrum, ref=np.max)\n",
    "    return logmel_spectrum"
   ]
  },
  {
   "cell_type": "code",
   "execution_count": 52,
   "metadata": {
    "id": "B__rN4RjaNpc"
   },
   "outputs": [
    {
     "name": "stderr",
     "output_type": "stream",
     "text": [
      "100%|███████████████████████████████████████████████████████████████████████████████████████████████████████████████████████████████████| 1400/1400 [00:06<00:00, 209.66it/s]\n",
      "100%|█████████████████████████████████████████████████████████████████████████████████████████████████████████████████████████████████████| 600/600 [00:02<00:00, 210.96it/s]\n"
     ]
    }
   ],
   "source": [
    "##use convert_to_spectrogram and convert every raw sequence in X_train_pad_seq and X_test_pad-seq.\n",
    "## save those all in the X_train_spectrogram and X_test_spectrogram ( These two arrays must be numpy arrays)\n",
    "X_train_spectrogram = np.array([ convert_to_spectrogram(x) for x in tqdm(X_train_pad_seq)])\n",
    "X_test_spectrogram = np.array([ convert_to_spectrogram(x) for x in tqdm(X_test_pad_seq)])"
   ]
  },
  {
   "cell_type": "markdown",
   "metadata": {
    "id": "zr1ynYZnaNpj"
   },
   "source": [
    "<font size=4>Grader function 6 </font>"
   ]
  },
  {
   "cell_type": "code",
   "execution_count": 53,
   "metadata": {},
   "outputs": [
    {
     "data": {
      "text/plain": [
       "(1400, 64, 35)"
      ]
     },
     "execution_count": 53,
     "metadata": {},
     "output_type": "execute_result"
    }
   ],
   "source": [
    "X_train_spectrogram.shape"
   ]
  },
  {
   "cell_type": "code",
   "execution_count": 54,
   "metadata": {
    "id": "oniXBXcsaNpk",
    "outputId": "0f94ec35-98af-4b98-c501-35cbbfbd0a2e"
   },
   "outputs": [
    {
     "data": {
      "text/plain": [
       "True"
      ]
     },
     "execution_count": 54,
     "metadata": {},
     "output_type": "execute_result"
    }
   ],
   "source": [
    "def grader_spectrogram():\n",
    "    flag_shape = (X_train_spectrogram.shape==(1400,64, 35)) and (X_test_spectrogram.shape == (600, 64, 35))\n",
    "    return flag_shape\n",
    "grader_spectrogram()"
   ]
  },
  {
   "cell_type": "markdown",
   "metadata": {
    "id": "xxlEVyIYaNpt"
   },
   "source": [
    "\n",
    "Now we have\n",
    "\n",
    "Train data: X_train_spectrogram and y_train  \n",
    "Test data: X_test_spectrogram and y_test   \n",
    "\n",
    "We will create a LSTM model which takes this input. \n",
    "\n",
    "Task:\n",
    "\n",
    "1. Create an LSTM network which takes \"X_train_spectrogram\" as input and has to return output at every time step. \n",
    "2. Average the output of every time step and give this to the Dense layer of any size. \n",
    "(ex: Output from LSTM will be  (None, time_steps, features) average the output of every time step i.e, you should get (None,time_steps) \n",
    "and then pass to dense layer )\n",
    "3. give the above output to Dense layer of size 10( output layer) and train the network with sparse categorical cross entropy.  \n",
    "4. Use tensorboard to plot the graphs of loss and metric(use custom micro F1 score as metric) and histograms of gradients. You can write your code for computing F1 score using this <a  href='https://i.imgur.com/8YULUcu.jpg'>link</a> \n",
    "5. make sure that it won't overfit. \n",
    "6. You are free to include any regularization\n"
   ]
  },
  {
   "cell_type": "code",
   "execution_count": 55,
   "metadata": {},
   "outputs": [
    {
     "data": {
      "text/plain": [
       "(1400, 64, 35)"
      ]
     },
     "execution_count": 55,
     "metadata": {},
     "output_type": "execute_result"
    }
   ],
   "source": [
    "X_train_spectrogram.shape"
   ]
  },
  {
   "cell_type": "code",
   "execution_count": 56,
   "metadata": {
    "id": "IaQjaiiGaNpv"
   },
   "outputs": [],
   "source": [
    "# write the architecture of the model\n",
    "#print model.summary and make sure that it is following point 2 mentioned above\n"
   ]
  },
  {
   "cell_type": "code",
   "execution_count": 57,
   "metadata": {
    "id": "862fP2e-aNp3"
   },
   "outputs": [],
   "source": [
    "#compile and fit your model.\n",
    "#model2.fit([X_train_spectrogram],y_train_int,......)"
   ]
  },
  {
   "cell_type": "code",
   "execution_count": 58,
   "metadata": {
    "id": "VtMsbGs3aNp_"
   },
   "outputs": [
    {
     "name": "stdout",
     "output_type": "stream",
     "text": [
      "Model: \"model_3\"\n",
      "_________________________________________________________________\n",
      " Layer (type)                Output Shape              Param #   \n",
      "=================================================================\n",
      " Input_spectogram (InputLaye  [(None, 64, 35)]         0         \n",
      " r)                                                              \n",
      "                                                                 \n",
      " LSTM_M2 (LSTM)              (None, 64, 256)           299008    \n",
      "                                                                 \n",
      " tf.math.reduce_mean_1 (TFOp  (None, 64)               0         \n",
      " Lambda)                                                         \n",
      "                                                                 \n",
      " Flatten_M2 (Flatten)        (None, 64)                0         \n",
      "                                                                 \n",
      " dense_4 (Dense)             (None, 256)               16640     \n",
      "                                                                 \n",
      " dense_5 (Dense)             (None, 10)                2570      \n",
      "                                                                 \n",
      "=================================================================\n",
      "Total params: 318,218\n",
      "Trainable params: 318,218\n",
      "Non-trainable params: 0\n",
      "_________________________________________________________________\n"
     ]
    }
   ],
   "source": [
    "input_layer_m2 = Input(shape=(64,35,),name=\"Input_spectogram\")\n",
    "lstm_layer_m2 = LSTM(units = 256,return_sequences = True,name=\"LSTM_M2\")(input_layer_m2)\n",
    "avg_pooled = tf.reduce_mean(lstm_layer_m2 ,axis=-1)\n",
    "flatten_m2 = tf.keras.layers.Flatten(name='Flatten_M2')(avg_pooled)\n",
    "dense_layer_m2 = Dense(256,activation='relu')(flatten_m2)\n",
    "output_m2 = Dense(10,activation = 'softmax')(dense_layer_m2)\n",
    "model_2 = Model(input_layer_m2,output_m2)\n",
    "model_2.summary()"
   ]
  },
  {
   "cell_type": "code",
   "execution_count": 59,
   "metadata": {},
   "outputs": [
    {
     "name": "stdout",
     "output_type": "stream",
     "text": [
      "Epoch 1/50\n",
      "44/44 [==============================] - 1s 4ms/steposs:\n",
      "19/19 [==============================] - 0s 4ms/step\n",
      "train_f1_score: 0.1879 - val_f1_score: 0.175\n",
      "########### EPOCH ENDED ##########\n",
      "88/88 [==============================] - 3s 24ms/step - loss: 2.2894 - val_loss: 2.2642\n",
      "Epoch 2/50\n",
      "44/44 [==============================] - 0s 4ms/steposs\n",
      "19/19 [==============================] - 0s 4ms/step\n",
      "train_f1_score: 0.2336 - val_f1_score: 0.2167\n",
      "########### EPOCH ENDED ##########\n",
      "88/88 [==============================] - 1s 15ms/step - loss: 2.2243 - val_loss: 2.1774\n",
      "Epoch 3/50\n",
      "44/44 [==============================] - 0s 4ms/steposs\n",
      "19/19 [==============================] - 0s 4ms/step\n",
      "train_f1_score: 0.3114 - val_f1_score: 0.2967\n",
      "########### EPOCH ENDED ##########\n",
      "88/88 [==============================] - 1s 16ms/step - loss: 2.1047 - val_loss: 2.0329\n",
      "Epoch 4/50\n",
      "44/44 [==============================] - 0s 4ms/steposs\n",
      "19/19 [==============================] - 0s 4ms/step\n",
      "train_f1_score: 0.3529 - val_f1_score: 0.3333\n",
      "########### EPOCH ENDED ##########\n",
      "88/88 [==============================] - 1s 15ms/step - loss: 1.9459 - val_loss: 1.8736\n",
      "Epoch 5/50\n",
      "44/44 [==============================] - 0s 4ms/steposs\n",
      "19/19 [==============================] - 0s 4ms/step\n",
      "train_f1_score: 0.4393 - val_f1_score: 0.4217\n",
      "########### EPOCH ENDED ##########\n",
      "88/88 [==============================] - 1s 15ms/step - loss: 1.7923 - val_loss: 1.7379\n",
      "Epoch 6/50\n",
      "44/44 [==============================] - 0s 4ms/steposs: \n",
      "19/19 [==============================] - 0s 4ms/step\n",
      "train_f1_score: 0.4521 - val_f1_score: 0.4317\n",
      "########### EPOCH ENDED ##########\n",
      "88/88 [==============================] - 1s 14ms/step - loss: 1.6724 - val_loss: 1.6349\n",
      "Epoch 7/50\n",
      "44/44 [==============================] - 0s 4ms/steposs\n",
      "19/19 [==============================] - 0s 4ms/step\n",
      "train_f1_score: 0.5029 - val_f1_score: 0.4933\n",
      "########### EPOCH ENDED ##########\n",
      "88/88 [==============================] - 1s 15ms/step - loss: 1.5746 - val_loss: 1.5421\n",
      "Epoch 8/50\n",
      "44/44 [==============================] - 0s 4ms/steposs: \n",
      "19/19 [==============================] - 0s 4ms/step\n",
      "train_f1_score: 0.5514 - val_f1_score: 0.54\n",
      "########### EPOCH ENDED ##########\n",
      "88/88 [==============================] - 1s 14ms/step - loss: 1.4801 - val_loss: 1.4648\n",
      "Epoch 9/50\n",
      "44/44 [==============================] - 0s 4ms/steposs\n",
      "19/19 [==============================] - 0s 4ms/step\n",
      "train_f1_score: 0.5043 - val_f1_score: 0.48\n",
      "########### EPOCH ENDED ##########\n",
      "88/88 [==============================] - 1s 15ms/step - loss: 1.4129 - val_loss: 1.4456\n",
      "Epoch 10/50\n",
      "44/44 [==============================] - 0s 4ms/steposs\n",
      "19/19 [==============================] - 0s 4ms/step\n",
      "train_f1_score: 0.5793 - val_f1_score: 0.5633\n",
      "########### EPOCH ENDED ##########\n",
      "88/88 [==============================] - 1s 15ms/step - loss: 1.3516 - val_loss: 1.3382\n",
      "Epoch 11/50\n",
      "44/44 [==============================] - 0s 4ms/steposs\n",
      "19/19 [==============================] - 0s 4ms/step\n",
      "train_f1_score: 0.6164 - val_f1_score: 0.585\n",
      "########### EPOCH ENDED ##########\n",
      "88/88 [==============================] - 1s 15ms/step - loss: 1.2871 - val_loss: 1.2859\n",
      "Epoch 12/50\n",
      "44/44 [==============================] - 0s 3ms/steposs: \n",
      "19/19 [==============================] - 0s 4ms/step\n",
      "train_f1_score: 0.6243 - val_f1_score: 0.585\n",
      "########### EPOCH ENDED ##########\n",
      "88/88 [==============================] - 1s 14ms/step - loss: 1.2479 - val_loss: 1.2354\n",
      "Epoch 13/50\n",
      "44/44 [==============================] - 0s 4ms/steposs\n",
      "19/19 [==============================] - 0s 4ms/step\n",
      "train_f1_score: 0.6414 - val_f1_score: 0.605\n",
      "########### EPOCH ENDED ##########\n",
      "88/88 [==============================] - 1s 15ms/step - loss: 1.1923 - val_loss: 1.1973\n",
      "Epoch 14/50\n",
      "44/44 [==============================] - 0s 4ms/steposs\n",
      "19/19 [==============================] - 0s 4ms/step\n",
      "train_f1_score: 0.6471 - val_f1_score: 0.61\n",
      "########### EPOCH ENDED ##########\n",
      "88/88 [==============================] - 1s 15ms/step - loss: 1.1452 - val_loss: 1.1541\n",
      "Epoch 15/50\n",
      "44/44 [==============================] - 0s 4ms/steposs\n",
      "19/19 [==============================] - 0s 4ms/step\n",
      "train_f1_score: 0.6779 - val_f1_score: 0.645\n",
      "########### EPOCH ENDED ##########\n",
      "88/88 [==============================] - 1s 14ms/step - loss: 1.0970 - val_loss: 1.1302\n",
      "Epoch 16/50\n",
      "44/44 [==============================] - 0s 3ms/steposs: \n",
      "19/19 [==============================] - 0s 4ms/step\n",
      "train_f1_score: 0.6714 - val_f1_score: 0.645\n",
      "########### EPOCH ENDED ##########\n",
      "88/88 [==============================] - 1s 14ms/step - loss: 1.0535 - val_loss: 1.0701\n",
      "Epoch 17/50\n",
      "44/44 [==============================] - 0s 3ms/steposs: \n",
      "19/19 [==============================] - 0s 4ms/step\n",
      "train_f1_score: 0.7007 - val_f1_score: 0.7\n",
      "########### EPOCH ENDED ##########\n",
      "88/88 [==============================] - 1s 14ms/step - loss: 1.0172 - val_loss: 1.0304\n",
      "Epoch 18/50\n",
      "44/44 [==============================] - 0s 4ms/steposs\n",
      "19/19 [==============================] - 0s 4ms/step\n",
      "train_f1_score: 0.71 - val_f1_score: 0.68\n",
      "########### EPOCH ENDED ##########\n",
      "88/88 [==============================] - 1s 15ms/step - loss: 0.9890 - val_loss: 1.0219\n",
      "Epoch 19/50\n",
      "44/44 [==============================] - 0s 4ms/steposs\n",
      "19/19 [==============================] - 0s 4ms/step\n",
      "train_f1_score: 0.7107 - val_f1_score: 0.6883\n",
      "########### EPOCH ENDED ##########\n",
      "88/88 [==============================] - 1s 15ms/step - loss: 0.9517 - val_loss: 0.9885\n",
      "Epoch 20/50\n",
      "44/44 [==============================] - 0s 4ms/steposs\n",
      "19/19 [==============================] - 0s 4ms/step\n",
      "train_f1_score: 0.7371 - val_f1_score: 0.7133\n",
      "########### EPOCH ENDED ##########\n",
      "88/88 [==============================] - 1s 14ms/step - loss: 0.9210 - val_loss: 0.9456\n",
      "Epoch 21/50\n",
      "44/44 [==============================] - 0s 4ms/steposs\n",
      "19/19 [==============================] - 0s 3ms/step\n",
      "train_f1_score: 0.74 - val_f1_score: 0.715\n",
      "########### EPOCH ENDED ##########\n",
      "88/88 [==============================] - 1s 14ms/step - loss: 0.8997 - val_loss: 0.9272\n",
      "Epoch 22/50\n",
      "44/44 [==============================] - 0s 4ms/steposs\n",
      "19/19 [==============================] - 0s 4ms/step\n",
      "train_f1_score: 0.755 - val_f1_score: 0.7333\n",
      "########### EPOCH ENDED ##########\n",
      "88/88 [==============================] - 1s 15ms/step - loss: 0.8687 - val_loss: 0.8976\n",
      "Epoch 23/50\n",
      "44/44 [==============================] - 0s 4ms/steposs\n",
      "19/19 [==============================] - 0s 4ms/step\n",
      "train_f1_score: 0.7429 - val_f1_score: 0.7133\n",
      "########### EPOCH ENDED ##########\n",
      "88/88 [==============================] - 1s 15ms/step - loss: 0.8305 - val_loss: 0.9052\n",
      "Epoch 24/50\n",
      "44/44 [==============================] - 0s 4ms/steposs\n",
      "19/19 [==============================] - 0s 4ms/step\n",
      "train_f1_score: 0.7714 - val_f1_score: 0.7433\n",
      "########### EPOCH ENDED ##########\n",
      "88/88 [==============================] - 1s 14ms/step - loss: 0.8218 - val_loss: 0.8401\n",
      "Epoch 25/50\n",
      "44/44 [==============================] - 0s 4ms/steposs\n",
      "19/19 [==============================] - 0s 4ms/step\n",
      "train_f1_score: 0.7771 - val_f1_score: 0.745\n",
      "########### EPOCH ENDED ##########\n",
      "88/88 [==============================] - 1s 14ms/step - loss: 0.7745 - val_loss: 0.8287\n",
      "Epoch 26/50\n",
      "44/44 [==============================] - 0s 4ms/steposs\n",
      "19/19 [==============================] - 0s 4ms/step\n",
      "train_f1_score: 0.7993 - val_f1_score: 0.765\n",
      "########### EPOCH ENDED ##########\n",
      "88/88 [==============================] - 1s 14ms/step - loss: 0.7548 - val_loss: 0.7896\n",
      "Epoch 27/50\n",
      "44/44 [==============================] - 0s 4ms/steposs\n",
      "19/19 [==============================] - 0s 4ms/step\n",
      "train_f1_score: 0.7936 - val_f1_score: 0.7583\n",
      "########### EPOCH ENDED ##########\n",
      "88/88 [==============================] - 1s 15ms/step - loss: 0.7265 - val_loss: 0.7759\n",
      "Epoch 28/50\n",
      "44/44 [==============================] - 0s 3ms/steposs: \n",
      "19/19 [==============================] - 0s 3ms/step\n",
      "train_f1_score: 0.8021 - val_f1_score: 0.76\n",
      "########### EPOCH ENDED ##########\n",
      "88/88 [==============================] - 1s 14ms/step - loss: 0.7115 - val_loss: 0.7674\n",
      "Epoch 29/50\n",
      "44/44 [==============================] - 0s 4ms/steposs\n",
      "19/19 [==============================] - 0s 3ms/step\n",
      "train_f1_score: 0.805 - val_f1_score: 0.7583\n",
      "########### EPOCH ENDED ##########\n",
      "88/88 [==============================] - 1s 14ms/step - loss: 0.6888 - val_loss: 0.7367\n",
      "Epoch 30/50\n",
      "44/44 [==============================] - 0s 4ms/steposs\n",
      "19/19 [==============================] - 0s 4ms/step\n",
      "train_f1_score: 0.8136 - val_f1_score: 0.7767\n",
      "########### EPOCH ENDED ##########\n",
      "88/88 [==============================] - 1s 14ms/step - loss: 0.6639 - val_loss: 0.7233\n",
      "Epoch 31/50\n",
      "44/44 [==============================] - 0s 4ms/steposs\n",
      "19/19 [==============================] - 0s 4ms/step\n",
      "train_f1_score: 0.8214 - val_f1_score: 0.7867\n",
      "########### EPOCH ENDED ##########\n",
      "88/88 [==============================] - 1s 14ms/step - loss: 0.6469 - val_loss: 0.6895\n",
      "Epoch 32/50\n",
      "44/44 [==============================] - 0s 4ms/steposs\n",
      "19/19 [==============================] - 0s 4ms/step\n",
      "train_f1_score: 0.8171 - val_f1_score: 0.7767\n",
      "########### EPOCH ENDED ##########\n",
      "88/88 [==============================] - 1s 14ms/step - loss: 0.6248 - val_loss: 0.6816\n",
      "Epoch 33/50\n",
      "44/44 [==============================] - 0s 4ms/steposs\n",
      "19/19 [==============================] - 0s 4ms/step\n",
      "train_f1_score: 0.8243 - val_f1_score: 0.77\n",
      "########### EPOCH ENDED ##########\n",
      "88/88 [==============================] - 1s 15ms/step - loss: 0.6073 - val_loss: 0.6687\n",
      "Epoch 34/50\n",
      "44/44 [==============================] - 0s 4ms/steposs\n",
      "19/19 [==============================] - 0s 4ms/step\n",
      "train_f1_score: 0.8364 - val_f1_score: 0.7917\n",
      "########### EPOCH ENDED ##########\n",
      "88/88 [==============================] - 1s 15ms/step - loss: 0.5892 - val_loss: 0.6518\n",
      "Epoch 35/50\n",
      "44/44 [==============================] - 0s 4ms/steposs\n",
      "19/19 [==============================] - 0s 4ms/step\n",
      "train_f1_score: 0.8393 - val_f1_score: 0.7783\n",
      "########### EPOCH ENDED ##########\n",
      "88/88 [==============================] - 1s 15ms/step - loss: 0.5759 - val_loss: 0.6494\n",
      "Epoch 35: early stopping\n"
     ]
    },
    {
     "data": {
      "text/plain": [
       "<keras.callbacks.History at 0x1548e8521640>"
      ]
     },
     "execution_count": 59,
     "metadata": {},
     "output_type": "execute_result"
    }
   ],
   "source": [
    "model_2.compile(optimizer = tf.keras.optimizers.Adam(0.0001), loss = 'sparse_categorical_crossentropy')\n",
    "early_stop = tf.keras.callbacks.EarlyStopping(monitor='val_loss', min_delta=0.05, patience=3, verbose=1)\n",
    "\n",
    "model_2.fit(X_train_spectrogram, y_train,\n",
    "           validation_data = (X_test_spectrogram, y_test),\n",
    "           batch_size = 16, epochs = 50,\n",
    "            callbacks = [F1ScoreCB((X_train_spectrogram, y_train), (X_test_spectrogram, y_test)),early_stop]\n",
    "          )"
   ]
  },
  {
   "cell_type": "markdown",
   "metadata": {
    "id": "aSl8ZOXjaNqJ"
   },
   "source": [
    "### 3. Data augmentation with raw features \n",
    "\n",
    "Till now we have done with 2000 samples only. It is very less data. We are giving the process of generating augmented data below.\n",
    "\n",
    "There are two types of augmentation:\n",
    "1. time stretching - Time stretching either increases or decreases the length of the file. For time stretching we move the file 30% faster or slower\n",
    "2. pitch shifting - pitch shifting moves the frequencies higher or lower. For pitch shifting we shift up or down one half-step.\n"
   ]
  },
  {
   "cell_type": "code",
   "execution_count": 6,
   "metadata": {
    "id": "jR4JSEDgaNqK"
   },
   "outputs": [],
   "source": [
    "## generating augmented data. \n",
    "def generate_augmented_data(file_path):\n",
    "    augmented_data = []\n",
    "    samples = load_wav(file_path,get_duration=False)\n",
    "    for time_value in [0.7, 1, 1.3]:\n",
    "        for pitch_value in [-1, 0, 1]:\n",
    "            time_stretch_data = librosa.effects.time_stretch(samples, rate=time_value)\n",
    "            final_data = librosa.effects.pitch_shift(time_stretch_data, sr=sample_rate, n_steps=pitch_value)\n",
    "            augmented_data.append(final_data)\n",
    "    return augmented_data\n",
    "sample_rate = 22050\n",
    "def load_wav(x, get_duration=True):\n",
    "    '''This return the array values of audio with sampling rate of 22050 and Duration'''\n",
    "    #loading the wav file with sampling rate of 22050\n",
    "    samples, sample_rate = librosa.load(x, sr=22050)\n",
    "    if get_duration:\n",
    "        duration = librosa.get_duration(y=samples, sr=sample_rate)\n",
    "        return [samples, duration]\n",
    "    else:\n",
    "        return samples"
   ]
  },
  {
   "cell_type": "code",
   "execution_count": 8,
   "metadata": {
    "id": "kzdG3iS-aNqc",
    "outputId": "0f17e45e-63a0-4986-8f69-05e2dbd71bac"
   },
   "outputs": [],
   "source": [
    "temp_path = df_audio.iloc[0].path\n",
    "aug_temp = generate_augmented_data(temp_path)\n",
    "\n",
    "aug_temp[8].shape"
   ]
  },
  {
   "cell_type": "markdown",
   "metadata": {
    "id": "ZckytZsraNqk"
   },
   "source": [
    "## Follow the steps \n",
    "\n",
    "1. Split data 'df_audio' into train and test (80-20 split)\n",
    "\n",
    "2. We have 2000 data points(1600 train points, 400 test points) \n",
    "\n"
   ]
  },
  {
   "cell_type": "code",
   "execution_count": 9,
   "metadata": {
    "id": "LFo5SnTLO_sD"
   },
   "outputs": [],
   "source": [
    "from sklearn.model_selection import train_test_split\n",
    "X_train, X_test, y_train, y_test=train_test_split(df_audio['path'],df_audio['label'].to_numpy(dtype='int'),random_state=45,test_size=0.2,stratify=df_audio['label'])"
   ]
  },
  {
   "cell_type": "markdown",
   "metadata": {
    "id": "AdKXVRlpaNql"
   },
   "source": [
    "3. Do augmentation only on X_train,pass each point of X_train to generate_augmented_data function.After augmentation we will get 14400 train points. Make sure that you are augmenting the corresponding class labels (y_train) also.\n",
    "4. Preprocess your X_test using load_wav function.\n",
    "5. Convert the augmented_train_data and test_data to numpy arrays.\n",
    "6. Perform padding and masking on augmented_train_data and test_data.\n",
    "7. After padding define the model similar to model 1 and fit the data"
   ]
  },
  {
   "cell_type": "markdown",
   "metadata": {
    "id": "H8Yh72uYO_sD"
   },
   "source": [
    "<font color='red'> Note </font> - While fitting your model on the augmented data for model 3 you might face Resource exhaust error. One simple hack to avoid that is save the augmented_train_data,augment_y_train,test_data and y_test to Drive or into your local system. Then restart the runtime so that now you can train your model with full RAM capacity. Upload these files again in the new runtime session perform padding and masking and then fit your model."
   ]
  },
  {
   "cell_type": "code",
   "execution_count": 21,
   "metadata": {
    "id": "wBwzbjOzO_sD"
   },
   "outputs": [
    {
     "name": "stderr",
     "output_type": "stream",
     "text": [
      "670it [01:42,  6.54it/s]\n"
     ]
    },
    {
     "ename": "KeyboardInterrupt",
     "evalue": "",
     "output_type": "error",
     "traceback": [
      "\u001b[0;31m---------------------------------------------------------------------------\u001b[0m",
      "\u001b[0;31mKeyboardInterrupt\u001b[0m                         Traceback (most recent call last)",
      "Input \u001b[0;32mIn [21]\u001b[0m, in \u001b[0;36m<cell line: 4>\u001b[0;34m()\u001b[0m\n\u001b[1;32m      2\u001b[0m agumented_train_label \u001b[38;5;241m=\u001b[39m [] \n\u001b[1;32m      4\u001b[0m \u001b[38;5;28;01mfor\u001b[39;00m i,path \u001b[38;5;129;01min\u001b[39;00m tqdm(\u001b[38;5;28menumerate\u001b[39m(X_train)):\n\u001b[0;32m----> 5\u001b[0m     agumented_train_data\u001b[38;5;241m.\u001b[39mextend(\u001b[43mgenerate_augmented_data\u001b[49m\u001b[43m(\u001b[49m\u001b[43mpath\u001b[49m\u001b[43m)\u001b[49m)\n\u001b[1;32m      6\u001b[0m     agumented_train_label\u001b[38;5;241m.\u001b[39mextend([y_train[i] \u001b[38;5;28;01mfor\u001b[39;00m j \u001b[38;5;129;01min\u001b[39;00m \u001b[38;5;28mrange\u001b[39m(\u001b[38;5;241m9\u001b[39m)])\n\u001b[1;32m      7\u001b[0m agumented_train_label \u001b[38;5;241m=\u001b[39m np\u001b[38;5;241m.\u001b[39marray(agumented_train_label)\n",
      "Input \u001b[0;32mIn [6]\u001b[0m, in \u001b[0;36mgenerate_augmented_data\u001b[0;34m(file_path)\u001b[0m\n\u001b[1;32m      6\u001b[0m     \u001b[38;5;28;01mfor\u001b[39;00m pitch_value \u001b[38;5;129;01min\u001b[39;00m [\u001b[38;5;241m-\u001b[39m\u001b[38;5;241m1\u001b[39m, \u001b[38;5;241m0\u001b[39m, \u001b[38;5;241m1\u001b[39m]:\n\u001b[1;32m      7\u001b[0m         time_stretch_data \u001b[38;5;241m=\u001b[39m librosa\u001b[38;5;241m.\u001b[39meffects\u001b[38;5;241m.\u001b[39mtime_stretch(samples, rate\u001b[38;5;241m=\u001b[39mtime_value)\n\u001b[0;32m----> 8\u001b[0m         final_data \u001b[38;5;241m=\u001b[39m \u001b[43mlibrosa\u001b[49m\u001b[38;5;241;43m.\u001b[39;49m\u001b[43meffects\u001b[49m\u001b[38;5;241;43m.\u001b[39;49m\u001b[43mpitch_shift\u001b[49m\u001b[43m(\u001b[49m\u001b[43mtime_stretch_data\u001b[49m\u001b[43m,\u001b[49m\u001b[43m \u001b[49m\u001b[43msr\u001b[49m\u001b[38;5;241;43m=\u001b[39;49m\u001b[43msample_rate\u001b[49m\u001b[43m,\u001b[49m\u001b[43m \u001b[49m\u001b[43mn_steps\u001b[49m\u001b[38;5;241;43m=\u001b[39;49m\u001b[43mpitch_value\u001b[49m\u001b[43m)\u001b[49m\n\u001b[1;32m      9\u001b[0m         augmented_data\u001b[38;5;241m.\u001b[39mappend(final_data)\n\u001b[1;32m     10\u001b[0m \u001b[38;5;28;01mreturn\u001b[39;00m augmented_data\n",
      "File \u001b[0;32m~/venvs/global/lib/python3.9/site-packages/librosa/util/decorators.py:88\u001b[0m, in \u001b[0;36mdeprecate_positional_args.<locals>._inner_deprecate_positional_args.<locals>.inner_f\u001b[0;34m(*args, **kwargs)\u001b[0m\n\u001b[1;32m     86\u001b[0m extra_args \u001b[38;5;241m=\u001b[39m \u001b[38;5;28mlen\u001b[39m(args) \u001b[38;5;241m-\u001b[39m \u001b[38;5;28mlen\u001b[39m(all_args)\n\u001b[1;32m     87\u001b[0m \u001b[38;5;28;01mif\u001b[39;00m extra_args \u001b[38;5;241m<\u001b[39m\u001b[38;5;241m=\u001b[39m \u001b[38;5;241m0\u001b[39m:\n\u001b[0;32m---> 88\u001b[0m     \u001b[38;5;28;01mreturn\u001b[39;00m \u001b[43mf\u001b[49m\u001b[43m(\u001b[49m\u001b[38;5;241;43m*\u001b[39;49m\u001b[43margs\u001b[49m\u001b[43m,\u001b[49m\u001b[43m \u001b[49m\u001b[38;5;241;43m*\u001b[39;49m\u001b[38;5;241;43m*\u001b[39;49m\u001b[43mkwargs\u001b[49m\u001b[43m)\u001b[49m\n\u001b[1;32m     90\u001b[0m \u001b[38;5;66;03m# extra_args > 0\u001b[39;00m\n\u001b[1;32m     91\u001b[0m args_msg \u001b[38;5;241m=\u001b[39m [\n\u001b[1;32m     92\u001b[0m     \u001b[38;5;124m\"\u001b[39m\u001b[38;5;132;01m{}\u001b[39;00m\u001b[38;5;124m=\u001b[39m\u001b[38;5;132;01m{}\u001b[39;00m\u001b[38;5;124m\"\u001b[39m\u001b[38;5;241m.\u001b[39mformat(name, arg)\n\u001b[1;32m     93\u001b[0m     \u001b[38;5;28;01mfor\u001b[39;00m name, arg \u001b[38;5;129;01min\u001b[39;00m \u001b[38;5;28mzip\u001b[39m(kwonly_args[:extra_args], args[\u001b[38;5;241m-\u001b[39mextra_args:])\n\u001b[1;32m     94\u001b[0m ]\n",
      "File \u001b[0;32m~/venvs/global/lib/python3.9/site-packages/librosa/effects.py:327\u001b[0m, in \u001b[0;36mpitch_shift\u001b[0;34m(y, sr, n_steps, bins_per_octave, res_type, **kwargs)\u001b[0m\n\u001b[1;32m    324\u001b[0m rate \u001b[38;5;241m=\u001b[39m \u001b[38;5;241m2.0\u001b[39m \u001b[38;5;241m*\u001b[39m\u001b[38;5;241m*\u001b[39m (\u001b[38;5;241m-\u001b[39m\u001b[38;5;28mfloat\u001b[39m(n_steps) \u001b[38;5;241m/\u001b[39m bins_per_octave)\n\u001b[1;32m    326\u001b[0m \u001b[38;5;66;03m# Stretch in time, then resample\u001b[39;00m\n\u001b[0;32m--> 327\u001b[0m y_shift \u001b[38;5;241m=\u001b[39m \u001b[43mcore\u001b[49m\u001b[38;5;241;43m.\u001b[39;49m\u001b[43mresample\u001b[49m\u001b[43m(\u001b[49m\n\u001b[1;32m    328\u001b[0m \u001b[43m    \u001b[49m\u001b[43mtime_stretch\u001b[49m\u001b[43m(\u001b[49m\u001b[43my\u001b[49m\u001b[43m,\u001b[49m\u001b[43m \u001b[49m\u001b[43mrate\u001b[49m\u001b[38;5;241;43m=\u001b[39;49m\u001b[43mrate\u001b[49m\u001b[43m,\u001b[49m\u001b[43m \u001b[49m\u001b[38;5;241;43m*\u001b[39;49m\u001b[38;5;241;43m*\u001b[39;49m\u001b[43mkwargs\u001b[49m\u001b[43m)\u001b[49m\u001b[43m,\u001b[49m\n\u001b[1;32m    329\u001b[0m \u001b[43m    \u001b[49m\u001b[43morig_sr\u001b[49m\u001b[38;5;241;43m=\u001b[39;49m\u001b[38;5;28;43mfloat\u001b[39;49m\u001b[43m(\u001b[49m\u001b[43msr\u001b[49m\u001b[43m)\u001b[49m\u001b[43m \u001b[49m\u001b[38;5;241;43m/\u001b[39;49m\u001b[43m \u001b[49m\u001b[43mrate\u001b[49m\u001b[43m,\u001b[49m\n\u001b[1;32m    330\u001b[0m \u001b[43m    \u001b[49m\u001b[43mtarget_sr\u001b[49m\u001b[38;5;241;43m=\u001b[39;49m\u001b[43msr\u001b[49m\u001b[43m,\u001b[49m\n\u001b[1;32m    331\u001b[0m \u001b[43m    \u001b[49m\u001b[43mres_type\u001b[49m\u001b[38;5;241;43m=\u001b[39;49m\u001b[43mres_type\u001b[49m\u001b[43m,\u001b[49m\n\u001b[1;32m    332\u001b[0m \u001b[43m\u001b[49m\u001b[43m)\u001b[49m\n\u001b[1;32m    334\u001b[0m \u001b[38;5;66;03m# Crop to the same dimension as the input\u001b[39;00m\n\u001b[1;32m    335\u001b[0m \u001b[38;5;28;01mreturn\u001b[39;00m util\u001b[38;5;241m.\u001b[39mfix_length(y_shift, size\u001b[38;5;241m=\u001b[39my\u001b[38;5;241m.\u001b[39mshape[\u001b[38;5;241m-\u001b[39m\u001b[38;5;241m1\u001b[39m])\n",
      "File \u001b[0;32m~/venvs/global/lib/python3.9/site-packages/librosa/util/decorators.py:88\u001b[0m, in \u001b[0;36mdeprecate_positional_args.<locals>._inner_deprecate_positional_args.<locals>.inner_f\u001b[0;34m(*args, **kwargs)\u001b[0m\n\u001b[1;32m     86\u001b[0m extra_args \u001b[38;5;241m=\u001b[39m \u001b[38;5;28mlen\u001b[39m(args) \u001b[38;5;241m-\u001b[39m \u001b[38;5;28mlen\u001b[39m(all_args)\n\u001b[1;32m     87\u001b[0m \u001b[38;5;28;01mif\u001b[39;00m extra_args \u001b[38;5;241m<\u001b[39m\u001b[38;5;241m=\u001b[39m \u001b[38;5;241m0\u001b[39m:\n\u001b[0;32m---> 88\u001b[0m     \u001b[38;5;28;01mreturn\u001b[39;00m \u001b[43mf\u001b[49m\u001b[43m(\u001b[49m\u001b[38;5;241;43m*\u001b[39;49m\u001b[43margs\u001b[49m\u001b[43m,\u001b[49m\u001b[43m \u001b[49m\u001b[38;5;241;43m*\u001b[39;49m\u001b[38;5;241;43m*\u001b[39;49m\u001b[43mkwargs\u001b[49m\u001b[43m)\u001b[49m\n\u001b[1;32m     90\u001b[0m \u001b[38;5;66;03m# extra_args > 0\u001b[39;00m\n\u001b[1;32m     91\u001b[0m args_msg \u001b[38;5;241m=\u001b[39m [\n\u001b[1;32m     92\u001b[0m     \u001b[38;5;124m\"\u001b[39m\u001b[38;5;132;01m{}\u001b[39;00m\u001b[38;5;124m=\u001b[39m\u001b[38;5;132;01m{}\u001b[39;00m\u001b[38;5;124m\"\u001b[39m\u001b[38;5;241m.\u001b[39mformat(name, arg)\n\u001b[1;32m     93\u001b[0m     \u001b[38;5;28;01mfor\u001b[39;00m name, arg \u001b[38;5;129;01min\u001b[39;00m \u001b[38;5;28mzip\u001b[39m(kwonly_args[:extra_args], args[\u001b[38;5;241m-\u001b[39mextra_args:])\n\u001b[1;32m     94\u001b[0m ]\n",
      "File \u001b[0;32m~/venvs/global/lib/python3.9/site-packages/librosa/core/audio.py:647\u001b[0m, in \u001b[0;36mresample\u001b[0;34m(y, orig_sr, target_sr, res_type, fix, scale, **kwargs)\u001b[0m\n\u001b[1;32m    645\u001b[0m     y_hat \u001b[38;5;241m=\u001b[39m soxr\u001b[38;5;241m.\u001b[39mresample(y\u001b[38;5;241m.\u001b[39mT, orig_sr, target_sr, quality\u001b[38;5;241m=\u001b[39mres_type)\u001b[38;5;241m.\u001b[39mT\n\u001b[1;32m    646\u001b[0m \u001b[38;5;28;01melse\u001b[39;00m:\n\u001b[0;32m--> 647\u001b[0m     y_hat \u001b[38;5;241m=\u001b[39m \u001b[43mresampy\u001b[49m\u001b[38;5;241;43m.\u001b[39;49m\u001b[43mresample\u001b[49m\u001b[43m(\u001b[49m\u001b[43my\u001b[49m\u001b[43m,\u001b[49m\u001b[43m \u001b[49m\u001b[43morig_sr\u001b[49m\u001b[43m,\u001b[49m\u001b[43m \u001b[49m\u001b[43mtarget_sr\u001b[49m\u001b[43m,\u001b[49m\u001b[43m \u001b[49m\u001b[38;5;28;43mfilter\u001b[39;49m\u001b[38;5;241;43m=\u001b[39;49m\u001b[43mres_type\u001b[49m\u001b[43m,\u001b[49m\u001b[43m \u001b[49m\u001b[43maxis\u001b[49m\u001b[38;5;241;43m=\u001b[39;49m\u001b[38;5;241;43m-\u001b[39;49m\u001b[38;5;241;43m1\u001b[39;49m\u001b[43m)\u001b[49m\n\u001b[1;32m    649\u001b[0m \u001b[38;5;28;01mif\u001b[39;00m fix:\n\u001b[1;32m    650\u001b[0m     y_hat \u001b[38;5;241m=\u001b[39m util\u001b[38;5;241m.\u001b[39mfix_length(y_hat, size\u001b[38;5;241m=\u001b[39mn_samples, \u001b[38;5;241m*\u001b[39m\u001b[38;5;241m*\u001b[39mkwargs)\n",
      "File \u001b[0;32m~/venvs/global/lib/python3.9/site-packages/resampy/core.py:168\u001b[0m, in \u001b[0;36mresample\u001b[0;34m(x, sr_orig, sr_new, axis, filter, parallel, **kwargs)\u001b[0m\n\u001b[1;32m    158\u001b[0m         resample_f_s(\n\u001b[1;32m    159\u001b[0m             x\u001b[38;5;241m.\u001b[39mswapaxes(\u001b[38;5;241m-\u001b[39m\u001b[38;5;241m1\u001b[39m, axis),\n\u001b[1;32m    160\u001b[0m             t_out,\n\u001b[0;32m   (...)\u001b[0m\n\u001b[1;32m    165\u001b[0m             y\u001b[38;5;241m.\u001b[39mswapaxes(\u001b[38;5;241m-\u001b[39m\u001b[38;5;241m1\u001b[39m, axis),\n\u001b[1;32m    166\u001b[0m         )\n\u001b[1;32m    167\u001b[0m \u001b[38;5;28;01melse\u001b[39;00m:\n\u001b[0;32m--> 168\u001b[0m     \u001b[43mresample_f_s\u001b[49m\u001b[43m(\u001b[49m\n\u001b[1;32m    169\u001b[0m \u001b[43m        \u001b[49m\u001b[43mx\u001b[49m\u001b[38;5;241;43m.\u001b[39;49m\u001b[43mswapaxes\u001b[49m\u001b[43m(\u001b[49m\u001b[38;5;241;43m-\u001b[39;49m\u001b[38;5;241;43m1\u001b[39;49m\u001b[43m,\u001b[49m\u001b[43m \u001b[49m\u001b[43maxis\u001b[49m\u001b[43m)\u001b[49m\u001b[43m,\u001b[49m\n\u001b[1;32m    170\u001b[0m \u001b[43m        \u001b[49m\u001b[43mt_out\u001b[49m\u001b[43m,\u001b[49m\n\u001b[1;32m    171\u001b[0m \u001b[43m        \u001b[49m\u001b[43minterp_win\u001b[49m\u001b[43m,\u001b[49m\n\u001b[1;32m    172\u001b[0m \u001b[43m        \u001b[49m\u001b[43minterp_delta\u001b[49m\u001b[43m,\u001b[49m\n\u001b[1;32m    173\u001b[0m \u001b[43m        \u001b[49m\u001b[43mprecision\u001b[49m\u001b[43m,\u001b[49m\n\u001b[1;32m    174\u001b[0m \u001b[43m        \u001b[49m\u001b[43mscale\u001b[49m\u001b[43m,\u001b[49m\n\u001b[1;32m    175\u001b[0m \u001b[43m        \u001b[49m\u001b[43my\u001b[49m\u001b[38;5;241;43m.\u001b[39;49m\u001b[43mswapaxes\u001b[49m\u001b[43m(\u001b[49m\u001b[38;5;241;43m-\u001b[39;49m\u001b[38;5;241;43m1\u001b[39;49m\u001b[43m,\u001b[49m\u001b[43m \u001b[49m\u001b[43maxis\u001b[49m\u001b[43m)\u001b[49m\u001b[43m,\u001b[49m\n\u001b[1;32m    176\u001b[0m \u001b[43m    \u001b[49m\u001b[43m)\u001b[49m\n\u001b[1;32m    178\u001b[0m \u001b[38;5;28;01mreturn\u001b[39;00m y\n",
      "File \u001b[0;32m~/venvs/global/lib/python3.9/site-packages/numba/np/ufunc/gufunc.py:192\u001b[0m, in \u001b[0;36mGUFunc.__call__\u001b[0;34m(self, *args, **kwargs)\u001b[0m\n\u001b[1;32m    190\u001b[0m     \u001b[38;5;28mself\u001b[39m\u001b[38;5;241m.\u001b[39madd(sig)\n\u001b[1;32m    191\u001b[0m     \u001b[38;5;28mself\u001b[39m\u001b[38;5;241m.\u001b[39mbuild_ufunc()\n\u001b[0;32m--> 192\u001b[0m \u001b[38;5;28;01mreturn\u001b[39;00m \u001b[38;5;28;43mself\u001b[39;49m\u001b[38;5;241;43m.\u001b[39;49m\u001b[43mufunc\u001b[49m\u001b[43m(\u001b[49m\u001b[38;5;241;43m*\u001b[39;49m\u001b[43margs\u001b[49m\u001b[43m,\u001b[49m\u001b[43m \u001b[49m\u001b[38;5;241;43m*\u001b[39;49m\u001b[38;5;241;43m*\u001b[39;49m\u001b[43mkwargs\u001b[49m\u001b[43m)\u001b[49m\n",
      "\u001b[0;31mKeyboardInterrupt\u001b[0m: "
     ]
    }
   ],
   "source": [
    "agumented_train_data = []\n",
    "agumented_train_label = [] \n",
    "\n",
    "for i,path in tqdm(enumerate(X_train)):\n",
    "    agumented_train_data.extend(generate_augmented_data(path))\n",
    "    agumented_train_label.extend([y_train[i] for j in range(9)])\n",
    "agumented_train_label = np.array(agumented_train_label)\n",
    "np.save(\"./agumented_train_label.npy\",agumented_train_label)"
   ]
  },
  {
   "cell_type": "code",
   "execution_count": 9,
   "metadata": {
    "id": "41vU8M1gO_sD"
   },
   "outputs": [
    {
     "data": {
      "text/plain": [
       "(14400, 14400)"
      ]
     },
     "execution_count": 9,
     "metadata": {},
     "output_type": "execute_result"
    }
   ],
   "source": [
    "len(agumented_train_data),len(agumented_train_label)"
   ]
  },
  {
   "cell_type": "code",
   "execution_count": 10,
   "metadata": {},
   "outputs": [
    {
     "name": "stderr",
     "output_type": "stream",
     "text": [
      "100%|██████████████████████████████████████████████████████████████████████████████████████████████████████████████████████████████████████| 400/400 [00:04<00:00, 86.51it/s]\n"
     ]
    }
   ],
   "source": [
    "test_data = []\n",
    "for path in tqdm(X_test):\n",
    "    test_data.append(load_wav(path,get_duration=False))"
   ]
  },
  {
   "cell_type": "code",
   "execution_count": 11,
   "metadata": {},
   "outputs": [
    {
     "data": {
      "text/plain": [
       "400"
      ]
     },
     "execution_count": 11,
     "metadata": {},
     "output_type": "execute_result"
    }
   ],
   "source": [
    "len(test_data)"
   ]
  },
  {
   "cell_type": "code",
   "execution_count": 11,
   "metadata": {},
   "outputs": [],
   "source": [
    "from tensorflow.keras.layers import Input, LSTM, Dense\n",
    "from tensorflow.keras.models import Model\n",
    "import tensorflow as tf"
   ]
  },
  {
   "cell_type": "code",
   "execution_count": 12,
   "metadata": {},
   "outputs": [],
   "source": [
    "from sklearn.metrics import f1_score\n",
    "\n",
    "class F1ScoreCB(tf.keras.callbacks.Callback):\n",
    "    def __init__(self, train_data, test_data):\n",
    "        super().__init__()\n",
    "        self.train_data = train_data\n",
    "        self.test_data = test_data\n",
    "        self.history = {}\n",
    "        self.history['val_f1_score'] = []\n",
    "  \n",
    "    def on_epoch_end(self, epochs, logs = {}):\n",
    "        train_preds = np.argmax(self.model.predict(self.train_data[0]), axis = -1)\n",
    "        train_f1_score = f1_score(self.train_data[1], train_preds, average='micro')\n",
    "        train_f1_score = np.round(train_f1_score, 4)\n",
    "\n",
    "        test_preds = np.argmax(self.model.predict(self.test_data[0]), axis = -1)\n",
    "        test_f1_score = f1_score(self.test_data[1], test_preds, average='micro')\n",
    "        test_f1_score = np.round(test_f1_score, 4)\n",
    "        self.history['val_f1_score'].append(test_f1_score)\n",
    "\n",
    "        print(f\"train_f1_score: {train_f1_score} - val_f1_score: {test_f1_score}\")\n",
    "        print(\"########### EPOCH ENDED ##########\")"
   ]
  },
  {
   "cell_type": "code",
   "execution_count": 13,
   "metadata": {},
   "outputs": [],
   "source": [
    "max_length = 17640\n",
    "X_train_pad_seq_m3 = tf.keras.utils.pad_sequences(agumented_train_data, maxlen = max_length, padding = 'post', \n",
    "                                                  dtype = 'float32', truncating = 'post')\n",
    "X_test_pad_seq_m3 = tf.keras.utils.pad_sequences(test_data, maxlen = max_length, padding = 'post', \n",
    "                                                 dtype = 'float32', truncating = 'post')\n",
    "\n",
    "# This step can be Masking layer by tf.keras.layers.Masking\n",
    "\n",
    "X_train_mask_m3 = X_train_pad_seq_m3 != 0 \n",
    "X_test_mask_m3 = X_test_pad_seq_m3 != 0"
   ]
  },
  {
   "cell_type": "code",
   "execution_count": 19,
   "metadata": {},
   "outputs": [],
   "source": [
    "np.save('./X_train_pad_seq_m3.npy',X_train_pad_seq_m3)\n",
    "np.save('./X_test_pad_seq_m3.npy',X_test_pad_seq_m3)\n",
    "np.save('./X_train_mask_m3.npy',X_train_mask_m3)\n",
    "np.save('./X_test_mask_m3.npy',X_test_mask_m3)"
   ]
  },
  {
   "cell_type": "code",
   "execution_count": 18,
   "metadata": {},
   "outputs": [
    {
     "data": {
      "text/plain": [
       "(numpy.ndarray, numpy.ndarray)"
      ]
     },
     "execution_count": 18,
     "metadata": {},
     "output_type": "execute_result"
    }
   ],
   "source": [
    "type(X_train_mask_m3),type(X_train_pad_seq_m3)"
   ]
  },
  {
   "cell_type": "code",
   "execution_count": 17,
   "metadata": {},
   "outputs": [
    {
     "data": {
      "text/plain": [
       "((14400, 17640), (14400, 17640))"
      ]
     },
     "execution_count": 17,
     "metadata": {},
     "output_type": "execute_result"
    }
   ],
   "source": [
    "X_train_mask_m3.shape,X_train_mask_m3.shape"
   ]
  },
  {
   "cell_type": "code",
   "execution_count": 18,
   "metadata": {},
   "outputs": [
    {
     "data": {
      "text/plain": [
       "array([8, 2, 7, 3, 9, 1, 9, 3, 3, 7])"
      ]
     },
     "execution_count": 18,
     "metadata": {},
     "output_type": "execute_result"
    }
   ],
   "source": [
    "y_train[:10]"
   ]
  },
  {
   "cell_type": "code",
   "execution_count": 13,
   "metadata": {},
   "outputs": [],
   "source": [
    "X_train_pad_seq_m3 = np.load('./X_train_pad_seq_m3.npy')\n",
    "X_test_pad_seq_m3 = np.load('X_test_pad_seq_m3.npy')\n",
    "X_train_mask_m3 = np.load('X_train_mask_m3.npy')\n",
    "X_test_mask_m3 = np.load('X_test_mask_m3.npy')\n",
    "agumented_train_label = np.load('agumented_train_label.npy')"
   ]
  },
  {
   "cell_type": "code",
   "execution_count": 14,
   "metadata": {},
   "outputs": [
    {
     "name": "stderr",
     "output_type": "stream",
     "text": [
      "2022-10-28 20:39:00.440792: I tensorflow/core/platform/cpu_feature_guard.cc:193] This TensorFlow binary is optimized with oneAPI Deep Neural Network Library (oneDNN) to use the following CPU instructions in performance-critical operations:  AVX2 FMA\n",
      "To enable them in other operations, rebuild TensorFlow with the appropriate compiler flags.\n",
      "2022-10-28 20:39:01.064845: I tensorflow/core/common_runtime/gpu/gpu_device.cc:1532] Created device /job:localhost/replica:0/task:0/device:GPU:0 with 9651 MB memory:  -> device: 0, name: NVIDIA GeForce RTX 2080 Ti, pci bus id: 0000:82:00.0, compute capability: 7.5\n"
     ]
    },
    {
     "name": "stdout",
     "output_type": "stream",
     "text": [
      "Model: \"model\"\n",
      "__________________________________________________________________________________________________\n",
      " Layer (type)                   Output Shape         Param #     Connected to                     \n",
      "==================================================================================================\n",
      " Input_sequence_layer (InputLay  [(None, 17640, 1)]  0           []                               \n",
      " er)                                                                                              \n",
      "                                                                                                  \n",
      " Input_mask_layer (InputLayer)  [(None, 17640)]      0           []                               \n",
      "                                                                                                  \n",
      " lstm (LSTM)                    (None, 100)          40800       ['Input_sequence_layer[0][0]',   \n",
      "                                                                  'Input_mask_layer[0][0]']       \n",
      "                                                                                                  \n",
      " Flatten (Flatten)              (None, 100)          0           ['lstm[0][0]']                   \n",
      "                                                                                                  \n",
      " dense (Dense)                  (None, 10)           1010        ['Flatten[0][0]']                \n",
      "                                                                                                  \n",
      "==================================================================================================\n",
      "Total params: 41,810\n",
      "Trainable params: 41,810\n",
      "Non-trainable params: 0\n",
      "__________________________________________________________________________________________________\n"
     ]
    }
   ],
   "source": [
    "max_length = 17640\n",
    "input_layer_m3 = Input(shape=(max_length,1,) ,name = \"Input_sequence_layer\")\n",
    "input_mask_layer_m3 = Input(shape=(max_length,),dtype='bool', name = 'Input_mask_layer')\n",
    "lstm_layer_m3 = LSTM(units = 100)(input_layer_m3,mask = input_mask_layer_m3)\n",
    "flatten_m3 = tf.keras.layers.Flatten(name='Flatten')(lstm_layer_m3)\n",
    "output_m3 = Dense(10,activation = 'softmax')(flatten_m3)\n",
    "\n",
    "model_3 = Model([input_layer_m3,input_mask_layer_m3],output_m3)\n",
    "model_3.summary()"
   ]
  },
  {
   "cell_type": "code",
   "execution_count": 15,
   "metadata": {},
   "outputs": [
    {
     "name": "stdout",
     "output_type": "stream",
     "text": [
      "Epoch 1/5\n"
     ]
    },
    {
     "name": "stderr",
     "output_type": "stream",
     "text": [
      "2022-10-28 20:39:10.758364: W tensorflow/core/common_runtime/forward_type_inference.cc:231] Type inference failed. This indicates an invalid graph that escaped type checking. Error message: INVALID_ARGUMENT: expected compatible input types, but input 1:\n",
      "type_id: TFT_OPTIONAL\n",
      "args {\n",
      "  type_id: TFT_PRODUCT\n",
      "  args {\n",
      "    type_id: TFT_TENSOR\n",
      "    args {\n",
      "      type_id: TFT_LEGACY_VARIANT\n",
      "    }\n",
      "  }\n",
      "}\n",
      " is neither a subtype nor a supertype of the combined inputs preceding it:\n",
      "type_id: TFT_OPTIONAL\n",
      "args {\n",
      "  type_id: TFT_PRODUCT\n",
      "  args {\n",
      "    type_id: TFT_TENSOR\n",
      "    args {\n",
      "      type_id: TFT_FLOAT\n",
      "    }\n",
      "  }\n",
      "}\n",
      "\n",
      "\twhile inferring type of node 'cond_19/output/_23'\n",
      "2022-10-28 20:39:11.800798: I tensorflow/stream_executor/cuda/cuda_dnn.cc:384] Loaded cuDNN version 8400\n"
     ]
    },
    {
     "name": "stdout",
     "output_type": "stream",
     "text": [
      "450/450 [==============================] - 70s 154ms/step\n",
      "13/13 [==============================] - 3s 155ms/step\n",
      "train_f1_score: 0.3333 - val_f1_score: 0.1\n",
      "########### EPOCH ENDED ##########\n",
      "900/900 [==============================] - 428s 470ms/step - loss: 1.7039 - val_loss: 4.8370\n",
      "Epoch 2/5\n",
      "450/450 [==============================] - 70s 156ms/step\n",
      "13/13 [==============================] - 2s 149ms/step\n",
      "train_f1_score: 0.3333 - val_f1_score: 0.1\n",
      "########### EPOCH ENDED ##########\n",
      "900/900 [==============================] - 421s 468ms/step - loss: 1.6834 - val_loss: 5.1045\n",
      "Epoch 3/5\n",
      "450/450 [==============================] - 70s 155ms/step\n",
      "13/13 [==============================] - 2s 149ms/step\n",
      "train_f1_score: 0.3333 - val_f1_score: 0.1\n",
      "########### EPOCH ENDED ##########\n",
      "900/900 [==============================] - 421s 468ms/step - loss: 1.6827 - val_loss: 5.3023\n",
      "Epoch 4/5\n",
      " 24/900 [..............................] - ETA: 5:46 - loss: 1.6546"
     ]
    },
    {
     "ename": "KeyboardInterrupt",
     "evalue": "",
     "output_type": "error",
     "traceback": [
      "\u001b[0;31m---------------------------------------------------------------------------\u001b[0m",
      "\u001b[0;31mKeyboardInterrupt\u001b[0m                         Traceback (most recent call last)",
      "Input \u001b[0;32mIn [15]\u001b[0m, in \u001b[0;36m<cell line: 3>\u001b[0;34m()\u001b[0m\n\u001b[1;32m      1\u001b[0m model_3\u001b[38;5;241m.\u001b[39mcompile(optimizer \u001b[38;5;241m=\u001b[39m tf\u001b[38;5;241m.\u001b[39mkeras\u001b[38;5;241m.\u001b[39moptimizers\u001b[38;5;241m.\u001b[39mAdam(\u001b[38;5;241m0.001\u001b[39m), loss \u001b[38;5;241m=\u001b[39m \u001b[38;5;124m'\u001b[39m\u001b[38;5;124msparse_categorical_crossentropy\u001b[39m\u001b[38;5;124m'\u001b[39m)\n\u001b[0;32m----> 3\u001b[0m \u001b[43mmodel_3\u001b[49m\u001b[38;5;241;43m.\u001b[39;49m\u001b[43mfit\u001b[49m\u001b[43m(\u001b[49m\u001b[43m[\u001b[49m\u001b[43mX_train_pad_seq_m3\u001b[49m\u001b[43m,\u001b[49m\u001b[43m \u001b[49m\u001b[43mX_train_mask_m3\u001b[49m\u001b[43m]\u001b[49m\u001b[43m,\u001b[49m\u001b[43m \u001b[49m\u001b[43magumented_train_label\u001b[49m\u001b[43m,\u001b[49m\n\u001b[1;32m      4\u001b[0m \u001b[43m           \u001b[49m\u001b[43mvalidation_data\u001b[49m\u001b[43m \u001b[49m\u001b[38;5;241;43m=\u001b[39;49m\u001b[43m \u001b[49m\u001b[43m(\u001b[49m\u001b[43m[\u001b[49m\u001b[43mX_test_pad_seq_m3\u001b[49m\u001b[43m,\u001b[49m\u001b[43m \u001b[49m\u001b[43mX_test_mask_m3\u001b[49m\u001b[43m]\u001b[49m\u001b[43m,\u001b[49m\u001b[43m \u001b[49m\u001b[43my_test\u001b[49m\u001b[43m)\u001b[49m\u001b[43m,\u001b[49m\n\u001b[1;32m      5\u001b[0m \u001b[43m           \u001b[49m\u001b[43mbatch_size\u001b[49m\u001b[43m \u001b[49m\u001b[38;5;241;43m=\u001b[39;49m\u001b[43m \u001b[49m\u001b[38;5;241;43m16\u001b[39;49m\u001b[43m,\u001b[49m\u001b[43m \u001b[49m\u001b[43mepochs\u001b[49m\u001b[43m \u001b[49m\u001b[38;5;241;43m=\u001b[39;49m\u001b[43m \u001b[49m\u001b[38;5;241;43m5\u001b[39;49m\u001b[43m,\u001b[49m\n\u001b[1;32m      6\u001b[0m \u001b[43m           \u001b[49m\u001b[43mcallbacks\u001b[49m\u001b[43m \u001b[49m\u001b[38;5;241;43m=\u001b[39;49m\u001b[43m \u001b[49m\u001b[43m[\u001b[49m\u001b[43mF1ScoreCB\u001b[49m\u001b[43m(\u001b[49m\u001b[43m(\u001b[49m\u001b[43m[\u001b[49m\u001b[43mX_train_pad_seq_m3\u001b[49m\u001b[43m,\u001b[49m\u001b[43m \u001b[49m\u001b[43mX_train_mask_m3\u001b[49m\u001b[43m]\u001b[49m\u001b[43m,\u001b[49m\u001b[43m \u001b[49m\u001b[43magumented_train_label\u001b[49m\u001b[43m)\u001b[49m\u001b[43m,\u001b[49m\u001b[43m \u001b[49m\u001b[43m(\u001b[49m\u001b[43m[\u001b[49m\u001b[43mX_test_pad_seq_m3\u001b[49m\u001b[43m,\u001b[49m\u001b[43m \u001b[49m\u001b[43mX_test_mask_m3\u001b[49m\u001b[43m]\u001b[49m\u001b[43m,\u001b[49m\u001b[43m \u001b[49m\u001b[43my_test\u001b[49m\u001b[43m)\u001b[49m\u001b[43m)\u001b[49m\u001b[43m]\u001b[49m\n\u001b[1;32m      7\u001b[0m \u001b[43m           \u001b[49m\u001b[43m)\u001b[49m\n",
      "File \u001b[0;32m~/venvs/global/lib/python3.9/site-packages/keras/utils/traceback_utils.py:64\u001b[0m, in \u001b[0;36mfilter_traceback.<locals>.error_handler\u001b[0;34m(*args, **kwargs)\u001b[0m\n\u001b[1;32m     62\u001b[0m filtered_tb \u001b[38;5;241m=\u001b[39m \u001b[38;5;28;01mNone\u001b[39;00m\n\u001b[1;32m     63\u001b[0m \u001b[38;5;28;01mtry\u001b[39;00m:\n\u001b[0;32m---> 64\u001b[0m   \u001b[38;5;28;01mreturn\u001b[39;00m \u001b[43mfn\u001b[49m\u001b[43m(\u001b[49m\u001b[38;5;241;43m*\u001b[39;49m\u001b[43margs\u001b[49m\u001b[43m,\u001b[49m\u001b[43m \u001b[49m\u001b[38;5;241;43m*\u001b[39;49m\u001b[38;5;241;43m*\u001b[39;49m\u001b[43mkwargs\u001b[49m\u001b[43m)\u001b[49m\n\u001b[1;32m     65\u001b[0m \u001b[38;5;28;01mexcept\u001b[39;00m \u001b[38;5;167;01mException\u001b[39;00m \u001b[38;5;28;01mas\u001b[39;00m e:  \u001b[38;5;66;03m# pylint: disable=broad-except\u001b[39;00m\n\u001b[1;32m     66\u001b[0m   filtered_tb \u001b[38;5;241m=\u001b[39m _process_traceback_frames(e\u001b[38;5;241m.\u001b[39m__traceback__)\n",
      "File \u001b[0;32m~/venvs/global/lib/python3.9/site-packages/keras/engine/training.py:1409\u001b[0m, in \u001b[0;36mModel.fit\u001b[0;34m(self, x, y, batch_size, epochs, verbose, callbacks, validation_split, validation_data, shuffle, class_weight, sample_weight, initial_epoch, steps_per_epoch, validation_steps, validation_batch_size, validation_freq, max_queue_size, workers, use_multiprocessing)\u001b[0m\n\u001b[1;32m   1402\u001b[0m \u001b[38;5;28;01mwith\u001b[39;00m tf\u001b[38;5;241m.\u001b[39mprofiler\u001b[38;5;241m.\u001b[39mexperimental\u001b[38;5;241m.\u001b[39mTrace(\n\u001b[1;32m   1403\u001b[0m     \u001b[38;5;124m'\u001b[39m\u001b[38;5;124mtrain\u001b[39m\u001b[38;5;124m'\u001b[39m,\n\u001b[1;32m   1404\u001b[0m     epoch_num\u001b[38;5;241m=\u001b[39mepoch,\n\u001b[1;32m   1405\u001b[0m     step_num\u001b[38;5;241m=\u001b[39mstep,\n\u001b[1;32m   1406\u001b[0m     batch_size\u001b[38;5;241m=\u001b[39mbatch_size,\n\u001b[1;32m   1407\u001b[0m     _r\u001b[38;5;241m=\u001b[39m\u001b[38;5;241m1\u001b[39m):\n\u001b[1;32m   1408\u001b[0m   callbacks\u001b[38;5;241m.\u001b[39mon_train_batch_begin(step)\n\u001b[0;32m-> 1409\u001b[0m   tmp_logs \u001b[38;5;241m=\u001b[39m \u001b[38;5;28;43mself\u001b[39;49m\u001b[38;5;241;43m.\u001b[39;49m\u001b[43mtrain_function\u001b[49m\u001b[43m(\u001b[49m\u001b[43miterator\u001b[49m\u001b[43m)\u001b[49m\n\u001b[1;32m   1410\u001b[0m   \u001b[38;5;28;01mif\u001b[39;00m data_handler\u001b[38;5;241m.\u001b[39mshould_sync:\n\u001b[1;32m   1411\u001b[0m     context\u001b[38;5;241m.\u001b[39masync_wait()\n",
      "File \u001b[0;32m~/venvs/global/lib/python3.9/site-packages/tensorflow/python/util/traceback_utils.py:150\u001b[0m, in \u001b[0;36mfilter_traceback.<locals>.error_handler\u001b[0;34m(*args, **kwargs)\u001b[0m\n\u001b[1;32m    148\u001b[0m filtered_tb \u001b[38;5;241m=\u001b[39m \u001b[38;5;28;01mNone\u001b[39;00m\n\u001b[1;32m    149\u001b[0m \u001b[38;5;28;01mtry\u001b[39;00m:\n\u001b[0;32m--> 150\u001b[0m   \u001b[38;5;28;01mreturn\u001b[39;00m \u001b[43mfn\u001b[49m\u001b[43m(\u001b[49m\u001b[38;5;241;43m*\u001b[39;49m\u001b[43margs\u001b[49m\u001b[43m,\u001b[49m\u001b[43m \u001b[49m\u001b[38;5;241;43m*\u001b[39;49m\u001b[38;5;241;43m*\u001b[39;49m\u001b[43mkwargs\u001b[49m\u001b[43m)\u001b[49m\n\u001b[1;32m    151\u001b[0m \u001b[38;5;28;01mexcept\u001b[39;00m \u001b[38;5;167;01mException\u001b[39;00m \u001b[38;5;28;01mas\u001b[39;00m e:\n\u001b[1;32m    152\u001b[0m   filtered_tb \u001b[38;5;241m=\u001b[39m _process_traceback_frames(e\u001b[38;5;241m.\u001b[39m__traceback__)\n",
      "File \u001b[0;32m~/venvs/global/lib/python3.9/site-packages/tensorflow/python/eager/def_function.py:915\u001b[0m, in \u001b[0;36mFunction.__call__\u001b[0;34m(self, *args, **kwds)\u001b[0m\n\u001b[1;32m    912\u001b[0m compiler \u001b[38;5;241m=\u001b[39m \u001b[38;5;124m\"\u001b[39m\u001b[38;5;124mxla\u001b[39m\u001b[38;5;124m\"\u001b[39m \u001b[38;5;28;01mif\u001b[39;00m \u001b[38;5;28mself\u001b[39m\u001b[38;5;241m.\u001b[39m_jit_compile \u001b[38;5;28;01melse\u001b[39;00m \u001b[38;5;124m\"\u001b[39m\u001b[38;5;124mnonXla\u001b[39m\u001b[38;5;124m\"\u001b[39m\n\u001b[1;32m    914\u001b[0m \u001b[38;5;28;01mwith\u001b[39;00m OptionalXlaContext(\u001b[38;5;28mself\u001b[39m\u001b[38;5;241m.\u001b[39m_jit_compile):\n\u001b[0;32m--> 915\u001b[0m   result \u001b[38;5;241m=\u001b[39m \u001b[38;5;28;43mself\u001b[39;49m\u001b[38;5;241;43m.\u001b[39;49m\u001b[43m_call\u001b[49m\u001b[43m(\u001b[49m\u001b[38;5;241;43m*\u001b[39;49m\u001b[43margs\u001b[49m\u001b[43m,\u001b[49m\u001b[43m \u001b[49m\u001b[38;5;241;43m*\u001b[39;49m\u001b[38;5;241;43m*\u001b[39;49m\u001b[43mkwds\u001b[49m\u001b[43m)\u001b[49m\n\u001b[1;32m    917\u001b[0m new_tracing_count \u001b[38;5;241m=\u001b[39m \u001b[38;5;28mself\u001b[39m\u001b[38;5;241m.\u001b[39mexperimental_get_tracing_count()\n\u001b[1;32m    918\u001b[0m without_tracing \u001b[38;5;241m=\u001b[39m (tracing_count \u001b[38;5;241m==\u001b[39m new_tracing_count)\n",
      "File \u001b[0;32m~/venvs/global/lib/python3.9/site-packages/tensorflow/python/eager/def_function.py:947\u001b[0m, in \u001b[0;36mFunction._call\u001b[0;34m(self, *args, **kwds)\u001b[0m\n\u001b[1;32m    944\u001b[0m   \u001b[38;5;28mself\u001b[39m\u001b[38;5;241m.\u001b[39m_lock\u001b[38;5;241m.\u001b[39mrelease()\n\u001b[1;32m    945\u001b[0m   \u001b[38;5;66;03m# In this case we have created variables on the first call, so we run the\u001b[39;00m\n\u001b[1;32m    946\u001b[0m   \u001b[38;5;66;03m# defunned version which is guaranteed to never create variables.\u001b[39;00m\n\u001b[0;32m--> 947\u001b[0m   \u001b[38;5;28;01mreturn\u001b[39;00m \u001b[38;5;28;43mself\u001b[39;49m\u001b[38;5;241;43m.\u001b[39;49m\u001b[43m_stateless_fn\u001b[49m\u001b[43m(\u001b[49m\u001b[38;5;241;43m*\u001b[39;49m\u001b[43margs\u001b[49m\u001b[43m,\u001b[49m\u001b[43m \u001b[49m\u001b[38;5;241;43m*\u001b[39;49m\u001b[38;5;241;43m*\u001b[39;49m\u001b[43mkwds\u001b[49m\u001b[43m)\u001b[49m  \u001b[38;5;66;03m# pylint: disable=not-callable\u001b[39;00m\n\u001b[1;32m    948\u001b[0m \u001b[38;5;28;01melif\u001b[39;00m \u001b[38;5;28mself\u001b[39m\u001b[38;5;241m.\u001b[39m_stateful_fn \u001b[38;5;129;01mis\u001b[39;00m \u001b[38;5;129;01mnot\u001b[39;00m \u001b[38;5;28;01mNone\u001b[39;00m:\n\u001b[1;32m    949\u001b[0m   \u001b[38;5;66;03m# Release the lock early so that multiple threads can perform the call\u001b[39;00m\n\u001b[1;32m    950\u001b[0m   \u001b[38;5;66;03m# in parallel.\u001b[39;00m\n\u001b[1;32m    951\u001b[0m   \u001b[38;5;28mself\u001b[39m\u001b[38;5;241m.\u001b[39m_lock\u001b[38;5;241m.\u001b[39mrelease()\n",
      "File \u001b[0;32m~/venvs/global/lib/python3.9/site-packages/tensorflow/python/eager/function.py:2453\u001b[0m, in \u001b[0;36mFunction.__call__\u001b[0;34m(self, *args, **kwargs)\u001b[0m\n\u001b[1;32m   2450\u001b[0m \u001b[38;5;28;01mwith\u001b[39;00m \u001b[38;5;28mself\u001b[39m\u001b[38;5;241m.\u001b[39m_lock:\n\u001b[1;32m   2451\u001b[0m   (graph_function,\n\u001b[1;32m   2452\u001b[0m    filtered_flat_args) \u001b[38;5;241m=\u001b[39m \u001b[38;5;28mself\u001b[39m\u001b[38;5;241m.\u001b[39m_maybe_define_function(args, kwargs)\n\u001b[0;32m-> 2453\u001b[0m \u001b[38;5;28;01mreturn\u001b[39;00m \u001b[43mgraph_function\u001b[49m\u001b[38;5;241;43m.\u001b[39;49m\u001b[43m_call_flat\u001b[49m\u001b[43m(\u001b[49m\n\u001b[1;32m   2454\u001b[0m \u001b[43m    \u001b[49m\u001b[43mfiltered_flat_args\u001b[49m\u001b[43m,\u001b[49m\u001b[43m \u001b[49m\u001b[43mcaptured_inputs\u001b[49m\u001b[38;5;241;43m=\u001b[39;49m\u001b[43mgraph_function\u001b[49m\u001b[38;5;241;43m.\u001b[39;49m\u001b[43mcaptured_inputs\u001b[49m\u001b[43m)\u001b[49m\n",
      "File \u001b[0;32m~/venvs/global/lib/python3.9/site-packages/tensorflow/python/eager/function.py:1860\u001b[0m, in \u001b[0;36mConcreteFunction._call_flat\u001b[0;34m(self, args, captured_inputs, cancellation_manager)\u001b[0m\n\u001b[1;32m   1856\u001b[0m possible_gradient_type \u001b[38;5;241m=\u001b[39m gradients_util\u001b[38;5;241m.\u001b[39mPossibleTapeGradientTypes(args)\n\u001b[1;32m   1857\u001b[0m \u001b[38;5;28;01mif\u001b[39;00m (possible_gradient_type \u001b[38;5;241m==\u001b[39m gradients_util\u001b[38;5;241m.\u001b[39mPOSSIBLE_GRADIENT_TYPES_NONE\n\u001b[1;32m   1858\u001b[0m     \u001b[38;5;129;01mand\u001b[39;00m executing_eagerly):\n\u001b[1;32m   1859\u001b[0m   \u001b[38;5;66;03m# No tape is watching; skip to running the function.\u001b[39;00m\n\u001b[0;32m-> 1860\u001b[0m   \u001b[38;5;28;01mreturn\u001b[39;00m \u001b[38;5;28mself\u001b[39m\u001b[38;5;241m.\u001b[39m_build_call_outputs(\u001b[38;5;28;43mself\u001b[39;49m\u001b[38;5;241;43m.\u001b[39;49m\u001b[43m_inference_function\u001b[49m\u001b[38;5;241;43m.\u001b[39;49m\u001b[43mcall\u001b[49m\u001b[43m(\u001b[49m\n\u001b[1;32m   1861\u001b[0m \u001b[43m      \u001b[49m\u001b[43mctx\u001b[49m\u001b[43m,\u001b[49m\u001b[43m \u001b[49m\u001b[43margs\u001b[49m\u001b[43m,\u001b[49m\u001b[43m \u001b[49m\u001b[43mcancellation_manager\u001b[49m\u001b[38;5;241;43m=\u001b[39;49m\u001b[43mcancellation_manager\u001b[49m\u001b[43m)\u001b[49m)\n\u001b[1;32m   1862\u001b[0m forward_backward \u001b[38;5;241m=\u001b[39m \u001b[38;5;28mself\u001b[39m\u001b[38;5;241m.\u001b[39m_select_forward_and_backward_functions(\n\u001b[1;32m   1863\u001b[0m     args,\n\u001b[1;32m   1864\u001b[0m     possible_gradient_type,\n\u001b[1;32m   1865\u001b[0m     executing_eagerly)\n\u001b[1;32m   1866\u001b[0m forward_function, args_with_tangents \u001b[38;5;241m=\u001b[39m forward_backward\u001b[38;5;241m.\u001b[39mforward()\n",
      "File \u001b[0;32m~/venvs/global/lib/python3.9/site-packages/tensorflow/python/eager/function.py:497\u001b[0m, in \u001b[0;36m_EagerDefinedFunction.call\u001b[0;34m(self, ctx, args, cancellation_manager)\u001b[0m\n\u001b[1;32m    495\u001b[0m \u001b[38;5;28;01mwith\u001b[39;00m _InterpolateFunctionError(\u001b[38;5;28mself\u001b[39m):\n\u001b[1;32m    496\u001b[0m   \u001b[38;5;28;01mif\u001b[39;00m cancellation_manager \u001b[38;5;129;01mis\u001b[39;00m \u001b[38;5;28;01mNone\u001b[39;00m:\n\u001b[0;32m--> 497\u001b[0m     outputs \u001b[38;5;241m=\u001b[39m \u001b[43mexecute\u001b[49m\u001b[38;5;241;43m.\u001b[39;49m\u001b[43mexecute\u001b[49m\u001b[43m(\u001b[49m\n\u001b[1;32m    498\u001b[0m \u001b[43m        \u001b[49m\u001b[38;5;28;43mstr\u001b[39;49m\u001b[43m(\u001b[49m\u001b[38;5;28;43mself\u001b[39;49m\u001b[38;5;241;43m.\u001b[39;49m\u001b[43msignature\u001b[49m\u001b[38;5;241;43m.\u001b[39;49m\u001b[43mname\u001b[49m\u001b[43m)\u001b[49m\u001b[43m,\u001b[49m\n\u001b[1;32m    499\u001b[0m \u001b[43m        \u001b[49m\u001b[43mnum_outputs\u001b[49m\u001b[38;5;241;43m=\u001b[39;49m\u001b[38;5;28;43mself\u001b[39;49m\u001b[38;5;241;43m.\u001b[39;49m\u001b[43m_num_outputs\u001b[49m\u001b[43m,\u001b[49m\n\u001b[1;32m    500\u001b[0m \u001b[43m        \u001b[49m\u001b[43minputs\u001b[49m\u001b[38;5;241;43m=\u001b[39;49m\u001b[43margs\u001b[49m\u001b[43m,\u001b[49m\n\u001b[1;32m    501\u001b[0m \u001b[43m        \u001b[49m\u001b[43mattrs\u001b[49m\u001b[38;5;241;43m=\u001b[39;49m\u001b[43mattrs\u001b[49m\u001b[43m,\u001b[49m\n\u001b[1;32m    502\u001b[0m \u001b[43m        \u001b[49m\u001b[43mctx\u001b[49m\u001b[38;5;241;43m=\u001b[39;49m\u001b[43mctx\u001b[49m\u001b[43m)\u001b[49m\n\u001b[1;32m    503\u001b[0m   \u001b[38;5;28;01melse\u001b[39;00m:\n\u001b[1;32m    504\u001b[0m     outputs \u001b[38;5;241m=\u001b[39m execute\u001b[38;5;241m.\u001b[39mexecute_with_cancellation(\n\u001b[1;32m    505\u001b[0m         \u001b[38;5;28mstr\u001b[39m(\u001b[38;5;28mself\u001b[39m\u001b[38;5;241m.\u001b[39msignature\u001b[38;5;241m.\u001b[39mname),\n\u001b[1;32m    506\u001b[0m         num_outputs\u001b[38;5;241m=\u001b[39m\u001b[38;5;28mself\u001b[39m\u001b[38;5;241m.\u001b[39m_num_outputs,\n\u001b[0;32m   (...)\u001b[0m\n\u001b[1;32m    509\u001b[0m         ctx\u001b[38;5;241m=\u001b[39mctx,\n\u001b[1;32m    510\u001b[0m         cancellation_manager\u001b[38;5;241m=\u001b[39mcancellation_manager)\n",
      "File \u001b[0;32m~/venvs/global/lib/python3.9/site-packages/tensorflow/python/eager/execute.py:54\u001b[0m, in \u001b[0;36mquick_execute\u001b[0;34m(op_name, num_outputs, inputs, attrs, ctx, name)\u001b[0m\n\u001b[1;32m     52\u001b[0m \u001b[38;5;28;01mtry\u001b[39;00m:\n\u001b[1;32m     53\u001b[0m   ctx\u001b[38;5;241m.\u001b[39mensure_initialized()\n\u001b[0;32m---> 54\u001b[0m   tensors \u001b[38;5;241m=\u001b[39m \u001b[43mpywrap_tfe\u001b[49m\u001b[38;5;241;43m.\u001b[39;49m\u001b[43mTFE_Py_Execute\u001b[49m\u001b[43m(\u001b[49m\u001b[43mctx\u001b[49m\u001b[38;5;241;43m.\u001b[39;49m\u001b[43m_handle\u001b[49m\u001b[43m,\u001b[49m\u001b[43m \u001b[49m\u001b[43mdevice_name\u001b[49m\u001b[43m,\u001b[49m\u001b[43m \u001b[49m\u001b[43mop_name\u001b[49m\u001b[43m,\u001b[49m\n\u001b[1;32m     55\u001b[0m \u001b[43m                                      \u001b[49m\u001b[43minputs\u001b[49m\u001b[43m,\u001b[49m\u001b[43m \u001b[49m\u001b[43mattrs\u001b[49m\u001b[43m,\u001b[49m\u001b[43m \u001b[49m\u001b[43mnum_outputs\u001b[49m\u001b[43m)\u001b[49m\n\u001b[1;32m     56\u001b[0m \u001b[38;5;28;01mexcept\u001b[39;00m core\u001b[38;5;241m.\u001b[39m_NotOkStatusException \u001b[38;5;28;01mas\u001b[39;00m e:\n\u001b[1;32m     57\u001b[0m   \u001b[38;5;28;01mif\u001b[39;00m name \u001b[38;5;129;01mis\u001b[39;00m \u001b[38;5;129;01mnot\u001b[39;00m \u001b[38;5;28;01mNone\u001b[39;00m:\n",
      "\u001b[0;31mKeyboardInterrupt\u001b[0m: "
     ]
    }
   ],
   "source": [
    "model_3.compile(optimizer = tf.keras.optimizers.Adam(0.0001), loss = 'sparse_categorical_crossentropy')\n",
    "\n",
    "model_3.fit([X_train_pad_seq_m3, X_train_mask_m3], agumented_train_label,\n",
    "           validation_data = ([X_test_pad_seq_m3, X_test_mask_m3], y_test),\n",
    "           batch_size = 256, epochs = 5,\n",
    "           callbacks = [F1ScoreCB(([X_train_pad_seq_m3, X_train_mask_m3], agumented_train_label), ([X_test_pad_seq_m3, X_test_mask_m3], y_test))]\n",
    "           )"
   ]
  },
  {
   "cell_type": "markdown",
   "metadata": {
    "id": "vXY9uP7cO_sE"
   },
   "source": [
    "### 4. Data augmentation with spectogram data"
   ]
  },
  {
   "cell_type": "markdown",
   "metadata": {
    "id": "EShBfiERO_sE"
   },
   "source": [
    "1. use convert_to_spectrogram and convert the padded data from train and test data to spectogram data.\n",
    "2. The shape of train data will be 14400 x 64 x 35 and shape of test_data will be 400 x 64 x35\n",
    "3. Define the model similar to model 2 and fit the data"
   ]
  },
  {
   "cell_type": "code",
   "execution_count": 16,
   "metadata": {},
   "outputs": [],
   "source": [
    "from sklearn.model_selection import train_test_split\n",
    "X_train, X_test, y_train, y_test=train_test_split(df_audio['path'],df_audio['label'].to_numpy(dtype='int'),\n",
    "                                                  random_state=45,test_size=0.2,stratify=df_audio['label'])\n",
    "\n",
    "X_train_pad_seq_m3 = np.load('./X_train_pad_seq_m3.npy')\n",
    "X_test_pad_seq_m3 = np.load('X_test_pad_seq_m3.npy')\n",
    "agumented_train_label = np.load('agumented_train_label.npy')"
   ]
  },
  {
   "cell_type": "code",
   "execution_count": 17,
   "metadata": {},
   "outputs": [],
   "source": [
    "def convert_to_spectrogram(raw_data):\n",
    "    '''converting to spectrogram'''\n",
    "    spectrum = librosa.feature.melspectrogram(y=raw_data, sr=sample_rate, n_mels=64)\n",
    "    logmel_spectrum = librosa.power_to_db(S=spectrum, ref=np.max)\n",
    "    return logmel_spectrum"
   ]
  },
  {
   "cell_type": "code",
   "execution_count": 18,
   "metadata": {
    "id": "QpVMCEW3O_sE"
   },
   "outputs": [
    {
     "name": "stderr",
     "output_type": "stream",
     "text": [
      "100%|█████████████████████████████████████████████████████████████████████████████████████████████████████████████████████████████████| 14400/14400 [01:33<00:00, 153.79it/s]\n",
      "100%|██████████████████████████████████████████████████████████████████████████████████████████████████████████████████████████████████████| 400/400 [00:04<00:00, 87.42it/s]\n"
     ]
    }
   ],
   "source": [
    "X_train_spectrogram_m4 = np.array([ convert_to_spectrogram(x) for x in tqdm(X_train_pad_seq_m3)])\n",
    "X_test_spectrogram_m4 = np.array([ convert_to_spectrogram(x) for x in tqdm(X_test_pad_seq_m3)])"
   ]
  },
  {
   "cell_type": "code",
   "execution_count": 19,
   "metadata": {
    "id": "40RMwgJ6O_sE"
   },
   "outputs": [
    {
     "name": "stdout",
     "output_type": "stream",
     "text": [
      "Model: \"model_1\"\n",
      "_________________________________________________________________\n",
      " Layer (type)                Output Shape              Param #   \n",
      "=================================================================\n",
      " Input_spectogram_M4 (InputL  [(None, 64, 35)]         0         \n",
      " ayer)                                                           \n",
      "                                                                 \n",
      " LSTM_M4 (LSTM)              (None, 64, 256)           299008    \n",
      "                                                                 \n",
      " tf.math.reduce_mean (TFOpLa  (None, 64)               0         \n",
      " mbda)                                                           \n",
      "                                                                 \n",
      " Flatten_M4 (Flatten)        (None, 64)                0         \n",
      "                                                                 \n",
      " dense_1 (Dense)             (None, 256)               16640     \n",
      "                                                                 \n",
      " dense_2 (Dense)             (None, 10)                2570      \n",
      "                                                                 \n",
      "=================================================================\n",
      "Total params: 318,218\n",
      "Trainable params: 318,218\n",
      "Non-trainable params: 0\n",
      "_________________________________________________________________\n"
     ]
    }
   ],
   "source": [
    "input_layer_m4 = Input(shape=(64,35,),name=\"Input_spectogram_M4\")\n",
    "lstm_layer_m4 = LSTM(units = 256,return_sequences = True,name=\"LSTM_M4\")(input_layer_m4)\n",
    "avg_pooled_m4 = tf.reduce_mean(lstm_layer_m4 ,axis=-1)\n",
    "flatten_m4 = tf.keras.layers.Flatten(name='Flatten_M4')(avg_pooled_m4)\n",
    "dense_layer_m4 = Dense(256,activation='relu')(flatten_m4)\n",
    "output_m4 = Dense(10,activation = 'softmax')(dense_layer_m4)\n",
    "model_4 = Model(input_layer_m4,output_m4)\n",
    "model_4.summary()"
   ]
  },
  {
   "cell_type": "code",
   "execution_count": 20,
   "metadata": {},
   "outputs": [
    {
     "name": "stdout",
     "output_type": "stream",
     "text": [
      "Epoch 1/50\n",
      "450/450 [==============================] - 2s 4ms/step\n",
      "13/13 [==============================] - 0s 4ms/step\n",
      "train_f1_score: 0.3333 - val_f1_score: 0.1\n",
      "########### EPOCH ENDED ##########\n",
      "57/57 [==============================] - 6s 75ms/step - loss: 2.0625 - val_loss: 2.5443\n",
      "Epoch 2/50\n",
      "450/450 [==============================] - 2s 4ms/step\n",
      "13/13 [==============================] - 0s 4ms/step\n",
      "train_f1_score: 0.3333 - val_f1_score: 0.1\n",
      "########### EPOCH ENDED ##########\n",
      "57/57 [==============================] - 3s 52ms/step - loss: 1.7622 - val_loss: 2.8723\n",
      "Epoch 3/50\n",
      "450/450 [==============================] - 2s 3ms/step\n",
      "13/13 [==============================] - 0s 4ms/step\n",
      "train_f1_score: 0.3333 - val_f1_score: 0.1\n",
      "########### EPOCH ENDED ##########\n",
      "57/57 [==============================] - 3s 50ms/step - loss: 1.6843 - val_loss: 3.0809\n",
      "Epoch 4/50\n",
      "450/450 [==============================] - 2s 4ms/step\n",
      "13/13 [==============================] - 0s 4ms/step\n",
      "train_f1_score: 0.3333 - val_f1_score: 0.1\n",
      "########### EPOCH ENDED ##########\n",
      "57/57 [==============================] - 3s 52ms/step - loss: 1.6405 - val_loss: 3.2420\n",
      "Epoch 4: early stopping\n"
     ]
    },
    {
     "data": {
      "text/plain": [
       "<keras.callbacks.History at 0x15163c5feb50>"
      ]
     },
     "execution_count": 20,
     "metadata": {},
     "output_type": "execute_result"
    }
   ],
   "source": [
    "model_4.compile(optimizer = tf.keras.optimizers.Adam(0.0001), loss = 'sparse_categorical_crossentropy')\n",
    "early_stop = tf.keras.callbacks.EarlyStopping(monitor='val_loss', min_delta=0.05, patience=3, verbose=1)\n",
    "\n",
    "model_4.fit(X_train_spectrogram_m4, agumented_train_label,\n",
    "           validation_data = (X_test_spectrogram_m4, y_test),\n",
    "           batch_size = 256, epochs = 50,\n",
    "            callbacks = [F1ScoreCB((X_train_spectrogram_m4, agumented_train_label), (X_test_spectrogram_m4, y_test)),early_stop]\n",
    "          )"
   ]
  },
  {
   "cell_type": "code",
   "execution_count": null,
   "metadata": {},
   "outputs": [],
   "source": []
  }
 ],
 "metadata": {
  "colab": {
   "collapsed_sections": [],
   "name": "Speech detection Assignment.ipynb",
   "provenance": []
  },
  "kernelspec": {
   "display_name": "Python 3 (ipykernel)",
   "language": "python",
   "name": "python3"
  },
  "language_info": {
   "codemirror_mode": {
    "name": "ipython",
    "version": 3
   },
   "file_extension": ".py",
   "mimetype": "text/x-python",
   "name": "python",
   "nbconvert_exporter": "python",
   "pygments_lexer": "ipython3",
   "version": "3.9.0"
  }
 },
 "nbformat": 4,
 "nbformat_minor": 4
}
