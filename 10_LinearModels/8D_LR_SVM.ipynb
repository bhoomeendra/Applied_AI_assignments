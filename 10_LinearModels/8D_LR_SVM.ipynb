{
 "cells": [
  {
   "cell_type": "markdown",
   "metadata": {
    "colab_type": "text",
    "id": "86Tvnj5UblTy"
   },
   "source": [
    "## Task-D: Collinear features and their effect on linear models"
   ]
  },
  {
   "cell_type": "code",
   "execution_count": 9,
   "metadata": {
    "colab": {},
    "colab_type": "code",
    "id": "qn_eOn2EblT3"
   },
   "outputs": [],
   "source": [
    "%matplotlib inline\n",
    "import warnings\n",
    "warnings.filterwarnings(\"ignore\")\n",
    "import pandas as pd\n",
    "import numpy as np\n",
    "from sklearn.datasets import load_iris\n",
    "from sklearn.linear_model import SGDClassifier\n",
    "from sklearn.model_selection import GridSearchCV\n",
    "import seaborn as sns\n",
    "import matplotlib.pyplot as plt\n",
    "from sklearn.model_selection import train_test_split\n",
    "from sklearn.metrics import accuracy_score"
   ]
  },
  {
   "cell_type": "code",
   "execution_count": 10,
   "metadata": {
    "colab": {},
    "colab_type": "code",
    "id": "VMoYWIayblUB"
   },
   "outputs": [],
   "source": [
    "data = pd.read_csv('task_d.csv')"
   ]
  },
  {
   "cell_type": "code",
   "execution_count": 11,
   "metadata": {
    "colab": {},
    "colab_type": "code",
    "id": "RfStXG4tblUI",
    "outputId": "ddf4eec6-7f53-4d28-914f-23133957d6d5"
   },
   "outputs": [
    {
     "data": {
      "text/html": [
       "<div>\n",
       "<style scoped>\n",
       "    .dataframe tbody tr th:only-of-type {\n",
       "        vertical-align: middle;\n",
       "    }\n",
       "\n",
       "    .dataframe tbody tr th {\n",
       "        vertical-align: top;\n",
       "    }\n",
       "\n",
       "    .dataframe thead th {\n",
       "        text-align: right;\n",
       "    }\n",
       "</style>\n",
       "<table border=\"1\" class=\"dataframe\">\n",
       "  <thead>\n",
       "    <tr style=\"text-align: right;\">\n",
       "      <th></th>\n",
       "      <th>x</th>\n",
       "      <th>y</th>\n",
       "      <th>z</th>\n",
       "      <th>x*x</th>\n",
       "      <th>2*y</th>\n",
       "      <th>2*z+3*x*x</th>\n",
       "      <th>w</th>\n",
       "      <th>target</th>\n",
       "    </tr>\n",
       "  </thead>\n",
       "  <tbody>\n",
       "    <tr>\n",
       "      <th>0</th>\n",
       "      <td>-0.581066</td>\n",
       "      <td>0.841837</td>\n",
       "      <td>-1.012978</td>\n",
       "      <td>-0.604025</td>\n",
       "      <td>0.841837</td>\n",
       "      <td>-0.665927</td>\n",
       "      <td>-0.536277</td>\n",
       "      <td>0</td>\n",
       "    </tr>\n",
       "    <tr>\n",
       "      <th>1</th>\n",
       "      <td>-0.894309</td>\n",
       "      <td>-0.207835</td>\n",
       "      <td>-1.012978</td>\n",
       "      <td>-0.883052</td>\n",
       "      <td>-0.207835</td>\n",
       "      <td>-0.917054</td>\n",
       "      <td>-0.522364</td>\n",
       "      <td>0</td>\n",
       "    </tr>\n",
       "    <tr>\n",
       "      <th>2</th>\n",
       "      <td>-1.207552</td>\n",
       "      <td>0.212034</td>\n",
       "      <td>-1.082312</td>\n",
       "      <td>-1.150918</td>\n",
       "      <td>0.212034</td>\n",
       "      <td>-1.166507</td>\n",
       "      <td>0.205738</td>\n",
       "      <td>0</td>\n",
       "    </tr>\n",
       "    <tr>\n",
       "      <th>3</th>\n",
       "      <td>-1.364174</td>\n",
       "      <td>0.002099</td>\n",
       "      <td>-0.943643</td>\n",
       "      <td>-1.280666</td>\n",
       "      <td>0.002099</td>\n",
       "      <td>-1.266540</td>\n",
       "      <td>-0.665720</td>\n",
       "      <td>0</td>\n",
       "    </tr>\n",
       "    <tr>\n",
       "      <th>4</th>\n",
       "      <td>-0.737687</td>\n",
       "      <td>1.051772</td>\n",
       "      <td>-1.012978</td>\n",
       "      <td>-0.744934</td>\n",
       "      <td>1.051772</td>\n",
       "      <td>-0.792746</td>\n",
       "      <td>-0.735054</td>\n",
       "      <td>0</td>\n",
       "    </tr>\n",
       "  </tbody>\n",
       "</table>\n",
       "</div>"
      ],
      "text/plain": [
       "          x         y         z       x*x       2*y  2*z+3*x*x         w  \\\n",
       "0 -0.581066  0.841837 -1.012978 -0.604025  0.841837  -0.665927 -0.536277   \n",
       "1 -0.894309 -0.207835 -1.012978 -0.883052 -0.207835  -0.917054 -0.522364   \n",
       "2 -1.207552  0.212034 -1.082312 -1.150918  0.212034  -1.166507  0.205738   \n",
       "3 -1.364174  0.002099 -0.943643 -1.280666  0.002099  -1.266540 -0.665720   \n",
       "4 -0.737687  1.051772 -1.012978 -0.744934  1.051772  -0.792746 -0.735054   \n",
       "\n",
       "   target  \n",
       "0       0  \n",
       "1       0  \n",
       "2       0  \n",
       "3       0  \n",
       "4       0  "
      ]
     },
     "execution_count": 11,
     "metadata": {},
     "output_type": "execute_result"
    }
   ],
   "source": [
    "data.head()"
   ]
  },
  {
   "cell_type": "code",
   "execution_count": 20,
   "metadata": {},
   "outputs": [
    {
     "data": {
      "text/plain": [
       "x            0.728290\n",
       "y           -0.690684\n",
       "z            0.969990\n",
       "x*x          0.719570\n",
       "2*y         -0.690684\n",
       "2*z+3*x*x    0.764729\n",
       "w            0.641750\n",
       "target       1.000000\n",
       "Name: target, dtype: float64"
      ]
     },
     "execution_count": 20,
     "metadata": {},
     "output_type": "execute_result"
    }
   ],
   "source": [
    "data.corr()['target']"
   ]
  },
  {
   "cell_type": "code",
   "execution_count": 12,
   "metadata": {
    "colab": {},
    "colab_type": "code",
    "id": "JIIuomCkblUP"
   },
   "outputs": [],
   "source": [
    "X = data.drop(['target'], axis=1)\n",
    "Y = data['target'].values"
   ]
  },
  {
   "cell_type": "markdown",
   "metadata": {
    "colab_type": "text",
    "id": "Ydm98u3EblUU"
   },
   "source": [
    "### Doing perturbation test to check the presence of collinearity  \n",
    "\n",
    "#### Task: 1 Logistic Regression\n",
    "<pre>\n",
    "\n",
    "\n",
    "1. <b>Finding the Correlation between the features</b>\n",
    "    a. check the correlation between the features\n",
    "    b. plot heat map of correlation matrix using seaborn heatmap\n",
    "2. <b>Finding the best model for the given data</b>\n",
    "    a. Train Logistic regression on data(X,Y) that we have created in the above cell\n",
    "    b. Find the best hyper prameter alpha with hyper parameter tuning using k-fold cross validation (grid search CV or         \n",
    "    random search CV make sure you choose the alpha in log space)\n",
    "    c. Creat a new Logistic regression with the best alpha\n",
    "    (search for how to get the best hyper parameter value), name the best model as 'best_model'\n",
    "    \n",
    "3. <b>Getting the weights with the original data</b>\n",
    "    a. train the 'best_model' with X, Y\n",
    "    b. Check the accuracy of the model 'best_model_accuracy'\n",
    "    c. Get the weights W using best_model.coef_\n",
    "\n",
    "4. <b>Modifying original data</b>\n",
    "    a. Add a noise(order of 10^-2) to each element of X \n",
    "    and get the new data set X' (X' = X + e)\n",
    "    b. Train the same 'best_model' with data (X', Y)\n",
    "    c. Check the accuracy of the model 'best_model_accuracy_edited'\n",
    "    d. Get the weights W' using best_model.coef_\n",
    "    \n",
    "5. <b> Checking deviations in metric and weights </b>\n",
    "    a. find the difference between 'best_model_accuracy_edited' and 'best_model_accuracy'\n",
    "    b. find the absolute change between each value of W and W' ==> |(W-W')|\n",
    "    c. print the top 4 features which have higher % change in weights \n",
    "    compare to the other feature\n",
    "\n",
    "</pre>\n",
    "\n",
    "#### Task: 2 Linear SVM\n",
    "\n",
    "<pre>\n",
    "1. Do the same steps (2, 3, 4, 5) we have done in the above task 1.\n",
    "</pre>\n",
    "\n",
    "<strong><font color='red'>Do write the observations based on the results you get from the deviations of weights in both Logistic Regression and linear SVM</font></strong>"
   ]
  },
  {
   "cell_type": "code",
   "execution_count": 13,
   "metadata": {},
   "outputs": [],
   "source": [
    "X_train,X_test,y_train,y_test = train_test_split(X.values,Y,test_size=0.33,stratify=Y)"
   ]
  },
  {
   "cell_type": "code",
   "execution_count": 14,
   "metadata": {},
   "outputs": [],
   "source": [
    "noisy_X= X + np.random.random_integers(1,9,(100,7))*(10**-2)"
   ]
  },
  {
   "cell_type": "code",
   "execution_count": 15,
   "metadata": {},
   "outputs": [],
   "source": [
    "nX_train,nX_test,ny_train,ny_test = train_test_split(noisy_X.values,Y,test_size=0.33,stratify=Y)"
   ]
  },
  {
   "cell_type": "code",
   "execution_count": 33,
   "metadata": {},
   "outputs": [],
   "source": [
    "def allSteps(hp_space,loss_function):\n",
    "    print(\"Started Grid Search\")\n",
    "    model = SGDClassifier(loss=loss_function)\n",
    "    gs = GridSearchCV(model,n_jobs=10,param_grid=hp_space,scoring='roc_auc',cv=10,return_train_score=True)\n",
    "    gs.fit(X_train,y_train)\n",
    "    print(\"The best parameter aplha is : \",gs.best_params_)\n",
    "    print(40*\"#*\")\n",
    "    best_model = SGDClassifier(loss=loss_function,alpha=gs.best_params_[\"alpha\"])\n",
    "    best_model.fit(X_train,y_train)\n",
    "    w = best_model.coef_\n",
    "    acc = accuracy_score(y_test,best_model.predict(X_test))\n",
    "    print(f\"The accuracy score for the best model is {acc}\")\n",
    "    print(f\"weights are : {w[0]}\")\n",
    "    print(20*\"#*\")\n",
    "    print(\"Noise added\")\n",
    "    best_model.fit(nX_train,ny_train)\n",
    "    w_ = best_model.coef_\n",
    "    acc_ = accuracy_score(ny_test,best_model.predict(nX_test))\n",
    "    print(f\"The accuracy score for the best model is {acc_}\")\n",
    "    print(f\"weights are : {w_[0]}\")\n",
    "    print(20*\"#*\")\n",
    "    print(f\"The deviations in the weights are {np.abs(w-w_)[0]}\")\n",
    "    print(f\"The difference in accuracy {acc - acc_}\")\n",
    "    print(20*\"#*\")\n",
    "    print(\"Top 4 features\")\n",
    "    mpa = []\n",
    "    for idx,val in enumerate(np.abs(w-w_)[0]):\n",
    "        mpa.append([idx,val])\n",
    "    mpa.sort(key=lambda x:x[1],reverse=True) \n",
    "    print(data.columns[[i for i,val in mpa[:4] ]])\n",
    "    return w,w_"
   ]
  },
  {
   "cell_type": "markdown",
   "metadata": {
    "colab": {},
    "colab_type": "code",
    "id": "Lai8wXU1pmSb"
   },
   "source": [
    "### 1. Finding the Correlation between the features"
   ]
  },
  {
   "cell_type": "code",
   "execution_count": 34,
   "metadata": {},
   "outputs": [
    {
     "data": {
      "text/plain": [
       "<AxesSubplot:>"
      ]
     },
     "execution_count": 34,
     "metadata": {},
     "output_type": "execute_result"
    },
    {
     "data": {
      "image/png": "[encoded data removed]",
      "text/plain": [
       "<Figure size 1080x1080 with 2 Axes>"
      ]
     },
     "metadata": {
      "needs_background": "light"
     },
     "output_type": "display_data"
    }
   ],
   "source": [
    "fig ,ax = plt.subplots(figsize=(15, 15))\n",
    "sns.heatmap(X.corr(), cmap=\"YlGnBu\", annot=True,ax=ax)"
   ]
  },
  {
   "cell_type": "code",
   "execution_count": 35,
   "metadata": {},
   "outputs": [
    {
     "name": "stdout",
     "output_type": "stream",
     "text": [
      "Started Grid Search\n",
      "The best parameter aplha is :  {'alpha': 1e-05}\n",
      "#*#*#*#*#*#*#*#*#*#*#*#*#*#*#*#*#*#*#*#*#*#*#*#*#*#*#*#*#*#*#*#*#*#*#*#*#*#*#*#*\n",
      "The accuracy score for the best model is 1.0\n",
      "weights are : [ 24.2533602  -13.7570868   18.32110779  25.31650642 -13.7570868\n",
      "  24.99703719   6.73528049]\n",
      "#*#*#*#*#*#*#*#*#*#*#*#*#*#*#*#*#*#*#*#*\n",
      "Noise added\n",
      "The accuracy score for the best model is 1.0\n",
      "weights are : [ 7.54856476 -7.55719319 13.06062542  7.65345841 -7.43824644  8.0233286\n",
      " -1.64722487]\n",
      "#*#*#*#*#*#*#*#*#*#*#*#*#*#*#*#*#*#*#*#*\n",
      "The deviations in the weights are [16.70479543  6.19989361  5.26048238 17.66304802  6.31884036 16.97370859\n",
      "  8.38250536]\n",
      "The difference in accuracy 0.0\n",
      "#*#*#*#*#*#*#*#*#*#*#*#*#*#*#*#*#*#*#*#*\n",
      "Top 4 features\n",
      "Index(['x*x', '2*z+3*x*x', 'x', 'w'], dtype='object')\n"
     ]
    }
   ],
   "source": [
    "w,w_ = allSteps({\"alpha\":[ 0.00001,0.0001,0.001,0.01,0.1]},\"log_loss\")"
   ]
  },
  {
   "cell_type": "code",
   "execution_count": 36,
   "metadata": {},
   "outputs": [
    {
     "name": "stdout",
     "output_type": "stream",
     "text": [
      "Started Grid Search\n",
      "The best parameter aplha is :  {'alpha': 1e-05}\n",
      "#*#*#*#*#*#*#*#*#*#*#*#*#*#*#*#*#*#*#*#*#*#*#*#*#*#*#*#*#*#*#*#*#*#*#*#*#*#*#*#*\n",
      "The accuracy score for the best model is 0.9696969696969697\n",
      "weights are : [  3.31682936 -24.09033399  38.00563572   3.25341984 -24.09033399\n",
      "   7.51661084  30.48188466]\n",
      "#*#*#*#*#*#*#*#*#*#*#*#*#*#*#*#*#*#*#*#*\n",
      "Noise added\n",
      "The accuracy score for the best model is 1.0\n",
      "weights are : [ 27.95471003 -24.2889635   31.38898206  25.10590578 -23.3039704\n",
      "  25.17318367  19.33546934]\n",
      "#*#*#*#*#*#*#*#*#*#*#*#*#*#*#*#*#*#*#*#*\n",
      "The deviations in the weights are [24.63788066  0.19862951  6.61665367 21.85248594  0.78636358 17.65657283\n",
      " 11.14641532]\n",
      "The difference in accuracy -0.030303030303030276\n",
      "#*#*#*#*#*#*#*#*#*#*#*#*#*#*#*#*#*#*#*#*\n",
      "Top 4 features\n",
      "Index(['x', 'x*x', '2*z+3*x*x', 'w'], dtype='object')\n"
     ]
    }
   ],
   "source": [
    "w,w_ = allSteps({\"alpha\":[ 0.00001,0.0001,0.001,0.01,0.1]},\"hinge\")"
   ]
  },
  {
   "cell_type": "markdown",
   "metadata": {},
   "source": [
    "# Observation\n",
    "When noise was add the accuracy of both __logistic regression and SVM__ increased also for both the case<br> "
   ]
  },
  {
   "cell_type": "code",
   "execution_count": null,
   "metadata": {},
   "outputs": [],
   "source": []
  }
 ],
 "metadata": {
  "colab": {
   "name": "8D_LR_SVM.ipynb",
   "provenance": []
  },
  "kernelspec": {
   "display_name": "Python 3 (ipykernel)",
   "language": "python",
   "name": "python3"
  },
  "language_info": {
   "codemirror_mode": {
    "name": "ipython",
    "version": 3
   },
   "file_extension": ".py",
   "mimetype": "text/x-python",
   "name": "python",
   "nbconvert_exporter": "python",
   "pygments_lexer": "ipython3",
   "version": "3.9.12"
  }
 },
 "nbformat": 4,
 "nbformat_minor": 4
}
