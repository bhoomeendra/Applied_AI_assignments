{
 "cells": [
  {
   "cell_type": "markdown",
   "metadata": {
    "id": "h9464I-uxLiw"
   },
   "source": [
    "# Assignment"
   ]
  },
  {
   "cell_type": "markdown",
   "metadata": {},
   "source": [
    "#### __What does tf-idf do ?__\n",
    "\n",
    "TF-IDF converts a document to a vector each vector has a lenght which is equal to the lenght of the vocublary and each element of that vector is the product of the TF(Term Frequency) * IDF (Inverse Document Frequency).\n",
    "\n",
    "\n",
    "Important thing to keep in mind is that TF is document dependent but IDF is calculated over all the documents (corpus). "
   ]
  },
  {
   "cell_type": "markdown",
   "metadata": {
    "id": "IvLvmewlxLix"
   },
   "source": [
    "<font face='georgia'>\n",
    "    \n",
    "   <h4><strong>What does tf-idf mean?</strong></h4>\n",
    "\n",
    "   <p>    \n",
    "Tf-idf stands for <em>term frequency-inverse document frequency</em>, and the tf-idf weight is a weight often used in information retrieval and text mining. This weight is a statistical measure used to evaluate how important a word is to a document in a collection or corpus. The importance increases proportionally to the number of times a word appears in the document but is offset by the frequency of the word in the corpus. Variations of the tf-idf weighting scheme are often used by search engines as a central tool in scoring and ranking a document's relevance given a user query.\n",
    "</p>\n",
    "    \n",
    "   <p>\n",
    "One of the simplest ranking functions is computed by summing the tf-idf for each query term; many more sophisticated ranking functions are variants of this simple model.\n",
    "</p>\n",
    "    \n",
    "   <p>\n",
    "Tf-idf can be successfully used for stop-words filtering in various subject fields including text summarization and classification.\n",
    "</p>\n",
    "    \n",
    "</font>"
   ]
  },
  {
   "cell_type": "markdown",
   "metadata": {
    "id": "4XLaGFUMxLiy"
   },
   "source": [
    "<font face='georgia'>\n",
    "    <h4><strong>How to Compute:</strong></h4>\n",
    "\n",
    "Typically, the tf-idf weight is composed by two terms: the first computes the normalized Term Frequency (TF), aka. the number of times a word appears in a document, divided by the total number of words in that document; the second term is the Inverse Document Frequency (IDF), computed as the logarithm of the number of the documents in the corpus divided by the number of documents where the specific term appears.\n",
    "\n",
    " <ul>\n",
    "    <li>\n",
    "<strong>TF:</strong> Term Frequency, which measures how frequently a term occurs in a document. Since every document is different in length, it is possible that a term would appear much more times in long documents than shorter ones. Thus, the term frequency is often divided by the document length (aka. the total number of terms in the document) as a way of normalization: <br>\n",
    "\n",
    "$TF(t) = \\frac{\\text{Number of times term t appears in a document}}{\\text{Total number of terms in the document}}.$\n",
    "</li>\n",
    "<li>\n",
    "<strong>IDF:</strong> Inverse Document Frequency, which measures how important a term is. While computing TF, all terms are considered equally important. However it is known that certain terms, such as \"is\", \"of\", and \"that\", may appear a lot of times but have little importance. Thus we need to weigh down the frequent terms while scale up the rare ones, by computing the following: <br>\n",
    "\n",
    "$IDF(t) = \\log_{e}\\frac{\\text{Total  number of documents}} {\\text{Number of documents with term t in it}}.$\n",
    "for numerical stabiltiy we will be changing this formula little bit\n",
    "$IDF(t) = \\log_{e}\\frac{\\text{Total  number of documents}} {\\text{Number of documents with term t in it}+1}.$\n",
    "</li>\n",
    "</ul>\n",
    "\n",
    "<br>\n",
    "<h4><strong>Example</strong></h4>\n",
    "<p>\n",
    "\n",
    "Consider a document containing 100 words wherein the word cat appears 3 times. The term frequency (i.e., tf) for cat is then (3 / 100) = 0.03. Now, assume we have 10 million documents and the word cat appears in one thousand of these. Then, the inverse document frequency (i.e., idf) is calculated as log(10,000,000 / 1,000) = 4. Thus, the Tf-idf weight is the product of these quantities: 0.03 * 4 = 0.12.\n",
    "</p>\n",
    "</font>"
   ]
  },
  {
   "cell_type": "markdown",
   "metadata": {
    "id": "dg2ooa4DxLiz"
   },
   "source": [
    "## Task-1"
   ]
  },
  {
   "cell_type": "markdown",
   "metadata": {
    "id": "TAcTjhO8xLiz"
   },
   "source": [
    "<font face='georgia'>\n",
    "    <h4><strong>1. Build a TFIDF Vectorizer & compare its results with Sklearn:</strong></h4>\n",
    "\n",
    "<ul>\n",
    "    <li> As a part of this task you will be implementing TFIDF vectorizer on a collection of text documents.</li>\n",
    "    <br>\n",
    "    <li> You should compare the results of your own implementation of TFIDF vectorizer with that of sklearns implemenation TFIDF vectorizer.</li>\n",
    "    <br>\n",
    "    <li> Sklearn does few more tweaks in the implementation of its version of TFIDF vectorizer, so to replicate the exact results you would need to add following things to your custom implementation of tfidf vectorizer:\n",
    "       <ol>\n",
    "        <li> Sklearn has its vocabulary generated from idf sroted in alphabetical order</li>\n",
    "        <li> Sklearn formula of idf is different from the standard textbook formula. Here the constant <strong>\"1\"</strong> is added to the numerator and denominator of the idf as if an extra document was seen containing every term in the collection exactly once, which prevents zero divisions.\n",
    "            \n",
    " $IDF(t) = 1+\\log_{e}\\frac{1\\text{ }+\\text{ Total  number of documents in collection}} {1+\\text{Number of documents with term t in it}}.$\n",
    "        </li>\n",
    "        <li> Sklearn applies L2-normalization on its output matrix.</li>\n",
    "        <li> The final output of sklearn tfidf vectorizer is a sparse matrix.</li>\n",
    "    </ol>\n",
    "    <br>\n",
    "    <li>Steps to approach this task:\n",
    "    <ol>\n",
    "        <li> You would have to write both fit and transform methods for your custom implementation of tfidf vectorizer.</li>\n",
    "        <li> Print out the alphabetically sorted voacb after you fit your data and check if its the same as that of the feature names from sklearn tfidf vectorizer. </li>\n",
    "        <li> Print out the idf values from your implementation and check if its the same as that of sklearns tfidf vectorizer idf values. </li>\n",
    "        <li> Once you get your voacb and idf values to be same as that of sklearns implementation of tfidf vectorizer, proceed to the below steps. </li>\n",
    "        <li> Make sure the output of your implementation is a sparse matrix. Before generating the final output, you need to normalize your sparse matrix using L2 normalization. You can refer to this link https://scikit-learn.org/stable/modules/generated/sklearn.preprocessing.normalize.html </li>\n",
    "        <li> After completing the above steps, print the output of your custom implementation and compare it with sklearns implementation of tfidf vectorizer.</li>\n",
    "        <li> To check the output of a single document in your collection of documents,  you can convert the sparse matrix related only to that document into dense matrix and print it.</li>\n",
    "        </ol>\n",
    "    </li>\n",
    "    <br>\n",
    "   </ul>\n",
    "\n",
    "  <p> <font color=\"#e60000\"><strong>Note-1: </strong></font> All the necessary outputs of sklearns tfidf vectorizer have been provided as reference in this notebook, you can compare your outputs as mentioned in the above steps, with these outputs.<br>\n",
    "   <font color=\"#e60000\"><strong>Note-2: </strong></font> The output of your custom implementation and that of sklearns implementation would match only with the collection of document strings provided to you as reference in this notebook. It would not match for strings that contain capital letters or punctuations, etc, because sklearn version of tfidf vectorizer deals with such strings in a different way. To know further details about how sklearn tfidf vectorizer works with such string, you can always refer to its official documentation.<br>\n",
    "   <font color=\"#e60000\"><strong>Note-3: </strong></font> During this task, it would be helpful for you to debug the code you write with print statements wherever necessary. But when you are finally submitting the assignment, make sure your code is readable and try not to print things which are not part of this task.\n",
    "    </p>"
   ]
  },
  {
   "cell_type": "markdown",
   "metadata": {
    "id": "OnV82tg1xLi0"
   },
   "source": [
    "### Corpus"
   ]
  },
  {
   "cell_type": "code",
   "execution_count": 1,
   "metadata": {
    "id": "bUsYm9wjxLi1"
   },
   "outputs": [],
   "source": [
    "## SkLearn# Collection of string documents\n",
    "\n",
    "corpus = [\n",
    "     'this is the first document',\n",
    "     'this document is the second document',\n",
    "     'and this is the third one',\n",
    "     'is this the first document',\n",
    "]"
   ]
  },
  {
   "cell_type": "markdown",
   "metadata": {
    "id": "eLwmFZfKxLi4"
   },
   "source": [
    "### SkLearn Implementation"
   ]
  },
  {
   "cell_type": "code",
   "execution_count": 2,
   "metadata": {
    "id": "Np4dfQOkxLi4"
   },
   "outputs": [],
   "source": [
    "from sklearn.feature_extraction.text import TfidfVectorizer\n",
    "vectorizer = TfidfVectorizer()\n",
    "vectorizer.fit(corpus)\n",
    "skl_output = vectorizer.transform(corpus)"
   ]
  },
  {
   "cell_type": "code",
   "execution_count": 3,
   "metadata": {
    "id": "-7Om8YpYxLi6",
    "outputId": "0a3bd0f5-4424-4400-944f-4482a80bd799"
   },
   "outputs": [
    {
     "name": "stdout",
     "output_type": "stream",
     "text": [
      "['and' 'document' 'first' 'is' 'one' 'second' 'the' 'third' 'this']\n"
     ]
    }
   ],
   "source": [
    "# sklearn feature names, they are sorted in alphabetic order by default.\n",
    "\n",
    "print(vectorizer.get_feature_names_out())"
   ]
  },
  {
   "cell_type": "code",
   "execution_count": 4,
   "metadata": {
    "id": "dTKplK96xLi-",
    "outputId": "53722fa2-6756-4aa0-f179-37b578bb6890"
   },
   "outputs": [
    {
     "name": "stdout",
     "output_type": "stream",
     "text": [
      "[1.91629073 1.22314355 1.51082562 1.         1.91629073 1.91629073\n",
      " 1.         1.91629073 1.        ]\n"
     ]
    }
   ],
   "source": [
    "# Here we will print the sklearn tfidf vectorizer idf values after applying the fit method\n",
    "# After using the fit function on the corpus the vocab has 9 words in it, and each has its idf value.\n",
    "\n",
    "print(vectorizer.idf_)"
   ]
  },
  {
   "cell_type": "code",
   "execution_count": 5,
   "metadata": {
    "id": "-CTiWHygxLjA",
    "outputId": "8d5a9cde-2c29-4afe-f7b4-1547e88dba4f"
   },
   "outputs": [
    {
     "data": {
      "text/plain": [
       "(4, 9)"
      ]
     },
     "execution_count": 5,
     "metadata": {},
     "output_type": "execute_result"
    }
   ],
   "source": [
    "# shape of sklearn tfidf vectorizer output after applying transform method.\n",
    "\n",
    "skl_output.shape"
   ]
  },
  {
   "cell_type": "code",
   "execution_count": 6,
   "metadata": {
    "id": "bDKEpbA-xLjD",
    "outputId": "87dafd65-5313-443f-8c6e-1b05cc8c2543"
   },
   "outputs": [
    {
     "name": "stdout",
     "output_type": "stream",
     "text": [
      "<class 'scipy.sparse.csr.csr_matrix'>\n",
      "  (0, 8)\t0.38408524091481483\n",
      "  (0, 6)\t0.38408524091481483\n",
      "  (0, 3)\t0.38408524091481483\n",
      "  (0, 2)\t0.5802858236844359\n",
      "  (0, 1)\t0.46979138557992045\n"
     ]
    }
   ],
   "source": [
    "# sklearn tfidf values for first line of the above corpus.\n",
    "# Here the output is a sparse matrix\n",
    "print(type(skl_output))\n",
    "print(skl_output[0])"
   ]
  },
  {
   "cell_type": "code",
   "execution_count": 7,
   "metadata": {},
   "outputs": [
    {
     "name": "stdout",
     "output_type": "stream",
     "text": [
      "  (0, 8)\t0.281088674033753\n",
      "  (0, 6)\t0.281088674033753\n",
      "  (0, 5)\t0.5386476208856763\n",
      "  (0, 3)\t0.281088674033753\n",
      "  (0, 1)\t0.6876235979836938\n"
     ]
    }
   ],
   "source": [
    "print(skl_output[1])"
   ]
  },
  {
   "cell_type": "code",
   "execution_count": 8,
   "metadata": {
    "id": "3QWo34hexLjF",
    "outputId": "cdc04e08-989f-4bdc-dd7f-f1c82a9f90be"
   },
   "outputs": [
    {
     "name": "stdout",
     "output_type": "stream",
     "text": [
      "[[0.         0.46979139 0.58028582 0.38408524 0.         0.\n",
      "  0.38408524 0.         0.38408524]\n",
      " [0.         0.6876236  0.         0.28108867 0.         0.53864762\n",
      "  0.28108867 0.         0.28108867]\n",
      " [0.51184851 0.         0.         0.26710379 0.51184851 0.\n",
      "  0.26710379 0.51184851 0.26710379]\n",
      " [0.         0.46979139 0.58028582 0.38408524 0.         0.\n",
      "  0.38408524 0.         0.38408524]]\n"
     ]
    }
   ],
   "source": [
    "# sklearn tfidf values for first line of the above corpus.\n",
    "# To understand the output better, here we are converting the sparse output matrix to dense matrix and printing it.\n",
    "# Notice that this output is normalized using L2 normalization. sklearn does this by default.\n",
    "\n",
    "print(skl_output.toarray())"
   ]
  },
  {
   "cell_type": "markdown",
   "metadata": {
    "id": "qfIwx5LzxLjI"
   },
   "source": [
    "### Your custom implementation"
   ]
  },
  {
   "cell_type": "code",
   "execution_count": 9,
   "metadata": {
    "id": "HjuCcJwXxLjJ"
   },
   "outputs": [],
   "source": [
    "# Write your code here.\n",
    "# Make sure its well documented and readble with appropriate comments.\n",
    "# Compare your results with the above sklearn tfidf vectorizer\n",
    "# You are not supposed to use any other library apart from the ones given below\n",
    "# alphabatical ordeing of imports\n",
    "from collections import Counter\n",
    "from tqdm import tqdm\n",
    "from scipy.sparse import csr_matrix\n",
    "from sklearn.preprocessing import normalize\n",
    "\n",
    "import math\n",
    "import operator\n",
    "import numpy\n",
    "# 2 line space \n",
    "# private variable: a__"
   ]
  },
  {
   "cell_type": "code",
   "execution_count": 10,
   "metadata": {},
   "outputs": [],
   "source": [
    "class TfIdf:\n",
    "    \"\"\"\n",
    "    \n",
    "    methods breif \n",
    "    \"\"\"\n",
    "    \n",
    "    def __init__(self,corpus,top=None,show=False):\n",
    "        self.show = show # Flag to print details of all the step not to be use on big corpus\n",
    "        self.top = top # For selecting top k idf values If none then use all values \n",
    "        self.corpus = corpus # List of docs\n",
    "        self.uniqueWords = None # Alphabetically sorted list of unique words\n",
    "        self.idfMap = None # Word to idf value hastable\n",
    "        self.tfidfVector = None # Sparce Matrix of Vector representation of Docs \n",
    "\n",
    "    \n",
    "    def sortDictAndPickTopK(self,idfMap):\n",
    "        \"\"\"\n",
    "        idfMap: dict\n",
    "        \n",
    "        sorts the dict and pick top K values for it\n",
    "        \n",
    "        \"\"\"\n",
    "        idf = list()\n",
    "        for key,val in idfMap.items():\n",
    "            idf.append([key,val])\n",
    "        sortedIdf = sorted(idf,key = lambda x:x[1],reverse = True)[:self.top]\n",
    "        sorted_idfMap = dict()\n",
    "        new_uniqueWords = list()# Limit unique word to self.top\n",
    "        for key,val in sortedIdf:\n",
    "            sorted_idfMap[key]=val\n",
    "            new_uniqueWords.append(key)\n",
    "        self.idfMap = sorted_idfMap\n",
    "        self.uniqueWords= new_uniqueWords\n",
    "        \n",
    "    \n",
    "    def get_uniqueWords(self):\n",
    "        \"\"\"\n",
    "        Extract Uniuqe Words from the corpus\n",
    "        \"\"\"\n",
    "        uniqueWords = set()\n",
    "        for doc in tqdm(self.corpus,desc = \"Unique Word \"):\n",
    "            for word in doc.split():\n",
    "                uniqueWords.add(word)\n",
    "                \n",
    "        self.uniqueWords = sorted(list(uniqueWords))# Alphabetically sorted\n",
    "        if self.show:\n",
    "            print(\"Unique Words : \\n\",self.uniqueWords,\"\\n\\n\")\n",
    "        return self.uniqueWords\n",
    "\n",
    "    def get_idf(self):\n",
    "        \"\"\"\n",
    "        Calculate idf values\n",
    "        \"\"\"\n",
    "        total_doc = len(self.corpus)# No of docs\n",
    "        idfMap = dict()\n",
    "        self.get_uniqueWords()# fetched all unique words\n",
    "        for uword in tqdm(self.uniqueWords,desc = 'Idf '):\n",
    "            count=0# No of docs which contains the unique word uword\n",
    "            for doc in self.corpus:\n",
    "                if uword in doc.split():\n",
    "                    count+=1\n",
    "            idfMap[uword] = 1 + math.log((1 + total_doc)/(1+count)) # idf value for word (uword)\n",
    "        if self.top is not None:\n",
    "            # sort for top idx values\n",
    "            self.sortDictAndPickTopK(idfMap)\n",
    "            \n",
    "        else:\n",
    "            self.idfMap = idfMap\n",
    "        \n",
    "        if self.show:\n",
    "            print(\"Idf Values in where Words are alphabetically Sorted: \\n \",list(idfMap.values()),\"\\n\\n\")\n",
    "    \n",
    "    def normalize(self,vec,norm):\n",
    "        \"\"\"\n",
    "        vec : Input Vector\n",
    "        norm: Which norm to use\n",
    "        \"\"\"\n",
    "        div = sum([ val**norm for val in vec])**(1.0/norm)\n",
    "        return [val/div for val in vec]\n",
    "    \n",
    "    def fit(self):\n",
    "        #learn idf\n",
    "        self.get_idf()\n",
    "    \n",
    "    def transform(self):\n",
    "        #tranform each doc to vector \n",
    "        row = list()\n",
    "        col = list()\n",
    "        values = list()\n",
    "        \n",
    "        for idxr,doc in tqdm(enumerate(self.corpus),desc=\"Vectorizer\"):\n",
    "            doc_words = doc.split()\n",
    "            word_freq = dict(Counter(doc_words))\n",
    "            if self.show:\n",
    "                print(\"Frequency : \\n\",word_freq)\n",
    "            tempval = list()# list of vectors which are not normalized\n",
    "            for idxc,uword in enumerate(self.uniqueWords):# No efficent \n",
    "                if (uword in doc_words):\n",
    "                    row.append(idxr)\n",
    "                    col.append(idxc)\n",
    "                    tf = word_freq[uword]/len(doc_words) # tf\n",
    "                    tempval.append(self.idfMap[uword]*tf)# tf idf\n",
    "                    \n",
    "                    if self.show:    \n",
    "                        print(\"Uword : \",uword)\n",
    "                        print(\"row : \",idxr)\n",
    "                        print(\"col : \",idxc)\n",
    "                        print(\"tf : \",tf)\n",
    "                        print(\"tfidf : \",self.idfMap[uword]*tf)\n",
    "                    \n",
    "            values.extend(self.normalize(tempval,2))# using norm 2 to normalize\n",
    "        #Creating a sparce Matrix    \n",
    "        self.tfidfVector = csr_matrix((values, (row, col)), shape=(len(self.corpus), len(self.uniqueWords)) )        \n",
    "        \n",
    " "
   ]
  },
  {
   "cell_type": "markdown",
   "metadata": {},
   "source": [
    "__This is equivalent to the above array which we got from skLearn__\n",
    "<br>\n",
    "[1.91629073 ,1.22314355 ,1.51082562 ,1. ,1.91629073 ,1.91629073 ,1. ,1.91629073 ,1.]"
   ]
  },
  {
   "cell_type": "code",
   "execution_count": 11,
   "metadata": {},
   "outputs": [
    {
     "name": "stderr",
     "output_type": "stream",
     "text": [
      "Unique Word : 100%|█████████████████████████████████████████████████████████████████████████████████████████| 4/4 [00:00<00:00, 3443.60it/s]\n",
      "Idf : 100%|█████████████████████████████████████████████████████████████████████████████████████████████████| 9/9 [00:00<00:00, 9378.57it/s]\n",
      "Vectorizer: 4it [00:00, 12865.96it/s]\n"
     ]
    }
   ],
   "source": [
    "tfidf =  TfIdf(corpus,top=None)\n",
    "tfidf.fit()\n",
    "tfidf.transform()     "
   ]
  },
  {
   "cell_type": "code",
   "execution_count": 12,
   "metadata": {},
   "outputs": [
    {
     "name": "stdout",
     "output_type": "stream",
     "text": [
      "[[0.         0.46979139 0.58028582 0.38408524 0.         0.\n",
      "  0.38408524 0.         0.38408524]\n",
      " [0.         0.6876236  0.         0.28108867 0.         0.53864762\n",
      "  0.28108867 0.         0.28108867]\n",
      " [0.51184851 0.         0.         0.26710379 0.51184851 0.\n",
      "  0.26710379 0.51184851 0.26710379]\n",
      " [0.         0.46979139 0.58028582 0.38408524 0.         0.\n",
      "  0.38408524 0.         0.38408524]]\n"
     ]
    }
   ],
   "source": [
    "\n",
    "print(tfidf.tfidfVector.toarray())"
   ]
  },
  {
   "cell_type": "markdown",
   "metadata": {
    "id": "MMxBmVZExLjK"
   },
   "source": [
    "## Task-2"
   ]
  },
  {
   "cell_type": "markdown",
   "metadata": {
    "id": "51j_OtqAxLjL"
   },
   "source": [
    "<font face='georgia'>\n",
    "    <h4><strong>2. Implement max features functionality:</strong></h4>\n",
    "\n",
    "<ul>\n",
    "    <li> As a part of this task you have to modify your fit and transform functions so that your vocab will contain only 50 terms with top idf scores.</li>\n",
    "    <br>\n",
    "    <li>This task is similar to your previous task, just that here your vocabulary is limited to only top 50 features names based on their idf values. Basically your output will have exactly 50 columns and the number of rows will depend on the number of documents you have in your corpus.</li>\n",
    "    <br>\n",
    "    <li>Here you will be give a pickle file, with file name <strong>cleaned_strings</strong>. You would have to load the corpus from this file and use it as input to your tfidf vectorizer.</li>\n",
    "    <br>\n",
    "    <li>Steps to approach this task:\n",
    "    <ol>\n",
    "        <li> You would have to write both fit and transform methods for your custom implementation of tfidf vectorizer, just like in the previous task. Additionally, here you have to limit the number of features generated to 50 as described above.</li>\n",
    "        <li> Now sort your vocab based in descending order of idf values and print out the words in the sorted voacb after you fit your data. Here you should be getting only 50 terms in your vocab. And make sure to print idf values for each term in your vocab. </li>\n",
    "        <li> Make sure the output of your implementation is a sparse matrix. Before generating the final output, you need to normalize your sparse matrix using L2 normalization. You can refer to this link https://scikit-learn.org/stable/modules/generated/sklearn.preprocessing.normalize.html </li>\n",
    "        <li> Now check the output of a single document in your collection of documents,  you can convert the sparse matrix related only to that document into dense matrix and print it. And this dense matrix should contain 1 row and 50 columns. </li>\n",
    "        </ol>\n",
    "    </li>\n",
    "    <br>\n",
    "   </ul>"
   ]
  },
  {
   "cell_type": "code",
   "execution_count": 13,
   "metadata": {
    "id": "NHxPLlwNxLjL",
    "outputId": "9abd8e08-0e24-4975-9a13-4d3636d60323"
   },
   "outputs": [
    {
     "name": "stdout",
     "output_type": "stream",
     "text": [
      "Number of documents in corpus =  746\n"
     ]
    }
   ],
   "source": [
    "# Below is the code to load the cleaned_strings pickle file provided\n",
    "# Here corpus is of list type\n",
    "\n",
    "import pickle\n",
    "with open('cleaned_strings', 'rb') as f:\n",
    "    new_corpus = pickle.load(f)\n",
    "    \n",
    "# printing the length of the corpus loaded\n",
    "print(\"Number of documents in corpus = \",len(new_corpus))"
   ]
  },
  {
   "cell_type": "code",
   "execution_count": 14,
   "metadata": {
    "id": "ZULfoOIdxLjQ"
   },
   "outputs": [],
   "source": [
    "# Write your code here.\n",
    "# Try not to hardcode any values.\n",
    "# Make sure its well documented and readble with appropriate comments."
   ]
  },
  {
   "cell_type": "code",
   "execution_count": 15,
   "metadata": {
    "id": "1_DJnnR3xLjR"
   },
   "outputs": [
    {
     "name": "stderr",
     "output_type": "stream",
     "text": [
      "Unique Word : 100%|███████████████████████████████████████████████████████████████████████████████████| 746/746 [00:00<00:00, 194622.80it/s]\n",
      "Idf : 100%|███████████████████████████████████████████████████████████████████████████████████████████| 2897/2897 [00:01<00:00, 1830.01it/s]\n"
     ]
    }
   ],
   "source": [
    "tfidf =  TfIdf(new_corpus)\n",
    "tfidf.fit() "
   ]
  },
  {
   "cell_type": "code",
   "execution_count": 16,
   "metadata": {},
   "outputs": [
    {
     "name": "stdout",
     "output_type": "stream",
     "text": [
      "The number of unique words in the coupus 2897\n"
     ]
    }
   ],
   "source": [
    "print(f'The number of unique words in the coupus {len(tfidf.uniqueWords)}')"
   ]
  },
  {
   "cell_type": "code",
   "execution_count": 17,
   "metadata": {},
   "outputs": [],
   "source": [
    "import numpy as np\n",
    "tfidfVal = np.array(list(tfidf.idfMap.values()))"
   ]
  },
  {
   "cell_type": "code",
   "execution_count": 18,
   "metadata": {},
   "outputs": [
    {
     "name": "stdout",
     "output_type": "stream",
     "text": [
      "MIN    :  2.7182253851819063 \n",
      "MAX    :  6.922918004572872\n",
      "MEDIAN :  6.922918004572872\n"
     ]
    }
   ],
   "source": [
    "print(\"MIN    : \",np.min(tfidfVal),\"\\nMAX    : \",np.max(tfidfVal))\n",
    "print(\"MEDIAN : \",np.median(tfidfVal))"
   ]
  },
  {
   "cell_type": "markdown",
   "metadata": {},
   "source": [
    "As the Max and Median values are same it is safe to say that atleast 50% of the words are rare "
   ]
  },
  {
   "cell_type": "code",
   "execution_count": 19,
   "metadata": {},
   "outputs": [
    {
     "name": "stderr",
     "output_type": "stream",
     "text": [
      "Vectorizer: 746it [00:00, 1844.57it/s]\n"
     ]
    }
   ],
   "source": [
    "tfidf.transform() "
   ]
  },
  {
   "cell_type": "markdown",
   "metadata": {},
   "source": [
    "#### Dimensions of tf-idf vectors using all vocab"
   ]
  },
  {
   "cell_type": "code",
   "execution_count": 20,
   "metadata": {},
   "outputs": [
    {
     "name": "stdout",
     "output_type": "stream",
     "text": [
      "(746, 2897)\n"
     ]
    }
   ],
   "source": [
    "print(tfidf.tfidfVector.shape)"
   ]
  },
  {
   "cell_type": "markdown",
   "metadata": {},
   "source": [
    "__The Above are vectors when using all the words of the vocab__"
   ]
  },
  {
   "cell_type": "markdown",
   "metadata": {},
   "source": [
    "#### TF-IDF using top only 50 rare words"
   ]
  },
  {
   "cell_type": "code",
   "execution_count": 21,
   "metadata": {},
   "outputs": [
    {
     "name": "stderr",
     "output_type": "stream",
     "text": [
      "Unique Word : 100%|███████████████████████████████████████████████████████████████████████████████████| 746/746 [00:00<00:00, 127780.08it/s]\n",
      "Idf : 100%|███████████████████████████████████████████████████████████████████████████████████████████| 2897/2897 [00:01<00:00, 1877.25it/s]\n"
     ]
    }
   ],
   "source": [
    "tfidf =  TfIdf(new_corpus,top=50)# Now we will use only top 50 \n",
    "tfidf.fit() "
   ]
  },
  {
   "cell_type": "markdown",
   "metadata": {},
   "source": [
    "#### Top 50 IDX values"
   ]
  },
  {
   "cell_type": "code",
   "execution_count": 22,
   "metadata": {},
   "outputs": [
    {
     "name": "stdout",
     "output_type": "stream",
     "text": [
      "1 --> aailiyah IDF Value 6.922918004572872\n",
      "2 --> abandoned IDF Value 6.922918004572872\n",
      "3 --> abroad IDF Value 6.922918004572872\n",
      "4 --> abstruse IDF Value 6.922918004572872\n",
      "5 --> academy IDF Value 6.922918004572872\n",
      "6 --> accents IDF Value 6.922918004572872\n",
      "7 --> accessible IDF Value 6.922918004572872\n",
      "8 --> acclaimed IDF Value 6.922918004572872\n",
      "9 --> accolades IDF Value 6.922918004572872\n",
      "10 --> accurate IDF Value 6.922918004572872\n",
      "11 --> accurately IDF Value 6.922918004572872\n",
      "12 --> achille IDF Value 6.922918004572872\n",
      "13 --> ackerman IDF Value 6.922918004572872\n",
      "14 --> actions IDF Value 6.922918004572872\n",
      "15 --> adams IDF Value 6.922918004572872\n",
      "16 --> add IDF Value 6.922918004572872\n",
      "17 --> added IDF Value 6.922918004572872\n",
      "18 --> admins IDF Value 6.922918004572872\n",
      "19 --> admiration IDF Value 6.922918004572872\n",
      "20 --> admitted IDF Value 6.922918004572872\n",
      "21 --> adrift IDF Value 6.922918004572872\n",
      "22 --> adventure IDF Value 6.922918004572872\n",
      "23 --> aesthetically IDF Value 6.922918004572872\n",
      "24 --> affected IDF Value 6.922918004572872\n",
      "25 --> affleck IDF Value 6.922918004572872\n",
      "26 --> afternoon IDF Value 6.922918004572872\n",
      "27 --> aged IDF Value 6.922918004572872\n",
      "28 --> ages IDF Value 6.922918004572872\n",
      "29 --> agree IDF Value 6.922918004572872\n",
      "30 --> agreed IDF Value 6.922918004572872\n",
      "31 --> aimless IDF Value 6.922918004572872\n",
      "32 --> aired IDF Value 6.922918004572872\n",
      "33 --> akasha IDF Value 6.922918004572872\n",
      "34 --> akin IDF Value 6.922918004572872\n",
      "35 --> alert IDF Value 6.922918004572872\n",
      "36 --> alike IDF Value 6.922918004572872\n",
      "37 --> allison IDF Value 6.922918004572872\n",
      "38 --> allow IDF Value 6.922918004572872\n",
      "39 --> allowing IDF Value 6.922918004572872\n",
      "40 --> alongside IDF Value 6.922918004572872\n",
      "41 --> amateurish IDF Value 6.922918004572872\n",
      "42 --> amaze IDF Value 6.922918004572872\n",
      "43 --> amazed IDF Value 6.922918004572872\n",
      "44 --> amazingly IDF Value 6.922918004572872\n",
      "45 --> amusing IDF Value 6.922918004572872\n",
      "46 --> amust IDF Value 6.922918004572872\n",
      "47 --> anatomist IDF Value 6.922918004572872\n",
      "48 --> angel IDF Value 6.922918004572872\n",
      "49 --> angela IDF Value 6.922918004572872\n",
      "50 --> angelina IDF Value 6.922918004572872\n"
     ]
    }
   ],
   "source": [
    "for idx,word in enumerate(tfidf.idfMap.keys()):\n",
    "    if(idx<50):\n",
    "        print(f\"{idx+1} --> {word} IDF Value {tfidf.idfMap[word]}\")"
   ]
  },
  {
   "cell_type": "code",
   "execution_count": 23,
   "metadata": {},
   "outputs": [
    {
     "name": "stderr",
     "output_type": "stream",
     "text": [
      "Vectorizer: 746it [00:00, 46783.15it/s]\n"
     ]
    }
   ],
   "source": [
    "tfidf.transform() "
   ]
  },
  {
   "cell_type": "markdown",
   "metadata": {},
   "source": [
    "#### Dimensions of tf-idf vectors using top-50 rare words"
   ]
  },
  {
   "cell_type": "code",
   "execution_count": 24,
   "metadata": {},
   "outputs": [
    {
     "name": "stdout",
     "output_type": "stream",
     "text": [
      "(746, 50)\n"
     ]
    }
   ],
   "source": [
    "print(tfidf.tfidfVector.shape)"
   ]
  },
  {
   "cell_type": "markdown",
   "metadata": {},
   "source": [
    "__Why Normalize ?__\n",
    "\n",
    "https://www.quora.com/What-is-the-benefit-of-normalization-in-the-tf-idf-algorithm\n",
    "\n",
    "The impact of having the word ‘cat’ 10 times in document1(with 1000 words) is same as having having the same word ‘cat ‘ 5 times in document2 (with 500 words). If I dont normalise the documents are very distant because lets say we have exactly matching 500 words but the remaning 500 words will make the document vector stracy to much so when I vectorise in the metric space but since I need them to be near , I will normalise.\n",
    "\n",
    "This would make all the vectors independent of the lenght.\n",
    "\n",
    "Benefits of Normalizing in tf-idf algorithm depends on the context.\n",
    "\n",
    "If you are using cosine similarity to find the document similarity and calculating the weightage of vectors using the tf-idf then if does not matter if you normalize or not i.e normalization will have no benefit\n",
    "\n",
    "If you are using euclidean or any other similarity measure then normalization helps in incorporating the document length in your similarity measure which otherwise would not be incorporated."
   ]
  },
  {
   "cell_type": "code",
   "execution_count": null,
   "metadata": {},
   "outputs": [],
   "source": []
  }
 ],
 "metadata": {
  "colab": {
   "collapsed_sections": [],
   "name": "Assignment_3_Instructions.ipynb",
   "provenance": []
  },
  "kernelspec": {
   "display_name": "Python 3 (ipykernel)",
   "language": "python",
   "name": "python3"
  },
  "language_info": {
   "codemirror_mode": {
    "name": "ipython",
    "version": 3
   },
   "file_extension": ".py",
   "mimetype": "text/x-python",
   "name": "python",
   "nbconvert_exporter": "python",
   "pygments_lexer": "ipython3",
   "version": "3.8.10"
  }
 },
 "nbformat": 4,
 "nbformat_minor": 4
}
