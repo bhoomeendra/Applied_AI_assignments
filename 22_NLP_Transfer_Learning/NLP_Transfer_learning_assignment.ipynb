{
 "cells": [
  {
   "cell_type": "markdown",
   "metadata": {
    "id": "5el_8SqFqVAT"
   },
   "source": [
    "\n",
    "In this notebook, You will do amazon review classification with BERT.[Download data from [this](https://www.kaggle.com/snap/amazon-fine-food-reviews/data) link]\n",
    "<pre> \n",
    "It contains 5 parts as below.  Detailed instrctions are given in the each cell. please read every comment we have written. \n",
    "    1. Preprocessing \n",
    "    2. Creating a BERT model from the Tensorflow HUB.\n",
    "    3. Tokenization\n",
    "    4. getting the pretrained embedding Vector for a given review from the BERT.\n",
    "    5. Using the embedding data apply NN and classify the reviews.\n",
    "    6. Creating a Data pipeline for BERT Model. \n",
    "\n",
    "<font size=5>instructions:</font>\n",
    "\n",
    "    1. Don't change any Grader Functions. Don't manipulate any Grader functions. \n",
    "    If you manipulate any, it will be considered as plagiarised. \n",
    "    \n",
    "    2. Please read the instructions on the code cells and markdown cells. We will explain what to write. \n",
    "    \n",
    "    3. please return outputs in the same format what we asked. Eg. Don't return List if we are asking for a numpy array.\n",
    "    \n",
    "    4. Please read the external links that we are given so that you will learn the concept behind the code that you are writing.\n",
    "    \n",
    "    5. We are giving instructions at each section if necessary, please follow them. \n",
    "\n",
    "<font size=5>Every Grader function has to return True. </font>\n",
    "</pre>"
   ]
  },
  {
   "cell_type": "code",
   "execution_count": 1,
   "metadata": {
    "id": "E6JSKPjKwOLP"
   },
   "outputs": [],
   "source": [
    "#in this assignment you need two files reviews.csv and tokenization file\n",
    "#you can use gdown module to import both the files in colab from Google drive\n",
    "#the syntax is for gdown is !gdown --id file_id\n",
    "#please run the below cell to import the required files\n"
   ]
  },
  {
   "cell_type": "code",
   "execution_count": 2,
   "metadata": {
    "colab": {
     "base_uri": "https://localhost:8080/"
    },
    "id": "NUGbEZafwwzX",
    "outputId": "84e65666-ecdd-4616-9d83-bb502ac7ade6"
   },
   "outputs": [],
   "source": [
    "# !gdown --id 1GsD8JlAc_0yJ-1151LNr6rLw83RRUPgt\n",
    "# !gdown --id 13exfXiyiByluh1PfYK1EyZyizqxeCVG9"
   ]
  },
  {
   "cell_type": "code",
   "execution_count": 1,
   "metadata": {
    "id": "wOtG4cf0qVAZ"
   },
   "outputs": [],
   "source": [
    "#all imports\n",
    "import numpy as np\n",
    "import pandas as pd\n",
    "import tensorflow as tf\n",
    "import tensorflow_hub as hub\n",
    "from tensorflow.keras.models import Model"
   ]
  },
  {
   "cell_type": "code",
   "execution_count": 2,
   "metadata": {
    "id": "OcmiHdAJqVAi"
   },
   "outputs": [
    {
     "name": "stderr",
     "output_type": "stream",
     "text": [
      "2022-10-24 10:48:22.554358: I tensorflow/core/platform/cpu_feature_guard.cc:193] This TensorFlow binary is optimized with oneAPI Deep Neural Network Library (oneDNN) to use the following CPU instructions in performance-critical operations:  AVX2 FMA\n",
      "To enable them in other operations, rebuild TensorFlow with the appropriate compiler flags.\n",
      "2022-10-24 10:48:26.710008: I tensorflow/core/common_runtime/gpu/gpu_device.cc:1532] Created device /device:GPU:0 with 9651 MB memory:  -> device: 0, name: NVIDIA GeForce RTX 2080 Ti, pci bus id: 0000:03:00.0, compute capability: 7.5\n"
     ]
    },
    {
     "data": {
      "text/plain": [
       "'/device:GPU:0'"
      ]
     },
     "execution_count": 2,
     "metadata": {},
     "output_type": "execute_result"
    }
   ],
   "source": [
    "tf.test.gpu_device_name()"
   ]
  },
  {
   "cell_type": "markdown",
   "metadata": {
    "id": "LBsay58AqVAo"
   },
   "source": [
    "<font size=4>Grader function 1 </font>"
   ]
  },
  {
   "cell_type": "code",
   "execution_count": 3,
   "metadata": {
    "id": "aTBvOKFeqVAq"
   },
   "outputs": [
    {
     "data": {
      "text/plain": [
       "True"
      ]
     },
     "execution_count": 3,
     "metadata": {},
     "output_type": "execute_result"
    }
   ],
   "source": [
    "def grader_tf_version():\n",
    "    assert((tf.__version__)>'2')\n",
    "    return True\n",
    "grader_tf_version()"
   ]
  },
  {
   "cell_type": "markdown",
   "metadata": {
    "id": "ZTWRqbrBqVAu"
   },
   "source": [
    "<pre><font size=6>Part-1: Preprocessing</font></pre>"
   ]
  },
  {
   "cell_type": "code",
   "execution_count": 4,
   "metadata": {
    "id": "B3csZKDrqVAv"
   },
   "outputs": [
    {
     "name": "stdout",
     "output_type": "stream",
     "text": [
      "<class 'pandas.core.frame.DataFrame'>\n",
      "RangeIndex: 568454 entries, 0 to 568453\n",
      "Data columns (total 10 columns):\n",
      " #   Column                  Non-Null Count   Dtype \n",
      "---  ------                  --------------   ----- \n",
      " 0   Id                      568454 non-null  int64 \n",
      " 1   ProductId               568454 non-null  object\n",
      " 2   UserId                  568454 non-null  object\n",
      " 3   ProfileName             568438 non-null  object\n",
      " 4   HelpfulnessNumerator    568454 non-null  int64 \n",
      " 5   HelpfulnessDenominator  568454 non-null  int64 \n",
      " 6   Score                   568454 non-null  int64 \n",
      " 7   Time                    568454 non-null  int64 \n",
      " 8   Summary                 568427 non-null  object\n",
      " 9   Text                    568454 non-null  object\n",
      "dtypes: int64(5), object(5)\n",
      "memory usage: 43.4+ MB\n"
     ]
    }
   ],
   "source": [
    "#Read the dataset - Amazon fine food reviews\n",
    "reviews = pd.read_csv(r\"Reviews.csv\")\n",
    "#check the info of the dataset\n",
    "reviews.info()"
   ]
  },
  {
   "cell_type": "code",
   "execution_count": 5,
   "metadata": {
    "id": "xokNn7qZqVAz"
   },
   "outputs": [
    {
     "name": "stdout",
     "output_type": "stream",
     "text": [
      "<class 'pandas.core.frame.DataFrame'>\n",
      "RangeIndex: 568454 entries, 0 to 568453\n",
      "Data columns (total 2 columns):\n",
      " #   Column  Non-Null Count   Dtype \n",
      "---  ------  --------------   ----- \n",
      " 0   Text    568454 non-null  object\n",
      " 1   Score   568454 non-null  int64 \n",
      "dtypes: int64(1), object(1)\n",
      "memory usage: 8.7+ MB\n"
     ]
    }
   ],
   "source": [
    "#get only 2 columns - Text, Score\n",
    "reviews = reviews[['Text', 'Score']]\n",
    "#drop the NAN values\n",
    "reviews.dropna()\n",
    "reviews.info()"
   ]
  },
  {
   "cell_type": "code",
   "execution_count": 6,
   "metadata": {},
   "outputs": [
    {
     "name": "stdout",
     "output_type": "stream",
     "text": [
      "(568454, 2)\n",
      "(525814, 2)\n"
     ]
    }
   ],
   "source": [
    "print(reviews.shape)\n",
    "reviews = reviews[reviews['Score'] != 3]\n",
    "print(reviews.shape)"
   ]
  },
  {
   "cell_type": "code",
   "execution_count": 7,
   "metadata": {
    "id": "5GZt7pVkqVA4"
   },
   "outputs": [
    {
     "name": "stdout",
     "output_type": "stream",
     "text": [
      "(525814, 2)\n"
     ]
    }
   ],
   "source": [
    "#if score> 3, set score = 1\n",
    "#if score<=2, set score = 0\n",
    "#if score == 3, remove the rows. \n",
    "reviews.loc[reviews['Score']<3 ,'Score'] = 0\n",
    "reviews.loc[reviews['Score']>3 ,'Score'] = 1\n",
    "print(reviews.shape)"
   ]
  },
  {
   "cell_type": "code",
   "execution_count": 8,
   "metadata": {},
   "outputs": [
    {
     "data": {
      "text/plain": [
       "1    443777\n",
       "0     82037\n",
       "Name: Score, dtype: int64"
      ]
     },
     "execution_count": 8,
     "metadata": {},
     "output_type": "execute_result"
    }
   ],
   "source": [
    "reviews.Score.value_counts()"
   ]
  },
  {
   "cell_type": "code",
   "execution_count": 9,
   "metadata": {},
   "outputs": [
    {
     "data": {
      "text/plain": [
       "((525814, 2), 443777)"
      ]
     },
     "execution_count": 9,
     "metadata": {},
     "output_type": "execute_result"
    }
   ],
   "source": [
    "reviews.shape,reviews.Score.value_counts()[1]"
   ]
  },
  {
   "cell_type": "markdown",
   "metadata": {
    "id": "oVe8LlkrqVA6"
   },
   "source": [
    "<font size=4>Grader function 2 </font>"
   ]
  },
  {
   "cell_type": "code",
   "execution_count": 10,
   "metadata": {
    "id": "7mDXSiJpqVA7"
   },
   "outputs": [
    {
     "data": {
      "text/plain": [
       "True"
      ]
     },
     "execution_count": 10,
     "metadata": {},
     "output_type": "execute_result"
    }
   ],
   "source": [
    "def grader_reviews():\n",
    "    temp_shape = (reviews.shape == (525814, 2)) and (reviews.Score.value_counts()[1]==443777)\n",
    "    assert(temp_shape == True)\n",
    "    return True\n",
    "grader_reviews()"
   ]
  },
  {
   "cell_type": "code",
   "execution_count": 11,
   "metadata": {
    "id": "xYZ-UB9UqVA-"
   },
   "outputs": [
    {
     "name": "stdout",
     "output_type": "stream",
     "text": [
      "(234088, 3)\n",
      "(100000, 3)\n"
     ]
    }
   ],
   "source": [
    "def get_wordlen(x):\n",
    "    return len(x.split())\n",
    "reviews['len'] = reviews.Text.apply(get_wordlen) # New column of length in introduces\n",
    "reviews = reviews[reviews.len<50] # all the reviews of length more than 49 are removed\n",
    "print(reviews.shape)\n",
    "reviews = reviews.sample(n=100000, random_state=30)\n",
    "print(reviews.shape)"
   ]
  },
  {
   "cell_type": "code",
   "execution_count": 49,
   "metadata": {},
   "outputs": [
    {
     "data": {
      "text/html": [
       "<div>\n",
       "<style scoped>\n",
       "    .dataframe tbody tr th:only-of-type {\n",
       "        vertical-align: middle;\n",
       "    }\n",
       "\n",
       "    .dataframe tbody tr th {\n",
       "        vertical-align: top;\n",
       "    }\n",
       "\n",
       "    .dataframe thead th {\n",
       "        text-align: right;\n",
       "    }\n",
       "</style>\n",
       "<table border=\"1\" class=\"dataframe\">\n",
       "  <thead>\n",
       "    <tr style=\"text-align: right;\">\n",
       "      <th></th>\n",
       "      <th>Text</th>\n",
       "      <th>Score</th>\n",
       "      <th>len</th>\n",
       "    </tr>\n",
       "  </thead>\n",
       "  <tbody>\n",
       "    <tr>\n",
       "      <th>64117</th>\n",
       "      <td>The tea was of great quality and it tasted lik...</td>\n",
       "      <td>1</td>\n",
       "      <td>30</td>\n",
       "    </tr>\n",
       "    <tr>\n",
       "      <th>418112</th>\n",
       "      <td>My cat loves this.  The pellets are nice and s...</td>\n",
       "      <td>1</td>\n",
       "      <td>31</td>\n",
       "    </tr>\n",
       "    <tr>\n",
       "      <th>357829</th>\n",
       "      <td>Great product. Does not completely get rid of ...</td>\n",
       "      <td>1</td>\n",
       "      <td>41</td>\n",
       "    </tr>\n",
       "  </tbody>\n",
       "</table>\n",
       "</div>"
      ],
      "text/plain": [
       "                                                     Text  Score  len\n",
       "64117   The tea was of great quality and it tasted lik...      1   30\n",
       "418112  My cat loves this.  The pellets are nice and s...      1   31\n",
       "357829  Great product. Does not completely get rid of ...      1   41"
      ]
     },
     "execution_count": 49,
     "metadata": {},
     "output_type": "execute_result"
    }
   ],
   "source": [
    "reviews.head(3)"
   ]
  },
  {
   "cell_type": "code",
   "execution_count": 13,
   "metadata": {
    "id": "CvldQriGqVBB"
   },
   "outputs": [],
   "source": [
    "#remove HTML from the Text column and save in the Text column only"
   ]
  },
  {
   "cell_type": "markdown",
   "metadata": {},
   "source": [
    "Not html found in the reviews"
   ]
  },
  {
   "cell_type": "code",
   "execution_count": 14,
   "metadata": {
    "id": "AhfN1s2mqVBD"
   },
   "outputs": [
    {
     "data": {
      "text/html": [
       "<div>\n",
       "<style scoped>\n",
       "    .dataframe tbody tr th:only-of-type {\n",
       "        vertical-align: middle;\n",
       "    }\n",
       "\n",
       "    .dataframe tbody tr th {\n",
       "        vertical-align: top;\n",
       "    }\n",
       "\n",
       "    .dataframe thead th {\n",
       "        text-align: right;\n",
       "    }\n",
       "</style>\n",
       "<table border=\"1\" class=\"dataframe\">\n",
       "  <thead>\n",
       "    <tr style=\"text-align: right;\">\n",
       "      <th></th>\n",
       "      <th>Text</th>\n",
       "      <th>Score</th>\n",
       "      <th>len</th>\n",
       "    </tr>\n",
       "  </thead>\n",
       "  <tbody>\n",
       "    <tr>\n",
       "      <th>64117</th>\n",
       "      <td>The tea was of great quality and it tasted lik...</td>\n",
       "      <td>1</td>\n",
       "      <td>30</td>\n",
       "    </tr>\n",
       "    <tr>\n",
       "      <th>418112</th>\n",
       "      <td>My cat loves this.  The pellets are nice and s...</td>\n",
       "      <td>1</td>\n",
       "      <td>31</td>\n",
       "    </tr>\n",
       "    <tr>\n",
       "      <th>357829</th>\n",
       "      <td>Great product. Does not completely get rid of ...</td>\n",
       "      <td>1</td>\n",
       "      <td>41</td>\n",
       "    </tr>\n",
       "    <tr>\n",
       "      <th>175872</th>\n",
       "      <td>This gum is my favorite!  I would advise every...</td>\n",
       "      <td>1</td>\n",
       "      <td>27</td>\n",
       "    </tr>\n",
       "    <tr>\n",
       "      <th>178716</th>\n",
       "      <td>I also found out about this product because of...</td>\n",
       "      <td>1</td>\n",
       "      <td>22</td>\n",
       "    </tr>\n",
       "  </tbody>\n",
       "</table>\n",
       "</div>"
      ],
      "text/plain": [
       "                                                     Text  Score  len\n",
       "64117   The tea was of great quality and it tasted lik...      1   30\n",
       "418112  My cat loves this.  The pellets are nice and s...      1   31\n",
       "357829  Great product. Does not completely get rid of ...      1   41\n",
       "175872  This gum is my favorite!  I would advise every...      1   27\n",
       "178716  I also found out about this product because of...      1   22"
      ]
     },
     "execution_count": 14,
     "metadata": {},
     "output_type": "execute_result"
    }
   ],
   "source": [
    "#print head 5\n",
    "reviews.head(5)"
   ]
  },
  {
   "cell_type": "code",
   "execution_count": 15,
   "metadata": {
    "id": "NsYDd3okqVBF"
   },
   "outputs": [
    {
     "name": "stderr",
     "output_type": "stream",
     "text": [
      "<frozen importlib._bootstrap>:228: RuntimeWarning: scipy._lib.messagestream.MessageStream size changed, may indicate binary incompatibility. Expected 56 from C header, got 64 from PyObject\n"
     ]
    }
   ],
   "source": [
    "#split the data into train and test data(20%) with Stratify sampling, random state 33, \n",
    "from sklearn.model_selection import train_test_split\n",
    "# print(help(train_test_split))\n",
    "X_train,X_test,y_train,y_test = train_test_split(reviews['Text'],reviews['Score'],test_size=0.2,random_state=33,stratify=reviews['Score'])"
   ]
  },
  {
   "cell_type": "code",
   "execution_count": 16,
   "metadata": {
    "id": "-Q6OAcrOqVBI"
   },
   "outputs": [
    {
     "data": {
      "text/plain": [
       "<AxesSubplot:xlabel='Score', ylabel='Count'>"
      ]
     },
     "execution_count": 16,
     "metadata": {},
     "output_type": "execute_result"
    },
    {
     "data": {
      "image/png": "[encoded data removed]",
      "text/plain": [
       "<Figure size 640x480 with 1 Axes>"
      ]
     },
     "metadata": {},
     "output_type": "display_data"
    }
   ],
   "source": [
    "#plot bar graphs of y_train and y_test\n",
    "import seaborn as sns\n",
    "sns.histplot(y_train)"
   ]
  },
  {
   "cell_type": "code",
   "execution_count": 17,
   "metadata": {},
   "outputs": [
    {
     "data": {
      "text/plain": [
       "<AxesSubplot:xlabel='Score', ylabel='Count'>"
      ]
     },
     "execution_count": 17,
     "metadata": {},
     "output_type": "execute_result"
    },
    {
     "data": {
      "image/png": "[encoded data removed]",
      "text/plain": [
       "<Figure size 640x480 with 1 Axes>"
      ]
     },
     "metadata": {},
     "output_type": "display_data"
    }
   ],
   "source": [
    "sns.histplot(y_test)"
   ]
  },
  {
   "cell_type": "code",
   "execution_count": 20,
   "metadata": {
    "id": "Up-z5boWqVBK"
   },
   "outputs": [],
   "source": [
    "#saving to disk. if we need, we can load preprocessed data directly. \n",
    "reviews.to_csv('preprocessed.csv', index=False)"
   ]
  },
  {
   "cell_type": "markdown",
   "metadata": {
    "id": "bBtqNGN9qVBM"
   },
   "source": [
    "<pre><font size=6>Part-2: Creating BERT Model</font> \n",
    "\n",
    "If you want to know more about BERT, You can watch live sessions on Transformers and BERt. \n",
    "we will strongly recommend you to read <a href=\"https://jalammar.github.io/illustrated-transformer/\">Transformers</a>, <a href=\"https://arxiv.org/abs/1810.04805\">BERT Paper</a> and, <a href=\"https://jalammar.github.io/a-visual-guide-to-using-bert-for-the-first-time/\">This blog</a>.\n",
    "\n",
    "\n",
    "For this assignment, we are using <a href=\"https://tfhub.dev/tensorflow/bert_en_uncased_L-12_H-768_A-12/1\">BERT uncased Base model</a>. \n",
    "It uses L=12 hidden layers (i.e., Transformer blocks), a hidden size of H=768, and A=12 attention heads. </pre>"
   ]
  },
  {
   "cell_type": "code",
   "execution_count": 18,
   "metadata": {
    "id": "i8xd2HejqVBN"
   },
   "outputs": [
    {
     "name": "stderr",
     "output_type": "stream",
     "text": [
      "2022-10-24 10:49:27.343947: I tensorflow/core/common_runtime/gpu/gpu_device.cc:1532] Created device /job:localhost/replica:0/task:0/device:GPU:0 with 9651 MB memory:  -> device: 0, name: NVIDIA GeForce RTX 2080 Ti, pci bus id: 0000:03:00.0, compute capability: 7.5\n"
     ]
    }
   ],
   "source": [
    "## Loading the Pretrained Model from tensorflow HUB\n",
    "tf.keras.backend.clear_session()\n",
    "\n",
    "# maximum length of a seq in the data we have, for now i am making it as 55. You can change this\n",
    "max_seq_length = 55\n",
    "\n",
    "#BERT takes 3 inputs\n",
    "\n",
    "#this is input words. Sequence of words represented as integers\n",
    "input_word_ids = tf.keras.layers.Input(shape=(max_seq_length,), dtype=tf.int32, name=\"input_word_ids\")\n",
    "\n",
    "#mask vector if you are padding anything\n",
    "input_mask = tf.keras.layers.Input(shape=(max_seq_length,), dtype=tf.int32, name=\"input_mask\")\n",
    "\n",
    "#segment vectors. If you are giving only one sentence for the classification, total seg vector is 0. \n",
    "#If you are giving two sentenced with [sep] token separated, first seq segment vectors are zeros and \n",
    "#second seq segment vector are 1's\n",
    "segment_ids = tf.keras.layers.Input(shape=(max_seq_length,), dtype=tf.int32, name=\"segment_ids\")\n",
    "\n",
    "#bert layer \n",
    "bert_layer = hub.KerasLayer(\"https://tfhub.dev/tensorflow/bert_en_uncased_L-12_H-768_A-12/1\", trainable=False)\n",
    "pooled_output, sequence_output = bert_layer([input_word_ids, input_mask, segment_ids])\n",
    "\n",
    "#Bert model\n",
    "#We are using only pooled output not sequence out. \n",
    "#If you want to know about those, please read https://www.kaggle.com/questions-and-answers/86510\n",
    "bert_model = Model(inputs=[input_word_ids, input_mask, segment_ids], outputs=pooled_output)\n"
   ]
  },
  {
   "cell_type": "code",
   "execution_count": 19,
   "metadata": {
    "id": "lQJsjg6fqVBQ"
   },
   "outputs": [
    {
     "name": "stdout",
     "output_type": "stream",
     "text": [
      "Model: \"model\"\n",
      "__________________________________________________________________________________________________\n",
      " Layer (type)                   Output Shape         Param #     Connected to                     \n",
      "==================================================================================================\n",
      " input_word_ids (InputLayer)    [(None, 55)]         0           []                               \n",
      "                                                                                                  \n",
      " input_mask (InputLayer)        [(None, 55)]         0           []                               \n",
      "                                                                                                  \n",
      " segment_ids (InputLayer)       [(None, 55)]         0           []                               \n",
      "                                                                                                  \n",
      " keras_layer (KerasLayer)       [(None, 768),        109482241   ['input_word_ids[0][0]',         \n",
      "                                 (None, 55, 768)]                 'input_mask[0][0]',             \n",
      "                                                                  'segment_ids[0][0]']            \n",
      "                                                                                                  \n",
      "==================================================================================================\n",
      "Total params: 109,482,241\n",
      "Trainable params: 0\n",
      "Non-trainable params: 109,482,241\n",
      "__________________________________________________________________________________________________\n"
     ]
    }
   ],
   "source": [
    "bert_model.summary()"
   ]
  },
  {
   "cell_type": "code",
   "execution_count": 20,
   "metadata": {
    "id": "w3z0OMA5qVBS"
   },
   "outputs": [
    {
     "data": {
      "text/plain": [
       "<KerasTensor: shape=(None, 768) dtype=float32 (created by layer 'keras_layer')>"
      ]
     },
     "execution_count": 20,
     "metadata": {},
     "output_type": "execute_result"
    }
   ],
   "source": [
    "bert_model.output"
   ]
  },
  {
   "cell_type": "markdown",
   "metadata": {
    "id": "Ewv4hFCsqVBU"
   },
   "source": [
    "<pre><font size=6>Part-3: Tokenization</font></pre>"
   ]
  },
  {
   "cell_type": "code",
   "execution_count": 21,
   "metadata": {
    "id": "tX3VEFjiqVBU"
   },
   "outputs": [],
   "source": [
    "#getting Vocab file\n",
    "vocab_file = bert_layer.resolved_object.vocab_file.asset_path.numpy()\n",
    "do_lower_case = bert_layer.resolved_object.do_lower_case.numpy()"
   ]
  },
  {
   "cell_type": "code",
   "execution_count": 27,
   "metadata": {
    "id": "Y_iPwa99qVBW"
   },
   "outputs": [],
   "source": [
    "import tokenization  #We have given tokenization.py file"
   ]
  },
  {
   "cell_type": "code",
   "execution_count": 26,
   "metadata": {
    "id": "guJMLJ8bqVBY"
   },
   "outputs": [],
   "source": [
    "# Create tokenizer \" Instantiate FullTokenizer\" \n",
    "# name must be \"tokenizer\"\n",
    "# the FullTokenizer takes two parameters 1. vocab_file and 2. do_lower_case \n",
    "# we have created these in the above cell ex: FullTokenizer(vocab_file, do_lower_case )\n",
    "# please check the \"tokenization.py\" file the complete implementation\n"
   ]
  },
  {
   "cell_type": "code",
   "execution_count": 28,
   "metadata": {
    "id": "qlGFtp2xxzt6"
   },
   "outputs": [],
   "source": [
    "# if you are getting error for sentencepiece module you can install it using below command while running this cell for the first time\n",
    "#!pip install sentencepiece\n",
    "tokenizer=tokenization.FullTokenizer(vocab_file,do_lower_case )"
   ]
  },
  {
   "cell_type": "markdown",
   "metadata": {
    "id": "KKkGLhR-qVBd"
   },
   "source": [
    "<font size=4>Grader function 3 </font>"
   ]
  },
  {
   "cell_type": "code",
   "execution_count": 29,
   "metadata": {
    "id": "2CPu850xqVBe"
   },
   "outputs": [
    {
     "data": {
      "text/plain": [
       "True"
      ]
     },
     "execution_count": 29,
     "metadata": {},
     "output_type": "execute_result"
    }
   ],
   "source": [
    "#it has to give no error \n",
    "def grader_tokenize(tokenizer):\n",
    "    out = False\n",
    "    try:\n",
    "        out=('[CLS]' in tokenizer.vocab) and ('[SEP]' in tokenizer.vocab)\n",
    "    except:\n",
    "        out = False\n",
    "    assert(out==True)\n",
    "    return out\n",
    "grader_tokenize(tokenizer)"
   ]
  },
  {
   "cell_type": "code",
   "execution_count": 29,
   "metadata": {
    "id": "9crhPylQqVBg"
   },
   "outputs": [
    {
     "name": "stderr",
     "output_type": "stream",
     "text": [
      "80000it [00:37, 2123.66it/s]\n",
      "20000it [00:09, 2076.69it/s]\n"
     ]
    }
   ],
   "source": [
    "# Create train and test tokens (X_train_tokens, X_test_tokens) from (X_train, X_test) using Tokenizer and \n",
    "\n",
    "# add '[CLS]' at start of the Tokens and '[SEP]' at the end of the tokens. \n",
    "\n",
    "# maximum number of tokens is 55(We already given this to BERT layer above) so shape is (None, 55)\n",
    "\n",
    "# if it is less than 55, add '[PAD]' token else truncate the tokens length.(similar to padding)\n",
    "\n",
    "# Based on padding, create the mask for Train and Test ( 1 for real token, 0 for '[PAD]'), \n",
    "# it will also same shape as input tokens (None, 55) save those in X_train_mask, X_test_mask\n",
    "\n",
    "# Create a segment input for train and test. We are using only one sentence so all zeros. This shape will also (None, 55)\n",
    "\n",
    "# type of all the above arrays should be numpy arrays\n",
    "\n",
    "# after execution of this cell, you have to get \n",
    "# X_train_tokens, X_train_mask, X_train_segment\n",
    "# X_test_tokens, X_test_mask, X_test_segment\n",
    "from tqdm import tqdm \n",
    "\n",
    "def text_prep(text):\n",
    "    tokens = tokenizer.tokenize(text)\n",
    "    tokens = tokens[ 0 : (max_seq_length - 2)]\n",
    "    tokens = ['[CLS]',*tokens,'[SEP]']\n",
    "    zeros = max_seq_length-len(tokens)\n",
    "    if len(tokens) < max_seq_length:\n",
    "        tokens.extend(['[PAD]']*(zeros))\n",
    "    positional_encoding = np.array(tokenizer.convert_tokens_to_ids(tokens))\n",
    "    mask = np.array([1]*(len(tokens)-zeros) + [0]*(zeros))\n",
    "    segment = np.array([0]*max_seq_length)\n",
    "    return positional_encoding,mask,segment\n",
    "\n",
    "def bert_prepocess(X):\n",
    "    positional_X , mask_X , segment_X = np.zeros((len(X),55)) , np.zeros((len(X),55)), np.zeros((len(X),55))\n",
    "    for idx, text in tqdm(enumerate(list(X))):\n",
    "        p,m,s = text_prep(text)\n",
    "        positional_X[idx,:] , mask_X[idx,:] ,segment_X[idx,:] = p , m ,s\n",
    "    return positional_X,mask_X,segment_X\n",
    "\n",
    "X_train_tokens, X_train_mask, X_train_segment = bert_prepocess(X_train)\n",
    "X_test_tokens, X_test_mask, X_test_segment = bert_prepocess(X_test)"
   ]
  },
  {
   "cell_type": "markdown",
   "metadata": {
    "id": "kv1-t4OjqVBj"
   },
   "source": [
    "#### Example\n",
    "<img src='https://i.imgur.com/5AhhmgU.png'>"
   ]
  },
  {
   "cell_type": "code",
   "execution_count": 23,
   "metadata": {
    "id": "dxhggBxwqVBj"
   },
   "outputs": [],
   "source": [
    "import pickle"
   ]
  },
  {
   "cell_type": "code",
   "execution_count": 31,
   "metadata": {
    "id": "xF0idMRDqVBm"
   },
   "outputs": [],
   "source": [
    "##save all your results to disk so that, no need to run all again. \n",
    "pickle.dump((X_train, X_train_tokens, X_train_mask, X_train_segment, y_train),open('train_data.pkl','wb'))\n",
    "pickle.dump((X_test, X_test_tokens, X_test_mask, X_test_segment, y_test),open('test_data.pkl','wb'))"
   ]
  },
  {
   "cell_type": "code",
   "execution_count": 24,
   "metadata": {
    "id": "Leu1URGzqVBo"
   },
   "outputs": [],
   "source": [
    "\n",
    "X_train, X_train_tokens, X_train_mask, X_train_segment, y_train = pickle.load(open(\"train_data.pkl\", 'rb')) \n",
    "X_test, X_test_tokens, X_test_mask, X_test_segment, y_test = pickle.load(open(\"test_data.pkl\", 'rb')) "
   ]
  },
  {
   "cell_type": "code",
   "execution_count": 25,
   "metadata": {},
   "outputs": [
    {
     "data": {
      "text/plain": [
       "(80000, 55)"
      ]
     },
     "execution_count": 25,
     "metadata": {},
     "output_type": "execute_result"
    }
   ],
   "source": [
    "X_train_tokens.shape"
   ]
  },
  {
   "cell_type": "markdown",
   "metadata": {
    "id": "sjPv8VkJqVBr"
   },
   "source": [
    "<font size=4>Grader function 4 </font>"
   ]
  },
  {
   "cell_type": "code",
   "execution_count": 30,
   "metadata": {
    "id": "qekHJgmdqVBs"
   },
   "outputs": [
    {
     "name": "stdout",
     "output_type": "stream",
     "text": [
      "temp_shapes :  True\n",
      "segment_temp :  True\n",
      "mask_temp :  True\n",
      "no_cls :  True\n",
      "no_sep :  True\n",
      "out :  True\n"
     ]
    },
    {
     "data": {
      "text/plain": [
       "True"
      ]
     },
     "execution_count": 30,
     "metadata": {},
     "output_type": "execute_result"
    }
   ],
   "source": [
    "def grader_alltokens_train():\n",
    "    out = False\n",
    "    \n",
    "    if type(X_train_tokens) == np.ndarray:\n",
    "        \n",
    "        temp_shapes = (X_train_tokens.shape[1]==max_seq_length) and (X_train_mask.shape[1]==max_seq_length) and \\\n",
    "        (X_train_segment.shape[1]==max_seq_length)\n",
    "        print(\"temp_shapes : \", temp_shapes)\n",
    "        segment_temp = not np.any(X_train_segment)\n",
    "        print(\"segment_temp : \", segment_temp)\n",
    "        mask_temp = np.sum(X_train_mask==0) == np.sum(X_train_tokens==0)\n",
    "        print(\"mask_temp : \", mask_temp)\n",
    "        no_cls = np.sum(X_train_tokens==tokenizer.vocab['[CLS]'])==X_train_tokens.shape[0]\n",
    "        print(\"no_cls : \", no_cls)\n",
    "        no_sep = np.sum(X_train_tokens==tokenizer.vocab['[SEP]'])==X_train_tokens.shape[0]\n",
    "        print(\"no_sep : \", no_sep)\n",
    "        out = temp_shapes and segment_temp and mask_temp and no_cls and no_sep\n",
    "        print(\"out : \", out)\n",
    "    else:\n",
    "        print('Type of all above token arrays should be numpy array not list')\n",
    "        out = False\n",
    "    assert(out==True)\n",
    "    return out\n",
    "\n",
    "grader_alltokens_train()"
   ]
  },
  {
   "cell_type": "markdown",
   "metadata": {
    "id": "KnvC6X_wqVBu"
   },
   "source": [
    "<font size=4>Grader function 5 </font>"
   ]
  },
  {
   "cell_type": "code",
   "execution_count": 35,
   "metadata": {
    "id": "Av4SRMPSqVBv"
   },
   "outputs": [
    {
     "data": {
      "text/plain": [
       "True"
      ]
     },
     "execution_count": 35,
     "metadata": {},
     "output_type": "execute_result"
    }
   ],
   "source": [
    "def grader_alltokens_test():\n",
    "    out = False\n",
    "    if type(X_test_tokens) == np.ndarray:\n",
    "        \n",
    "        temp_shapes = (X_test_tokens.shape[1]==max_seq_length) and (X_test_mask.shape[1]==max_seq_length) and \\\n",
    "        (X_test_segment.shape[1]==max_seq_length)\n",
    "        \n",
    "        segment_temp = not np.any(X_test_segment)\n",
    "        \n",
    "        mask_temp = np.sum(X_test_mask==0) == np.sum(X_test_tokens==0)\n",
    "        \n",
    "        no_cls = np.sum(X_test_tokens==tokenizer.vocab['[CLS]'])==X_test_tokens.shape[0]\n",
    "        \n",
    "        no_sep = np.sum(X_test_tokens==tokenizer.vocab['[SEP]'])==X_test_tokens.shape[0]\n",
    "        \n",
    "        out = temp_shapes and segment_temp and mask_temp and no_cls and no_sep\n",
    "      \n",
    "    else:\n",
    "        print('Type of all above token arrays should be numpy array not list')\n",
    "        out = False\n",
    "    assert(out==True)\n",
    "    return out\n",
    "grader_alltokens_test()"
   ]
  },
  {
   "cell_type": "markdown",
   "metadata": {
    "id": "SEj-Eua5qVBx"
   },
   "source": [
    "<pre><font size=6>Part-4: Getting Embeddings from BERT Model</font>\n",
    "We already created the BERT model in the part-2 and input data in the part-3. \n",
    "We will utlize those two and will get the embeddings for each sentence in the \n",
    "Train and test data.</pre>"
   ]
  },
  {
   "cell_type": "code",
   "execution_count": 31,
   "metadata": {
    "id": "QwOVgQFDqVBy"
   },
   "outputs": [
    {
     "data": {
      "text/plain": [
       "[<KerasTensor: shape=(None, 55) dtype=int32 (created by layer 'input_word_ids')>,\n",
       " <KerasTensor: shape=(None, 55) dtype=int32 (created by layer 'input_mask')>,\n",
       " <KerasTensor: shape=(None, 55) dtype=int32 (created by layer 'segment_ids')>]"
      ]
     },
     "execution_count": 31,
     "metadata": {},
     "output_type": "execute_result"
    }
   ],
   "source": [
    "bert_model.input"
   ]
  },
  {
   "cell_type": "code",
   "execution_count": 32,
   "metadata": {
    "id": "ZcpkQq1OqVB0"
   },
   "outputs": [
    {
     "data": {
      "text/plain": [
       "<KerasTensor: shape=(None, 768) dtype=float32 (created by layer 'keras_layer')>"
      ]
     },
     "execution_count": 32,
     "metadata": {},
     "output_type": "execute_result"
    }
   ],
   "source": [
    "bert_model.output"
   ]
  },
  {
   "cell_type": "code",
   "execution_count": 38,
   "metadata": {
    "id": "IxdIlOIBlm7j"
   },
   "outputs": [
    {
     "name": "stdout",
     "output_type": "stream",
     "text": [
      "2500/2500 [==============================] - 118s 46ms/step\n"
     ]
    }
   ],
   "source": [
    "# get the train output, BERT model will give one output so save in\n",
    "# X_train_pooled_output\n",
    "#this cell will take some time to execute, make sure thay you have stable internet connection\n",
    "X_train_pooled_output=bert_model.predict([X_train_tokens,X_train_mask,X_train_segment])"
   ]
  },
  {
   "cell_type": "code",
   "execution_count": 39,
   "metadata": {
    "id": "yZT11BCol4gL"
   },
   "outputs": [
    {
     "name": "stdout",
     "output_type": "stream",
     "text": [
      "625/625 [==============================] - 29s 47ms/step\n"
     ]
    }
   ],
   "source": [
    "# get the test output, BERT model will give one output so save in\n",
    "# X_test_pooled_output\n",
    "X_test_pooled_output=bert_model.predict([X_test_tokens,X_test_mask,X_test_segment])"
   ]
  },
  {
   "cell_type": "code",
   "execution_count": 40,
   "metadata": {
    "id": "DL6JVojfqVB8"
   },
   "outputs": [],
   "source": [
    "##save all your results to disk so that, no need to run all again. \n",
    "pickle.dump((X_train_pooled_output, X_test_pooled_output),open('final_output.pkl','wb'))"
   ]
  },
  {
   "cell_type": "code",
   "execution_count": 33,
   "metadata": {
    "id": "oSQcBdROqVB9"
   },
   "outputs": [],
   "source": [
    "X_train_pooled_output, X_test_pooled_output= pickle.load(open('final_output.pkl', 'rb'))"
   ]
  },
  {
   "cell_type": "markdown",
   "metadata": {
    "id": "ulEXFE7aqVCA"
   },
   "source": [
    "<font size=4>Grader function 6 </font>"
   ]
  },
  {
   "cell_type": "code",
   "execution_count": 34,
   "metadata": {
    "id": "oHCsW0IvqVCB"
   },
   "outputs": [
    {
     "data": {
      "text/plain": [
       "True"
      ]
     },
     "execution_count": 34,
     "metadata": {},
     "output_type": "execute_result"
    }
   ],
   "source": [
    "#now we have X_train_pooled_output, y_train\n",
    "#X_test_pooled_ouput, y_test\n",
    "\n",
    "#please use this grader to evaluate\n",
    "def greader_output():\n",
    "    assert(X_train_pooled_output.shape[1]==768)\n",
    "    assert(len(y_train)==len(X_train_pooled_output))\n",
    "    assert(X_test_pooled_output.shape[1]==768)\n",
    "    assert(len(y_test)==len(X_test_pooled_output))\n",
    "    assert(len(y_train.shape)==1)\n",
    "    assert(len(X_train_pooled_output.shape)==2)\n",
    "    assert(len(y_test.shape)==1)\n",
    "    assert(len(X_test_pooled_output.shape)==2)\n",
    "    return True\n",
    "greader_output()"
   ]
  },
  {
   "cell_type": "markdown",
   "metadata": {
    "id": "oYwS1QbAqVCD"
   },
   "source": [
    "<pre><font size=6>Part-5: Training a NN with 768 features</font>\n",
    "\n",
    "Create a NN and train the NN. \n",
    "1.<b> You have to use AUC as metric. Do not use tf.keras.metrics.AUC</b> \n",
    "<b> You have to write custom code for AUC and print it at the end of each epoch</b> \n",
    "2. You can use any architecture you want. \n",
    "3. You have to use tensorboard to log all your metrics and Losses. You have to send those logs. \n",
    "4. Print the loss and metric at every epoch. \n",
    "5. You have to submit without overfitting and underfitting. \n",
    "</pre>"
   ]
  },
  {
   "cell_type": "code",
   "execution_count": 35,
   "metadata": {
    "id": "od8PQlYRqVCE"
   },
   "outputs": [],
   "source": [
    "##imports\n",
    "from tensorflow.keras.layers import Input, Dense, Activation, Dropout, LSTM\n",
    "from tensorflow.keras.models import Model"
   ]
  },
  {
   "cell_type": "code",
   "execution_count": 36,
   "metadata": {},
   "outputs": [
    {
     "data": {
      "text/plain": [
       "(80000, 768)"
      ]
     },
     "execution_count": 36,
     "metadata": {},
     "output_type": "execute_result"
    }
   ],
   "source": [
    "X_train_pooled_output.shape"
   ]
  },
  {
   "cell_type": "markdown",
   "metadata": {},
   "source": [
    "we have 768 dimension vectors for each reviews we have a 80,000 reviews in train "
   ]
  },
  {
   "cell_type": "markdown",
   "metadata": {},
   "source": [
    "from sklearn.preprocessing import OneHotEncoder\n",
    "oneHot = OneHotEncoder(handle_unknown='ignore',sparse = False)\n",
    "\n",
    "y_train_mlp = oneHot.fit_transform(y_train.to_numpy().reshape(-1,1))\n",
    "y_test_mlp = oneHot.transform(y_test.to_numpy().reshape(-1,1))\n",
    "y_test_mlp.shape,y_train_mlp.shape"
   ]
  },
  {
   "cell_type": "code",
   "execution_count": 37,
   "metadata": {},
   "outputs": [],
   "source": [
    "from sklearn.model_selection import train_test_split\n",
    "X_train_f,X_cv,y_train_f,y_cv = train_test_split(X_train_pooled_output,y_train.to_numpy(),test_size=0.15,stratify=y_train.to_numpy())"
   ]
  },
  {
   "cell_type": "code",
   "execution_count": 38,
   "metadata": {
    "id": "DSnmX3WnqVCG"
   },
   "outputs": [],
   "source": [
    "##create an Neural Network and train your model on X_train_pooled_output and y_train\n",
    "# you can start as follows\n",
    "#input_layer=Input(shape=(X_train_pooled_output.shape[1],))\n",
    "input_layer=Input(shape=(X_train_pooled_output.shape[1],))\n",
    "dense_1 = Dense(128,activation='relu')(input_layer)\n",
    "dense_2 = Dense(16,activation='relu')(dense_1)\n",
    "output = Dense(1,activation='sigmoid')(dense_2)\n",
    "model = Model(input_layer,output)"
   ]
  },
  {
   "cell_type": "code",
   "execution_count": 39,
   "metadata": {},
   "outputs": [
    {
     "name": "stdout",
     "output_type": "stream",
     "text": [
      "Model: \"model_1\"\n",
      "_________________________________________________________________\n",
      " Layer (type)                Output Shape              Param #   \n",
      "=================================================================\n",
      " input_1 (InputLayer)        [(None, 768)]             0         \n",
      "                                                                 \n",
      " dense (Dense)               (None, 128)               98432     \n",
      "                                                                 \n",
      " dense_1 (Dense)             (None, 16)                2064      \n",
      "                                                                 \n",
      " dense_2 (Dense)             (None, 1)                 17        \n",
      "                                                                 \n",
      "=================================================================\n",
      "Total params: 100,513\n",
      "Trainable params: 100,513\n",
      "Non-trainable params: 0\n",
      "_________________________________________________________________\n"
     ]
    }
   ],
   "source": [
    "model.summary()"
   ]
  },
  {
   "cell_type": "code",
   "execution_count": 47,
   "metadata": {},
   "outputs": [],
   "source": [
    "# save_best_auc model\n",
    "filepath   = \"model_save/best_model_weights.hdf5\"\n",
    "checkpoint = tf.keras.callbacks.ModelCheckpoint(filepath=filepath, monitor='val_auc',  verbose=1, \n",
    "                                                save_best_only=True, mode='auto')\n",
    "\n",
    "early_stop = tf.keras.callbacks.EarlyStopping(monitor='binary_accuracy', min_delta=0.001, patience=2, verbose=1)\n",
    "\n",
    "optimizer = tf.keras.optimizers.Adam(learning_rate=0.01)\n",
    "\n",
    "model.compile(optimizer=optimizer, loss='binary_crossentropy',\n",
    "              metrics=['binary_accuracy',tf.keras.metrics.AUC(name='auc')],\n",
    "             )"
   ]
  },
  {
   "cell_type": "code",
   "execution_count": 48,
   "metadata": {},
   "outputs": [
    {
     "name": "stdout",
     "output_type": "stream",
     "text": [
      "Epoch 1/10\n",
      "2121/2125 [============================>.] - ETA: 0s - loss: 0.1991 - binary_accuracy: 0.9194 - auc: 0.9361\n",
      "Epoch 1: val_auc improved from inf to 0.95371, saving model to model_save/best_model_weights.hdf5\n",
      "2125/2125 [==============================] - 10s 5ms/step - loss: 0.1991 - binary_accuracy: 0.9193 - auc: 0.9362 - val_loss: 0.2069 - val_binary_accuracy: 0.9214 - val_auc: 0.9537\n",
      "Epoch 2/10\n",
      "2119/2125 [============================>.] - ETA: 0s - loss: 0.1951 - binary_accuracy: 0.9205 - auc: 0.9393\n",
      "Epoch 2: val_auc improved from 0.95371 to 0.95358, saving model to model_save/best_model_weights.hdf5\n",
      "2125/2125 [==============================] - 9s 4ms/step - loss: 0.1950 - binary_accuracy: 0.9206 - auc: 0.9393 - val_loss: 0.1767 - val_binary_accuracy: 0.9267 - val_auc: 0.9536\n",
      "Epoch 3/10\n",
      "2116/2125 [============================>.] - ETA: 0s - loss: 0.1943 - binary_accuracy: 0.9224 - auc: 0.9393\n",
      "Epoch 3: val_auc did not improve from 0.95358\n",
      "2125/2125 [==============================] - 9s 4ms/step - loss: 0.1942 - binary_accuracy: 0.9224 - auc: 0.9393 - val_loss: 0.1788 - val_binary_accuracy: 0.9245 - val_auc: 0.9543\n",
      "Epoch 4/10\n",
      "2122/2125 [============================>.] - ETA: 0s - loss: 0.1920 - binary_accuracy: 0.9214 - auc: 0.9407\n",
      "Epoch 4: val_auc did not improve from 0.95358\n",
      "2125/2125 [==============================] - 9s 4ms/step - loss: 0.1920 - binary_accuracy: 0.9214 - auc: 0.9408 - val_loss: 0.1752 - val_binary_accuracy: 0.9280 - val_auc: 0.9548\n",
      "Epoch 5/10\n",
      "2124/2125 [============================>.] - ETA: 0s - loss: 0.1895 - binary_accuracy: 0.9232 - auc: 0.9426\n",
      "Epoch 5: val_auc did not improve from 0.95358\n",
      "2125/2125 [==============================] - 9s 4ms/step - loss: 0.1895 - binary_accuracy: 0.9232 - auc: 0.9426 - val_loss: 0.1944 - val_binary_accuracy: 0.9131 - val_auc: 0.9543\n",
      "Epoch 5: early stopping\n"
     ]
    },
    {
     "data": {
      "text/plain": [
       "<keras.callbacks.History at 0x14634c162790>"
      ]
     },
     "execution_count": 48,
     "metadata": {},
     "output_type": "execute_result"
    }
   ],
   "source": [
    "model.fit(X_train_f,y_train_f,epochs=10,validation_data=(X_cv,y_cv), batch_size=32,\n",
    "          callbacks = [checkpoint,early_stop])"
   ]
  },
  {
   "cell_type": "code",
   "execution_count": 56,
   "metadata": {},
   "outputs": [
    {
     "name": "stdout",
     "output_type": "stream",
     "text": [
      "{\"class_name\": \"Functional\", \"config\": {\"name\": \"model_1\", \"layers\": [{\"class_name\": \"InputLayer\", \"config\": {\"batch_input_shape\": [null, 768], \"dtype\": \"float32\", \"sparse\": false, \"ragged\": false, \"name\": \"input_1\"}, \"name\": \"input_1\", \"inbound_nodes\": []}, {\"class_name\": \"Dense\", \"config\": {\"name\": \"dense\", \"trainable\": true, \"dtype\": \"float32\", \"units\": 128, \"activation\": \"relu\", \"use_bias\": true, \"kernel_initializer\": {\"class_name\": \"GlorotUniform\", \"config\": {\"seed\": null}}, \"bias_initializer\": {\"class_name\": \"Zeros\", \"config\": {}}, \"kernel_regularizer\": null, \"bias_regularizer\": null, \"activity_regularizer\": null, \"kernel_constraint\": null, \"bias_constraint\": null}, \"name\": \"dense\", \"inbound_nodes\": [[[\"input_1\", 0, 0, {}]]]}, {\"class_name\": \"Dense\", \"config\": {\"name\": \"dense_1\", \"trainable\": true, \"dtype\": \"float32\", \"units\": 16, \"activation\": \"relu\", \"use_bias\": true, \"kernel_initializer\": {\"class_name\": \"GlorotUniform\", \"config\": {\"seed\": null}}, \"bias_initializer\": {\"class_name\": \"Zeros\", \"config\": {}}, \"kernel_regularizer\": null, \"bias_regularizer\": null, \"activity_regularizer\": null, \"kernel_constraint\": null, \"bias_constraint\": null}, \"name\": \"dense_1\", \"inbound_nodes\": [[[\"dense\", 0, 0, {}]]]}, {\"class_name\": \"Dense\", \"config\": {\"name\": \"dense_2\", \"trainable\": true, \"dtype\": \"float32\", \"units\": 1, \"activation\": \"sigmoid\", \"use_bias\": true, \"kernel_initializer\": {\"class_name\": \"GlorotUniform\", \"config\": {\"seed\": null}}, \"bias_initializer\": {\"class_name\": \"Zeros\", \"config\": {}}, \"kernel_regularizer\": null, \"bias_regularizer\": null, \"activity_regularizer\": null, \"kernel_constraint\": null, \"bias_constraint\": null}, \"name\": \"dense_2\", \"inbound_nodes\": [[[\"dense_1\", 0, 0, {}]]]}], \"input_layers\": [[\"input_1\", 0, 0]], \"output_layers\": [[\"dense_2\", 0, 0]]}, \"keras_version\": \"2.9.0\", \"backend\": \"tensorflow\"}\n"
     ]
    }
   ],
   "source": [
    "model_json = model.to_json()\n",
    "print(model_json)\n",
    "with open(\"./model_save/model.json\", \"w\") as yaml_file:\n",
    "    yaml_file.write(model_json)"
   ]
  },
  {
   "cell_type": "markdown",
   "metadata": {
    "id": "kcILeYZI9pxm"
   },
   "source": [
    "<Pre><font size=6>Part-6: Creating a Data pipeline for BERT Model</font> \n",
    "1. Pipeline is a way to codify and automate the workflow.\n",
    "2. Download the test.csv file from here <a href=\"https://drive.google.com/file/d/1QwjqTsqTX2vdy7fTmeXjxP3dq8IAVLpo/view?usp=sharing\">here</a> </pre>\n"
   ]
  },
  {
   "cell_type": "code",
   "execution_count": null,
   "metadata": {
    "id": "_74n3sgFjvlM"
   },
   "outputs": [],
   "source": [
    "#there is an alterante way to load files from Google drive directly to your Colab session\n",
    "# you can use gdown module to import the files as follows\n",
    "#for example for test.csv you can write your code as !gdown --id file_id (remove the # from next line and run it)"
   ]
  },
  {
   "cell_type": "code",
   "execution_count": 59,
   "metadata": {
    "id": "kwv_BIV9xWt7"
   },
   "outputs": [
    {
     "data": {
      "text/plain": [
       "(352, 1)"
      ]
     },
     "execution_count": 59,
     "metadata": {},
     "output_type": "execute_result"
    }
   ],
   "source": [
    "test_df.shape"
   ]
  },
  {
   "cell_type": "code",
   "execution_count": 58,
   "metadata": {
    "id": "lQcoHbUKjgvF"
   },
   "outputs": [
    {
     "data": {
      "text/html": [
       "<div>\n",
       "<style scoped>\n",
       "    .dataframe tbody tr th:only-of-type {\n",
       "        vertical-align: middle;\n",
       "    }\n",
       "\n",
       "    .dataframe tbody tr th {\n",
       "        vertical-align: top;\n",
       "    }\n",
       "\n",
       "    .dataframe thead th {\n",
       "        text-align: right;\n",
       "    }\n",
       "</style>\n",
       "<table border=\"1\" class=\"dataframe\">\n",
       "  <thead>\n",
       "    <tr style=\"text-align: right;\">\n",
       "      <th></th>\n",
       "      <th>Text</th>\n",
       "    </tr>\n",
       "  </thead>\n",
       "  <tbody>\n",
       "    <tr>\n",
       "      <th>0</th>\n",
       "      <td>Just opened Greenies Joint Care (individually ...</td>\n",
       "    </tr>\n",
       "    <tr>\n",
       "      <th>1</th>\n",
       "      <td>This product rocks :) My mom was very happy w/...</td>\n",
       "    </tr>\n",
       "    <tr>\n",
       "      <th>2</th>\n",
       "      <td>The product was fine, but the cost of shipping...</td>\n",
       "    </tr>\n",
       "    <tr>\n",
       "      <th>3</th>\n",
       "      <td>I love this soup. It's great as part of a meal...</td>\n",
       "    </tr>\n",
       "    <tr>\n",
       "      <th>4</th>\n",
       "      <td>Getting ready to order again. These are great ...</td>\n",
       "    </tr>\n",
       "  </tbody>\n",
       "</table>\n",
       "</div>"
      ],
      "text/plain": [
       "                                                Text\n",
       "0  Just opened Greenies Joint Care (individually ...\n",
       "1  This product rocks :) My mom was very happy w/...\n",
       "2  The product was fine, but the cost of shipping...\n",
       "3  I love this soup. It's great as part of a meal...\n",
       "4  Getting ready to order again. These are great ..."
      ]
     },
     "execution_count": 58,
     "metadata": {},
     "output_type": "execute_result"
    }
   ],
   "source": [
    "#read the csv file"
   ]
  },
  {
   "cell_type": "markdown",
   "metadata": {
    "id": "-zii6hgejdhQ"
   },
   "source": [
    "<Pre>1. You have to write a function that takes the test_df,trained model and the required parameters as input. \n",
    "2. Perform all the preproceesing steps inside the function.\n",
    "- Remove all the html tags\n",
    "- Now do tokenization [Part 3 as mentioned above]\n",
    "- Create tokens,mask array and segment array\n",
    "- Get Embeddings from BERT Model [Part 4 as mentioned above] , let it be X_test\n",
    "- Print the shape of output(X_test.shape).You should get (352,768)\n",
    "3. Predit the output of X_test with the neural network model which we trained earlier.\n",
    "\n",
    "4. Return the occurences of class labels from the function.\n",
    "The output should be the count of datapoints classified as 1 or 0.\n",
    "\n",
    "</pre>"
   ]
  },
  {
   "cell_type": "code",
   "execution_count": 11,
   "metadata": {},
   "outputs": [
    {
     "data": {
      "text/html": [
       "<div>\n",
       "<style scoped>\n",
       "    .dataframe tbody tr th:only-of-type {\n",
       "        vertical-align: middle;\n",
       "    }\n",
       "\n",
       "    .dataframe tbody tr th {\n",
       "        vertical-align: top;\n",
       "    }\n",
       "\n",
       "    .dataframe thead th {\n",
       "        text-align: right;\n",
       "    }\n",
       "</style>\n",
       "<table border=\"1\" class=\"dataframe\">\n",
       "  <thead>\n",
       "    <tr style=\"text-align: right;\">\n",
       "      <th></th>\n",
       "      <th>Text</th>\n",
       "    </tr>\n",
       "  </thead>\n",
       "  <tbody>\n",
       "    <tr>\n",
       "      <th>0</th>\n",
       "      <td>Just opened Greenies Joint Care (individually ...</td>\n",
       "    </tr>\n",
       "    <tr>\n",
       "      <th>1</th>\n",
       "      <td>This product rocks :) My mom was very happy w/...</td>\n",
       "    </tr>\n",
       "    <tr>\n",
       "      <th>2</th>\n",
       "      <td>The product was fine, but the cost of shipping...</td>\n",
       "    </tr>\n",
       "    <tr>\n",
       "      <th>3</th>\n",
       "      <td>I love this soup. It's great as part of a meal...</td>\n",
       "    </tr>\n",
       "    <tr>\n",
       "      <th>4</th>\n",
       "      <td>Getting ready to order again. These are great ...</td>\n",
       "    </tr>\n",
       "  </tbody>\n",
       "</table>\n",
       "</div>"
      ],
      "text/plain": [
       "                                                Text\n",
       "0  Just opened Greenies Joint Care (individually ...\n",
       "1  This product rocks :) My mom was very happy w/...\n",
       "2  The product was fine, but the cost of shipping...\n",
       "3  I love this soup. It's great as part of a meal...\n",
       "4  Getting ready to order again. These are great ..."
      ]
     },
     "execution_count": 11,
     "metadata": {},
     "output_type": "execute_result"
    }
   ],
   "source": [
    "test_df= pd.read_csv('test.csv')\n",
    "test_df.head(5)"
   ]
  },
  {
   "cell_type": "code",
   "execution_count": 15,
   "metadata": {},
   "outputs": [],
   "source": [
    "from tqdm import tqdm \n",
    "import numpy as np\n",
    "import pandas as pd\n",
    "import tensorflow as tf\n",
    "import tensorflow_hub as hub\n",
    "from tensorflow.keras.models import Model\n",
    "import tokenization \n",
    "\n",
    "max_seq_length = 55\n",
    "\n",
    "def intialize_bert_and_tokenizer():\n",
    "    tf.keras.backend.clear_session()\n",
    "    \n",
    "    print(\"Initializing Bert Model \",end=\":\")\n",
    "    input_word_ids = tf.keras.layers.Input(shape=(max_seq_length,), dtype=tf.int32, name=\"input_word_ids\")\n",
    "    input_mask = tf.keras.layers.Input(shape=(max_seq_length,), dtype=tf.int32, name=\"input_mask\")\n",
    "    segment_ids = tf.keras.layers.Input(shape=(max_seq_length,), dtype=tf.int32, name=\"segment_ids\")\n",
    "\n",
    "    #bert layer \n",
    "    bert_layer = hub.KerasLayer(\"https://tfhub.dev/tensorflow/bert_en_uncased_L-12_H-768_A-12/1\", trainable=False)\n",
    "    pooled_output, sequence_output = bert_layer([input_word_ids, input_mask, segment_ids])\n",
    "\n",
    "    bert_model = Model(inputs=[input_word_ids, input_mask, segment_ids], outputs=pooled_output)\n",
    "    print(\" Done\")\n",
    "    print(\"Initializing tokenizer : \",end=\"\")\n",
    "    vocab_file = bert_layer.resolved_object.vocab_file.asset_path.numpy()\n",
    "    do_lower_case = bert_layer.resolved_object.do_lower_case.numpy()\n",
    "    tokenizer=tokenization.FullTokenizer(vocab_file,do_lower_case )\n",
    "    print(\" Done\")\n",
    "    return bert_model,tokenizer\n",
    " \n",
    "\n",
    "\n",
    "def text_prep_pipline(text,tokenizer):\n",
    "    tokens = tokenizer.tokenize(text)\n",
    "    tokens = tokens[ 0 : (max_seq_length - 2)]\n",
    "    tokens = ['[CLS]',*tokens,'[SEP]']\n",
    "    zeros = max_seq_length-len(tokens)\n",
    "    if len(tokens) < max_seq_length:\n",
    "        tokens.extend(['[PAD]']*(zeros))\n",
    "    positional_encoding = np.array(tokenizer.convert_tokens_to_ids(tokens))\n",
    "    mask = np.array([1]*(len(tokens)-zeros) + [0]*(zeros))\n",
    "    segment = np.array([0]*max_seq_length)\n",
    "    return positional_encoding,mask,segment\n",
    "\n",
    "def bert_prepocess_pipline(X,tokenizer):\n",
    "    print(\"Preparing Text for Bert Model: \")\n",
    "    positional_X , mask_X , segment_X = np.zeros((len(X),55)) , np.zeros((len(X),55)), np.zeros((len(X),55))\n",
    "    for idx, text in tqdm(enumerate(list(X))):\n",
    "        p,m,s = text_prep_pipline(text,tokenizer)\n",
    "        positional_X[idx,:] , mask_X[idx,:] ,segment_X[idx,:] = p , m ,s\n",
    "    print(\" Done\")\n",
    "    return positional_X,mask_X,segment_X\n",
    "\n",
    "def load_best_model():\n",
    "    print(\"Loading model from disk : \",end =\"\")\n",
    "    json_file = open('./model_save/model.json', 'r')\n",
    "    loaded_model_json = json_file.read()\n",
    "    json_file.close()\n",
    "    loaded_model = tf.keras.models.model_from_json (loaded_model_json)\n",
    "    # load weights into new model\n",
    "    loaded_model.load_weights(\"./model_save/best_model_weights.hdf5\")\n",
    "    print(\"Done\")\n",
    "    return loaded_model\n"
   ]
  },
  {
   "cell_type": "code",
   "execution_count": 16,
   "metadata": {
    "id": "g9g6C_kgjcan"
   },
   "outputs": [],
   "source": [
    "def predict(test):\n",
    "    bert_model,tokenizer = intialize_bert_and_tokenizer()\n",
    "    X_test_tokens, X_test_mask, X_test_segment = bert_prepocess_pipline(test_df['Text'],tokenizer)\n",
    "    print(\"Coverting to 768 Dim bert vectors : \",end='')\n",
    "    X_test_pooled_output=bert_model.predict([X_test_tokens, X_test_mask, X_test_segment])\n",
    "    print(\" Done\")\n",
    "    best_model = load_best_model()\n",
    "    output = best_model.predict(X_test_pooled_output)\n",
    "    output[ output >0.5] = 1\n",
    "    output[ output <= 0.5] = 0\n",
    "    print(\"Done Predictions\")\n",
    "    return output\n",
    "    "
   ]
  },
  {
   "cell_type": "code",
   "execution_count": 17,
   "metadata": {},
   "outputs": [
    {
     "name": "stdout",
     "output_type": "stream",
     "text": [
      "Initializing Bert Model : Done\n",
      "Initializing tokenizer :  Done\n",
      "Preparing Text for Bert Model: \n"
     ]
    },
    {
     "name": "stderr",
     "output_type": "stream",
     "text": [
      "352it [00:00, 2247.44it/s]\n"
     ]
    },
    {
     "name": "stdout",
     "output_type": "stream",
     "text": [
      " Done\n",
      "11/11 [==============================] - 2s 48ms/step\n",
      " Done\n",
      "Loading model from disk : Done\n",
      "11/11 [==============================] - 0s 1ms/step\n",
      "Done Predictions\n"
     ]
    }
   ],
   "source": [
    "out_put = predict(test_df)"
   ]
  },
  {
   "cell_type": "code",
   "execution_count": 18,
   "metadata": {},
   "outputs": [
    {
     "data": {
      "text/plain": [
       "array([[0.],\n",
       "       [1.],\n",
       "       [1.],\n",
       "       [1.],\n",
       "       [1.],\n",
       "       [1.],\n",
       "       [0.],\n",
       "       [1.],\n",
       "       [1.],\n",
       "       [1.]], dtype=float32)"
      ]
     },
     "execution_count": 18,
     "metadata": {},
     "output_type": "execute_result"
    }
   ],
   "source": [
    "out_put[:10]"
   ]
  },
  {
   "cell_type": "markdown",
   "metadata": {
    "id": "pZc7XTQOxcIO"
   },
   "source": [
    "## Please write your observations at the end of notebook and  explain each and every step you followed in solving this assignment."
   ]
  },
  {
   "cell_type": "markdown",
   "metadata": {},
   "source": [
    "The first Part of the problem was Data preprations :\n",
    "1. We first Made the scores binary the provided scores are on scale of 1 to 5\n",
    "2. We were now supposed to clean the next but text was alredy clean\n",
    "3. We then split the data into train test with stratifying it\n",
    "4. We loaded Bert model and covert all the text to first vectors compatible for bert model\n",
    "5. We then passed these vectors to bert to get 768 dim embbedings for each review\n",
    "6. Now I designed a simple MLP with 2 Hidden layer to predict the class and got a auc of 0.954 on validation\n",
    "7. Save the best model and its best weights\n",
    "8. Lastly packages everything and made a predict function in which the input is the dataframe with Text and the output is predicted labels\n",
    "9. This predict is independent of the above code and can be ran independently"
   ]
  },
  {
   "cell_type": "code",
   "execution_count": null,
   "metadata": {},
   "outputs": [],
   "source": []
  }
 ],
 "metadata": {
  "colab": {
   "collapsed_sections": [],
   "name": " BERT- Assignment_modified.ipynb",
   "provenance": []
  },
  "kernelspec": {
   "display_name": "Python 3 (ipykernel)",
   "language": "python",
   "name": "python3"
  },
  "language_info": {
   "codemirror_mode": {
    "name": "ipython",
    "version": 3
   },
   "file_extension": ".py",
   "mimetype": "text/x-python",
   "name": "python",
   "nbconvert_exporter": "python",
   "pygments_lexer": "ipython3",
   "version": "3.9.0"
  }
 },
 "nbformat": 4,
 "nbformat_minor": 4
}
