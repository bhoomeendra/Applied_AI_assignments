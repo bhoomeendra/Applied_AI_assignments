{
 "cells": [
  {
   "cell_type": "markdown",
   "metadata": {},
   "source": [
    "## Assignment : 14"
   ]
  },
  {
   "cell_type": "markdown",
   "metadata": {},
   "source": [
    "<pre>\n",
    "1. You can work with preprocessed_data.csv for the assignment. You can get the data from - <a href='https://drive.google.com/drive/u/0/folders/1CJnItndeSSJu7aragQoXWZS9-0apN6pp'>Data folder </a>\n",
    "2. Load the data in your notebook.\n",
    "3. After step 2 you have to train 3 types of models as discussed below. \n",
    "4. For all the model use <a href='https://scikit-learn.org/stable/modules/model_evaluation.html#roc-metrics'>'auc'</a> as a metric. check <a  href='https://stackoverflow.com/a/46844409'>this</a> and <a  href='https://www.kaggle.com/c/santander-customer-transaction-prediction/discussion/80807'>this</a> for using auc as a metric \n",
    "5. You are free to choose any number of layers/hiddden units but you have to use same type of architectures shown below. \n",
    "6. You can use any one of the optimizers and choice of Learning rate and momentum.\n",
    "7. For all the model's use <a href='https://www.youtube.com/watch?v=2U6Jl7oqRkM'>TensorBoard</a> and plot the Metric value and Loss with epoch. While submitting, take a screenshot of plots and include those images in a separate pad and write your observations about them.\n",
    "8. Make sure that you are using GPU to train the given models.\n",
    "</pre>"
   ]
  },
  {
   "cell_type": "code",
   "execution_count": null,
   "metadata": {},
   "outputs": [],
   "source": [
    "#you can use gdown modules to import dataset for the assignment\n",
    "#for importing any file from drive to Colab you can write the syntax as !gdown --id file_id\n",
    "#you can run the below cell to import the required preprocessed data.csv file and glove vector"
   ]
  },
  {
   "cell_type": "code",
   "execution_count": null,
   "metadata": {},
   "outputs": [],
   "source": [
    "#!gdown --id 1GpATd_pM4mcnWWIs28-s1lgqdAg2Wdv-\n",
    "#!gdown --id 1pGd5tLwA30M7wkbJKdXHaae9tYVDICJ_"
   ]
  },
  {
   "cell_type": "markdown",
   "metadata": {},
   "source": [
    "## <font color='red'> Model-1 </font>\n",
    "Build and Train deep neural network as shown below"
   ]
  },
  {
   "cell_type": "markdown",
   "metadata": {},
   "source": [
    "<img src='https://i.imgur.com/w395Yk9.png'>\n",
    "ref: https://i.imgur.com/w395Yk9.png"
   ]
  },
  {
   "cell_type": "markdown",
   "metadata": {},
   "source": [
    "- __Input_seq_total_text_data__ --- You have to give Total text data columns. After this use the Embedding layer to get word vectors. Use given predefined glove word vectors, don't train any word vectors. After this use LSTM and get the LSTM output and Flatten that output. \n",
    "- __Input_school_state__ --- Give 'school_state' column as input to embedding layer and Train the Keras Embedding layer. \n",
    "- __Project_grade_category__  --- Give 'project_grade_category' column as input to embedding layer and Train the Keras Embedding layer.\n",
    "- __Input_clean_categories__ --- Give 'input_clean_categories' column as input to embedding layer and Train the Keras Embedding layer.\n",
    "- __Input_clean_subcategories__ --- Give 'input_clean_subcategories' column as input to embedding layer and Train the Keras Embedding layer.\n",
    "- __Input_clean_subcategories__ --- Give 'input_teacher_prefix' column as input to embedding layer and Train the Keras Embedding layer.\n",
    "- __Input_remaining_teacher_number_of_previously_posted_projects._resource_summary_contains_numerical_digits._price._quantity__ ---concatenate remaining columns and add a Dense layer after that. \n",
    "\n"
   ]
  },
  {
   "cell_type": "markdown",
   "metadata": {},
   "source": [
    "Below is an example of embedding layer for a categorical columns. In below code all are dummy values, we gave only for referance. "
   ]
  },
  {
   "cell_type": "code",
   "execution_count": null,
   "metadata": {},
   "outputs": [],
   "source": [
    "# https://stats.stackexchange.com/questions/270546/how-does-keras-embedding-layer-work\n",
    "input_layer = Input(shape=(n,))\n",
    "embedding = Embedding(no_1, no_2, input_length=n)(input_layer)\n",
    "flatten = Flatten()(embedding)"
   ]
  },
  {
   "cell_type": "markdown",
   "metadata": {},
   "source": [
    "### 1. Go through this blog, if you have any doubt on using predefined Embedding values in Embedding layer - https://machinelearningmastery.com/use-word-embedding-layers-deep-learning-keras/\n",
    "### 2. Please go through this link https://keras.io/getting-started/functional-api-guide/ and check the 'Multi-input and multi-output models' then you will get to know how to give multiple inputs. "
   ]
  },
  {
   "cell_type": "markdown",
   "metadata": {},
   "source": [
    "# <font color='red'> Model-1 </font>"
   ]
  },
  {
   "cell_type": "code",
   "execution_count": 52,
   "metadata": {},
   "outputs": [
    {
     "data": {
      "text/html": [
       "<div>\n",
       "<style scoped>\n",
       "    .dataframe tbody tr th:only-of-type {\n",
       "        vertical-align: middle;\n",
       "    }\n",
       "\n",
       "    .dataframe tbody tr th {\n",
       "        vertical-align: top;\n",
       "    }\n",
       "\n",
       "    .dataframe thead th {\n",
       "        text-align: right;\n",
       "    }\n",
       "</style>\n",
       "<table border=\"1\" class=\"dataframe\">\n",
       "  <thead>\n",
       "    <tr style=\"text-align: right;\">\n",
       "      <th></th>\n",
       "      <th>school_state</th>\n",
       "      <th>teacher_prefix</th>\n",
       "      <th>project_grade_category</th>\n",
       "      <th>teacher_number_of_previously_posted_projects</th>\n",
       "      <th>project_is_approved</th>\n",
       "      <th>clean_categories</th>\n",
       "      <th>clean_subcategories</th>\n",
       "      <th>essay</th>\n",
       "      <th>price</th>\n",
       "    </tr>\n",
       "  </thead>\n",
       "  <tbody>\n",
       "    <tr>\n",
       "      <th>0</th>\n",
       "      <td>ca</td>\n",
       "      <td>mrs</td>\n",
       "      <td>grades_prek_2</td>\n",
       "      <td>53</td>\n",
       "      <td>1</td>\n",
       "      <td>math_science</td>\n",
       "      <td>appliedsciences health_lifescience</td>\n",
       "      <td>i fortunate enough use fairy tale stem kits cl...</td>\n",
       "      <td>725.05</td>\n",
       "    </tr>\n",
       "    <tr>\n",
       "      <th>1</th>\n",
       "      <td>ut</td>\n",
       "      <td>ms</td>\n",
       "      <td>grades_3_5</td>\n",
       "      <td>4</td>\n",
       "      <td>1</td>\n",
       "      <td>specialneeds</td>\n",
       "      <td>specialneeds</td>\n",
       "      <td>imagine 8 9 years old you third grade classroo...</td>\n",
       "      <td>213.03</td>\n",
       "    </tr>\n",
       "    <tr>\n",
       "      <th>2</th>\n",
       "      <td>ca</td>\n",
       "      <td>mrs</td>\n",
       "      <td>grades_prek_2</td>\n",
       "      <td>10</td>\n",
       "      <td>1</td>\n",
       "      <td>literacy_language</td>\n",
       "      <td>literacy</td>\n",
       "      <td>having class 24 students comes diverse learner...</td>\n",
       "      <td>329.00</td>\n",
       "    </tr>\n",
       "    <tr>\n",
       "      <th>3</th>\n",
       "      <td>ga</td>\n",
       "      <td>mrs</td>\n",
       "      <td>grades_prek_2</td>\n",
       "      <td>2</td>\n",
       "      <td>1</td>\n",
       "      <td>appliedlearning</td>\n",
       "      <td>earlydevelopment</td>\n",
       "      <td>i recently read article giving students choice...</td>\n",
       "      <td>481.04</td>\n",
       "    </tr>\n",
       "    <tr>\n",
       "      <th>4</th>\n",
       "      <td>wa</td>\n",
       "      <td>mrs</td>\n",
       "      <td>grades_3_5</td>\n",
       "      <td>2</td>\n",
       "      <td>1</td>\n",
       "      <td>literacy_language</td>\n",
       "      <td>literacy</td>\n",
       "      <td>my students crave challenge eat obstacles brea...</td>\n",
       "      <td>17.74</td>\n",
       "    </tr>\n",
       "  </tbody>\n",
       "</table>\n",
       "</div>"
      ],
      "text/plain": [
       "  school_state teacher_prefix project_grade_category  \\\n",
       "0           ca            mrs          grades_prek_2   \n",
       "1           ut             ms             grades_3_5   \n",
       "2           ca            mrs          grades_prek_2   \n",
       "3           ga            mrs          grades_prek_2   \n",
       "4           wa            mrs             grades_3_5   \n",
       "\n",
       "   teacher_number_of_previously_posted_projects  project_is_approved  \\\n",
       "0                                            53                    1   \n",
       "1                                             4                    1   \n",
       "2                                            10                    1   \n",
       "3                                             2                    1   \n",
       "4                                             2                    1   \n",
       "\n",
       "    clean_categories                 clean_subcategories  \\\n",
       "0       math_science  appliedsciences health_lifescience   \n",
       "1       specialneeds                        specialneeds   \n",
       "2  literacy_language                            literacy   \n",
       "3    appliedlearning                    earlydevelopment   \n",
       "4  literacy_language                            literacy   \n",
       "\n",
       "                                               essay   price  \n",
       "0  i fortunate enough use fairy tale stem kits cl...  725.05  \n",
       "1  imagine 8 9 years old you third grade classroo...  213.03  \n",
       "2  having class 24 students comes diverse learner...  329.00  \n",
       "3  i recently read article giving students choice...  481.04  \n",
       "4  my students crave challenge eat obstacles brea...   17.74  "
      ]
     },
     "execution_count": 52,
     "metadata": {},
     "output_type": "execute_result"
    }
   ],
   "source": [
    "import tensorflow as tf\n",
    "import pandas as pd\n",
    "df = pd.read_csv('preprocessed_data.csv')\n",
    "df.head()"
   ]
  },
  {
   "cell_type": "code",
   "execution_count": 4,
   "metadata": {},
   "outputs": [
    {
     "data": {
      "text/plain": [
       "Index(['school_state', 'teacher_prefix', 'project_grade_category',\n",
       "       'teacher_number_of_previously_posted_projects', 'project_is_approved',\n",
       "       'clean_categories', 'clean_subcategories', 'essay', 'price'],\n",
       "      dtype='object')"
      ]
     },
     "execution_count": 4,
     "metadata": {},
     "output_type": "execute_result"
    }
   ],
   "source": [
    "df.columns"
   ]
  },
  {
   "cell_type": "code",
   "execution_count": 5,
   "metadata": {},
   "outputs": [
    {
     "data": {
      "text/plain": [
       "Index(['school_state', 'teacher_prefix', 'project_grade_category',\n",
       "       'teacher_number_of_previously_posted_projects', 'clean_categories',\n",
       "       'clean_subcategories', 'essay', 'price'],\n",
       "      dtype='object')"
      ]
     },
     "execution_count": 5,
     "metadata": {},
     "output_type": "execute_result"
    }
   ],
   "source": [
    "y  = df[\"project_is_approved\"]\n",
    "X = df.drop(['project_is_approved'],axis=1)\n",
    "X.columns"
   ]
  },
  {
   "cell_type": "markdown",
   "metadata": {},
   "source": [
    "# perform stratified train test split on the dataset\n",
    "from sklearn.model_selection import train_test_split\n",
    "X_train,X_test,y_train,y_test = train_test_split(X,y,test_size=0.2,stratify=y)"
   ]
  },
  {
   "cell_type": "markdown",
   "metadata": {},
   "source": [
    "X_train.shape"
   ]
  },
  {
   "cell_type": "markdown",
   "metadata": {},
   "source": [
    "## 1.1 Text Vectorization"
   ]
  },
  {
   "cell_type": "code",
   "execution_count": 6,
   "metadata": {},
   "outputs": [],
   "source": [
    "#since the data is already preprocessed, we can directly move to vectorization part\n",
    "#first we will vectorize the text data\n",
    "#for vectorization of text data in deep learning we use tokenizer, you can go through below references\n",
    "# https://www.kdnuggets.com/2020/03/tensorflow-keras-tokenization-text-data-prep.html\n",
    "#https://stackoverflow.com/questions/51956000/what-does-keras-tokenizer-method-exactly-do\n",
    "# after text vectorization you should get train_padded_docs and test_padded_docs"
   ]
  },
  {
   "cell_type": "code",
   "execution_count": 7,
   "metadata": {},
   "outputs": [
    {
     "name": "stdout",
     "output_type": "stream",
     "text": [
      "109248\n"
     ]
    }
   ],
   "source": [
    "texts = X['essay'].to_list()\n",
    "print(len(texts))"
   ]
  },
  {
   "cell_type": "code",
   "execution_count": 8,
   "metadata": {},
   "outputs": [
    {
     "name": "stderr",
     "output_type": "stream",
     "text": [
      "<frozen importlib._bootstrap>:228: RuntimeWarning: scipy._lib.messagestream.MessageStream size changed, may indicate binary incompatibility. Expected 56 from C header, got 64 from PyObject\n"
     ]
    },
    {
     "data": {
      "text/plain": [
       "<AxesSubplot:ylabel='Count'>"
      ]
     },
     "execution_count": 8,
     "metadata": {},
     "output_type": "execute_result"
    },
    {
     "data": {
      "image/png": "[encoded data removed]",
      "text/plain": [
       "<Figure size 640x480 with 1 Axes>"
      ]
     },
     "metadata": {},
     "output_type": "display_data"
    }
   ],
   "source": [
    "import seaborn as sns\n",
    "essay_lengths = []\n",
    "for essay in texts:\n",
    "    essay_lengths.append(len(essay.split(' ')))  \n",
    "sns.histplot(essay_lengths)"
   ]
  },
  {
   "cell_type": "code",
   "execution_count": 9,
   "metadata": {},
   "outputs": [
    {
     "data": {
      "text/plain": [
       "231.0"
      ]
     },
     "execution_count": 9,
     "metadata": {},
     "output_type": "execute_result"
    }
   ],
   "source": [
    "import numpy as np\n",
    "np.percentile(essay_lengths,95)"
   ]
  },
  {
   "cell_type": "code",
   "execution_count": 10,
   "metadata": {},
   "outputs": [],
   "source": [
    "tokenizer = tf.keras.preprocessing.text.Tokenizer()\n",
    "tokenizer.fit_on_texts(texts)"
   ]
  },
  {
   "cell_type": "code",
   "execution_count": 11,
   "metadata": {},
   "outputs": [
    {
     "data": {
      "text/plain": [
       "56381"
      ]
     },
     "execution_count": 11,
     "metadata": {},
     "output_type": "execute_result"
    }
   ],
   "source": [
    "vocab = tokenizer.word_index\n",
    "len(vocab)"
   ]
  },
  {
   "cell_type": "code",
   "execution_count": 12,
   "metadata": {},
   "outputs": [],
   "source": [
    "text_to_sequence = tokenizer.texts_to_sequences(texts)\n",
    "padded_data = tf.keras.preprocessing.sequence.pad_sequences(text_to_sequence,padding='post',maxlen=230)"
   ]
  },
  {
   "cell_type": "code",
   "execution_count": 13,
   "metadata": {},
   "outputs": [
    {
     "data": {
      "text/plain": [
       "array([    2,   996,   297,    18,  2585,  3677,   265,   733,     6,\n",
       "          66,   265,  1418,     1,   275,  2381,     2,    24,    19,\n",
       "        1488,  3727,   265,   733,     6,   371,     3,    30,    46,\n",
       "        1202,   200,   265,   188,     4,     1,    22,   118,   140,\n",
       "         448,    68,   402,   710,    12,     8,   243,    98,    65,\n",
       "         469,   733,    72,    42,    46,   311,   127,     1,   271,\n",
       "        1558,     2,   237,   286,    65,   265,   720,   136,     2,\n",
       "          24,    18,   733,  1516,    11,  1241,    65,   199,   200,\n",
       "         443,   146,     2,  2586,   733,   394,    68,   309,  7229,\n",
       "        1241,   450,    49,   600,   733,    53,  3607,  2709,  5311,\n",
       "       18004, 10927, 15101,     7,  1419,  1511,   475,   371,     3,\n",
       "          30,     2,  1488,   733,  2514,  1348,  4484,  4905,  6569,\n",
       "         924,     2,   144,    40,  1511,     8,   103,   375,     2,\n",
       "         147,   313,    58,    70,   313,    42,     7,   733,    72,\n",
       "         544,   330,   653,   188,   405,     1,    65,    54,   496,\n",
       "         208,    50,   406,    65,    73,    38,   733,    72,    42,\n",
       "           2,    15,    46,     1,    65,    73,   165,   410,   238,\n",
       "           6,   551,     2,   111,    53,  2514,     6,     2,     8,\n",
       "         103,    18,  1096,     7,   733,    46,   313,   650,    42,\n",
       "         241,    18,   581,    58,     0,     0,     0,     0,     0,\n",
       "           0,     0,     0,     0,     0,     0,     0,     0,     0,\n",
       "           0,     0,     0,     0,     0,     0,     0,     0,     0,\n",
       "           0,     0,     0,     0,     0,     0,     0,     0,     0,\n",
       "           0,     0,     0,     0,     0,     0,     0,     0,     0,\n",
       "           0,     0,     0,     0,     0,     0,     0,     0,     0,\n",
       "           0,     0,     0,     0,     0], dtype=int32)"
      ]
     },
     "execution_count": 13,
     "metadata": {},
     "output_type": "execute_result"
    }
   ],
   "source": [
    "padded_data[0]"
   ]
  },
  {
   "cell_type": "code",
   "execution_count": 14,
   "metadata": {},
   "outputs": [
    {
     "data": {
      "text/plain": [
       "(109248, 230)"
      ]
     },
     "execution_count": 14,
     "metadata": {},
     "output_type": "execute_result"
    }
   ],
   "source": [
    "padded_data.shape"
   ]
  },
  {
   "cell_type": "code",
   "execution_count": 15,
   "metadata": {},
   "outputs": [],
   "source": [
    "#after getting the padded_docs you have to use predefined glove vectors to get 300 dim representation for each word\n",
    "# we will be storing this data in form of an embedding matrix and will use it while defining our model\n",
    "# Please go through following blog's 'Example of Using Pre-Trained GloVe Embedding' section to understand how to create embedding matrix\n",
    "# https://machinelearningmastery.com/use-word-embedding-layers-deep-learning-keras/\n",
    "\n"
   ]
  },
  {
   "cell_type": "code",
   "execution_count": 16,
   "metadata": {},
   "outputs": [],
   "source": [
    "import pickle\n",
    "from tqdm import tqdm\n",
    "\n",
    "with open('glove_vectors', 'rb') as f:\n",
    "    glove_vec = pickle.load(f)\n",
    "    glove_words =  set(glove_vec.keys())\n"
   ]
  },
  {
   "cell_type": "code",
   "execution_count": 17,
   "metadata": {},
   "outputs": [
    {
     "data": {
      "text/plain": [
       "51510"
      ]
     },
     "execution_count": 17,
     "metadata": {},
     "output_type": "execute_result"
    }
   ],
   "source": [
    "len(glove_vec.keys())"
   ]
  },
  {
   "cell_type": "code",
   "execution_count": 18,
   "metadata": {},
   "outputs": [
    {
     "name": "stdout",
     "output_type": "stream",
     "text": [
      "6744 0.8803852361611181\n"
     ]
    }
   ],
   "source": [
    "vocab_size = len(vocab) + 1\n",
    "word_dims = 300\n",
    "\n",
    "embeding = np.zeros((vocab_size,word_dims))\n",
    "\n",
    "count = 0\n",
    "not_found = [] \n",
    "for word,idx in vocab.items():# There is not item with idx 0 in vocab dict\n",
    "    if glove_vec.get(word) is not None:\n",
    "        count+=1\n",
    "        embeding[idx] = glove_vec[word]\n",
    "    else:\n",
    "        not_found.append(word)\n",
    "print(len(vocab)-count, count/len(vocab))"
   ]
  },
  {
   "cell_type": "code",
   "execution_count": 19,
   "metadata": {},
   "outputs": [
    {
     "data": {
      "text/plain": [
       "(56382, 300)"
      ]
     },
     "execution_count": 19,
     "metadata": {},
     "output_type": "execute_result"
    }
   ],
   "source": [
    "embeding.shape"
   ]
  },
  {
   "cell_type": "code",
   "execution_count": 20,
   "metadata": {},
   "outputs": [
    {
     "data": {
      "text/plain": [
       "['hokki',\n",
       " 'ozobots',\n",
       " 'ozobot',\n",
       " 'storyworks',\n",
       " 'gonoodle',\n",
       " 'fitbits',\n",
       " 'mobymax',\n",
       " 'rekenreks',\n",
       " 'tiggly',\n",
       " 'breakoutedu',\n",
       " 'bloxels',\n",
       " 'newsela',\n",
       " 'zearn',\n",
       " '3doodlers',\n",
       " 'xtramath',\n",
       " 'magnatiles',\n",
       " 'hooki',\n",
       " 'plickers',\n",
       " 'makeys',\n",
       " 'rekenrek']"
      ]
     },
     "execution_count": 20,
     "metadata": {},
     "output_type": "execute_result"
    }
   ],
   "source": [
    "not_found[:20]"
   ]
  },
  {
   "cell_type": "markdown",
   "metadata": {},
   "source": [
    "Embedding matrix is formed"
   ]
  },
  {
   "cell_type": "markdown",
   "metadata": {},
   "source": [
    "## 1.2 Categorical feature Vectorization"
   ]
  },
  {
   "cell_type": "code",
   "execution_count": 21,
   "metadata": {},
   "outputs": [
    {
     "data": {
      "text/plain": [
       "Index(['school_state', 'teacher_prefix', 'project_grade_category',\n",
       "       'teacher_number_of_previously_posted_projects', 'clean_categories',\n",
       "       'clean_subcategories', 'essay', 'price'],\n",
       "      dtype='object')"
      ]
     },
     "execution_count": 21,
     "metadata": {},
     "output_type": "execute_result"
    }
   ],
   "source": [
    "X.columns"
   ]
  },
  {
   "cell_type": "code",
   "execution_count": 22,
   "metadata": {},
   "outputs": [],
   "source": [
    "numerical_features = ['teacher_number_of_previously_posted_projects','price']\n",
    "categorical_features = ['school_state', 'project_grade_category','clean_categories','clean_subcategories','teacher_prefix']"
   ]
  },
  {
   "cell_type": "code",
   "execution_count": 23,
   "metadata": {},
   "outputs": [
    {
     "name": "stderr",
     "output_type": "stream",
     "text": [
      "100%|██████████████████████████████| 5/5 [00:00<00:00, 38.68it/s]"
     ]
    },
    {
     "name": "stdout",
     "output_type": "stream",
     "text": [
      "Feature : school_state has 51\n",
      "Feature : project_grade_category has 4\n",
      "Feature : clean_categories has 51\n",
      "Feature : clean_subcategories has 401\n",
      "Feature : teacher_prefix has 5\n"
     ]
    },
    {
     "name": "stderr",
     "output_type": "stream",
     "text": [
      "\n"
     ]
    }
   ],
   "source": [
    "# for model 1 and model 2, we have to assign a unique number to each feature in a particular categorical column.\n",
    "# you can either use tokenizer,label encoder or ordinal encoder to perform the task\n",
    "# label encoder gives an error for 'unseen values' (values present in test but not in train)\n",
    "# handle unseen values with label encoder - https://stackoverflow.com/a/56876351\n",
    "# ordinal encoder also gives error with unseen values but you can use modify handle_unknown parameter\n",
    "# documentation of ordianl encoder https://scikit-learn.org/stable/modules/generated/sklearn.preprocessing.OrdinalEncoder.html\n",
    "# after categorical feature vectorization you will have column_train_data and column_test_data.\n",
    "label_encoders = []\n",
    "feature_encoded = []\n",
    "for feature in tqdm(categorical_features):\n",
    "    encode = dict()\n",
    "    featurized = []\n",
    "    for idx,feat in enumerate(X[feature].unique()):\n",
    "        encode[feat] = idx\n",
    "    \n",
    "    label_encoders.append(encode)\n",
    "    \n",
    "    for cat in X[feature]:\n",
    "        featurized.append(encode[cat])\n",
    "    \n",
    "    feature_encoded.append(featurized)\n",
    "    print(f\"Feature : {feature} has {len(encode)}\")"
   ]
  },
  {
   "cell_type": "code",
   "execution_count": 24,
   "metadata": {},
   "outputs": [],
   "source": [
    "cat_features = np.array(feature_encoded).T"
   ]
  },
  {
   "cell_type": "code",
   "execution_count": 25,
   "metadata": {},
   "outputs": [
    {
     "data": {
      "text/plain": [
       "(109248, 5)"
      ]
     },
     "execution_count": 25,
     "metadata": {},
     "output_type": "execute_result"
    }
   ],
   "source": [
    "cat_features.shape"
   ]
  },
  {
   "cell_type": "markdown",
   "metadata": {},
   "source": [
    "## 1.3 Numerical feature Vectorization"
   ]
  },
  {
   "cell_type": "code",
   "execution_count": 26,
   "metadata": {},
   "outputs": [],
   "source": [
    "# you have to standardise the numerical columns\n",
    "# stack both the numerical features\n",
    "#after numerical feature vectorization you will have numerical_data_train and numerical_data_test"
   ]
  },
  {
   "cell_type": "code",
   "execution_count": 27,
   "metadata": {},
   "outputs": [],
   "source": [
    "tmean, pmean = X[numerical_features].mean()"
   ]
  },
  {
   "cell_type": "code",
   "execution_count": 28,
   "metadata": {},
   "outputs": [],
   "source": [
    "tstd, pstd = X[numerical_features].std()"
   ]
  },
  {
   "cell_type": "code",
   "execution_count": 29,
   "metadata": {},
   "outputs": [],
   "source": [
    "standard_no_project = (X['teacher_number_of_previously_posted_projects'].to_numpy() - tmean) / tstd\n",
    "standard_price = (X['price'].to_numpy() - pmean) / pstd"
   ]
  },
  {
   "cell_type": "code",
   "execution_count": 30,
   "metadata": {},
   "outputs": [],
   "source": [
    "num_pred = np.vstack([standard_no_project,standard_price])"
   ]
  },
  {
   "cell_type": "code",
   "execution_count": 31,
   "metadata": {},
   "outputs": [
    {
     "data": {
      "text/plain": [
       "(109248, 2)"
      ]
     },
     "execution_count": 31,
     "metadata": {},
     "output_type": "execute_result"
    }
   ],
   "source": [
    "num_pred = num_pred.T\n",
    "num_pred.shape"
   ]
  },
  {
   "cell_type": "code",
   "execution_count": 32,
   "metadata": {},
   "outputs": [
    {
     "data": {
      "text/plain": [
       "(109248, 230)"
      ]
     },
     "execution_count": 32,
     "metadata": {},
     "output_type": "execute_result"
    }
   ],
   "source": [
    "padded_data.shape"
   ]
  },
  {
   "cell_type": "code",
   "execution_count": 33,
   "metadata": {},
   "outputs": [],
   "source": [
    "X_final =np.hstack([padded_data,cat_features[:,0].reshape(-1,1),cat_features[:,1].reshape(-1,1),cat_features[:,2].reshape(-1,1),\n",
    "                    cat_features[:,3].reshape(-1,1),cat_features[:,4].reshape(-1,1),num_pred])\n",
    "y_final = y.to_numpy()"
   ]
  },
  {
   "cell_type": "code",
   "execution_count": 34,
   "metadata": {},
   "outputs": [
    {
     "data": {
      "text/plain": [
       "(109248, 237)"
      ]
     },
     "execution_count": 34,
     "metadata": {},
     "output_type": "execute_result"
    }
   ],
   "source": [
    "X_final.shape"
   ]
  },
  {
   "cell_type": "code",
   "execution_count": 35,
   "metadata": {},
   "outputs": [
    {
     "data": {
      "text/plain": [
       "(109248,)"
      ]
     },
     "execution_count": 35,
     "metadata": {},
     "output_type": "execute_result"
    }
   ],
   "source": [
    "y_final.shape"
   ]
  },
  {
   "cell_type": "code",
   "execution_count": 36,
   "metadata": {},
   "outputs": [],
   "source": [
    "from sklearn.model_selection import train_test_split\n",
    "\n",
    "X_train,X_test,y_train,y_test = train_test_split(X_final,y_final,test_size=0.2,stratify=y_final)"
   ]
  },
  {
   "cell_type": "markdown",
   "metadata": {},
   "source": [
    "## 1.4 Defining the model"
   ]
  },
  {
   "cell_type": "markdown",
   "metadata": {
    "tags": []
   },
   "source": [
    "<img src='https://i.imgur.com/w395Yk9.png'>"
   ]
  },
  {
   "cell_type": "code",
   "execution_count": 37,
   "metadata": {},
   "outputs": [],
   "source": [
    "# as of now we have vectorized all our features now we will define our model.\n",
    "# as it is clear from above image that the given model has multiple input layers and hence we have to use functional API\n",
    "# Please go through - https://keras.io/guides/functional_api/\n",
    "# it is a good programming practise to define your complete model i.e all inputs , intermediate and output layers at one place.\n",
    "# while defining your model make sure that you use variable names while defining any length,dimension or size.\n",
    "#for ex.- you should write the code as 'input_text = Input(shape=(pad_length,))' and not as 'input_text = Input(shape=(300,))'\n",
    "# the embedding layer for text data should be non trainable\n",
    "# the embedding layer for categorical data should be trainable\n",
    "# https://stats.stackexchange.com/questions/270546/how-does-keras-embedding-layer-work\n",
    "# https://towardsdatascience.com/deep-embeddings-for-categorical-variables-cat2vec-b05c8ab63ac0\n",
    "#print model.summary() after you have defined the model\n",
    "#plot the model using utils.plot_model module and make sure that it is similar to the above image"
   ]
  },
  {
   "cell_type": "code",
   "execution_count": 38,
   "metadata": {},
   "outputs": [
    {
     "name": "stderr",
     "output_type": "stream",
     "text": [
      "2022-10-26 23:24:34.369694: I tensorflow/core/platform/cpu_feature_guard.cc:193] This TensorFlow binary is optimized with oneAPI Deep Neural Network Library (oneDNN) to use the following CPU instructions in performance-critical operations:  AVX2 FMA\n",
      "To enable them in other operations, rebuild TensorFlow with the appropriate compiler flags.\n",
      "2022-10-26 23:24:35.017940: I tensorflow/core/common_runtime/gpu/gpu_device.cc:1532] Created device /job:localhost/replica:0/task:0/device:GPU:0 with 10417 MB memory:  -> device: 0, name: NVIDIA GeForce GTX 1080 Ti, pci bus id: 0000:03:00.0, compute capability: 6.1\n"
     ]
    }
   ],
   "source": [
    "in_len = padded_data.shape[1]\n",
    "in_cat_feat = 1\n",
    "num_feat = 2\n",
    "\n",
    "# Defining inputs\n",
    "essay_seq_input_layer = tf.keras.Input(shape=(in_len,),dtype= tf.int32)# The input will be a sequence \n",
    "student_input_layer = tf.keras.Input(shape=(in_cat_feat,),dtype= tf.int32)\n",
    "project_grade_category_input_layer = tf.keras.Input(shape=(in_cat_feat,),dtype= tf.int32)\n",
    "clean_categories_input_layer = tf.keras.Input(shape=(in_cat_feat,),dtype= tf.int32)\n",
    "clean_subcategories_input_layer = tf.keras.Input(shape=(in_cat_feat,),dtype= tf.int32)\n",
    "teacher_prefix_input_layer = tf.keras.Input(shape=(in_cat_feat,),dtype = tf.int32)\n",
    "numerical_input_layer = tf.keras.Input(shape=(num_feat,),dtype = tf.int32)\n",
    "\n",
    "\n",
    "#Defining embbeding layers\n",
    "essay_embbeding_layer = tf.keras.layers.Embedding(input_dim= vocab_size,output_dim = word_dims,weights=[embeding],\n",
    "                                            input_length=in_len, trainable=False)(essay_seq_input_layer)\n",
    "\n",
    "student_embbeding_layer = tf.keras.layers.Embedding(input_dim= len(label_encoders[0])+1,output_dim = 5,\n",
    "                                            input_length=1)(student_input_layer)\n",
    "\n",
    "project_grade_category_embbeding_layer = tf.keras.layers.Embedding(input_dim= len(label_encoders[1])+1,output_dim = 2,\n",
    "                                            input_length=1)(project_grade_category_input_layer)\n",
    "\n",
    "clean_categories_embbeding_layer = tf.keras.layers.Embedding(input_dim= len(label_encoders[2])+1,output_dim = 5,\n",
    "                                            input_length=1)(clean_categories_input_layer)\n",
    "\n",
    "clean_subcategories_embbeding_layer = tf.keras.layers.Embedding(input_dim= len(label_encoders[3])+1,output_dim = 5,\n",
    "                                            input_length=1)(clean_subcategories_input_layer)\n",
    "\n",
    "teacher_prefix_embbeding_layer = tf.keras.layers.Embedding(input_dim= len(label_encoders[4])+1,output_dim = 2,\n",
    "                                            input_length=1)(teacher_prefix_input_layer)\n",
    "\n",
    "# LSTM on embbeding layer\n",
    "lstm = tf.keras.layers.LSTM(units = 20)(essay_embbeding_layer)\n",
    "\n",
    "# Flatten\n",
    "\n",
    "f1 = tf.keras.layers.Flatten()(lstm)\n",
    "f2 = tf.keras.layers.Flatten()(student_embbeding_layer)\n",
    "f3 = tf.keras.layers.Flatten()(project_grade_category_embbeding_layer)\n",
    "f4 = tf.keras.layers.Flatten()(clean_categories_embbeding_layer)\n",
    "f5 = tf.keras.layers.Flatten()(clean_subcategories_embbeding_layer)\n",
    "f6 = tf.keras.layers.Flatten()(teacher_prefix_embbeding_layer)\n",
    "\n",
    "# Dense for numerical\n",
    "f7 = tf.keras.layers.Dense(1,activation='sigmoid')(numerical_input_layer)\n",
    "\n",
    "# Concat\n",
    "concat = tf.keras.layers.concatenate([f1,f2,f3,f4,f5,f6,f7],axis=1)\n",
    "\n",
    "dense_1 = tf.keras.layers.Dense(512,activation='relu')(concat)\n",
    "\n",
    "dropout_1 = tf.keras.layers.Dropout(0.3)(dense_1)\n",
    "\n",
    "dense_2 = tf.keras.layers.Dense(16,activation='relu')(dropout_1)\n",
    "\n",
    "dropout_2 = tf.keras.layers.Dropout(0.3)(dense_2)\n",
    "\n",
    "dense_3 = tf.keras.layers.Dense(8,activation='relu')(dropout_2)\n",
    "\n",
    "output = tf.keras.layers.Dense(1,activation='sigmoid')(dense_3)\n",
    "\n",
    "model = tf.keras.Model([essay_seq_input_layer,\n",
    "                        student_input_layer,\n",
    "                        project_grade_category_input_layer,\n",
    "                        clean_categories_input_layer,\n",
    "                        clean_subcategories_input_layer,\n",
    "                        teacher_prefix_input_layer,\n",
    "                        numerical_input_layer\n",
    "                       ],\n",
    "                        output\n",
    "                      )"
   ]
  },
  {
   "cell_type": "code",
   "execution_count": 39,
   "metadata": {},
   "outputs": [
    {
     "name": "stdout",
     "output_type": "stream",
     "text": [
      "Model: \"model\"\n",
      "__________________________________________________________________________________________________\n",
      " Layer (type)                   Output Shape         Param #     Connected to                     \n",
      "==================================================================================================\n",
      " input_1 (InputLayer)           [(None, 230)]        0           []                               \n",
      "                                                                                                  \n",
      " embedding (Embedding)          (None, 230, 300)     16914600    ['input_1[0][0]']                \n",
      "                                                                                                  \n",
      " input_2 (InputLayer)           [(None, 1)]          0           []                               \n",
      "                                                                                                  \n",
      " input_3 (InputLayer)           [(None, 1)]          0           []                               \n",
      "                                                                                                  \n",
      " input_4 (InputLayer)           [(None, 1)]          0           []                               \n",
      "                                                                                                  \n",
      " input_5 (InputLayer)           [(None, 1)]          0           []                               \n",
      "                                                                                                  \n",
      " input_6 (InputLayer)           [(None, 1)]          0           []                               \n",
      "                                                                                                  \n",
      " lstm (LSTM)                    (None, 20)           25680       ['embedding[0][0]']              \n",
      "                                                                                                  \n",
      " embedding_1 (Embedding)        (None, 1, 5)         260         ['input_2[0][0]']                \n",
      "                                                                                                  \n",
      " embedding_2 (Embedding)        (None, 1, 2)         10          ['input_3[0][0]']                \n",
      "                                                                                                  \n",
      " embedding_3 (Embedding)        (None, 1, 5)         260         ['input_4[0][0]']                \n",
      "                                                                                                  \n",
      " embedding_4 (Embedding)        (None, 1, 5)         2010        ['input_5[0][0]']                \n",
      "                                                                                                  \n",
      " embedding_5 (Embedding)        (None, 1, 2)         12          ['input_6[0][0]']                \n",
      "                                                                                                  \n",
      " input_7 (InputLayer)           [(None, 2)]          0           []                               \n",
      "                                                                                                  \n",
      " flatten (Flatten)              (None, 20)           0           ['lstm[0][0]']                   \n",
      "                                                                                                  \n",
      " flatten_1 (Flatten)            (None, 5)            0           ['embedding_1[0][0]']            \n",
      "                                                                                                  \n",
      " flatten_2 (Flatten)            (None, 2)            0           ['embedding_2[0][0]']            \n",
      "                                                                                                  \n",
      " flatten_3 (Flatten)            (None, 5)            0           ['embedding_3[0][0]']            \n",
      "                                                                                                  \n",
      " flatten_4 (Flatten)            (None, 5)            0           ['embedding_4[0][0]']            \n",
      "                                                                                                  \n",
      " flatten_5 (Flatten)            (None, 2)            0           ['embedding_5[0][0]']            \n",
      "                                                                                                  \n",
      " dense (Dense)                  (None, 1)            3           ['input_7[0][0]']                \n",
      "                                                                                                  \n",
      " concatenate (Concatenate)      (None, 40)           0           ['flatten[0][0]',                \n",
      "                                                                  'flatten_1[0][0]',              \n",
      "                                                                  'flatten_2[0][0]',              \n",
      "                                                                  'flatten_3[0][0]',              \n",
      "                                                                  'flatten_4[0][0]',              \n",
      "                                                                  'flatten_5[0][0]',              \n",
      "                                                                  'dense[0][0]']                  \n",
      "                                                                                                  \n",
      " dense_1 (Dense)                (None, 512)          20992       ['concatenate[0][0]']            \n",
      "                                                                                                  \n",
      " dropout (Dropout)              (None, 512)          0           ['dense_1[0][0]']                \n",
      "                                                                                                  \n",
      " dense_2 (Dense)                (None, 16)           8208        ['dropout[0][0]']                \n",
      "                                                                                                  \n",
      " dropout_1 (Dropout)            (None, 16)           0           ['dense_2[0][0]']                \n",
      "                                                                                                  \n",
      " dense_3 (Dense)                (None, 8)            136         ['dropout_1[0][0]']              \n",
      "                                                                                                  \n",
      " dense_4 (Dense)                (None, 1)            9           ['dense_3[0][0]']                \n",
      "                                                                                                  \n",
      "==================================================================================================\n",
      "Total params: 16,972,180\n",
      "Trainable params: 57,580\n",
      "Non-trainable params: 16,914,600\n",
      "__________________________________________________________________________________________________\n"
     ]
    }
   ],
   "source": [
    "model.summary()"
   ]
  },
  {
   "cell_type": "markdown",
   "metadata": {},
   "source": [
    "## 1.5 Compiling and fititng your model"
   ]
  },
  {
   "cell_type": "code",
   "execution_count": 40,
   "metadata": {},
   "outputs": [
    {
     "name": "stdout",
     "output_type": "stream",
     "text": [
      "Epoch 1/25\n",
      "  1/683 [..............................] - ETA: 35:09 - loss: 0.6818 - binary_accuracy: 0.7891 - auc: 0.4650"
     ]
    },
    {
     "name": "stderr",
     "output_type": "stream",
     "text": [
      "2022-10-26 23:24:38.874679: I tensorflow/stream_executor/cuda/cuda_dnn.cc:384] Loaded cuDNN version 8400\n"
     ]
    },
    {
     "name": "stdout",
     "output_type": "stream",
     "text": [
      "683/683 [==============================] - 19s 23ms/step - loss: 0.4290 - binary_accuracy: 0.8485 - auc: 0.5575 - val_loss: 0.4243 - val_binary_accuracy: 0.8486 - val_auc: 0.6009\n",
      "Epoch 2/25\n",
      "683/683 [==============================] - 15s 22ms/step - loss: 0.4060 - binary_accuracy: 0.8486 - auc: 0.6539 - val_loss: 0.4029 - val_binary_accuracy: 0.8486 - val_auc: 0.7036\n",
      "Epoch 3/25\n",
      "683/683 [==============================] - 15s 22ms/step - loss: 0.3818 - binary_accuracy: 0.8487 - auc: 0.7171 - val_loss: 0.3773 - val_binary_accuracy: 0.8486 - val_auc: 0.7354\n",
      "Epoch 4/25\n",
      "683/683 [==============================] - 15s 22ms/step - loss: 0.3731 - binary_accuracy: 0.8488 - auc: 0.7356 - val_loss: 0.3747 - val_binary_accuracy: 0.8486 - val_auc: 0.7416\n",
      "Epoch 5/25\n",
      "683/683 [==============================] - 15s 22ms/step - loss: 0.3652 - binary_accuracy: 0.8513 - auc: 0.7533 - val_loss: 0.3740 - val_binary_accuracy: 0.8523 - val_auc: 0.7513\n",
      "Epoch 6/25\n",
      "683/683 [==============================] - 15s 22ms/step - loss: 0.3591 - binary_accuracy: 0.8532 - auc: 0.7654 - val_loss: 0.3747 - val_binary_accuracy: 0.8488 - val_auc: 0.7546\n",
      "Epoch 7/25\n",
      "683/683 [==============================] - 15s 22ms/step - loss: 0.3538 - binary_accuracy: 0.8555 - auc: 0.7743 - val_loss: 0.3879 - val_binary_accuracy: 0.8530 - val_auc: 0.7535\n",
      "Epoch 8/25\n",
      "683/683 [==============================] - 15s 22ms/step - loss: 0.3492 - binary_accuracy: 0.8569 - auc: 0.7823 - val_loss: 0.3776 - val_binary_accuracy: 0.8545 - val_auc: 0.7333\n",
      "Epoch 8: early stopping\n"
     ]
    },
    {
     "data": {
      "text/plain": [
       "<keras.callbacks.History at 0x14a580a65e80>"
      ]
     },
     "execution_count": 40,
     "metadata": {},
     "output_type": "execute_result"
    }
   ],
   "source": [
    "#define custom auc as metric , do not use tf.keras.metrics\n",
    "# https://stackoverflow.com/a/46844409 - custom AUC reference 1\n",
    "# https://www.kaggle.com/c/santander-customer-transaction-prediction/discussion/80807  - custom AUC reference 2\n",
    "# compile and fit your model\n",
    "\n",
    "optimse = tf.keras.optimizers.Adam(learning_rate=0.001)\n",
    "early_stop = tf.keras.callbacks.EarlyStopping(monitor='val_auc', min_delta=0.01, patience=3, verbose=1)\n",
    "model.compile(optimizer = optimse , loss='binary_crossentropy' , metrics= ['binary_accuracy' , tf.metrics.AUC(name='auc')])\n",
    "\n",
    "model.fit([X_train[:,:230],X_train[:,230:231],X_train[:,231:232],X_train[:,232:233],X_train[:,233:234],X_train[:,234:235],X_train[:,235:237]],\n",
    "          y_train,validation_data=([X_test[:,:230],X_test[:,230:231],X_test[:,231:232],X_test[:,232:233],X_test[:,233:234],X_test[:,234:235],X_test[:,235:237]],\n",
    "                                   y_test),batch_size = 128, epochs = 25,callbacks = [early_stop ])"
   ]
  },
  {
   "cell_type": "markdown",
   "metadata": {},
   "source": [
    "# <font color='red'> Model-2 </font>"
   ]
  },
  {
   "cell_type": "markdown",
   "metadata": {},
   "source": [
    "Use the same model as above but for 'input_seq_total_text_data' give only some words in the sentance not all the words. Filter the words as below. "
   ]
  },
  {
   "cell_type": "markdown",
   "metadata": {},
   "source": [
    "<pre>\n",
    "1. Fit TF-IDF vectorizer on the Train data <br>\n",
    "2. Get the idf value for each word we have in the train data. Please go through <a  href='https://stackoverflow.com/questions/23792781/tf-idf-feature-weights-using-sklearn-feature-extraction-text-tfidfvectorizer'>this</a><br>\n",
    "\n",
    "3. Do some analysis on the Idf values and based on those values choose the low and high threshold value. Because very \n",
    "frequent words and very very rare words don't give much information.\n",
    "Hint - A preferable IDF range is 2-11 for model 2. <br>\n",
    "4.Remove the low idf value and high idf value words from the train and test data. You can go through each of the\n",
    "sentence of train and test data and include only those features(words) which are present in the defined IDF range.\n",
    "5. Perform tokenization on the modified text data same as you have done for previous model.\n",
    "6. Create embedding matrix for model 2 and then use the rest of the features similar to previous model.\n",
    "7. Define the model, compile and fit the model.\n",
    "</pre>"
   ]
  },
  {
   "cell_type": "code",
   "execution_count": 20,
   "metadata": {},
   "outputs": [],
   "source": [
    "from sklearn.feature_extraction.text import TfidfVectorizer"
   ]
  },
  {
   "cell_type": "code",
   "execution_count": 21,
   "metadata": {},
   "outputs": [
    {
     "data": {
      "text/html": [
       "<style>#sk-container-id-1 {color: black;background-color: white;}#sk-container-id-1 pre{padding: 0;}#sk-container-id-1 div.sk-toggleable {background-color: white;}#sk-container-id-1 label.sk-toggleable__label {cursor: pointer;display: block;width: 100%;margin-bottom: 0;padding: 0.3em;box-sizing: border-box;text-align: center;}#sk-container-id-1 label.sk-toggleable__label-arrow:before {content: \"▸\";float: left;margin-right: 0.25em;color: #696969;}#sk-container-id-1 label.sk-toggleable__label-arrow:hover:before {color: black;}#sk-container-id-1 div.sk-estimator:hover label.sk-toggleable__label-arrow:before {color: black;}#sk-container-id-1 div.sk-toggleable__content {max-height: 0;max-width: 0;overflow: hidden;text-align: left;background-color: #f0f8ff;}#sk-container-id-1 div.sk-toggleable__content pre {margin: 0.2em;color: black;border-radius: 0.25em;background-color: #f0f8ff;}#sk-container-id-1 input.sk-toggleable__control:checked~div.sk-toggleable__content {max-height: 200px;max-width: 100%;overflow: auto;}#sk-container-id-1 input.sk-toggleable__control:checked~label.sk-toggleable__label-arrow:before {content: \"▾\";}#sk-container-id-1 div.sk-estimator input.sk-toggleable__control:checked~label.sk-toggleable__label {background-color: #d4ebff;}#sk-container-id-1 div.sk-label input.sk-toggleable__control:checked~label.sk-toggleable__label {background-color: #d4ebff;}#sk-container-id-1 input.sk-hidden--visually {border: 0;clip: rect(1px 1px 1px 1px);clip: rect(1px, 1px, 1px, 1px);height: 1px;margin: -1px;overflow: hidden;padding: 0;position: absolute;width: 1px;}#sk-container-id-1 div.sk-estimator {font-family: monospace;background-color: #f0f8ff;border: 1px dotted black;border-radius: 0.25em;box-sizing: border-box;margin-bottom: 0.5em;}#sk-container-id-1 div.sk-estimator:hover {background-color: #d4ebff;}#sk-container-id-1 div.sk-parallel-item::after {content: \"\";width: 100%;border-bottom: 1px solid gray;flex-grow: 1;}#sk-container-id-1 div.sk-label:hover label.sk-toggleable__label {background-color: #d4ebff;}#sk-container-id-1 div.sk-serial::before {content: \"\";position: absolute;border-left: 1px solid gray;box-sizing: border-box;top: 0;bottom: 0;left: 50%;z-index: 0;}#sk-container-id-1 div.sk-serial {display: flex;flex-direction: column;align-items: center;background-color: white;padding-right: 0.2em;padding-left: 0.2em;position: relative;}#sk-container-id-1 div.sk-item {position: relative;z-index: 1;}#sk-container-id-1 div.sk-parallel {display: flex;align-items: stretch;justify-content: center;background-color: white;position: relative;}#sk-container-id-1 div.sk-item::before, #sk-container-id-1 div.sk-parallel-item::before {content: \"\";position: absolute;border-left: 1px solid gray;box-sizing: border-box;top: 0;bottom: 0;left: 50%;z-index: -1;}#sk-container-id-1 div.sk-parallel-item {display: flex;flex-direction: column;z-index: 1;position: relative;background-color: white;}#sk-container-id-1 div.sk-parallel-item:first-child::after {align-self: flex-end;width: 50%;}#sk-container-id-1 div.sk-parallel-item:last-child::after {align-self: flex-start;width: 50%;}#sk-container-id-1 div.sk-parallel-item:only-child::after {width: 0;}#sk-container-id-1 div.sk-dashed-wrapped {border: 1px dashed gray;margin: 0 0.4em 0.5em 0.4em;box-sizing: border-box;padding-bottom: 0.4em;background-color: white;}#sk-container-id-1 div.sk-label label {font-family: monospace;font-weight: bold;display: inline-block;line-height: 1.2em;}#sk-container-id-1 div.sk-label-container {text-align: center;}#sk-container-id-1 div.sk-container {/* jupyter's `normalize.less` sets `[hidden] { display: none; }` but bootstrap.min.css set `[hidden] { display: none !important; }` so we also need the `!important` here to be able to override the default hidden behavior on the sphinx rendered scikit-learn.org. See: https://github.com/scikit-learn/scikit-learn/issues/21755 */display: inline-block !important;position: relative;}#sk-container-id-1 div.sk-text-repr-fallback {display: none;}</style><div id=\"sk-container-id-1\" class=\"sk-top-container\"><div class=\"sk-text-repr-fallback\"><pre>TfidfVectorizer()</pre><b>In a Jupyter environment, please rerun this cell to show the HTML representation or trust the notebook. <br />On GitHub, the HTML representation is unable to render, please try loading this page with nbviewer.org.</b></div><div class=\"sk-container\" hidden><div class=\"sk-item\"><div class=\"sk-estimator sk-toggleable\"><input class=\"sk-toggleable__control sk-hidden--visually\" id=\"sk-estimator-id-1\" type=\"checkbox\" checked><label for=\"sk-estimator-id-1\" class=\"sk-toggleable__label sk-toggleable__label-arrow\">TfidfVectorizer</label><div class=\"sk-toggleable__content\"><pre>TfidfVectorizer()</pre></div></div></div></div></div>"
      ],
      "text/plain": [
       "TfidfVectorizer()"
      ]
     },
     "execution_count": 21,
     "metadata": {},
     "output_type": "execute_result"
    }
   ],
   "source": [
    "vect = TfidfVectorizer()\n",
    "vect.fit(texts)"
   ]
  },
  {
   "cell_type": "code",
   "execution_count": 22,
   "metadata": {},
   "outputs": [
    {
     "data": {
      "text/plain": [
       "(56345,\n",
       " array([ 7.18528456,  5.91178569, 11.90823778, ..., 11.50277267,\n",
       "        11.50277267, 11.90823778]))"
      ]
     },
     "execution_count": 22,
     "metadata": {},
     "output_type": "execute_result"
    }
   ],
   "source": [
    "len(vect.vocabulary_),vect.idf_"
   ]
  },
  {
   "cell_type": "code",
   "execution_count": 23,
   "metadata": {},
   "outputs": [],
   "source": [
    "truth_vals = np.logical_and(vect.idf_>=2,vect.idf_<=11)"
   ]
  },
  {
   "cell_type": "code",
   "execution_count": 24,
   "metadata": {},
   "outputs": [
    {
     "data": {
      "text/plain": [
       "(array([False,  True]), array([32034, 24311]))"
      ]
     },
     "execution_count": 24,
     "metadata": {},
     "output_type": "execute_result"
    }
   ],
   "source": [
    "np.unique(truth_vals,return_counts=True)"
   ]
  },
  {
   "cell_type": "code",
   "execution_count": 25,
   "metadata": {},
   "outputs": [],
   "source": [
    "idxs = []\n",
    "for i,truth_val in enumerate(truth_vals):\n",
    "    if truth_val:\n",
    "        idxs.append(i)"
   ]
  },
  {
   "cell_type": "code",
   "execution_count": 26,
   "metadata": {},
   "outputs": [
    {
     "data": {
      "text/plain": [
       "[0, 1, 7, 9, 10, 15, 21, 25, 29, 41]"
      ]
     },
     "execution_count": 26,
     "metadata": {},
     "output_type": "execute_result"
    }
   ],
   "source": [
    "idxs[:10]"
   ]
  },
  {
   "cell_type": "code",
   "execution_count": 27,
   "metadata": {},
   "outputs": [
    {
     "name": "stderr",
     "output_type": "stream",
     "text": [
      "100%|█████████████████| 56345/56345 [00:00<00:00, 1199622.64it/s]\n"
     ]
    }
   ],
   "source": [
    "lookup = set(idxs)\n",
    "count = 0\n",
    "tfidf_vocab = dict()\n",
    "for word,num in tqdm(vect.vocabulary_.items()):\n",
    "    if num in lookup:\n",
    "        tfidf_vocab[word] = count\n",
    "        count+=1"
   ]
  },
  {
   "cell_type": "code",
   "execution_count": 30,
   "metadata": {},
   "outputs": [],
   "source": [
    "tfidf_vocab = set(tfidf_vocab.keys())"
   ]
  },
  {
   "cell_type": "code",
   "execution_count": 33,
   "metadata": {},
   "outputs": [
    {
     "name": "stderr",
     "output_type": "stream",
     "text": [
      "100%|█████████████████| 109248/109248 [00:05<00:00, 18355.65it/s]\n"
     ]
    }
   ],
   "source": [
    "prep_text = []\n",
    "lengths = []\n",
    "for para in tqdm(texts):\n",
    "    words = para.split(\" \")\n",
    "    new_para = ''\n",
    "    length = 0\n",
    "    for word in words:\n",
    "        if word in tfidf_vocab:\n",
    "            new_para += word+' '\n",
    "            length+=1\n",
    "    lengths.append(length)\n",
    "    prep_text.append(new_para.strip())"
   ]
  },
  {
   "cell_type": "code",
   "execution_count": 34,
   "metadata": {},
   "outputs": [
    {
     "data": {
      "text/plain": [
       "<AxesSubplot:ylabel='Count'>"
      ]
     },
     "execution_count": 34,
     "metadata": {},
     "output_type": "execute_result"
    },
    {
     "data": {
      "image/png": "[encoded data removed]",
      "text/plain": [
       "<Figure size 640x480 with 1 Axes>"
      ]
     },
     "metadata": {},
     "output_type": "display_data"
    }
   ],
   "source": [
    "sns.histplot(lengths)"
   ]
  },
  {
   "cell_type": "code",
   "execution_count": 38,
   "metadata": {},
   "outputs": [
    {
     "data": {
      "text/plain": [
       "248.0"
      ]
     },
     "execution_count": 38,
     "metadata": {},
     "output_type": "execute_result"
    }
   ],
   "source": [
    "np.percentile(lengths,99.9)"
   ]
  },
  {
   "cell_type": "code",
   "execution_count": 39,
   "metadata": {},
   "outputs": [],
   "source": [
    "tokenizer = tf.keras.preprocessing.text.Tokenizer()\n",
    "tokenizer.fit_on_texts(prep_text)\n",
    "vocab = tokenizer.word_index\n",
    "text_to_sequence = tokenizer.texts_to_sequences(prep_text)\n",
    "padded_data = tf.keras.preprocessing.sequence.pad_sequences(text_to_sequence,padding='post',maxlen=230)"
   ]
  },
  {
   "cell_type": "code",
   "execution_count": 58,
   "metadata": {},
   "outputs": [
    {
     "name": "stdout",
     "output_type": "stream",
     "text": [
      "306 0.9874131051787257\n"
     ]
    }
   ],
   "source": [
    "len(vocab.keys())\n",
    "vocab_size = len(vocab) + 1\n",
    "word_dims = 300\n",
    "\n",
    "embeding = np.zeros((vocab_size,word_dims))\n",
    "\n",
    "count = 0\n",
    "not_found = [] \n",
    "for word,idx in vocab.items():# There is not item with idx 0 in vocab dict\n",
    "    if glove_vec.get(word) is not None:\n",
    "        count+=1\n",
    "        embeding[idx] = glove_vec[word]\n",
    "    else:\n",
    "        not_found.append(word)\n",
    "print(len(vocab)-count, count/len(vocab))"
   ]
  },
  {
   "cell_type": "code",
   "execution_count": 59,
   "metadata": {},
   "outputs": [
    {
     "data": {
      "text/plain": [
       "(24312, 300)"
      ]
     },
     "execution_count": 59,
     "metadata": {},
     "output_type": "execute_result"
    }
   ],
   "source": [
    "embeding.shape"
   ]
  },
  {
   "cell_type": "code",
   "execution_count": 56,
   "metadata": {},
   "outputs": [],
   "source": [
    "from sklearn.model_selection import train_test_split\n",
    "\n",
    "X_final =np.hstack([padded_data,cat_features[:,0].reshape(-1,1),cat_features[:,1].reshape(-1,1),cat_features[:,2].reshape(-1,1),\n",
    "                    cat_features[:,3].reshape(-1,1),cat_features[:,4].reshape(-1,1),num_pred])\n",
    "y_final = y.to_numpy()\n",
    "\n",
    "X_train,X_test,y_train,y_test = train_test_split(X_final,y_final,test_size=0.2,stratify=y_final)"
   ]
  },
  {
   "cell_type": "code",
   "execution_count": 60,
   "metadata": {},
   "outputs": [
    {
     "name": "stderr",
     "output_type": "stream",
     "text": [
      "2022-10-26 22:52:03.251107: I tensorflow/core/platform/cpu_feature_guard.cc:193] This TensorFlow binary is optimized with oneAPI Deep Neural Network Library (oneDNN) to use the following CPU instructions in performance-critical operations:  AVX2 FMA\n",
      "To enable them in other operations, rebuild TensorFlow with the appropriate compiler flags.\n",
      "2022-10-26 22:52:06.555465: I tensorflow/core/common_runtime/gpu/gpu_device.cc:1532] Created device /job:localhost/replica:0/task:0/device:GPU:0 with 10417 MB memory:  -> device: 0, name: NVIDIA GeForce GTX 1080 Ti, pci bus id: 0000:03:00.0, compute capability: 6.1\n"
     ]
    }
   ],
   "source": [
    "in_len = padded_data.shape[1]\n",
    "in_cat_feat = 1\n",
    "num_feat = 2\n",
    "\n",
    "# Defining inputs\n",
    "essay_seq_input_layer = tf.keras.Input(shape=(in_len,),dtype= tf.int32)# The input will be a sequence \n",
    "student_input_layer = tf.keras.Input(shape=(in_cat_feat,),dtype= tf.int32)\n",
    "project_grade_category_input_layer = tf.keras.Input(shape=(in_cat_feat,),dtype= tf.int32)\n",
    "clean_categories_input_layer = tf.keras.Input(shape=(in_cat_feat,),dtype= tf.int32)\n",
    "clean_subcategories_input_layer = tf.keras.Input(shape=(in_cat_feat,),dtype= tf.int32)\n",
    "teacher_prefix_input_layer = tf.keras.Input(shape=(in_cat_feat,),dtype = tf.int32)\n",
    "numerical_input_layer = tf.keras.Input(shape=(num_feat,),dtype = tf.int32)\n",
    "\n",
    "\n",
    "#Defining embbeding layers\n",
    "essay_embbeding_layer = tf.keras.layers.Embedding(input_dim= vocab_size,output_dim = word_dims,weights=[embeding],\n",
    "                                            input_length=in_len, trainable=False)(essay_seq_input_layer)\n",
    "\n",
    "student_embbeding_layer = tf.keras.layers.Embedding(input_dim= len(label_encoders[0])+1,output_dim = 5,\n",
    "                                            input_length=1)(student_input_layer)\n",
    "\n",
    "project_grade_category_embbeding_layer = tf.keras.layers.Embedding(input_dim= len(label_encoders[1])+1,output_dim = 2,\n",
    "                                            input_length=1)(project_grade_category_input_layer)\n",
    "\n",
    "clean_categories_embbeding_layer = tf.keras.layers.Embedding(input_dim= len(label_encoders[2])+1,output_dim = 5,\n",
    "                                            input_length=1)(clean_categories_input_layer)\n",
    "\n",
    "clean_subcategories_embbeding_layer = tf.keras.layers.Embedding(input_dim= len(label_encoders[3])+1,output_dim = 5,\n",
    "                                            input_length=1)(clean_subcategories_input_layer)\n",
    "\n",
    "teacher_prefix_embbeding_layer = tf.keras.layers.Embedding(input_dim= len(label_encoders[4])+1,output_dim = 2,\n",
    "                                            input_length=1)(teacher_prefix_input_layer)\n",
    "\n",
    "# LSTM on embbeding layer\n",
    "lstm = tf.keras.layers.LSTM(units = 20)(essay_embbeding_layer)\n",
    "\n",
    "# Flatten\n",
    "\n",
    "f1 = tf.keras.layers.Flatten()(lstm)\n",
    "f2 = tf.keras.layers.Flatten()(student_embbeding_layer)\n",
    "f3 = tf.keras.layers.Flatten()(project_grade_category_embbeding_layer)\n",
    "f4 = tf.keras.layers.Flatten()(clean_categories_embbeding_layer)\n",
    "f5 = tf.keras.layers.Flatten()(clean_subcategories_embbeding_layer)\n",
    "f6 = tf.keras.layers.Flatten()(teacher_prefix_embbeding_layer)\n",
    "\n",
    "# Dense for numerical\n",
    "f7 = tf.keras.layers.Dense(1,activation='sigmoid')(numerical_input_layer)\n",
    "\n",
    "# Concat\n",
    "concat = tf.keras.layers.concatenate([f1,f2,f3,f4,f5,f6,f7],axis=1)\n",
    "\n",
    "dense_1 = tf.keras.layers.Dense(512,activation='relu')(concat)\n",
    "\n",
    "dropout_1 = tf.keras.layers.Dropout(0.3)(dense_1)\n",
    "\n",
    "dense_2 = tf.keras.layers.Dense(16,activation='relu')(dropout_1)\n",
    "\n",
    "dropout_2 = tf.keras.layers.Dropout(0.3)(dense_2)\n",
    "\n",
    "dense_3 = tf.keras.layers.Dense(8,activation='relu')(dropout_2)\n",
    "\n",
    "output = tf.keras.layers.Dense(1,activation='sigmoid')(dense_3)\n",
    "\n",
    "model = tf.keras.Model([essay_seq_input_layer,\n",
    "                        student_input_layer,\n",
    "                        project_grade_category_input_layer,\n",
    "                        clean_categories_input_layer,\n",
    "                        clean_subcategories_input_layer,\n",
    "                        teacher_prefix_input_layer,\n",
    "                        numerical_input_layer\n",
    "                       ],\n",
    "                        output\n",
    "                      )"
   ]
  },
  {
   "cell_type": "code",
   "execution_count": 62,
   "metadata": {},
   "outputs": [
    {
     "name": "stdout",
     "output_type": "stream",
     "text": [
      "Model: \"model\"\n",
      "__________________________________________________________________________________________________\n",
      " Layer (type)                   Output Shape         Param #     Connected to                     \n",
      "==================================================================================================\n",
      " input_8 (InputLayer)           [(None, 230)]        0           []                               \n",
      "                                                                                                  \n",
      " embedding (Embedding)          (None, 230, 300)     7293600     ['input_8[0][0]']                \n",
      "                                                                                                  \n",
      " input_9 (InputLayer)           [(None, 1)]          0           []                               \n",
      "                                                                                                  \n",
      " input_10 (InputLayer)          [(None, 1)]          0           []                               \n",
      "                                                                                                  \n",
      " input_11 (InputLayer)          [(None, 1)]          0           []                               \n",
      "                                                                                                  \n",
      " input_12 (InputLayer)          [(None, 1)]          0           []                               \n",
      "                                                                                                  \n",
      " input_13 (InputLayer)          [(None, 1)]          0           []                               \n",
      "                                                                                                  \n",
      " lstm (LSTM)                    (None, 20)           25680       ['embedding[0][0]']              \n",
      "                                                                                                  \n",
      " embedding_1 (Embedding)        (None, 1, 5)         260         ['input_9[0][0]']                \n",
      "                                                                                                  \n",
      " embedding_2 (Embedding)        (None, 1, 2)         10          ['input_10[0][0]']               \n",
      "                                                                                                  \n",
      " embedding_3 (Embedding)        (None, 1, 5)         260         ['input_11[0][0]']               \n",
      "                                                                                                  \n",
      " embedding_4 (Embedding)        (None, 1, 5)         2010        ['input_12[0][0]']               \n",
      "                                                                                                  \n",
      " embedding_5 (Embedding)        (None, 1, 2)         12          ['input_13[0][0]']               \n",
      "                                                                                                  \n",
      " input_14 (InputLayer)          [(None, 2)]          0           []                               \n",
      "                                                                                                  \n",
      " flatten (Flatten)              (None, 20)           0           ['lstm[0][0]']                   \n",
      "                                                                                                  \n",
      " flatten_1 (Flatten)            (None, 5)            0           ['embedding_1[0][0]']            \n",
      "                                                                                                  \n",
      " flatten_2 (Flatten)            (None, 2)            0           ['embedding_2[0][0]']            \n",
      "                                                                                                  \n",
      " flatten_3 (Flatten)            (None, 5)            0           ['embedding_3[0][0]']            \n",
      "                                                                                                  \n",
      " flatten_4 (Flatten)            (None, 5)            0           ['embedding_4[0][0]']            \n",
      "                                                                                                  \n",
      " flatten_5 (Flatten)            (None, 2)            0           ['embedding_5[0][0]']            \n",
      "                                                                                                  \n",
      " dense (Dense)                  (None, 1)            3           ['input_14[0][0]']               \n",
      "                                                                                                  \n",
      " concatenate (Concatenate)      (None, 40)           0           ['flatten[0][0]',                \n",
      "                                                                  'flatten_1[0][0]',              \n",
      "                                                                  'flatten_2[0][0]',              \n",
      "                                                                  'flatten_3[0][0]',              \n",
      "                                                                  'flatten_4[0][0]',              \n",
      "                                                                  'flatten_5[0][0]',              \n",
      "                                                                  'dense[0][0]']                  \n",
      "                                                                                                  \n",
      " dense_1 (Dense)                (None, 512)          20992       ['concatenate[0][0]']            \n",
      "                                                                                                  \n",
      " dropout (Dropout)              (None, 512)          0           ['dense_1[0][0]']                \n",
      "                                                                                                  \n",
      " dense_2 (Dense)                (None, 16)           8208        ['dropout[0][0]']                \n",
      "                                                                                                  \n",
      " dropout_1 (Dropout)            (None, 16)           0           ['dense_2[0][0]']                \n",
      "                                                                                                  \n",
      " dense_3 (Dense)                (None, 8)            136         ['dropout_1[0][0]']              \n",
      "                                                                                                  \n",
      " dense_4 (Dense)                (None, 1)            9           ['dense_3[0][0]']                \n",
      "                                                                                                  \n",
      "==================================================================================================\n",
      "Total params: 7,351,180\n",
      "Trainable params: 57,580\n",
      "Non-trainable params: 7,293,600\n",
      "__________________________________________________________________________________________________\n"
     ]
    }
   ],
   "source": [
    "model.summary()"
   ]
  },
  {
   "cell_type": "code",
   "execution_count": 63,
   "metadata": {},
   "outputs": [
    {
     "name": "stdout",
     "output_type": "stream",
     "text": [
      "Epoch 1/25\n"
     ]
    },
    {
     "name": "stderr",
     "output_type": "stream",
     "text": [
      "2022-10-26 22:52:47.914363: I tensorflow/stream_executor/cuda/cuda_dnn.cc:384] Loaded cuDNN version 8400\n"
     ]
    },
    {
     "name": "stdout",
     "output_type": "stream",
     "text": [
      "683/683 [==============================] - 20s 22ms/step - loss: 0.4433 - binary_accuracy: 0.8474 - auc: 0.5186 - val_loss: 0.4231 - val_binary_accuracy: 0.8486 - val_auc: 0.5581\n",
      "Epoch 2/25\n",
      "683/683 [==============================] - 14s 21ms/step - loss: 0.4254 - binary_accuracy: 0.8486 - auc: 0.5552 - val_loss: 0.4227 - val_binary_accuracy: 0.8486 - val_auc: 0.5708\n",
      "Epoch 3/25\n",
      "683/683 [==============================] - 15s 21ms/step - loss: 0.4215 - binary_accuracy: 0.8486 - auc: 0.5734 - val_loss: 0.4275 - val_binary_accuracy: 0.8486 - val_auc: 0.5658\n",
      "Epoch 4/25\n",
      "683/683 [==============================] - 15s 21ms/step - loss: 0.4117 - binary_accuracy: 0.8486 - auc: 0.6325 - val_loss: 0.4099 - val_binary_accuracy: 0.8486 - val_auc: 0.6632\n",
      "Epoch 5/25\n",
      "683/683 [==============================] - 15s 21ms/step - loss: 0.3998 - binary_accuracy: 0.8481 - auc: 0.6682 - val_loss: 0.3966 - val_binary_accuracy: 0.8486 - val_auc: 0.6950\n",
      "Epoch 6/25\n",
      "683/683 [==============================] - 15s 21ms/step - loss: 0.3885 - binary_accuracy: 0.8486 - auc: 0.7037 - val_loss: 0.3920 - val_binary_accuracy: 0.8483 - val_auc: 0.7040\n",
      "Epoch 7/25\n",
      "683/683 [==============================] - 15s 22ms/step - loss: 0.3798 - binary_accuracy: 0.8486 - auc: 0.7208 - val_loss: 0.4005 - val_binary_accuracy: 0.8484 - val_auc: 0.7231\n",
      "Epoch 8/25\n",
      "683/683 [==============================] - 15s 21ms/step - loss: 0.3748 - binary_accuracy: 0.8497 - auc: 0.7342 - val_loss: 0.3806 - val_binary_accuracy: 0.8486 - val_auc: 0.7308\n",
      "Epoch 9/25\n",
      "683/683 [==============================] - 15s 21ms/step - loss: 0.3701 - binary_accuracy: 0.8506 - auc: 0.7438 - val_loss: 0.3783 - val_binary_accuracy: 0.8484 - val_auc: 0.7337\n",
      "Epoch 10/25\n",
      "683/683 [==============================] - 15s 22ms/step - loss: 0.3660 - binary_accuracy: 0.8521 - auc: 0.7514 - val_loss: 0.3809 - val_binary_accuracy: 0.8488 - val_auc: 0.7373\n",
      "Epoch 11/25\n",
      "683/683 [==============================] - 15s 21ms/step - loss: 0.3620 - binary_accuracy: 0.8538 - auc: 0.7605 - val_loss: 0.3786 - val_binary_accuracy: 0.8502 - val_auc: 0.7395\n",
      "Epoch 12/25\n",
      "683/683 [==============================] - 15s 21ms/step - loss: 0.3577 - binary_accuracy: 0.8564 - auc: 0.7680 - val_loss: 0.3837 - val_binary_accuracy: 0.8489 - val_auc: 0.7423\n",
      "Epoch 12: early stopping\n"
     ]
    },
    {
     "data": {
      "text/plain": [
       "<keras.callbacks.History at 0x1553b0cbb670>"
      ]
     },
     "execution_count": 63,
     "metadata": {},
     "output_type": "execute_result"
    }
   ],
   "source": [
    "\n",
    "optimse = tf.keras.optimizers.Adam(learning_rate=0.001)\n",
    "early_stop = tf.keras.callbacks.EarlyStopping(monitor='val_auc', min_delta=0.01, patience=3, verbose=1)\n",
    "model.compile(optimizer = optimse , loss='binary_crossentropy' , metrics= ['binary_accuracy' , tf.metrics.AUC(name='auc')])\n",
    "\n",
    "model.fit([X_train[:,:230],X_train[:,230:231],X_train[:,231:232],X_train[:,232:233],X_train[:,233:234],X_train[:,234:235],X_train[:,235:237]],\n",
    "          y_train,validation_data=([X_test[:,:230],X_test[:,230:231],X_test[:,231:232],X_test[:,232:233],X_test[:,233:234],X_test[:,234:235],X_test[:,235:237]],\n",
    "                                   y_test),batch_size = 128, epochs = 25,callbacks = [early_stop ])"
   ]
  },
  {
   "cell_type": "markdown",
   "metadata": {},
   "source": [
    "# <font color='red'> Model-3 </font>"
   ]
  },
  {
   "cell_type": "code",
   "execution_count": 43,
   "metadata": {},
   "outputs": [],
   "source": [
    "#in this model you can use the text vectorized data from model1 \n",
    "#for other than text data consider the following steps\n",
    "# you have to perform one hot encoding of categorical features. You can use onehotencoder() or countvectorizer() for the same.\n",
    "# Stack up standardised numerical features and all the one hot encoded categorical features\n",
    "#the input to conv1d layer is 3d, you can convert your 2d data to 3d using np.newaxis\n",
    "# Note - deep learning models won't work with sparse features, you have to convert them to dense features before fitting in the model."
   ]
  },
  {
   "cell_type": "markdown",
   "metadata": {},
   "source": [
    "# One Host encoding of other features"
   ]
  },
  {
   "cell_type": "code",
   "execution_count": 53,
   "metadata": {},
   "outputs": [
    {
     "data": {
      "text/plain": [
       "Index(['school_state', 'teacher_prefix', 'project_grade_category',\n",
       "       'teacher_number_of_previously_posted_projects', 'clean_categories',\n",
       "       'clean_subcategories', 'essay', 'price'],\n",
       "      dtype='object')"
      ]
     },
     "execution_count": 53,
     "metadata": {},
     "output_type": "execute_result"
    }
   ],
   "source": [
    "import tensorflow as tf\n",
    "import pandas as pd\n",
    "df = pd.read_csv('preprocessed_data.csv')\n",
    "y  = df[\"project_is_approved\"]\n",
    "X = df.drop(['project_is_approved'],axis=1)\n",
    "X.columns"
   ]
  },
  {
   "cell_type": "code",
   "execution_count": 54,
   "metadata": {},
   "outputs": [],
   "source": [
    "from sklearn.preprocessing import OneHotEncoder\n",
    "encoder = OneHotEncoder(handle_unknown = 'ignore',sparse=False)"
   ]
  },
  {
   "cell_type": "code",
   "execution_count": 55,
   "metadata": {},
   "outputs": [],
   "source": [
    "categorical_features = ['school_state', 'project_grade_category','clean_categories','clean_subcategories','teacher_prefix']"
   ]
  },
  {
   "cell_type": "code",
   "execution_count": 56,
   "metadata": {},
   "outputs": [],
   "source": [
    "encoder_school_state = OneHotEncoder(handle_unknown = 'ignore',sparse=False)\n",
    "school_state_onehot = encoder_school_state.fit_transform(X['school_state'].to_numpy().reshape(-1,1))"
   ]
  },
  {
   "cell_type": "code",
   "execution_count": 57,
   "metadata": {},
   "outputs": [],
   "source": [
    "encoder_project_grade_category = OneHotEncoder(handle_unknown = 'ignore',sparse=False)\n",
    "project_grade_category_onehot = encoder_project_grade_category.fit_transform(X['project_grade_category'].to_numpy().reshape(-1,1))"
   ]
  },
  {
   "cell_type": "code",
   "execution_count": 58,
   "metadata": {},
   "outputs": [],
   "source": [
    "encoder_clean_categories = OneHotEncoder(handle_unknown = 'ignore',sparse=False)\n",
    "clean_categories_onehot = encoder_clean_categories.fit_transform(X['clean_categories'].to_numpy().reshape(-1,1))"
   ]
  },
  {
   "cell_type": "code",
   "execution_count": 59,
   "metadata": {},
   "outputs": [],
   "source": [
    "encoder_clean_subcategories = OneHotEncoder(handle_unknown = 'ignore',sparse=False)\n",
    "clean_subcategories_onehot = encoder_clean_subcategories.fit_transform(X['clean_subcategories'].to_numpy().reshape(-1,1))"
   ]
  },
  {
   "cell_type": "code",
   "execution_count": 60,
   "metadata": {},
   "outputs": [],
   "source": [
    "encoder_teacher_prefix = OneHotEncoder(handle_unknown = 'ignore',sparse=False)\n",
    "teacher_prefix_onehot = encoder_teacher_prefix.fit_transform(X['teacher_prefix'].to_numpy().reshape(-1,1))"
   ]
  },
  {
   "cell_type": "code",
   "execution_count": 61,
   "metadata": {},
   "outputs": [],
   "source": [
    "other_feature = np.hstack((school_state_onehot,project_grade_category_onehot,clean_categories_onehot\n",
    "                           ,clean_subcategories_onehot,teacher_prefix_onehot))"
   ]
  },
  {
   "cell_type": "code",
   "execution_count": 62,
   "metadata": {},
   "outputs": [
    {
     "data": {
      "text/plain": [
       "(109248, 512)"
      ]
     },
     "execution_count": 62,
     "metadata": {},
     "output_type": "execute_result"
    }
   ],
   "source": [
    "other_feature.shape"
   ]
  },
  {
   "cell_type": "code",
   "execution_count": 63,
   "metadata": {},
   "outputs": [
    {
     "name": "stdout",
     "output_type": "stream",
     "text": [
      "109248\n"
     ]
    }
   ],
   "source": [
    "texts = X['essay'].to_list()\n",
    "print(len(texts))\n",
    "tokenizer = tf.keras.preprocessing.text.Tokenizer()\n",
    "tokenizer.fit_on_texts(texts)\n",
    "vocab = tokenizer.word_index\n",
    "text_to_sequence = tokenizer.texts_to_sequences(texts)\n",
    "padded_data = tf.keras.preprocessing.sequence.pad_sequences(text_to_sequence,padding='post',maxlen=230)"
   ]
  },
  {
   "cell_type": "code",
   "execution_count": 64,
   "metadata": {},
   "outputs": [
    {
     "name": "stdout",
     "output_type": "stream",
     "text": [
      "6744 0.8803852361611181\n"
     ]
    }
   ],
   "source": [
    "vocab_size = len(vocab) + 1\n",
    "word_dims = 300\n",
    "\n",
    "embeding = np.zeros((vocab_size,word_dims))\n",
    "\n",
    "count = 0\n",
    "not_found = [] \n",
    "for word,idx in vocab.items():# There is not item with idx 0 in vocab dict\n",
    "    if glove_vec.get(word) is not None:\n",
    "        count+=1\n",
    "        embeding[idx] = glove_vec[word]\n",
    "    else:\n",
    "        not_found.append(word)\n",
    "print(len(vocab)-count, count/len(vocab))"
   ]
  },
  {
   "cell_type": "code",
   "execution_count": 65,
   "metadata": {},
   "outputs": [
    {
     "data": {
      "text/plain": [
       "(109248, 230)"
      ]
     },
     "execution_count": 65,
     "metadata": {},
     "output_type": "execute_result"
    }
   ],
   "source": [
    "padded_data.shape"
   ]
  },
  {
   "cell_type": "code",
   "execution_count": 66,
   "metadata": {},
   "outputs": [],
   "source": [
    "X_final = np.hstack((padded_data,other_feature))\n",
    "y_final = y.to_numpy()\n",
    "\n",
    "from sklearn.model_selection import train_test_split\n",
    "\n",
    "X_train,X_test,y_train,y_test = train_test_split(X_final,y_final,test_size=0.2,stratify=y_final)"
   ]
  },
  {
   "cell_type": "code",
   "execution_count": 67,
   "metadata": {},
   "outputs": [
    {
     "data": {
      "text/plain": [
       "(109248, 742)"
      ]
     },
     "execution_count": 67,
     "metadata": {},
     "output_type": "execute_result"
    }
   ],
   "source": [
    "X_final.shape"
   ]
  },
  {
   "cell_type": "markdown",
   "metadata": {},
   "source": [
    "<img src='https://i.imgur.com/fkQ8nGo.png'>\n",
    "ref: https://i.imgur.com/fkQ8nGo.png"
   ]
  },
  {
   "cell_type": "code",
   "execution_count": 73,
   "metadata": {},
   "outputs": [],
   "source": [
    "in_len = padded_data.shape[1]\n",
    "in_other_len = other_feature.shape[1]\n",
    "\n",
    "# Defining inputs\n",
    "essay_seq_input_layer = tf.keras.Input(shape=(in_len,),dtype= tf.int32)# The input will be a sequence \n",
    "other_inputs_layers = tf.keras.Input(shape=(in_other_len,1,))\n",
    "\n",
    "#Defining embbeding layers\n",
    "essay_embbeding_layer = tf.keras.layers.Embedding(input_dim= vocab_size,output_dim = word_dims,weights=[embeding],\n",
    "                                            input_length=in_len, trainable=False)(essay_seq_input_layer)\n",
    "\n",
    "conv_1d_layer_1 = tf.keras.layers.Conv1D(filters = 64, kernel_size = 5, strides = 3, activation = \"relu\")(other_inputs_layers)\n",
    "conv_1d_layer_2 = tf.keras.layers.Conv1D(filters = 64, kernel_size = 5, strides = 1, activation = \"relu\")(conv_1d_layer_1)\n",
    "\n",
    "\n",
    "# LSTM on embbeding layer\n",
    "lstm = tf.keras.layers.LSTM(units = 20)(essay_embbeding_layer)\n",
    "\n",
    "# Flatten\n",
    "\n",
    "f1 = tf.keras.layers.Flatten()(lstm)\n",
    "f2 = tf.keras.layers.Flatten()(conv_1d_layer_2)\n",
    "\n",
    "# Concat\n",
    "concat = tf.keras.layers.concatenate([f1,f2],axis=1)\n",
    "\n",
    "dense_1 = tf.keras.layers.Dense(64,activation='relu')(concat)\n",
    "\n",
    "dropout_1 = tf.keras.layers.Dropout(0.3)(dense_1)\n",
    "\n",
    "dense_2 = tf.keras.layers.Dense(16,activation='relu')(dropout_1)\n",
    "\n",
    "dropout_2 = tf.keras.layers.Dropout(0.3)(dense_2)\n",
    "\n",
    "dense_3 = tf.keras.layers.Dense(8,activation='relu')(dropout_2)\n",
    "\n",
    "output = tf.keras.layers.Dense(1,activation='sigmoid')(dense_3)\n",
    "\n",
    "model_3 = tf.keras.Model([essay_seq_input_layer,\n",
    "                        other_inputs_layers\n",
    "                       ],\n",
    "                        output\n",
    "                      )"
   ]
  },
  {
   "cell_type": "code",
   "execution_count": 74,
   "metadata": {},
   "outputs": [
    {
     "name": "stdout",
     "output_type": "stream",
     "text": [
      "Model: \"model_2\"\n",
      "__________________________________________________________________________________________________\n",
      " Layer (type)                   Output Shape         Param #     Connected to                     \n",
      "==================================================================================================\n",
      " input_16 (InputLayer)          [(None, 230)]        0           []                               \n",
      "                                                                                                  \n",
      " input_17 (InputLayer)          [(None, 512, 1)]     0           []                               \n",
      "                                                                                                  \n",
      " embedding_10 (Embedding)       (None, 230, 300)     16914600    ['input_16[0][0]']               \n",
      "                                                                                                  \n",
      " conv1d_5 (Conv1D)              (None, 170, 64)      384         ['input_17[0][0]']               \n",
      "                                                                                                  \n",
      " lstm_2 (LSTM)                  (None, 20)           25680       ['embedding_10[0][0]']           \n",
      "                                                                                                  \n",
      " conv1d_6 (Conv1D)              (None, 166, 64)      20544       ['conv1d_5[0][0]']               \n",
      "                                                                                                  \n",
      " flatten_8 (Flatten)            (None, 20)           0           ['lstm_2[0][0]']                 \n",
      "                                                                                                  \n",
      " flatten_9 (Flatten)            (None, 10624)        0           ['conv1d_6[0][0]']               \n",
      "                                                                                                  \n",
      " concatenate_2 (Concatenate)    (None, 10644)        0           ['flatten_8[0][0]',              \n",
      "                                                                  'flatten_9[0][0]']              \n",
      "                                                                                                  \n",
      " dense_9 (Dense)                (None, 64)           681280      ['concatenate_2[0][0]']          \n",
      "                                                                                                  \n",
      " dropout_4 (Dropout)            (None, 64)           0           ['dense_9[0][0]']                \n",
      "                                                                                                  \n",
      " dense_10 (Dense)               (None, 16)           1040        ['dropout_4[0][0]']              \n",
      "                                                                                                  \n",
      " dropout_5 (Dropout)            (None, 16)           0           ['dense_10[0][0]']               \n",
      "                                                                                                  \n",
      " dense_11 (Dense)               (None, 8)            136         ['dropout_5[0][0]']              \n",
      "                                                                                                  \n",
      " dense_12 (Dense)               (None, 1)            9           ['dense_11[0][0]']               \n",
      "                                                                                                  \n",
      "==================================================================================================\n",
      "Total params: 17,643,673\n",
      "Trainable params: 729,073\n",
      "Non-trainable params: 16,914,600\n",
      "__________________________________________________________________________________________________\n"
     ]
    }
   ],
   "source": [
    "model_3.summary()"
   ]
  },
  {
   "cell_type": "code",
   "execution_count": 76,
   "metadata": {},
   "outputs": [
    {
     "name": "stdout",
     "output_type": "stream",
     "text": [
      "Epoch 1/25\n"
     ]
    },
    {
     "name": "stderr",
     "output_type": "stream",
     "text": [
      "2022-10-27 00:48:49.356343: I tensorflow/core/platform/default/subprocess.cc:304] Start cannot spawn child process: No such file or directory\n"
     ]
    },
    {
     "name": "stdout",
     "output_type": "stream",
     "text": [
      "683/683 [==============================] - 20s 21ms/step - loss: 0.4462 - binary_accuracy: 0.8443 - auc: 0.5284 - val_loss: 0.4387 - val_binary_accuracy: 0.8486 - val_auc: 0.5809\n",
      "Epoch 2/25\n",
      "683/683 [==============================] - 14s 21ms/step - loss: 0.4258 - binary_accuracy: 0.8486 - auc: 0.5582 - val_loss: 0.4288 - val_binary_accuracy: 0.8486 - val_auc: 0.5760\n",
      "Epoch 3/25\n",
      "683/683 [==============================] - 14s 21ms/step - loss: 0.3970 - binary_accuracy: 0.8483 - auc: 0.6781 - val_loss: 0.3983 - val_binary_accuracy: 0.8486 - val_auc: 0.7255\n",
      "Epoch 4/25\n",
      "683/683 [==============================] - 14s 21ms/step - loss: 0.3784 - binary_accuracy: 0.8485 - auc: 0.7227 - val_loss: 0.3821 - val_binary_accuracy: 0.8489 - val_auc: 0.7424\n",
      "Epoch 5/25\n",
      "683/683 [==============================] - 14s 21ms/step - loss: 0.3723 - binary_accuracy: 0.8501 - auc: 0.7360 - val_loss: 0.3814 - val_binary_accuracy: 0.8498 - val_auc: 0.7455\n",
      "Epoch 6/25\n",
      "683/683 [==============================] - 14s 21ms/step - loss: 0.3678 - binary_accuracy: 0.8523 - auc: 0.7468 - val_loss: 0.3701 - val_binary_accuracy: 0.8518 - val_auc: 0.7484\n",
      "Epoch 7/25\n",
      "683/683 [==============================] - 14s 21ms/step - loss: 0.3645 - binary_accuracy: 0.8550 - auc: 0.7531 - val_loss: 0.3746 - val_binary_accuracy: 0.8487 - val_auc: 0.7499\n",
      "Epoch 7: early stopping\n"
     ]
    },
    {
     "data": {
      "text/plain": [
       "<keras.callbacks.History at 0x14a4b938ce20>"
      ]
     },
     "execution_count": 76,
     "metadata": {},
     "output_type": "execute_result"
    }
   ],
   "source": [
    "optimse = tf.keras.optimizers.Adam(learning_rate=0.001)\n",
    "early_stop = tf.keras.callbacks.EarlyStopping(monitor='val_auc', min_delta=0.01, patience=3, verbose=1)\n",
    "model_3.compile(optimizer = optimse , loss='binary_crossentropy' , metrics= ['binary_accuracy' , tf.metrics.AUC(name='auc')])\n",
    "\n",
    "model_3.fit([X_train[:,:230],X_train[:,230:]],y_train,validation_data=([X_test[:,:230],X_test[:,230:]],y_test),\n",
    "            batch_size = 128, epochs = 25,callbacks = [early_stop ])"
   ]
  },
  {
   "cell_type": "markdown",
   "metadata": {},
   "source": [
    "<style type=\"text/css\">\n",
    ".tg  {border-collapse:collapse;border-spacing:0;}\n",
    ".tg td{border-color:black;border-style:solid;border-width:1px;font-family:Arial, sans-serif;font-size:14px;\n",
    "  overflow:hidden;padding:10px 5px;word-break:normal;}\n",
    ".tg th{border-color:black;border-style:solid;border-width:1px;font-family:Arial, sans-serif;font-size:14px;\n",
    "  font-weight:normal;overflow:hidden;padding:10px 5px;word-break:normal;}\n",
    ".tg .tg-0pky{border-color:inherit;text-align:left;vertical-align:top}\n",
    "</style>\n",
    "<table class=\"tg\">\n",
    "<thead>\n",
    "  <tr>\n",
    "    <th class=\"tg-0pky\"></th>\n",
    "    <th class=\"tg-0pky\">Best Validation loss<br></th>\n",
    "    <th class=\"tg-0pky\">Best Train Loss</th>\n",
    "    <th class=\"tg-0pky\">Best Validation accuray</th>\n",
    "    <th class=\"tg-0pky\">Best Validation AUC<br></th>\n",
    "  </tr>\n",
    "</thead>\n",
    "<tbody>\n",
    "  <tr>\n",
    "    <td class=\"tg-0pky\">Model 1</td>\n",
    "    <td class=\"tg-0pky\">0.3740</td>\n",
    "    <td class=\"tg-0pky\">0.3492</td>\n",
    "    <td class=\"tg-0pky\">0.8488</td>\n",
    "    <td class=\"tg-0pky\">0.7546</td>\n",
    "  </tr>\n",
    "  <tr>\n",
    "    <td class=\"tg-0pky\">Model 2</td>\n",
    "    <td class=\"tg-0pky\">0.3783</td>\n",
    "    <td class=\"tg-0pky\">0.3577</td>\n",
    "    <td class=\"tg-0pky\">0.8502</td>\n",
    "    <td class=\"tg-0pky\">0.7423</td>\n",
    "  </tr>\n",
    "  <tr>\n",
    "    <td class=\"tg-0pky\">Model 3</td>\n",
    "    <td class=\"tg-0pky\">0.3701</td>\n",
    "    <td class=\"tg-0pky\">0.3645</td>\n",
    "    <td class=\"tg-0pky\">0.8518</td>\n",
    "    <td class=\"tg-0pky\">0.7499</td>\n",
    "  </tr>\n",
    "</tbody>\n",
    "</table>"
   ]
  },
  {
   "cell_type": "markdown",
   "metadata": {},
   "source": [
    "Model 3 has best validation loss and best validation accuracy but Model 1 has best ACU of 0.7546"
   ]
  },
  {
   "cell_type": "code",
   "execution_count": null,
   "metadata": {},
   "outputs": [],
   "source": []
  }
 ],
 "metadata": {
  "kernelspec": {
   "display_name": "Python 3 (ipykernel)",
   "language": "python",
   "name": "python3"
  },
  "language_info": {
   "codemirror_mode": {
    "name": "ipython",
    "version": 3
   },
   "file_extension": ".py",
   "mimetype": "text/x-python",
   "name": "python",
   "nbconvert_exporter": "python",
   "pygments_lexer": "ipython3",
   "version": "3.9.0"
  }
 },
 "nbformat": 4,
 "nbformat_minor": 4
}
