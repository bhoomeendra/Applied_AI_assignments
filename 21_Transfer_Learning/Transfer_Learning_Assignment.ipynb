{
 "cells": [
  {
   "cell_type": "markdown",
   "metadata": {},
   "source": [
    "# Transfer Learning Assignment"
   ]
  },
  {
   "cell_type": "markdown",
   "metadata": {
    "id": "_0zs3TflcAEr"
   },
   "source": [
    "Download all the data in this <a href='https://drive.google.com/open?id=1Z4TyI7FcFVEx8qdl4jO9qxvxaqLSqoEu'>rar_file</a> , it contains all the data required for the assignment.\n",
    " When you unrar the file you'll get the files in the following format: <b>path/to/the/image.tif,category</b>\n",
    "            \n",
    "    where the categories are numbered 0 to 15, in the following order:\n",
    "<pre>\n",
    "    <b>0 letter\n",
    "    1 form\n",
    "    2 email\n",
    "    3 handwritten\n",
    "    4 advertisement\n",
    "    5 scientific report\n",
    "    6 scientific publication\n",
    "    7 specification\n",
    "    8 file folder\n",
    "    9 news article\n",
    "    10 budget\n",
    "    11 invoice\n",
    "    12 presentation\n",
    "    13 questionnaire\n",
    "    14 resume\n",
    "    15 memo</b>\n",
    "    \n",
    "</pre>"
   ]
  },
  {
   "cell_type": "markdown",
   "metadata": {
    "id": "RokPmWqWjAn7"
   },
   "source": [
    "There is a file named as 'labels_final.csv' , it consists of two columns. First column is path which is the required path to the images and second is the class label."
   ]
  },
  {
   "cell_type": "code",
   "execution_count": 1,
   "metadata": {
    "id": "vOLj3GWxgWyj"
   },
   "outputs": [],
   "source": [
    "#the dataset that you are dealing with is quite large 3.7 GB and hence there are two methods to import the data to Colab \n",
    "# Method 1- you can use gdown module to get the data directly from Google drive to Colab\n",
    "# the syntax is as follows !gdown --id file_id , for ex - running the below cell will import the rvl-cdip.rar dataset\n"
   ]
  },
  {
   "cell_type": "code",
   "execution_count": 2,
   "metadata": {
    "id": "mjZnQxBPiaBc"
   },
   "outputs": [],
   "source": [
    "#!gdown --id 1Z4TyI7FcFVEx8qdl4jO9qxvxaqLSqoEu"
   ]
  },
  {
   "cell_type": "code",
   "execution_count": 3,
   "metadata": {
    "id": "kFGm5RcdhTY1"
   },
   "outputs": [],
   "source": [
    "# Method -2 you can also import the data using wget function\n",
    "#https://www.youtube.com/watch?v=BPUfVq7RaY8\n"
   ]
  },
  {
   "cell_type": "markdown",
   "metadata": {
    "id": "SseYSo0oixjo"
   },
   "source": [
    "## 2. On this image data, you have to train 3 types of models as given below You have to split the data into Train and Validation data."
   ]
  },
  {
   "cell_type": "code",
   "execution_count": 1,
   "metadata": {
    "id": "Bu1d-s96iy_l"
   },
   "outputs": [],
   "source": [
    "#import all the required libraries\n",
    "import tensorflow as tf\n",
    "import os\n",
    "import numpy as np\n",
    "import pandas as pd\n",
    "\n",
    "df=pd.read_csv('labels_final.csv',dtype=str)\n"
   ]
  },
  {
   "cell_type": "code",
   "execution_count": 2,
   "metadata": {},
   "outputs": [
    {
     "data": {
      "text/html": [
       "<div>\n",
       "<style scoped>\n",
       "    .dataframe tbody tr th:only-of-type {\n",
       "        vertical-align: middle;\n",
       "    }\n",
       "\n",
       "    .dataframe tbody tr th {\n",
       "        vertical-align: top;\n",
       "    }\n",
       "\n",
       "    .dataframe thead th {\n",
       "        text-align: right;\n",
       "    }\n",
       "</style>\n",
       "<table border=\"1\" class=\"dataframe\">\n",
       "  <thead>\n",
       "    <tr style=\"text-align: right;\">\n",
       "      <th></th>\n",
       "      <th>path</th>\n",
       "      <th>label</th>\n",
       "    </tr>\n",
       "  </thead>\n",
       "  <tbody>\n",
       "    <tr>\n",
       "      <th>0</th>\n",
       "      <td>imagesv/v/o/h/voh71d00/509132755+-2755.tif</td>\n",
       "      <td>3</td>\n",
       "    </tr>\n",
       "    <tr>\n",
       "      <th>1</th>\n",
       "      <td>imagesl/l/x/t/lxt19d00/502213303.tif</td>\n",
       "      <td>3</td>\n",
       "    </tr>\n",
       "    <tr>\n",
       "      <th>2</th>\n",
       "      <td>imagesx/x/e/d/xed05a00/2075325674.tif</td>\n",
       "      <td>2</td>\n",
       "    </tr>\n",
       "    <tr>\n",
       "      <th>3</th>\n",
       "      <td>imageso/o/j/b/ojb60d00/517511301+-1301.tif</td>\n",
       "      <td>3</td>\n",
       "    </tr>\n",
       "    <tr>\n",
       "      <th>4</th>\n",
       "      <td>imagesq/q/z/k/qzk17e00/2031320195.tif</td>\n",
       "      <td>7</td>\n",
       "    </tr>\n",
       "  </tbody>\n",
       "</table>\n",
       "</div>"
      ],
      "text/plain": [
       "                                         path label\n",
       "0  imagesv/v/o/h/voh71d00/509132755+-2755.tif     3\n",
       "1        imagesl/l/x/t/lxt19d00/502213303.tif     3\n",
       "2       imagesx/x/e/d/xed05a00/2075325674.tif     2\n",
       "3  imageso/o/j/b/ojb60d00/517511301+-1301.tif     3\n",
       "4       imagesq/q/z/k/qzk17e00/2031320195.tif     7"
      ]
     },
     "execution_count": 2,
     "metadata": {},
     "output_type": "execute_result"
    }
   ],
   "source": [
    "df.head()"
   ]
  },
  {
   "cell_type": "markdown",
   "metadata": {},
   "source": [
    "# Initial visulaizatiosn distribtuion or number or points in each class"
   ]
  },
  {
   "cell_type": "code",
   "execution_count": 3,
   "metadata": {},
   "outputs": [],
   "source": [
    "idx_label_map={ 0 :\"letter\",\n",
    "    1 :\"form\",\n",
    "    2 :\"email\",\n",
    "    3 :\"handwritten\",\n",
    "    4 :\"advertisement\",\n",
    "    5 :\"scientific_report\",\n",
    "    6 :\"scientific_publication\",\n",
    "    7 :\"specification\",\n",
    "    8 :\"file_folder\",\n",
    "    9 :\"news_article\",\n",
    "    10 :\"budget\",\n",
    "    11 :\"invoice\",\n",
    "    12 :\"presentation\",\n",
    "    13 :\"questionnaire\",\n",
    "    14 :\"resume\",\n",
    "    15: \"memo\"}"
   ]
  },
  {
   "cell_type": "markdown",
   "metadata": {},
   "source": [
    "import os\n",
    "tf_base = '/scratch/bbs/tf_folder_struct/'\n",
    "for key,val in idx_label_map.items():\n",
    "    os.mkdir(os.path.join(tf_base,val))"
   ]
  },
  {
   "cell_type": "markdown",
   "metadata": {},
   "source": [
    "# Sanity check\n",
    "To check in paths are correct or not "
   ]
  },
  {
   "cell_type": "code",
   "execution_count": 7,
   "metadata": {},
   "outputs": [
    {
     "data": {
      "text/plain": [
       "<matplotlib.image.AxesImage at 0x150d2a4ec6d0>"
      ]
     },
     "execution_count": 7,
     "metadata": {},
     "output_type": "execute_result"
    },
    {
     "data": {
      "image/png": "[encoded data removed]",
      "text/plain": [
       "<Figure size 640x480 with 1 Axes>"
      ]
     },
     "metadata": {},
     "output_type": "display_data"
    }
   ],
   "source": [
    "import pathlib\n",
    "base_path = '/scratch/bbs/data/data_final/'\n",
    "data_root = pathlib.Path(base_path)\n",
    "# Merge this before the paths of in the dataframe\n",
    "image_path = data_root/pathlib.Path(df.iloc[0]['path'])\n",
    "import matplotlib.pyplot as plt\n",
    "from PIL import Image\n",
    "im = Image.open(image_path)\n",
    "# show the image\n",
    "plt.imshow(im,cmap='gray')"
   ]
  },
  {
   "cell_type": "markdown",
   "metadata": {},
   "source": [
    "https://www.tensorflow.org/api_docs/python/tf/keras/utils/image_dataset_from_directory"
   ]
  },
  {
   "cell_type": "markdown",
   "metadata": {},
   "source": [
    "from tqdm import tqdm\n",
    "img_paths = []\n",
    "img_labels = []\n",
    "for i in tqdm(range(len(df))):\n",
    "    path,label = df.iloc[i]['path'],df.iloc[i]['label']\n",
    "    img_paths.append(path)\n",
    "    img_labels.append(label)"
   ]
  },
  {
   "cell_type": "markdown",
   "metadata": {},
   "source": [
    "import shutil\n",
    "for path,label in tqdm(zip(img_paths,img_labels)):\n",
    "    shutil.copy(os.path.join(base_path,path),os.path.join(tf_base,idx_label_map[int(label)],path.split('/')[-1]))# Old path , new path"
   ]
  },
  {
   "cell_type": "markdown",
   "metadata": {},
   "source": [
    "len(img_paths),len(img_labels)"
   ]
  },
  {
   "cell_type": "markdown",
   "metadata": {},
   "source": [
    "We have 48,000 images "
   ]
  },
  {
   "cell_type": "markdown",
   "metadata": {},
   "source": [
    "# Values are made between 0 and 1 by rescale by 1/255\n",
    "\n",
    "data_generator = tf.keras.preprocessing.image.ImageDataGenerator(rescale=1/255., validation_split=0.2)\n",
    "\n",
    "train_generator = data_generator.flow_from_dataframe(dataframe=df, directory=base_path,x_col='path',y_col='label',target_size=(256,256),\n",
    "                                   class_mode='categorical',batch_size=32,subset='training',seed=37)\n"
   ]
  },
  {
   "cell_type": "markdown",
   "metadata": {},
   "source": [
    "validation_generator = data_generator.flow_from_dataframe(dataframe=df, directory=base_path,x_col='path',y_col='label',\n",
    "                                                          target_size=(256,256),class_mode='categorical',batch_size=32,\n",
    "                                                          subset='validation',seed=37)"
   ]
  },
  {
   "cell_type": "markdown",
   "metadata": {},
   "source": [
    "# Converting the images to jpeg"
   ]
  },
  {
   "cell_type": "markdown",
   "metadata": {},
   "source": [
    "import cv2\n",
    "for path,label in tqdm(zip(img_paths,img_labels)):\n",
    "    old_path = os.path.join(base_path,path)\n",
    "    read = cv2.imread(old_path)\n",
    "    img_name = path.split('/')[-1]\n",
    "    new_img_name = img_name.split('.')[0] + '.jpg'\n",
    "    new_path = os.path.join(tf_base,idx_label_map[int(label)],new_img_name)\n",
    "    cv2.imwrite(new_path,read,[int(cv2.IMWRITE_JPEG_QUALITY), 200])"
   ]
  },
  {
   "cell_type": "code",
   "execution_count": 1,
   "metadata": {},
   "outputs": [
    {
     "name": "stdout",
     "output_type": "stream",
     "text": [
      "Found 47756 files belonging to 16 classes.\n",
      "Using 40593 files for training.\n"
     ]
    },
    {
     "name": "stderr",
     "output_type": "stream",
     "text": [
      "2022-10-21 17:17:03.549298: I tensorflow/core/platform/cpu_feature_guard.cc:193] This TensorFlow binary is optimized with oneAPI Deep Neural Network Library (oneDNN) to use the following CPU instructions in performance-critical operations:  AVX2 FMA\n",
      "To enable them in other operations, rebuild TensorFlow with the appropriate compiler flags.\n",
      "2022-10-21 17:17:04.119787: I tensorflow/core/common_runtime/gpu/gpu_device.cc:1532] Created device /job:localhost/replica:0/task:0/device:GPU:0 with 9651 MB memory:  -> device: 0, name: NVIDIA GeForce RTX 2080 Ti, pci bus id: 0000:03:00.0, compute capability: 7.5\n"
     ]
    }
   ],
   "source": [
    "import tensorflow as tf\n",
    "tf_base = '/scratch/bbs/tf_folder_struct/'\n",
    "train_generator = tf.keras.utils.image_dataset_from_directory(directory=tf_base,label_mode ='categorical',seed=37\n",
    "                                            ,validation_split=0.15,subset='training',batch_size=32) # # Image size is by defalut 256,256 deafult batch size is 32"
   ]
  },
  {
   "cell_type": "code",
   "execution_count": 2,
   "metadata": {},
   "outputs": [
    {
     "name": "stdout",
     "output_type": "stream",
     "text": [
      "Found 47756 files belonging to 16 classes.\n",
      "Using 7163 files for validation.\n"
     ]
    }
   ],
   "source": [
    "validation_generator = tf.keras.utils.image_dataset_from_directory(directory=tf_base,label_mode ='categorical',seed=37\n",
    "                                            ,validation_split=0.15,subset='validation',batch_size=32)# Image size is by defalut 256,256 deafult batch size is 32"
   ]
  },
  {
   "cell_type": "markdown",
   "metadata": {
    "id": "0zfhUhM6eO3t"
   },
   "source": [
    "\n",
    "\n",
    "3. Try not to load all the images into memory, use the gernarators that we have given the reference notebooks to load the batch of images only during the train data.\n",
    "or you can use this method also\n",
    "<a href='https://medium.com/@vijayabhaskar96/tutorial-on-keras-imagedatagenerator-with-flow-from-dataframe-8bd5776e45c1'>https://medium.com/@vijayabhaskar96/tutorial-on-keras-imagedatagenerator-with-flow-from-dataframe-8bd5776e45c1</a>\n",
    "\n",
    "<a href='https://medium.com/@vijayabhaskar96/tutorial-on-keras-flow-from-dataframe-1fd4493d237c'>https://medium.com/@vijayabhaskar96/tutorial-on-keras-flow-from-dataframe-1fd4493d237c</a>\n",
    "\n",
    "Note- In the reference notebook you were dealing with jpg images, in the given dataset you are dealing with tiff images. Imagedatagenrator works with both type of images. If you want to use custom data pipeline then you have to convert your tiff images to jpg images.\n",
    "\n",
    "4. You are free to choose Learning rate, optimizer, loss function, image augmentation, any hyperparameters. but you have to use the same architechture what we are asking below. \n",
    "\n",
    "5. Use tensorboard for every model and analyse your gradients. (you need to upload the screenshots for each model for evaluation)\n",
    "\n",
    "\n",
    "6. You can check about Transfer Learning in this link - <a href='https://blog.keras.io/building-powerful-image-classification-models-using-very-little-data.html'>https://blog.keras.io/building-powerful-image-classification-models-using-very-little-data.html</a>\n",
    "\n",
    "https://www.appliedaicourse.com/lecture/11/applied-machine-learning-online-course/3426/code-example-cats-vs-dogs/8/module-8-neural-networks-computer-vision-and-deep-learning </a>\n",
    "</pre>"
   ]
  },
  {
   "cell_type": "markdown",
   "metadata": {
    "id": "cvd-X2oueO-X"
   },
   "source": [
    "7. Do print model.summary() and draw model_plots for each of the model."
   ]
  },
  {
   "cell_type": "markdown",
   "metadata": {
    "id": "XZXpEZtJcAEu"
   },
   "source": [
    "### Model-1"
   ]
  },
  {
   "cell_type": "markdown",
   "metadata": {
    "id": "EF12MYu1cAEy"
   },
   "source": [
    "<pre>\n",
    "1. Use <a href='https://www.tensorflow.org/api_docs/python/tf/keras/applications/VGG16'>VGG-16</a> pretrained network without Fully Connected layers and initilize all the weights with Imagenet trained weights. \n",
    "2. After VGG-16 network without FC layers, add a new Conv block ( 1 Conv layer and 1 Maxpooling ), 2 FC layers and an output layer to classify 16 classes. You are free to choose any hyperparameters/parameters of conv block, FC layers, output layer. \n",
    "3. Final architecture will be <b>INPUT --> VGG-16 without Top layers(FC) --> Conv Layer --> Maxpool Layer --> 2 FC layers --> Output Layer</b>\n",
    "4.Print model.summary() and plot the architecture of the model. \n",
    "<a href='https://www.tensorflow.org/api_docs/python/tf/keras/utils/plot_model'>Reference for plotting model</a>\n",
    "5. Train only new Conv block, FC layers, output layer. Don't train the VGG-16 network. \n",
    "\n",
    "</pre>"
   ]
  },
  {
   "cell_type": "markdown",
   "metadata": {},
   "source": [
    "https://www.tensorflow.org/tutorials/images/transfer_learning"
   ]
  },
  {
   "cell_type": "code",
   "execution_count": 7,
   "metadata": {},
   "outputs": [],
   "source": [
    "vgg16_base = tf.keras.applications.VGG16(include_top=False,input_shape=(256,256,3))"
   ]
  },
  {
   "cell_type": "code",
   "execution_count": 8,
   "metadata": {},
   "outputs": [],
   "source": [
    "vgg16_base.trainable = False\n",
    "\n",
    "input_layer = tf.keras.Input([256, 256, 3], dtype = tf.uint8)\n",
    "x = tf.cast(input_layer, tf.float32)\n",
    "\n",
    "prepped = tf.keras.applications.vgg16.preprocess_input(x)\n",
    "\n",
    "layer_1 = vgg16_base(prepped)# layer 1 is output from vgg 16\n",
    "# Add One cov layer \n",
    "# Add one max pool layer\n",
    "# 2 Dense fullay connected layert\n",
    "# output layer\n",
    "\n",
    "Conv1 = tf.keras.layers.Conv2D(filters=512,kernel_size=(2,2),strides=(1,1),padding='valid',data_format='channels_last',\n",
    "              activation='relu',kernel_initializer=tf.keras.initializers.he_normal(seed=9),name='custom_conv_2d')(layer_1)\n",
    "#MaxPool Layer\n",
    "Pool1 = tf.keras.layers.MaxPool2D(pool_size=(2,2),padding='valid',data_format='channels_last',name='custom_max_pool')(Conv1)\n",
    "\n",
    "#Flatten\n",
    "flatten = tf.keras.layers.Flatten(data_format='channels_last',name='custom_Flatten')(Pool1)\n",
    "\n",
    "#FC layer\n",
    "FC1 = tf.keras.layers.Dense(units=512,activation='relu',kernel_initializer=tf.keras.initializers.glorot_normal(seed=32),name='custom_FC1')(flatten)\n",
    "\n",
    "#FC layer\n",
    "FC2 = tf.keras.layers.Dense(units=128,activation='relu',kernel_initializer=tf.keras.initializers.glorot_normal(seed=33),name='custom_FC2')(FC1)\n",
    "\n",
    "#output layer\n",
    "Out = tf.keras.layers.Dense(units=16,activation='softmax',kernel_initializer=tf.keras.initializers.glorot_normal(seed=3),name='Output')(FC2)\n",
    "\n",
    "model_1 = tf.keras.models.Model(inputs=input_layer,outputs=Out)"
   ]
  },
  {
   "cell_type": "code",
   "execution_count": 9,
   "metadata": {},
   "outputs": [
    {
     "name": "stdout",
     "output_type": "stream",
     "text": [
      "Model: \"model\"\n",
      "_________________________________________________________________\n",
      " Layer (type)                Output Shape              Param #   \n",
      "=================================================================\n",
      " input_2 (InputLayer)        [(None, 256, 256, 3)]     0         \n",
      "                                                                 \n",
      " tf.cast (TFOpLambda)        (None, 256, 256, 3)       0         \n",
      "                                                                 \n",
      " tf.__operators__.getitem (S  (None, 256, 256, 3)      0         \n",
      " licingOpLambda)                                                 \n",
      "                                                                 \n",
      " tf.nn.bias_add (TFOpLambda)  (None, 256, 256, 3)      0         \n",
      "                                                                 \n",
      " vgg16 (Functional)          (None, 8, 8, 512)         14714688  \n",
      "                                                                 \n",
      " custom_conv_2d (Conv2D)     (None, 7, 7, 512)         1049088   \n",
      "                                                                 \n",
      " custom_max_pool (MaxPooling  (None, 3, 3, 512)        0         \n",
      " 2D)                                                             \n",
      "                                                                 \n",
      " custom_Flatten (Flatten)    (None, 4608)              0         \n",
      "                                                                 \n",
      " custom_FC1 (Dense)          (None, 512)               2359808   \n",
      "                                                                 \n",
      " custom_FC2 (Dense)          (None, 128)               65664     \n",
      "                                                                 \n",
      " Output (Dense)              (None, 16)                2064      \n",
      "                                                                 \n",
      "=================================================================\n",
      "Total params: 18,191,312\n",
      "Trainable params: 3,476,624\n",
      "Non-trainable params: 14,714,688\n",
      "_________________________________________________________________\n"
     ]
    }
   ],
   "source": [
    "model_1.summary()"
   ]
  },
  {
   "cell_type": "code",
   "execution_count": 10,
   "metadata": {
    "tags": []
   },
   "outputs": [
    {
     "name": "stdout",
     "output_type": "stream",
     "text": [
      "Epoch 1/10\n"
     ]
    },
    {
     "name": "stderr",
     "output_type": "stream",
     "text": [
      "/home2/sisodiya.bhoomendra/venvs/global/lib/python3.9/site-packages/keras/optimizers/optimizer_v2/adam.py:110: UserWarning: The `lr` argument is deprecated, use `learning_rate` instead.\n",
      "  super(Adam, self).__init__(name, **kwargs)\n",
      "2022-10-20 22:42:47.509109: I tensorflow/stream_executor/cuda/cuda_dnn.cc:384] Loaded cuDNN version 8400\n",
      "2022-10-20 22:42:47.991103: I tensorflow/core/platform/default/subprocess.cc:304] Start cannot spawn child process: No such file or directory\n"
     ]
    },
    {
     "name": "stdout",
     "output_type": "stream",
     "text": [
      "318/318 [==============================] - 190s 576ms/step - loss: 3.1567 - categorical_accuracy: 0.5364 - val_loss: 1.1064 - val_categorical_accuracy: 0.6772\n",
      "Epoch 2/10\n",
      "318/318 [==============================] - 179s 560ms/step - loss: 0.8704 - categorical_accuracy: 0.7379 - val_loss: 1.0173 - val_categorical_accuracy: 0.7084\n",
      "Epoch 3/10\n",
      "318/318 [==============================] - 179s 560ms/step - loss: 0.5818 - categorical_accuracy: 0.8229 - val_loss: 1.0734 - val_categorical_accuracy: 0.7167\n",
      "Epoch 4/10\n",
      "318/318 [==============================] - 179s 561ms/step - loss: 0.3880 - categorical_accuracy: 0.8810 - val_loss: 1.2226 - val_categorical_accuracy: 0.7162\n",
      "Epoch 5/10\n",
      "318/318 [==============================] - 179s 561ms/step - loss: 0.2944 - categorical_accuracy: 0.9092 - val_loss: 1.3152 - val_categorical_accuracy: 0.7077\n",
      "Epoch 6/10\n",
      "318/318 [==============================] - 179s 561ms/step - loss: 0.2364 - categorical_accuracy: 0.9240 - val_loss: 1.5324 - val_categorical_accuracy: 0.7088\n",
      "Epoch 7/10\n",
      "318/318 [==============================] - 179s 560ms/step - loss: 0.2031 - categorical_accuracy: 0.9326 - val_loss: 1.6656 - val_categorical_accuracy: 0.7018\n",
      "Epoch 8/10\n",
      "318/318 [==============================] - 179s 562ms/step - loss: 0.1541 - categorical_accuracy: 0.9500 - val_loss: 1.7218 - val_categorical_accuracy: 0.7139\n",
      "Epoch 9/10\n",
      "318/318 [==============================] - 179s 560ms/step - loss: 0.1406 - categorical_accuracy: 0.9542 - val_loss: 1.9308 - val_categorical_accuracy: 0.6941\n",
      "Epoch 10/10\n",
      "318/318 [==============================] - 179s 560ms/step - loss: 0.1294 - categorical_accuracy: 0.9586 - val_loss: 1.9206 - val_categorical_accuracy: 0.7043\n"
     ]
    },
    {
     "data": {
      "text/plain": [
       "<keras.callbacks.History at 0x14a85010fc40>"
      ]
     },
     "execution_count": 10,
     "metadata": {},
     "output_type": "execute_result"
    }
   ],
   "source": [
    "import datetime\n",
    "initial_epochs_m1 = 10\n",
    "log_dir_m1 = os.path.join(\"logs\",'fits','model1_logs')\n",
    "tensorboard_callback = tf.keras.callbacks.TensorBoard(log_dir=log_dir_m1,histogram_freq=0,write_graph=True)\n",
    "model_1.compile(optimizer=tf.keras.optimizers.Adam(learning_rate=0.001),loss='categorical_crossentropy',metrics=['categorical_accuracy'])\n",
    "model_1.fit(train_generator,epochs=initial_epochs_m1,validation_data=validation_generator,callbacks=[tensorboard_callback])"
   ]
  },
  {
   "cell_type": "markdown",
   "metadata": {},
   "source": [
    "### Added decay in learning rate tryout different optimizers "
   ]
  },
  {
   "cell_type": "markdown",
   "metadata": {
    "id": "De0UlsaOcAE1"
   },
   "source": [
    "### Model-2"
   ]
  },
  {
   "cell_type": "markdown",
   "metadata": {
    "id": "CNXN3EXFcAE5"
   },
   "source": [
    "<pre>\n",
    "1. Use <a href='https://www.tensorflow.org/api_docs/python/tf/keras/applications/VGG16'>VGG-16</a> pretrained network without Fully Connected layers and initilize all the weights with Imagenet trained weights.\n",
    "2. After VGG-16 network without FC layers, don't use FC layers, use conv layers only as Fully connected layer.Any FC \n",
    "layer can be converted to a CONV layer. This conversion will reduce the No of Trainable parameters in FC layers. \n",
    "For example, an FC layer with K=4096 that is looking at some input volume of size 7×7×512 can be equivalently expressed as a CONV layer with F=7,P=0,S=1,K=4096. \n",
    "In other words, we are setting the filter size to be exactly the size of the input volume, and hence the output will\n",
    "simply be 1×1×4096 since only a single depth column “fits” across the input volume, giving identical result as the \n",
    "initial FC layer. You can refer <a href='http://cs231n.github.io/convolutional-networks/#convert'>this</a> link to better understanding of using Conv layer in place of fully connected layers.\n",
    "3. Final architecture will be VGG-16 without FC layers(without top), 2 Conv layers identical to FC layers, 1 output layer for 16 class classification. <b>INPUT --> VGG-16 without Top layers(FC) --> 2 Conv Layers identical to FC -->Output Layer</b>\n",
    "4. 4.Print model.summary() and plot the architecture of the model. \n",
    "<a href='https://www.tensorflow.org/api_docs/python/tf/keras/utils/plot_model'>Reference for plotting model</a>\n",
    "5. Train only last 2 Conv layers identical to FC layers, 1 output layer. Don't train the VGG-16 network. \n",
    "</pre>"
   ]
  },
  {
   "cell_type": "code",
   "execution_count": 11,
   "metadata": {},
   "outputs": [],
   "source": [
    "full_Conv1 = tf.keras.layers.Conv2D(filters=256,kernel_size=(8,8),strides=(1,1),padding='valid',data_format='channels_last',\n",
    "              activation='relu',kernel_initializer=tf.keras.initializers.he_normal(seed=9),name='custom_conv_fully_connected_2d_1')(layer_1)\n",
    "\n",
    "full_Conv2 = tf.keras.layers.Conv2D(filters=128,kernel_size=(1,1),strides=(1,1),padding='valid',data_format='channels_last',\n",
    "              activation='relu',kernel_initializer=tf.keras.initializers.he_normal(seed=67),name='custom_conv_fully_connected_2d_2')(full_Conv1)\n",
    "\n",
    "flatten = tf.keras.layers.Flatten(data_format='channels_last',name='M2_Flatten')(full_Conv2)\n",
    "\n",
    "output_m2 = tf.keras.layers.Dense(units=16,activation='softmax',kernel_initializer=tf.keras.initializers.glorot_normal(seed=3),name='Output')(flatten)\n",
    "\n",
    "model_2 = tf.keras.models.Model(inputs=input_layer,outputs=output_m2)"
   ]
  },
  {
   "cell_type": "code",
   "execution_count": 12,
   "metadata": {},
   "outputs": [
    {
     "name": "stdout",
     "output_type": "stream",
     "text": [
      "Model: \"model_1\"\n",
      "_________________________________________________________________\n",
      " Layer (type)                Output Shape              Param #   \n",
      "=================================================================\n",
      " input_2 (InputLayer)        [(None, 256, 256, 3)]     0         \n",
      "                                                                 \n",
      " tf.cast (TFOpLambda)        (None, 256, 256, 3)       0         \n",
      "                                                                 \n",
      " tf.__operators__.getitem (S  (None, 256, 256, 3)      0         \n",
      " licingOpLambda)                                                 \n",
      "                                                                 \n",
      " tf.nn.bias_add (TFOpLambda)  (None, 256, 256, 3)      0         \n",
      "                                                                 \n",
      " vgg16 (Functional)          (None, 8, 8, 512)         14714688  \n",
      "                                                                 \n",
      " custom_conv_fully_connected  (None, 1, 1, 256)        8388864   \n",
      " _2d_1 (Conv2D)                                                  \n",
      "                                                                 \n",
      " custom_conv_fully_connected  (None, 1, 1, 128)        32896     \n",
      " _2d_2 (Conv2D)                                                  \n",
      "                                                                 \n",
      " M2_Flatten (Flatten)        (None, 128)               0         \n",
      "                                                                 \n",
      " Output (Dense)              (None, 16)                2064      \n",
      "                                                                 \n",
      "=================================================================\n",
      "Total params: 23,138,512\n",
      "Trainable params: 8,423,824\n",
      "Non-trainable params: 14,714,688\n",
      "_________________________________________________________________\n"
     ]
    }
   ],
   "source": [
    "model_2.summary()"
   ]
  },
  {
   "cell_type": "code",
   "execution_count": 13,
   "metadata": {},
   "outputs": [
    {
     "name": "stdout",
     "output_type": "stream",
     "text": [
      "Epoch 1/12\n",
      "318/318 [==============================] - 182s 567ms/step - loss: 2.5630 - categorical_accuracy: 0.6042 - val_loss: 1.2929 - val_categorical_accuracy: 0.6817\n",
      "Epoch 2/12\n",
      "318/318 [==============================] - 181s 566ms/step - loss: 0.7660 - categorical_accuracy: 0.7785 - val_loss: 1.1979 - val_categorical_accuracy: 0.7046\n",
      "Epoch 3/12\n",
      "318/318 [==============================] - 180s 565ms/step - loss: 0.4716 - categorical_accuracy: 0.8527 - val_loss: 1.2101 - val_categorical_accuracy: 0.7208\n",
      "Epoch 4/12\n",
      "318/318 [==============================] - 181s 566ms/step - loss: 0.3480 - categorical_accuracy: 0.8910 - val_loss: 1.3695 - val_categorical_accuracy: 0.7116\n",
      "Epoch 5/12\n",
      "318/318 [==============================] - 181s 566ms/step - loss: 0.2740 - categorical_accuracy: 0.9122 - val_loss: 1.3681 - val_categorical_accuracy: 0.7204\n",
      "Epoch 6/12\n",
      "318/318 [==============================] - 181s 567ms/step - loss: 0.2124 - categorical_accuracy: 0.9320 - val_loss: 1.7193 - val_categorical_accuracy: 0.7032\n",
      "Epoch 7/12\n",
      "318/318 [==============================] - 181s 567ms/step - loss: 0.2153 - categorical_accuracy: 0.9321 - val_loss: 1.8278 - val_categorical_accuracy: 0.7024\n",
      "Epoch 8/12\n",
      "318/318 [==============================] - 181s 566ms/step - loss: 0.2896 - categorical_accuracy: 0.9140 - val_loss: 1.8128 - val_categorical_accuracy: 0.7028\n",
      "Epoch 9/12\n",
      "318/318 [==============================] - 181s 566ms/step - loss: 0.1806 - categorical_accuracy: 0.9433 - val_loss: 1.8915 - val_categorical_accuracy: 0.7177\n",
      "Epoch 10/12\n",
      "318/318 [==============================] - 180s 565ms/step - loss: 0.1624 - categorical_accuracy: 0.9485 - val_loss: 2.0040 - val_categorical_accuracy: 0.7159\n",
      "Epoch 11/12\n",
      "318/318 [==============================] - 181s 566ms/step - loss: 0.1698 - categorical_accuracy: 0.9478 - val_loss: 2.2239 - val_categorical_accuracy: 0.7019\n",
      "Epoch 12/12\n",
      "318/318 [==============================] - 180s 565ms/step - loss: 0.1446 - categorical_accuracy: 0.9548 - val_loss: 2.3199 - val_categorical_accuracy: 0.7021\n"
     ]
    },
    {
     "data": {
      "text/plain": [
       "<keras.callbacks.History at 0x14a850125940>"
      ]
     },
     "execution_count": 13,
     "metadata": {},
     "output_type": "execute_result"
    }
   ],
   "source": [
    "initial_epochs_m2 = 12\n",
    "log_dir_m2 = os.path.join(\"logs\",'fits', \"model2_logs\")\n",
    "tensorboard_callback = tf.keras.callbacks.TensorBoard(log_dir=log_dir_m2,histogram_freq=0,write_graph=True)\n",
    "model_2.compile(optimizer=tf.keras.optimizers.Adam(learning_rate=0.001),loss='categorical_crossentropy',metrics=['categorical_accuracy'])\n",
    "model_2.fit(train_generator,epochs=initial_epochs_m2,validation_data=validation_generator,callbacks=[tensorboard_callback])"
   ]
  },
  {
   "cell_type": "markdown",
   "metadata": {
    "id": "amKbfojfcAE-"
   },
   "source": [
    "### Model-3"
   ]
  },
  {
   "cell_type": "markdown",
   "metadata": {
    "id": "N9AULF-PcAFC"
   },
   "source": [
    "<pre>\n",
    "1. Use same network as Model-2 '<b>INPUT --> VGG-16 without Top layers(FC) --> 2 Conv Layers identical to FC --> Output Layer</b>' and train only Last 6 Layers of VGG-16 network, 2 Conv layers identical to FC layers, 1 output layer.\n",
    "</pre>"
   ]
  },
  {
   "cell_type": "code",
   "execution_count": 3,
   "metadata": {},
   "outputs": [],
   "source": [
    "tf.keras.backend.clear_session()\n",
    "vgg16_base_m3 = tf.keras.applications.VGG16(include_top=False,input_shape=(256,256,3))\n",
    "\n",
    "vgg16_base_m3.trainable = True\n",
    "depth = 11\n",
    "for layer in vgg16_base_m3.layers[:depth]:\n",
    "    layer.trainable = False"
   ]
  },
  {
   "cell_type": "code",
   "execution_count": 4,
   "metadata": {},
   "outputs": [
    {
     "name": "stdout",
     "output_type": "stream",
     "text": [
      "Model: \"vgg16\"\n",
      "_________________________________________________________________\n",
      " Layer (type)                Output Shape              Param #   \n",
      "=================================================================\n",
      " input_1 (InputLayer)        [(None, 256, 256, 3)]     0         \n",
      "                                                                 \n",
      " block1_conv1 (Conv2D)       (None, 256, 256, 64)      1792      \n",
      "                                                                 \n",
      " block1_conv2 (Conv2D)       (None, 256, 256, 64)      36928     \n",
      "                                                                 \n",
      " block1_pool (MaxPooling2D)  (None, 128, 128, 64)      0         \n",
      "                                                                 \n",
      " block2_conv1 (Conv2D)       (None, 128, 128, 128)     73856     \n",
      "                                                                 \n",
      " block2_conv2 (Conv2D)       (None, 128, 128, 128)     147584    \n",
      "                                                                 \n",
      " block2_pool (MaxPooling2D)  (None, 64, 64, 128)       0         \n",
      "                                                                 \n",
      " block3_conv1 (Conv2D)       (None, 64, 64, 256)       295168    \n",
      "                                                                 \n",
      " block3_conv2 (Conv2D)       (None, 64, 64, 256)       590080    \n",
      "                                                                 \n",
      " block3_conv3 (Conv2D)       (None, 64, 64, 256)       590080    \n",
      "                                                                 \n",
      " block3_pool (MaxPooling2D)  (None, 32, 32, 256)       0         \n",
      "                                                                 \n",
      " block4_conv1 (Conv2D)       (None, 32, 32, 512)       1180160   \n",
      "                                                                 \n",
      " block4_conv2 (Conv2D)       (None, 32, 32, 512)       2359808   \n",
      "                                                                 \n",
      " block4_conv3 (Conv2D)       (None, 32, 32, 512)       2359808   \n",
      "                                                                 \n",
      " block4_pool (MaxPooling2D)  (None, 16, 16, 512)       0         \n",
      "                                                                 \n",
      " block5_conv1 (Conv2D)       (None, 16, 16, 512)       2359808   \n",
      "                                                                 \n",
      " block5_conv2 (Conv2D)       (None, 16, 16, 512)       2359808   \n",
      "                                                                 \n",
      " block5_conv3 (Conv2D)       (None, 16, 16, 512)       2359808   \n",
      "                                                                 \n",
      " block5_pool (MaxPooling2D)  (None, 8, 8, 512)         0         \n",
      "                                                                 \n",
      "=================================================================\n",
      "Total params: 14,714,688\n",
      "Trainable params: 12,979,200\n",
      "Non-trainable params: 1,735,488\n",
      "_________________________________________________________________\n"
     ]
    }
   ],
   "source": [
    "vgg16_base_m3.summary()"
   ]
  },
  {
   "cell_type": "code",
   "execution_count": 5,
   "metadata": {},
   "outputs": [
    {
     "name": "stdout",
     "output_type": "stream",
     "text": [
      "Model: \"model\"\n",
      "_________________________________________________________________\n",
      " Layer (type)                Output Shape              Param #   \n",
      "=================================================================\n",
      " input_2 (InputLayer)        [(None, 256, 256, 3)]     0         \n",
      "                                                                 \n",
      " tf.cast (TFOpLambda)        (None, 256, 256, 3)       0         \n",
      "                                                                 \n",
      " tf.__operators__.getitem (S  (None, 256, 256, 3)      0         \n",
      " licingOpLambda)                                                 \n",
      "                                                                 \n",
      " tf.nn.bias_add (TFOpLambda)  (None, 256, 256, 3)      0         \n",
      "                                                                 \n",
      " vgg16 (Functional)          (None, 8, 8, 512)         14714688  \n",
      "                                                                 \n",
      " custom_conv_fully_connected  (None, 1, 1, 4096)       134221824 \n",
      " _2d_1 (Conv2D)                                                  \n",
      "                                                                 \n",
      " custom_conv_fully_connected  (None, 1, 1, 4096)       16781312  \n",
      " _2d_2 (Conv2D)                                                  \n",
      "                                                                 \n",
      " M2_Flatten (Flatten)        (None, 4096)              0         \n",
      "                                                                 \n",
      " Output (Dense)              (None, 16)                65552     \n",
      "                                                                 \n",
      "=================================================================\n",
      "Total params: 165,783,376\n",
      "Trainable params: 164,047,888\n",
      "Non-trainable params: 1,735,488\n",
      "_________________________________________________________________\n"
     ]
    }
   ],
   "source": [
    "input_layer_m3 = tf.keras.Input([256, 256, 3], dtype = tf.uint8)\n",
    "x_m3 = tf.cast(input_layer_m3, tf.float32)\n",
    "\n",
    "prepped_m3 = tf.keras.applications.vgg16.preprocess_input(x_m3)\n",
    "\n",
    "layer_1_m3 = vgg16_base_m3(prepped_m3)# layer 1 is output from vgg 16\n",
    "\n",
    "full_Conv1_m3 = tf.keras.layers.Conv2D(filters=4096,kernel_size=(8,8),strides=(1,1),padding='valid',data_format='channels_last',\n",
    "              activation='relu',kernel_initializer=tf.keras.initializers.he_normal(seed=9),name='custom_conv_fully_connected_2d_1')(layer_1_m3)\n",
    "\n",
    "full_Conv2_m3 = tf.keras.layers.Conv2D(filters=4096,kernel_size=(1,1),strides=(1,1),padding='valid',data_format='channels_last',\n",
    "              activation='relu',kernel_initializer=tf.keras.initializers.he_normal(seed=67),name='custom_conv_fully_connected_2d_2')(full_Conv1_m3)\n",
    "\n",
    "flatten_m3 = tf.keras.layers.Flatten(data_format='channels_last',name='M2_Flatten')(full_Conv2_m3)\n",
    "\n",
    "output_m3 = tf.keras.layers.Dense(units=16,activation='softmax',kernel_initializer=tf.keras.initializers.glorot_normal(seed=3),name='Output')(flatten_m3)\n",
    "\n",
    "model_3 = tf.keras.models.Model(inputs=input_layer_m3,outputs=output_m3)\n",
    "model_3.summary()"
   ]
  },
  {
   "cell_type": "markdown",
   "metadata": {},
   "source": [
    "Adam is not working every time going in the the loss stuck at  0.06\n",
    "SGD with and without momentum was giving nan loss "
   ]
  },
  {
   "cell_type": "code",
   "execution_count": 7,
   "metadata": {},
   "outputs": [
    {
     "name": "stdout",
     "output_type": "stream",
     "text": [
      "Epoch 1/5\n"
     ]
    },
    {
     "name": "stderr",
     "output_type": "stream",
     "text": [
      "2022-10-21 17:19:40.036304: I tensorflow/stream_executor/cuda/cuda_dnn.cc:384] Loaded cuDNN version 8400\n",
      "2022-10-21 17:19:40.691552: I tensorflow/core/platform/default/subprocess.cc:304] Start cannot spawn child process: No such file or directory\n"
     ]
    },
    {
     "name": "stdout",
     "output_type": "stream",
     "text": [
      "1269/1269 [==============================] - 397s 309ms/step - loss: 2.1339 - categorical_accuracy: 0.3189 - val_loss: 1.2107 - val_categorical_accuracy: 0.6270\n",
      "Epoch 2/5\n",
      "1269/1269 [==============================] - 391s 308ms/step - loss: 0.9214 - categorical_accuracy: 0.7185 - val_loss: 0.8043 - val_categorical_accuracy: 0.7535\n",
      "Epoch 3/5\n",
      "1269/1269 [==============================] - 392s 309ms/step - loss: 0.6356 - categorical_accuracy: 0.8061 - val_loss: 0.7910 - val_categorical_accuracy: 0.7678\n",
      "Epoch 4/5\n",
      "1269/1269 [==============================] - 392s 309ms/step - loss: 0.4420 - categorical_accuracy: 0.8597 - val_loss: 0.8318 - val_categorical_accuracy: 0.7731\n",
      "Epoch 5/5\n",
      "1269/1269 [==============================] - 392s 309ms/step - loss: 0.2876 - categorical_accuracy: 0.9085 - val_loss: 1.1348 - val_categorical_accuracy: 0.7604\n"
     ]
    },
    {
     "data": {
      "text/plain": [
       "<keras.callbacks.History at 0x14f351cd6340>"
      ]
     },
     "execution_count": 7,
     "metadata": {},
     "output_type": "execute_result"
    }
   ],
   "source": [
    "import os\n",
    "initial_epochs_m3 = 5\n",
    "log_dir_m3 = os.path.join(\"logs\",'fits', \"model3_logs_fit_adam_m3_4096_final\")\n",
    "tensorboard_callback = tf.keras.callbacks.TensorBoard(log_dir=log_dir_m3,histogram_freq=0,write_graph=True)\n",
    "model_3.compile(optimizer=tf.keras.optimizers.Adam(learning_rate=0.0001),loss='categorical_crossentropy',metrics=['categorical_accuracy'])\n",
    "model_3.fit(train_generator,epochs=initial_epochs_m3,validation_data=validation_generator,callbacks=[tensorboard_callback])"
   ]
  },
  {
   "cell_type": "code",
   "execution_count": 9,
   "metadata": {},
   "outputs": [
    {
     "name": "stdout",
     "output_type": "stream",
     "text": [
      "Upload started and will continue reading any new data as it's added to the logdir.\n",
      "\n",
      "To stop uploading, press Ctrl-C.\n",
      "\n",
      "New experiment created. View your TensorBoard at: https://tensorboard.dev/experiment/TRrBJeEdQiePrFMV22M3ug/\n",
      "\n",
      "\u001b[1m[2022-10-21T18:03:15]\u001b[0m Started scanning logdir.\n",
      "\u001b[1m[2022-10-21T18:03:17]\u001b[0m Total uploaded: 30 scalars, 0 tensors, 1 binary objects (98.0 kB)\n",
      "^C2K\u001b[33mListening for new data in logdir...\u001b[0m\n",
      "\n",
      "\n",
      "Interrupted. View your TensorBoard at https://tensorboard.dev/experiment/TRrBJeEdQiePrFMV22M3ug/\n"
     ]
    }
   ],
   "source": [
    "!tensorboard dev upload --logdir '/home2/sisodiya.bhoomendra/Applied_ai/21_Transfer_Learning/logs/fits/model3_logs_fit_adam_m3_4096_final/' --name Model_3"
   ]
  },
  {
   "cell_type": "code",
   "execution_count": 10,
   "metadata": {},
   "outputs": [
    {
     "name": "stdout",
     "output_type": "stream",
     "text": [
      "Upload started and will continue reading any new data as it's added to the logdir.\n",
      "\n",
      "To stop uploading, press Ctrl-C.\n",
      "\n",
      "New experiment created. View your TensorBoard at: https://tensorboard.dev/experiment/vwe8p8foQY6xl8kR0Qz46Q/\n",
      "\n",
      "\u001b[1m[2022-10-21T18:05:04]\u001b[0m Started scanning logdir.\n",
      "E1021 18:05:07.164626 22455692863296 uploader.py:1122] Attempted to re-upload existing blob.  Skipping.\n",
      "\u001b[1m[2022-10-21T18:05:07]\u001b[0m Total uploaded: 84 scalars, 0 tensors, 1 binary objects (83.3 kB)\n",
      "\u001b[90mTotal skipped: 1 binary objects (83.3 kB)\n",
      "^C2K\u001b[33mListening for new data in logdir...\u001b[0m\u001b[0m\n",
      "\n",
      "\n",
      "Interrupted. View your TensorBoard at https://tensorboard.dev/experiment/vwe8p8foQY6xl8kR0Qz46Q/\n"
     ]
    }
   ],
   "source": [
    "!tensorboard dev upload --logdir '/home2/sisodiya.bhoomendra/Applied_ai/21_Transfer_Learning/logs/fits/model2_logs/' --name Model_2"
   ]
  },
  {
   "cell_type": "code",
   "execution_count": 11,
   "metadata": {},
   "outputs": [
    {
     "name": "stdout",
     "output_type": "stream",
     "text": [
      "Upload started and will continue reading any new data as it's added to the logdir.\n",
      "\n",
      "To stop uploading, press Ctrl-C.\n",
      "\n",
      "New experiment created. View your TensorBoard at: https://tensorboard.dev/experiment/OKCb0ZpQT7azxY8ahLb0qQ/\n",
      "\n",
      "\u001b[1m[2022-10-21T18:06:01]\u001b[0m Started scanning logdir.\n",
      "\u001b[1m[2022-10-21T18:06:02]\u001b[0m Total uploaded: 60 scalars, 0 tensors, 1 binary objects (84.4 kB)\n",
      "^C2K\u001b[33mListening for new data in logdir...\u001b[0m\n",
      "\n",
      "\n",
      "Interrupted. View your TensorBoard at https://tensorboard.dev/experiment/OKCb0ZpQT7azxY8ahLb0qQ/\n"
     ]
    }
   ],
   "source": [
    "!tensorboard dev upload --logdir '/home2/sisodiya.bhoomendra/Applied_ai/21_Transfer_Learning/logs/fits/model1_logs/' --name Model_1"
   ]
  },
  {
   "cell_type": "markdown",
   "metadata": {},
   "source": [
    "### Please write your observations or a brief summary of the results that you get after performing transfer learning with reference to model1, model2 and model3"
   ]
  },
  {
   "cell_type": "markdown",
   "metadata": {},
   "source": [
    "### Model 1\n",
    "Initially I tried with convnet of size 256*3*3 with stride of 2,2 and max pool layer of 3,3 and stride of size 2,2 and dense layer with 128 ,64 , 16( Output) but It was not converging well so based on the suggestion of the  the applied ai team i increased the number of neuron in dense layer and also the stride in the Max poll is very high which might be leading to a lot of information loss and hence poor convergence also the issue is with the learning rate as well the learning rate of 0.01 is high after experimentation learning rate of 0.001 worked the best \n",
    "\n",
    "\n",
    "### Model 2\n",
    "The learning from the previous steps helped and following the advice I was able to design a good model on my own.\n",
    "\n",
    "### Model 3\n",
    "\n",
    "This model possessed a lot of problem as we are now fine tuning the vgg16 model for our use case and after trying a lot of optimizers changes in number of neurons nothing seemed to be working the accuracy was stuck at 6% but when i changed the learning rate to 0.0001 the model started converging the problem that I say was the training loss of increasing with time of not changing even a bit in the epochs which was a indication that the learning rate is very high so after trying with 10-4 it worked very well"
   ]
  },
  {
   "cell_type": "markdown",
   "metadata": {},
   "source": [
    "<style type=\"text/css\">\n",
    ".tg  {border-collapse:collapse;border-spacing:0;}\n",
    ".tg td{border-color:black;border-style:solid;border-width:1px;font-family:Arial, sans-serif;font-size:14px;\n",
    "  overflow:hidden;padding:10px 5px;word-break:normal;}\n",
    ".tg th{border-color:black;border-style:solid;border-width:1px;font-family:Arial, sans-serif;font-size:14px;\n",
    "  font-weight:normal;overflow:hidden;padding:10px 5px;word-break:normal;}\n",
    ".tg .tg-0pky{border-color:inherit;text-align:left;vertical-align:top}\n",
    "</style>\n",
    "<table class=\"tg\">\n",
    "<thead>\n",
    "  <tr>\n",
    "    <th class=\"tg-0pky\"></th>\n",
    "    <th class=\"tg-0pky\">Best Validation loss<br></th>\n",
    "    <th class=\"tg-0pky\">Best Train Loss</th>\n",
    "    <th class=\"tg-0pky\">Best Validation accuray</th>\n",
    "    <th class=\"tg-0pky\">Epoch after which Overfitting<br></th>\n",
    "  </tr>\n",
    "</thead>\n",
    "<tbody>\n",
    "  <tr>\n",
    "    <td class=\"tg-0pky\">Model 1</td>\n",
    "    <td class=\"tg-0pky\">1.0173</td>\n",
    "    <td class=\"tg-0pky\">0.1294</td>\n",
    "    <td class=\"tg-0pky\">0.7167</td>\n",
    "    <td class=\"tg-0pky\">2</td>\n",
    "  </tr>\n",
    "  <tr>\n",
    "    <td class=\"tg-0pky\">Model 2</td>\n",
    "    <td class=\"tg-0pky\">1.1979</td>\n",
    "    <td class=\"tg-0pky\">0.1446</td>\n",
    "    <td class=\"tg-0pky\">0.7208</td>\n",
    "    <td class=\"tg-0pky\">2</td>\n",
    "  </tr>\n",
    "  <tr>\n",
    "    <td class=\"tg-0pky\">Model 3</td>\n",
    "    <td class=\"tg-0pky\">0.7910</td>\n",
    "    <td class=\"tg-0pky\">0.2876</td>\n",
    "    <td class=\"tg-0pky\">0.7731</td>\n",
    "    <td class=\"tg-0pky\">3</td>\n",
    "  </tr>\n",
    "</tbody>\n",
    "</table>"
   ]
  }
 ],
 "metadata": {
  "colab": {
   "collapsed_sections": [],
   "name": "Copy of Transfer Learning.ipynb",
   "provenance": [],
   "toc_visible": true
  },
  "kernelspec": {
   "display_name": "Python 3 (ipykernel)",
   "language": "python",
   "name": "python3"
  },
  "language_info": {
   "codemirror_mode": {
    "name": "ipython",
    "version": 3
   },
   "file_extension": ".py",
   "mimetype": "text/x-python",
   "name": "python",
   "nbconvert_exporter": "python",
   "pygments_lexer": "ipython3",
   "version": "3.9.0"
  }
 },
 "nbformat": 4,
 "nbformat_minor": 4
}
