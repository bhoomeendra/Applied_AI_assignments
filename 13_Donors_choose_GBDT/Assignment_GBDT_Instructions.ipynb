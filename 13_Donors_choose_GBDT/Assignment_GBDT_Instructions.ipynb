{
 "cells": [
  {
   "cell_type": "markdown",
   "metadata": {
    "colab_type": "text",
    "id": "8wqapAXjsc24"
   },
   "source": [
    "# Assignment 9: GBDT"
   ]
  },
  {
   "cell_type": "markdown",
   "metadata": {
    "colab_type": "text",
    "id": "8u5NhbnEsc2-"
   },
   "source": [
    "#### Response Coding: Example"
   ]
  },
  {
   "cell_type": "markdown",
   "metadata": {
    "colab_type": "text",
    "id": "HIFWmwHKsc3A"
   },
   "source": [
    "<img src='http://i.imgur.com/TufZptV.jpg' width=700px>\n",
    "\n",
    "> The response tabel is built only on train dataset.\n",
    "> For a category which is not there in train data and present in test data, we will encode them with default values\n",
    "Ex: in our test data if have State: D then we encode it as [0.5, 0.05]"
   ]
  },
  {
   "cell_type": "markdown",
   "metadata": {
    "colab_type": "text",
    "id": "3KwfGufDsc3D"
   },
   "source": [
    "<ol>\n",
    "    <li><strong>Apply GBDT on these feature sets</strong>\n",
    "        <ul>\n",
    "            <li><font color='red'>Set 1</font>: categorical(instead of one hot encoding, try <a href='https://www.appliedaicourse.com/course/applied-ai-course-online/lessons/handling-categorical-and-numerical-features/'>response coding</a>: use probability values), numerical features + project_title(TFIDF)+  preprocessed_eassay (TFIDF)+sentiment Score of eassay(check the bellow example, include all 4 values as 4 features)</li>\n",
    "            <li><font color='red'>Set 2</font>: categorical(instead of one hot encoding, try <a href='https://www.appliedaicourse.com/course/applied-ai-course-online/lessons/handling-categorical-and-numerical-features/'>response coding</a>: use probability values), numerical features + project_title(TFIDF W2V)+  preprocessed_eassay (TFIDF W2V)</li>        \n",
    "    </li>\n",
    "    <li> Here in response encoding you need to apply the <strong>laplase smoothing</strong> value for test set. Laplase smoothing means, If test point is present in test but not in train then you need to apply default 0.5 as probability value for that data point (Refer the Response Encoding Image from above cell) </li>\n",
    "    <li>Please use atleast <strong> 35k </strong> data points </li></ul>\n",
    "    <li><strong>The hyper paramter tuning (Consider any two hyper parameters)</strong>\n",
    "        <ul>\n",
    "    <li>Find the best hyper parameter which will give the maximum <a href='https://www.appliedaicourse.com/course/applied-ai-course-online/lessons/receiver-operating-characteristic-curve-roc-curve-and-auc-1/'>AUC</a> value</li>\n",
    "    <li>find the best hyper paramter using k-fold cross validation/simple cross validation data</li>\n",
    "    <li>use gridsearch cv or randomsearch cv or you can write your own for loops to do this task</li>\n",
    "        </ul>\n",
    "    </li>\n",
    "    <li>\n",
    "    <strong>Representation of results</strong>\n",
    "        <ul>\n",
    "    <li>You need to plot the performance of model both on train data and cross validation data for each hyper parameter, like shown in the figure\n",
    "    <img src='https://i.imgur.com/Gp2DQmh.jpg' width=500px> with X-axis as <strong>n_estimators</strong>, Y-axis as <strong>max_depth</strong>, and Z-axis as <strong>AUC Score</strong> , we have given the notebook which explains how to plot this 3d plot, you can find it in the same drive <i>3d_scatter_plot.ipynb</i></li>\n",
    "            <p style=\"text-align:center;font-size:30px;color:red;\"><strong>or</strong></p> <br>\n",
    "    <li>You need to plot the performance of model both on train data and cross validation data for each hyper parameter, like shown in the figure\n",
    "    <img src='https://i.imgur.com/fgN9aUP.jpg' width=300px> <a href='https://seaborn.pydata.org/generated/seaborn.heatmap.html'>seaborn heat maps</a> with rows as <strong>n_estimators</strong>, columns as <strong>max_depth</strong>, and values inside the cell representing <strong>AUC Score</strong> </li>\n",
    "    <li>You choose either of the plotting techniques out of 3d plot or heat map</li>\n",
    "    <li>Once after you found the best hyper parameter, you need to train your model with it, and find the AUC on test data and plot the ROC curve on both train and test.\n",
    "        Make sure that you are using predict_proba method to calculate AUC curves, because AUC is calcualted on class probabilities and not on class labels.\n",
    "    <img src='https://i.imgur.com/wMQDTFe.jpg' width=300px></li>\n",
    "    <li>Along with plotting ROC curve, you need to print the <a href='https://www.appliedaicourse.com/course/applied-ai-course-online/lessons/confusion-matrix-tpr-fpr-fnr-tnr-1/'>confusion matrix</a> with predicted and original labels of test data points\n",
    "    <img src='https://i.imgur.com/IdN5Ctv.png' width=300px></li>\n",
    "            </ul>\n",
    "    <br>\n",
    "    <li>You need to summarize the results at the end of the notebook, summarize it in the table format\n",
    "        <img src='http://i.imgur.com/YVpIGGE.jpg' width=400px>\n",
    "    </li>\n",
    "</ol>"
   ]
  },
  {
   "cell_type": "markdown",
   "metadata": {},
   "source": [
    "# Few Notes"
   ]
  },
  {
   "cell_type": "markdown",
   "metadata": {},
   "source": [
    "1. Use atleast 35k data points\n",
    "2. Use classifier.Predict_proba() method instead of predict() method while calculating roc_auc scores\n",
    "3. Be sure that you are using laplase smoothing in response encoding function. Laplase smoothing means applying the default (0.5) value to test data if the test data is not present in the train set\n"
   ]
  },
  {
   "cell_type": "code",
   "execution_count": 3,
   "metadata": {
    "colab": {},
    "colab_type": "code",
    "id": "iffa2_WGsc3H",
    "outputId": "151fc2d5-3bc1-4206-9bd2-000dbf662b31"
   },
   "outputs": [
    {
     "name": "stdout",
     "output_type": "stream",
     "text": [
      "sentiment score for sentence 1 {'neg': 0.0, 'neu': 0.213, 'pos': 0.787, 'compound': 0.5719}\n",
      "sentiment score for sentence 2 {'neg': 0.756, 'neu': 0.244, 'pos': 0.0, 'compound': -0.4767}\n",
      "sentiment score for sentence 3 {'neg': 0.0, 'neu': 1.0, 'pos': 0.0, 'compound': 0.0}\n"
     ]
    }
   ],
   "source": [
    "import nltk\n",
    "from nltk.sentiment.vader import SentimentIntensityAnalyzer\n",
    "# import nltk\n",
    "# nltk.download('vader_lexicon')\n",
    "\n",
    "sid = SentimentIntensityAnalyzer()\n",
    "\n",
    "sample_sentence_1='I am happy.'\n",
    "ss_1 = sid.polarity_scores(sample_sentence_1)\n",
    "print('sentiment score for sentence 1',ss_1)\n",
    "\n",
    "sample_sentence_2='I am sad.'\n",
    "ss_2 = sid.polarity_scores(sample_sentence_2)\n",
    "print('sentiment score for sentence 2',ss_2)\n",
    "\n",
    "sample_sentence_3='I am going to New Delhi tommorow.'\n",
    "ss_3 = sid.polarity_scores(sample_sentence_3)\n",
    "print('sentiment score for sentence 3',ss_3)\n"
   ]
  },
  {
   "cell_type": "markdown",
   "metadata": {
    "colab_type": "text",
    "id": "BOyTl7oKsc3W"
   },
   "source": [
    "<h1>1. GBDT (xgboost/lightgbm) </h1>"
   ]
  },
  {
   "cell_type": "markdown",
   "metadata": {
    "colab_type": "text",
    "id": "VWge-b2Zsc3Z"
   },
   "source": [
    "## 1.1 Loading Data"
   ]
  },
  {
   "cell_type": "code",
   "execution_count": 4,
   "metadata": {
    "colab": {},
    "colab_type": "code",
    "id": "WDZFu6-usc3d"
   },
   "outputs": [],
   "source": [
    "import pandas as pd\n",
    "data = pd.read_csv('preprocessed_data.csv')"
   ]
  },
  {
   "cell_type": "markdown",
   "metadata": {
    "colab_type": "text",
    "id": "6lAMFKFcsc3j"
   },
   "source": [
    "<h2>1.2 Splitting data into Train and cross validation(or test): Stratified Sampling</h2>"
   ]
  },
  {
   "cell_type": "code",
   "execution_count": 5,
   "metadata": {},
   "outputs": [
    {
     "name": "stderr",
     "output_type": "stream",
     "text": [
      "100%|█████████████████████████████████████████████████████████████████████████████████████████████████████████████████████████████| 109248/109248 [00:01<00:00, 75440.75it/s]\n"
     ]
    }
   ],
   "source": [
    "import nltk\n",
    "from nltk.sentiment.vader import SentimentIntensityAnalyzer\n",
    "from tqdm import tqdm\n",
    "sid = SentimentIntensityAnalyzer()\n",
    "temp = data['essay'].apply(sid.polarity_scores)\n",
    "sentiment = []\n",
    "for i in tqdm(range(len(temp))):\n",
    "    sentiment.append([temp[i]['neg'],temp[i]['pos'],temp[i]['neu'],temp[i]['compound']])\n",
    "senti = pd.DataFrame(sentiment,columns=[\"neg_sentiment\",\"pos_sentiment\",\"neu_sentiment\",\"compound\"])"
   ]
  },
  {
   "cell_type": "code",
   "execution_count": 6,
   "metadata": {},
   "outputs": [],
   "source": [
    "data['neg_sentiment'] = senti['neg_sentiment']\n",
    "data['pos_sentiment'] = senti['pos_sentiment']\n",
    "data['neu_sentiment'] = senti['neu_sentiment']\n",
    "data['compound'] = senti['compound']"
   ]
  },
  {
   "cell_type": "code",
   "execution_count": 7,
   "metadata": {},
   "outputs": [],
   "source": [
    "from sklearn.model_selection import train_test_split"
   ]
  },
  {
   "cell_type": "code",
   "execution_count": 8,
   "metadata": {},
   "outputs": [],
   "source": [
    "y = data['project_is_approved']\n",
    "X = data.drop(['project_is_approved'],axis = 1)"
   ]
  },
  {
   "cell_type": "code",
   "execution_count": 9,
   "metadata": {
    "colab": {},
    "colab_type": "code",
    "id": "ODMijuuNsc3l"
   },
   "outputs": [],
   "source": [
    "X_train,X_test,y_train,y_test = train_test_split(X,y,test_size = 0.25,random_state=10,stratify=y)"
   ]
  },
  {
   "cell_type": "markdown",
   "metadata": {
    "colab_type": "text",
    "id": "vsALgl5Asc3u"
   },
   "source": [
    "<h2>1.3 Make Data Model Ready: encoding eassay, and project_title</h2>"
   ]
  },
  {
   "cell_type": "code",
   "execution_count": 10,
   "metadata": {},
   "outputs": [],
   "source": [
    "from sklearn.feature_extraction.text import TfidfVectorizer"
   ]
  },
  {
   "cell_type": "code",
   "execution_count": 11,
   "metadata": {
    "colab": {},
    "colab_type": "code",
    "id": "1A_85jbWsc3v"
   },
   "outputs": [],
   "source": [
    "def vectorizer(df_train,df_test,name,vect):\n",
    "    train = vect.fit_transform(df_train[name])\n",
    "    test = vect.transform(df_test[name])\n",
    "    return train,test,vect\n",
    "\n",
    "tfidf_train,tfidf_test,tfid_vect = vectorizer(df_train=X_train,df_test=X_test,name='essay',vect = TfidfVectorizer())"
   ]
  },
  {
   "cell_type": "markdown",
   "metadata": {
    "colab_type": "text",
    "id": "S3Vxxv2Hsc31"
   },
   "source": [
    "<h2>1.4 Make Data Model Ready: encoding numerical, categorical features</h2>"
   ]
  },
  {
   "cell_type": "code",
   "execution_count": 12,
   "metadata": {},
   "outputs": [],
   "source": [
    "import pickle"
   ]
  },
  {
   "cell_type": "code",
   "execution_count": 13,
   "metadata": {},
   "outputs": [],
   "source": [
    "f = open('glove_vectors', 'rb')\n",
    "model = pickle.load(f)\n",
    "glove_words =  set(model.keys())"
   ]
  },
  {
   "cell_type": "code",
   "execution_count": 14,
   "metadata": {},
   "outputs": [],
   "source": [
    "word_idf_map = dict(zip(tfid_vect.vocabulary_, list(tfid_vect.idf_)))"
   ]
  },
  {
   "cell_type": "code",
   "execution_count": 15,
   "metadata": {},
   "outputs": [],
   "source": [
    "tf_idf_vocab = set(tfid_vect.vocabulary_.keys())"
   ]
  },
  {
   "cell_type": "code",
   "execution_count": 16,
   "metadata": {
    "colab": {},
    "colab_type": "code",
    "id": "RAtihVPqsc33"
   },
   "outputs": [],
   "source": [
    "from nltk.probability import FreqDist\n",
    "import numpy as np\n",
    "from tqdm import tqdm"
   ]
  },
  {
   "cell_type": "code",
   "execution_count": 17,
   "metadata": {},
   "outputs": [
    {
     "name": "stderr",
     "output_type": "stream",
     "text": [
      "100%|████████████████████████████████████████████████████████████████████████████████████████████████████████████████████████████████| 81936/81936 [01:10<00:00, 1162.35it/s]\n",
      "100%|████████████████████████████████████████████████████████████████████████████████████████████████████████████████████████████████| 27312/27312 [00:23<00:00, 1154.63it/s]\n"
     ]
    }
   ],
   "source": [
    "def sentToDoc(sentence):\n",
    "    ''' Input a sentence and output would be its vector represntation '''\n",
    "    word_feq = FreqDist(sentence)\n",
    "    total_length = len(sentence.split(' '))\n",
    "    sentVec = np.zeros(model['post'].shape)\n",
    "    count = 0\n",
    "    for word in sentence.split(' '):\n",
    "        if (word in glove_words) and (word in tf_idf_vocab):\n",
    "            tf_idf = (word_feq[word]/total_length)*word_idf_map[word]\n",
    "            sentVec += model[word]*tf_idf# glove vector * tf * idf\n",
    "            count += tf_idf\n",
    "    if count == 0:\n",
    "        return sentVec\n",
    "    return sentVec/count\n",
    "\n",
    "def tfid_glove(data):\n",
    "    vectors = []\n",
    "    for doc in tqdm(data):\n",
    "        vectors.append(sentToDoc(doc))\n",
    "    return np.array(vectors)\n",
    "glove_train_vector = tfid_glove(X_train['essay'])\n",
    "glove_test_vector = tfid_glove(X_test['essay'])"
   ]
  },
  {
   "cell_type": "markdown",
   "metadata": {},
   "source": [
    "#### 5. perform encoding of categorical features."
   ]
  },
  {
   "cell_type": "markdown",
   "metadata": {},
   "source": [
    "# change this"
   ]
  },
  {
   "cell_type": "code",
   "execution_count": 18,
   "metadata": {},
   "outputs": [],
   "source": [
    "class ResponseEncoder():\n",
    "    \n",
    "    def __init__(self):\n",
    "        self.unique_class = None\n",
    "        self.dim = None\n",
    "        self.vectors = None\n",
    "        self.eqvect = None\n",
    "    \n",
    "    def fit(self,X,y):# x with labels\n",
    "        # Find unique values in x and y\n",
    "        self.unique_class = y.unique()\n",
    "        self.dim =len(self.unique_class)\n",
    "        self.eqvect = np.ones(self.dim)/self.dim\n",
    "        # Combine two series.\n",
    "        df=pd.concat([X,y],axis=1)\n",
    "        df.columns = ['data','label']\n",
    "        self.vectors = dict()\n",
    "        for cat, data in df.groupby('data'):\n",
    "            #print(data)\n",
    "            temp = data['label'].value_counts() # will return series\n",
    "            total = len(data)\n",
    "            vect = np.zeros(self.dim)\n",
    "            count = 0\n",
    "            for idx,i in enumerate(self.unique_class):\n",
    "                if i in temp.index:\n",
    "                    vect[idx] = temp[i]\n",
    "                else:\n",
    "                    vect[idx] = 0\n",
    "            vect = vect/total\n",
    "            self.vectors[str(cat)] = vect\n",
    "\n",
    "    def transform(self,X):\n",
    "        vectors = []     \n",
    "        for cat in X:\n",
    "            if self.vectors.get(str(cat)) is None:\n",
    "                vectors.append(self.eqvect)\n",
    "            else:\n",
    "                vectors.append(self.vectors[str(cat)])\n",
    "        return np.array(vectors)\n",
    "    "
   ]
  },
  {
   "cell_type": "code",
   "execution_count": 19,
   "metadata": {},
   "outputs": [],
   "source": [
    "def responseCoding(X_train,X_test,name,vect,y_train):\n",
    "    vect.fit(X_train[name],y_train)\n",
    "    train = vect.transform(X_train[name])\n",
    "    test = vect.transform(X_test[name])\n",
    "    return train,test,vect"
   ]
  },
  {
   "cell_type": "code",
   "execution_count": 20,
   "metadata": {},
   "outputs": [],
   "source": [
    "train_state,test_state,model_state = responseCoding(X_train,X_test,'school_state',ResponseEncoder(),y_train)\n",
    "train_prefix, test_prefix,model_prefix = responseCoding(X_train,X_test,'teacher_prefix',ResponseEncoder(),y_train)\n",
    "train_grade, test_grade,model_grade = responseCoding(X_train,X_test,'project_grade_category',ResponseEncoder(),y_train)\n",
    "trian_cat, test_cat,model_cat = responseCoding(X_train,X_test,'clean_categories',ResponseEncoder(),y_train)\n",
    "train_sub, test_sub,model_sub = responseCoding(X_train,X_test,'clean_subcategories',ResponseEncoder(),y_train)"
   ]
  },
  {
   "cell_type": "markdown",
   "metadata": {},
   "source": [
    "#### 6. perform encoding of numerical features"
   ]
  },
  {
   "cell_type": "code",
   "execution_count": 21,
   "metadata": {},
   "outputs": [],
   "source": [
    "def vecotizer2d(df_train,df_test,name,vect):\n",
    "    train = vect.fit_transform(df_train[name].values.reshape(-1,1))\n",
    "    test = vect.transform(df_test[name].values.reshape(-1,1))\n",
    "    return train , test, vect"
   ]
  },
  {
   "cell_type": "code",
   "execution_count": 22,
   "metadata": {},
   "outputs": [],
   "source": [
    "from sklearn.preprocessing import StandardScaler\n",
    "train_price,test_price,model_price = vecotizer2d(X_train,X_test,'price',StandardScaler())\n",
    "train_prev_posted, test_prev_posted,model_prev_posted = vecotizer2d(X_train, X_test,'teacher_number_of_previously_posted_projects',StandardScaler())\n",
    "train_neg_sentiment,test_neg_sentiment,model_neg_sentiment = vecotizer2d(X_train,X_test,'neg_sentiment',StandardScaler())\n",
    "train_pos_sentiment,test_pos_sentiment,model_pos_sentiment = vecotizer2d(X_train,X_test,'pos_sentiment',StandardScaler())\n",
    "train_neu_sentiment,test_neu_sentiment,model_neu_sentiment = vecotizer2d(X_train,X_test,'neu_sentiment',StandardScaler())\n",
    "train_compound,test_compound,model_compound = vecotizer2d(X_train,X_test,'compound',StandardScaler())\n"
   ]
  },
  {
   "cell_type": "code",
   "execution_count": 23,
   "metadata": {},
   "outputs": [],
   "source": [
    "train_set_common = np.hstack((train_state,train_prefix,train_grade,trian_cat,train_sub,train_price,train_prev_posted,\n",
    "                           train_neg_sentiment,train_pos_sentiment,train_neu_sentiment,train_compound))\n",
    "test_set_common = np.hstack((test_state,test_prefix,test_grade,test_cat,test_sub,test_price,test_prev_posted,\n",
    "                          test_neg_sentiment,test_pos_sentiment,test_neu_sentiment,test_compound))\n"
   ]
  },
  {
   "cell_type": "code",
   "execution_count": 24,
   "metadata": {},
   "outputs": [
    {
     "data": {
      "text/plain": [
       "scipy.sparse._csr.csr_matrix"
      ]
     },
     "execution_count": 24,
     "metadata": {},
     "output_type": "execute_result"
    }
   ],
   "source": [
    "type(tfidf_train)"
   ]
  },
  {
   "cell_type": "code",
   "execution_count": 25,
   "metadata": {},
   "outputs": [
    {
     "data": {
      "text/plain": [
       "(81936, 16)"
      ]
     },
     "execution_count": 25,
     "metadata": {},
     "output_type": "execute_result"
    }
   ],
   "source": [
    "train_set_common.shape"
   ]
  },
  {
   "cell_type": "code",
   "execution_count": 26,
   "metadata": {},
   "outputs": [],
   "source": [
    "from scipy.sparse import hstack"
   ]
  },
  {
   "cell_type": "code",
   "execution_count": 27,
   "metadata": {},
   "outputs": [],
   "source": [
    "train_set_1 = hstack((tfidf_train,train_set_common))\n",
    "test_set_1 = hstack((tfidf_test,test_set_common))"
   ]
  },
  {
   "cell_type": "code",
   "execution_count": 28,
   "metadata": {},
   "outputs": [],
   "source": [
    "train_set_2 = np.hstack((glove_train_vector,train_set_common))\n",
    "test_set_2 = np.hstack((glove_test_vector,test_set_common))"
   ]
  },
  {
   "cell_type": "code",
   "execution_count": 29,
   "metadata": {},
   "outputs": [],
   "source": [
    "def saveFile(name,var):\n",
    "    file = open(name,'wb')\n",
    "    pickle.dump(var,file)\n",
    "    file.close()\n",
    "saveFile('train_set_1.pkl',train_set_1)\n",
    "saveFile('train_set_2.pkl',train_set_2)\n",
    "saveFile('test_set_1.pkl',test_set_1)\n",
    "saveFile('test_set_2.pkl',test_set_2)\n",
    "saveFile('label_train.pkl',y_train)\n",
    "saveFile('label_test.pkl',y_test)"
   ]
  },
  {
   "cell_type": "markdown",
   "metadata": {},
   "source": [
    "# Load Data"
   ]
  },
  {
   "cell_type": "code",
   "execution_count": 1,
   "metadata": {},
   "outputs": [],
   "source": [
    "import pickle\n",
    "def loadPickelb(name):\n",
    "    file = open(name,'rb')\n",
    "    return pickle.load(file)\n",
    "\n",
    "train_set_1 = loadPickelb('train_set_1.pkl')\n",
    "train_set_2 = loadPickelb('train_set_2.pkl')\n",
    "test_set_1 = loadPickelb('test_set_1.pkl')\n",
    "test_set_2 = loadPickelb('test_set_2.pkl')\n",
    "y_train =    loadPickelb('label_train.pkl')\n",
    "y_test =     loadPickelb('label_test.pkl')"
   ]
  },
  {
   "cell_type": "markdown",
   "metadata": {
    "colab_type": "text",
    "id": "I5wDFj17sc3-"
   },
   "source": [
    "<h2>1.5 Appling Models on different kind of featurization as mentioned in the instructions</h2>"
   ]
  },
  {
   "cell_type": "markdown",
   "metadata": {
    "colab_type": "text",
    "id": "O5tWox1jsc3_"
   },
   "source": [
    "<br>Apply GBDT on different kind of featurization as mentioned in the instructions\n",
    "<br> For Every model that you work on make sure you do the step 2 and step 3 of instrucations"
   ]
  },
  {
   "cell_type": "markdown",
   "metadata": {},
   "source": [
    "https://www.kaggle.com/code/tilii7/hyperparameter-grid-search-with-xgboost/notebook"
   ]
  },
  {
   "cell_type": "markdown",
   "metadata": {},
   "source": [
    "#### SET 1"
   ]
  },
  {
   "cell_type": "code",
   "execution_count": 2,
   "metadata": {
    "colab": {},
    "colab_type": "code",
    "id": "ARWulYUwsc4B"
   },
   "outputs": [],
   "source": [
    "from sklearn.model_selection import GridSearchCV\n",
    "from xgboost import XGBClassifier\n",
    "import numpy as np\n",
    "import pandas as pd\n",
    "from sklearn.metrics import roc_auc_score\n",
    "from sklearn.model_selection import StratifiedKFold"
   ]
  },
  {
   "cell_type": "code",
   "execution_count": 3,
   "metadata": {},
   "outputs": [],
   "source": [
    "hp = {  'colsample_bytree': [0.6, 0.8, 1.0],\n",
    "        'max_depth': [1, 2, 3]\n",
    "        }"
   ]
  },
  {
   "cell_type": "code",
   "execution_count": 4,
   "metadata": {},
   "outputs": [],
   "source": [
    "xgb = XGBClassifier(learning_rate=0.1, n_estimators=100, objective='binary:logistic',silent=True, nthread=7,tree_method='gpu_hist')"
   ]
  },
  {
   "cell_type": "code",
   "execution_count": 5,
   "metadata": {},
   "outputs": [],
   "source": [
    "gs = GridSearchCV(xgb,param_grid=hp,scoring=\"roc_auc\",n_jobs=5,cv=5,return_train_score=True)"
   ]
  },
  {
   "cell_type": "code",
   "execution_count": 6,
   "metadata": {},
   "outputs": [
    {
     "name": "stdout",
     "output_type": "stream",
     "text": [
      "[23:28:11] WARNING: ../src/learner.cc:627: \n",
      "Parameters: { \"silent\" } might not be used.\n",
      "\n",
      "  This could be a false alarm, with some parameters getting used by language bindings but\n",
      "  then being mistakenly passed down to XGBoost core, or some parameter actually being used\n",
      "  but getting flagged wrongly here. Please open an issue if you find any such cases.\n",
      "\n",
      "\n"
     ]
    },
    {
     "data": {
      "text/html": [
       "<style>#sk-container-id-1 {color: black;background-color: white;}#sk-container-id-1 pre{padding: 0;}#sk-container-id-1 div.sk-toggleable {background-color: white;}#sk-container-id-1 label.sk-toggleable__label {cursor: pointer;display: block;width: 100%;margin-bottom: 0;padding: 0.3em;box-sizing: border-box;text-align: center;}#sk-container-id-1 label.sk-toggleable__label-arrow:before {content: \"▸\";float: left;margin-right: 0.25em;color: #696969;}#sk-container-id-1 label.sk-toggleable__label-arrow:hover:before {color: black;}#sk-container-id-1 div.sk-estimator:hover label.sk-toggleable__label-arrow:before {color: black;}#sk-container-id-1 div.sk-toggleable__content {max-height: 0;max-width: 0;overflow: hidden;text-align: left;background-color: #f0f8ff;}#sk-container-id-1 div.sk-toggleable__content pre {margin: 0.2em;color: black;border-radius: 0.25em;background-color: #f0f8ff;}#sk-container-id-1 input.sk-toggleable__control:checked~div.sk-toggleable__content {max-height: 200px;max-width: 100%;overflow: auto;}#sk-container-id-1 input.sk-toggleable__control:checked~label.sk-toggleable__label-arrow:before {content: \"▾\";}#sk-container-id-1 div.sk-estimator input.sk-toggleable__control:checked~label.sk-toggleable__label {background-color: #d4ebff;}#sk-container-id-1 div.sk-label input.sk-toggleable__control:checked~label.sk-toggleable__label {background-color: #d4ebff;}#sk-container-id-1 input.sk-hidden--visually {border: 0;clip: rect(1px 1px 1px 1px);clip: rect(1px, 1px, 1px, 1px);height: 1px;margin: -1px;overflow: hidden;padding: 0;position: absolute;width: 1px;}#sk-container-id-1 div.sk-estimator {font-family: monospace;background-color: #f0f8ff;border: 1px dotted black;border-radius: 0.25em;box-sizing: border-box;margin-bottom: 0.5em;}#sk-container-id-1 div.sk-estimator:hover {background-color: #d4ebff;}#sk-container-id-1 div.sk-parallel-item::after {content: \"\";width: 100%;border-bottom: 1px solid gray;flex-grow: 1;}#sk-container-id-1 div.sk-label:hover label.sk-toggleable__label {background-color: #d4ebff;}#sk-container-id-1 div.sk-serial::before {content: \"\";position: absolute;border-left: 1px solid gray;box-sizing: border-box;top: 0;bottom: 0;left: 50%;z-index: 0;}#sk-container-id-1 div.sk-serial {display: flex;flex-direction: column;align-items: center;background-color: white;padding-right: 0.2em;padding-left: 0.2em;position: relative;}#sk-container-id-1 div.sk-item {position: relative;z-index: 1;}#sk-container-id-1 div.sk-parallel {display: flex;align-items: stretch;justify-content: center;background-color: white;position: relative;}#sk-container-id-1 div.sk-item::before, #sk-container-id-1 div.sk-parallel-item::before {content: \"\";position: absolute;border-left: 1px solid gray;box-sizing: border-box;top: 0;bottom: 0;left: 50%;z-index: -1;}#sk-container-id-1 div.sk-parallel-item {display: flex;flex-direction: column;z-index: 1;position: relative;background-color: white;}#sk-container-id-1 div.sk-parallel-item:first-child::after {align-self: flex-end;width: 50%;}#sk-container-id-1 div.sk-parallel-item:last-child::after {align-self: flex-start;width: 50%;}#sk-container-id-1 div.sk-parallel-item:only-child::after {width: 0;}#sk-container-id-1 div.sk-dashed-wrapped {border: 1px dashed gray;margin: 0 0.4em 0.5em 0.4em;box-sizing: border-box;padding-bottom: 0.4em;background-color: white;}#sk-container-id-1 div.sk-label label {font-family: monospace;font-weight: bold;display: inline-block;line-height: 1.2em;}#sk-container-id-1 div.sk-label-container {text-align: center;}#sk-container-id-1 div.sk-container {/* jupyter's `normalize.less` sets `[hidden] { display: none; }` but bootstrap.min.css set `[hidden] { display: none !important; }` so we also need the `!important` here to be able to override the default hidden behavior on the sphinx rendered scikit-learn.org. See: https://github.com/scikit-learn/scikit-learn/issues/21755 */display: inline-block !important;position: relative;}#sk-container-id-1 div.sk-text-repr-fallback {display: none;}</style><div id=\"sk-container-id-1\" class=\"sk-top-container\"><div class=\"sk-text-repr-fallback\"><pre>GridSearchCV(cv=5,\n",
       "             estimator=XGBClassifier(base_score=None, booster=None,\n",
       "                                     callbacks=None, colsample_bylevel=None,\n",
       "                                     colsample_bynode=None,\n",
       "                                     colsample_bytree=None,\n",
       "                                     early_stopping_rounds=None,\n",
       "                                     enable_categorical=False, eval_metric=None,\n",
       "                                     gamma=None, gpu_id=None, grow_policy=None,\n",
       "                                     importance_type=None,\n",
       "                                     interaction_constraints=None,\n",
       "                                     learning_rate=0.1, max_bin=None,\n",
       "                                     max_cat...t=None,\n",
       "                                     max_delta_step=None, max_depth=None,\n",
       "                                     max_leaves=None, min_child_weight=None,\n",
       "                                     missing=nan, monotone_constraints=None,\n",
       "                                     n_estimators=100, n_jobs=None, nthread=7,\n",
       "                                     num_parallel_tree=None, predictor=None,\n",
       "                                     random_state=None, reg_alpha=None, ...),\n",
       "             n_jobs=5,\n",
       "             param_grid={&#x27;colsample_bytree&#x27;: [0.6, 0.8, 1.0],\n",
       "                         &#x27;max_depth&#x27;: [1, 2, 3]},\n",
       "             return_train_score=True, scoring=&#x27;roc_auc&#x27;)</pre><b>In a Jupyter environment, please rerun this cell to show the HTML representation or trust the notebook. <br />On GitHub, the HTML representation is unable to render, please try loading this page with nbviewer.org.</b></div><div class=\"sk-container\" hidden><div class=\"sk-item sk-dashed-wrapped\"><div class=\"sk-label-container\"><div class=\"sk-label sk-toggleable\"><input class=\"sk-toggleable__control sk-hidden--visually\" id=\"sk-estimator-id-1\" type=\"checkbox\" ><label for=\"sk-estimator-id-1\" class=\"sk-toggleable__label sk-toggleable__label-arrow\">GridSearchCV</label><div class=\"sk-toggleable__content\"><pre>GridSearchCV(cv=5,\n",
       "             estimator=XGBClassifier(base_score=None, booster=None,\n",
       "                                     callbacks=None, colsample_bylevel=None,\n",
       "                                     colsample_bynode=None,\n",
       "                                     colsample_bytree=None,\n",
       "                                     early_stopping_rounds=None,\n",
       "                                     enable_categorical=False, eval_metric=None,\n",
       "                                     gamma=None, gpu_id=None, grow_policy=None,\n",
       "                                     importance_type=None,\n",
       "                                     interaction_constraints=None,\n",
       "                                     learning_rate=0.1, max_bin=None,\n",
       "                                     max_cat...t=None,\n",
       "                                     max_delta_step=None, max_depth=None,\n",
       "                                     max_leaves=None, min_child_weight=None,\n",
       "                                     missing=nan, monotone_constraints=None,\n",
       "                                     n_estimators=100, n_jobs=None, nthread=7,\n",
       "                                     num_parallel_tree=None, predictor=None,\n",
       "                                     random_state=None, reg_alpha=None, ...),\n",
       "             n_jobs=5,\n",
       "             param_grid={&#x27;colsample_bytree&#x27;: [0.6, 0.8, 1.0],\n",
       "                         &#x27;max_depth&#x27;: [1, 2, 3]},\n",
       "             return_train_score=True, scoring=&#x27;roc_auc&#x27;)</pre></div></div></div><div class=\"sk-parallel\"><div class=\"sk-parallel-item\"><div class=\"sk-item\"><div class=\"sk-label-container\"><div class=\"sk-label sk-toggleable\"><input class=\"sk-toggleable__control sk-hidden--visually\" id=\"sk-estimator-id-2\" type=\"checkbox\" ><label for=\"sk-estimator-id-2\" class=\"sk-toggleable__label sk-toggleable__label-arrow\">estimator: XGBClassifier</label><div class=\"sk-toggleable__content\"><pre>XGBClassifier(base_score=None, booster=None, callbacks=None,\n",
       "              colsample_bylevel=None, colsample_bynode=None,\n",
       "              colsample_bytree=None, early_stopping_rounds=None,\n",
       "              enable_categorical=False, eval_metric=None, gamma=None,\n",
       "              gpu_id=None, grow_policy=None, importance_type=None,\n",
       "              interaction_constraints=None, learning_rate=0.1, max_bin=None,\n",
       "              max_cat_to_onehot=None, max_delta_step=None, max_depth=None,\n",
       "              max_leaves=None, min_child_weight=None, missing=nan,\n",
       "              monotone_constraints=None, n_estimators=100, n_jobs=None,\n",
       "              nthread=7, num_parallel_tree=None, predictor=None,\n",
       "              random_state=None, reg_alpha=None, ...)</pre></div></div></div><div class=\"sk-serial\"><div class=\"sk-item\"><div class=\"sk-estimator sk-toggleable\"><input class=\"sk-toggleable__control sk-hidden--visually\" id=\"sk-estimator-id-3\" type=\"checkbox\" ><label for=\"sk-estimator-id-3\" class=\"sk-toggleable__label sk-toggleable__label-arrow\">XGBClassifier</label><div class=\"sk-toggleable__content\"><pre>XGBClassifier(base_score=None, booster=None, callbacks=None,\n",
       "              colsample_bylevel=None, colsample_bynode=None,\n",
       "              colsample_bytree=None, early_stopping_rounds=None,\n",
       "              enable_categorical=False, eval_metric=None, gamma=None,\n",
       "              gpu_id=None, grow_policy=None, importance_type=None,\n",
       "              interaction_constraints=None, learning_rate=0.1, max_bin=None,\n",
       "              max_cat_to_onehot=None, max_delta_step=None, max_depth=None,\n",
       "              max_leaves=None, min_child_weight=None, missing=nan,\n",
       "              monotone_constraints=None, n_estimators=100, n_jobs=None,\n",
       "              nthread=7, num_parallel_tree=None, predictor=None,\n",
       "              random_state=None, reg_alpha=None, ...)</pre></div></div></div></div></div></div></div></div></div></div>"
      ],
      "text/plain": [
       "GridSearchCV(cv=5,\n",
       "             estimator=XGBClassifier(base_score=None, booster=None,\n",
       "                                     callbacks=None, colsample_bylevel=None,\n",
       "                                     colsample_bynode=None,\n",
       "                                     colsample_bytree=None,\n",
       "                                     early_stopping_rounds=None,\n",
       "                                     enable_categorical=False, eval_metric=None,\n",
       "                                     gamma=None, gpu_id=None, grow_policy=None,\n",
       "                                     importance_type=None,\n",
       "                                     interaction_constraints=None,\n",
       "                                     learning_rate=0.1, max_bin=None,\n",
       "                                     max_cat...t=None,\n",
       "                                     max_delta_step=None, max_depth=None,\n",
       "                                     max_leaves=None, min_child_weight=None,\n",
       "                                     missing=nan, monotone_constraints=None,\n",
       "                                     n_estimators=100, n_jobs=None, nthread=7,\n",
       "                                     num_parallel_tree=None, predictor=None,\n",
       "                                     random_state=None, reg_alpha=None, ...),\n",
       "             n_jobs=5,\n",
       "             param_grid={'colsample_bytree': [0.6, 0.8, 1.0],\n",
       "                         'max_depth': [1, 2, 3]},\n",
       "             return_train_score=True, scoring='roc_auc')"
      ]
     },
     "execution_count": 6,
     "metadata": {},
     "output_type": "execute_result"
    }
   ],
   "source": [
    "gs.fit(train_set_1,y_train)"
   ]
  },
  {
   "cell_type": "code",
   "execution_count": 7,
   "metadata": {},
   "outputs": [
    {
     "name": "stdout",
     "output_type": "stream",
     "text": [
      "Optimal Hyperparameter is for dataset 1 :  {'colsample_bytree': 1.0, 'max_depth': 3}\n"
     ]
    }
   ],
   "source": [
    "print(\"Optimal Hyperparameter is for dataset 1 : \",gs.best_params_)"
   ]
  },
  {
   "cell_type": "code",
   "execution_count": 8,
   "metadata": {},
   "outputs": [],
   "source": [
    "mean_test_score = gs.cv_results_['mean_test_score'].reshape(3,3)"
   ]
  },
  {
   "cell_type": "code",
   "execution_count": 9,
   "metadata": {},
   "outputs": [
    {
     "data": {
      "image/png": "[encoded data removed]",
      "text/plain": [
       "<Figure size 720x720 with 1 Axes>"
      ]
     },
     "metadata": {
      "needs_background": "light"
     },
     "output_type": "display_data"
    }
   ],
   "source": [
    "import matplotlib.pyplot as plt\n",
    "def plotHeatmap(hp,mean_test_score):\n",
    "    y_labels = hp['colsample_bytree']\n",
    "    x_labels = hp['max_depth']\n",
    "    fig, ax = plt.subplots(figsize=(10,10))\n",
    "    im = ax.imshow(mean_test_score)\n",
    "    ax.set_xticks(np.arange(len(x_labels)), labels=x_labels)\n",
    "    ax.set_yticks(np.arange(len(y_labels)), labels=y_labels)\n",
    "\n",
    "    # Loop over data dimensions and create text annotations.\n",
    "    for i in range(len(y_labels)):\n",
    "        for j in range(len(x_labels)):\n",
    "            text = ax.text(j, i, round(mean_test_score[i, j],3),\n",
    "                           ha=\"center\", va=\"center\", color=\"w\")\n",
    "    ax.set_xlabel(\"Maximum Depth\")\n",
    "    ax.set_ylabel(\"colsample_bytree\")\n",
    "    ax.set_title(\"Grid Search result Scoring: roc_auc\")\n",
    "    fig.tight_layout()\n",
    "    plt.show()\n",
    "plotHeatmap(hp,mean_test_score)"
   ]
  },
  {
   "cell_type": "code",
   "execution_count": 10,
   "metadata": {},
   "outputs": [
    {
     "name": "stdout",
     "output_type": "stream",
     "text": [
      "[23:28:37] WARNING: ../src/learner.cc:627: \n",
      "Parameters: { \"silent\" } might not be used.\n",
      "\n",
      "  This could be a false alarm, with some parameters getting used by language bindings but\n",
      "  then being mistakenly passed down to XGBoost core, or some parameter actually being used\n",
      "  but getting flagged wrongly here. Please open an issue if you find any such cases.\n",
      "\n",
      "\n",
      "Optimal Hyperparameter is for dataset 1 :  {'colsample_bytree': 1.0, 'max_depth': 3}\n"
     ]
    },
    {
     "data": {
      "image/png": "[encoded data removed]",
      "text/plain": [
       "<Figure size 720x720 with 1 Axes>"
      ]
     },
     "metadata": {
      "needs_background": "light"
     },
     "output_type": "display_data"
    }
   ],
   "source": [
    "gs2 = GridSearchCV(xgb,param_grid=hp,scoring=\"roc_auc\",n_jobs=5,cv=5,return_train_score=True)\n",
    "gs2.fit(train_set_2,y_train)\n",
    "print(\"Optimal Hyperparameter is for dataset 1 : \",gs.best_params_)\n",
    "mean_test_score = gs2.cv_results_['mean_test_score'].reshape(3,3)\n",
    "plotHeatmap(hp,mean_test_score)"
   ]
  },
  {
   "cell_type": "code",
   "execution_count": 13,
   "metadata": {},
   "outputs": [],
   "source": [
    "best_xgb_1 = xgb = XGBClassifier(max_depth = 3,learning_rate=0.1, n_estimators=100, objective='binary:logistic',silent=True, nthread=7,tree_method='gpu_hist')\n",
    "best_xgb_1.fit(train_set_1,y_train)\n",
    "\n",
    "y_test_pred = best_xgb_1.predict_proba(test_set_1)\n",
    "y_train_pred = best_xgb_1.predict_proba(train_set_1)"
   ]
  },
  {
   "cell_type": "code",
   "execution_count": 14,
   "metadata": {},
   "outputs": [],
   "source": [
    "from sklearn.metrics import roc_curve, roc_auc_score\n",
    "import matplotlib.pyplot as plt"
   ]
  },
  {
   "cell_type": "code",
   "execution_count": 15,
   "metadata": {},
   "outputs": [
    {
     "name": "stdout",
     "output_type": "stream",
     "text": [
      "TRAIN AUC SCORE 0.7470887717929511\n",
      "TEST AUC SCORE 0.7108040958547333\n"
     ]
    },
    {
     "data": {
      "image/png": "[encoded data removed]",
      "text/plain": [
       "<Figure size 432x288 with 1 Axes>"
      ]
     },
     "metadata": {
      "needs_background": "light"
     },
     "output_type": "display_data"
    },
    {
     "data": {
      "text/plain": [
       "0.4326704240574572"
      ]
     },
     "execution_count": 15,
     "metadata": {},
     "output_type": "execute_result"
    }
   ],
   "source": [
    "def roc_curve_plot(y_train,y_test,y_train_prob,y_test_prob):\n",
    "    train = roc_curve(y_train,y_train_prob[:,1])\n",
    "    test  = roc_curve(y_test,y_test_prob[:,1])\n",
    "    print(\"TRAIN AUC SCORE\",roc_auc_score(y_train, y_train_prob[:,1]))\n",
    "    print(\"TEST AUC SCORE\",roc_auc_score(y_test, y_test_prob[:,1]))\n",
    "    opt = [ (1-test[0][i])*(test[1][i]) for i in range(len(test[0]))]\n",
    "    optimal_theta = opt[opt.index(max(opt))]\n",
    "    plt.plot(test[0],test[1],label=\"Test\",color='red')\n",
    "    plt.plot(train[0],train[1],label=\"Train\",color='blue')\n",
    "    plt.xlabel(\"False positive rate\")\n",
    "    plt.ylabel(\"True positive rate\")\n",
    "    plt.legend()\n",
    "    plt.show()\n",
    "    return optimal_theta\n",
    "roc_curve_plot(y_train,y_test,y_train_pred,y_test_pred)"
   ]
  },
  {
   "cell_type": "code",
   "execution_count": 17,
   "metadata": {},
   "outputs": [
    {
     "name": "stdout",
     "output_type": "stream",
     "text": [
      "[23:40:49] WARNING: ../src/learner.cc:627: \n",
      "Parameters: { \"silent\" } might not be used.\n",
      "\n",
      "  This could be a false alarm, with some parameters getting used by language bindings but\n",
      "  then being mistakenly passed down to XGBoost core, or some parameter actually being used\n",
      "  but getting flagged wrongly here. Please open an issue if you find any such cases.\n",
      "\n",
      "\n",
      "TRAIN AUC SCORE 0.6740136391681725\n",
      "TEST AUC SCORE 0.6440452447880329\n"
     ]
    },
    {
     "data": {
      "image/png": "[encoded data removed]",
      "text/plain": [
       "<Figure size 432x288 with 1 Axes>"
      ]
     },
     "metadata": {
      "needs_background": "light"
     },
     "output_type": "display_data"
    },
    {
     "data": {
      "text/plain": [
       "0.36495130607059"
      ]
     },
     "execution_count": 17,
     "metadata": {},
     "output_type": "execute_result"
    }
   ],
   "source": [
    "best_xgb_2 = xgb = XGBClassifier(max_depth = 3,learning_rate=0.1, n_estimators=100, objective='binary:logistic',silent=True, nthread=7,tree_method='gpu_hist')\n",
    "best_xgb_2.fit(train_set_2,y_train)\n",
    "\n",
    "y_test_pred_2 = best_xgb_2.predict_proba(test_set_2)\n",
    "y_train_pred_2 = best_xgb_2.predict_proba(train_set_2)\n",
    "roc_curve_plot(y_train,y_test,y_train_pred_2,y_test_pred_2)"
   ]
  },
  {
   "cell_type": "code",
   "execution_count": 18,
   "metadata": {},
   "outputs": [
    {
     "data": {
      "image/png": "[encoded data removed]",
      "text/plain": [
       "<Figure size 432x288 with 2 Axes>"
      ]
     },
     "metadata": {
      "needs_background": "light"
     },
     "output_type": "display_data"
    }
   ],
   "source": [
    "from sklearn.metrics import confusion_matrix,ConfusionMatrixDisplay\n",
    "def confusionMatrix(optimal_theta,predicted,y_test):\n",
    "    predicted[predicted>optimal_theta] = 1\n",
    "    predicted[predicted<= optimal_theta] = 0\n",
    "    matrix = confusion_matrix(y_test,predicted)\n",
    "    disp = ConfusionMatrixDisplay(confusion_matrix=matrix)\n",
    "    disp.plot()\n",
    "    return predicted\n",
    "predicted_set_1  =confusionMatrix(0.4326704240574572,y_test_pred[:,1],y_test)"
   ]
  },
  {
   "cell_type": "code",
   "execution_count": 19,
   "metadata": {},
   "outputs": [
    {
     "data": {
      "image/png": "[encoded data removed]",
      "text/plain": [
       "<Figure size 432x288 with 2 Axes>"
      ]
     },
     "metadata": {
      "needs_background": "light"
     },
     "output_type": "display_data"
    }
   ],
   "source": [
    "predicted_set_1  =confusionMatrix(0.36495130607059,y_test_pred_2[:,1],y_test)"
   ]
  },
  {
   "cell_type": "markdown",
   "metadata": {
    "colab_type": "text",
    "id": "YhFN-lDWsc4G"
   },
   "source": [
    "<h1>3. Summary</h1>\n",
    "\n",
    "<br> as mentioned in the step 4 of instructions"
   ]
  },
  {
   "cell_type": "code",
   "execution_count": 20,
   "metadata": {},
   "outputs": [
    {
     "name": "stdout",
     "output_type": "stream",
     "text": [
      "+------------+---------+-----------------------------------------+--------+\n",
      "| Vectorizer |  Model  |             Hyper Parameter             |  AUC   |\n",
      "+------------+---------+-----------------------------------------+--------+\n",
      "|   Glove    | xgboost | ['max_depth: 3', 'colsample_bytree: 1'] | 0.644  |\n",
      "|   TFIDF    | xgboost | ['max_depth: 3', 'colsample_bytree: 1'] | 0.7108 |\n",
      "+------------+---------+-----------------------------------------+--------+\n"
     ]
    }
   ],
   "source": [
    "from prettytable import PrettyTable\n",
    "x = PrettyTable()\n",
    "x.field_names = [\"Vectorizer\", \"Model\", \"Hyper Parameter\", \"AUC\"]\n",
    "x.add_row([\"Glove\", \"xgboost\", [\"max_depth: 3\" , \"colsample_bytree: 1\"],0.6440 ])\n",
    "x.add_row([\"TFIDF\",\"xgboost\", [\"max_depth: 3\" , \"colsample_bytree: 1\"],0.7108 ])\n",
    "print(x)"
   ]
  },
  {
   "cell_type": "code",
   "execution_count": null,
   "metadata": {},
   "outputs": [],
   "source": []
  }
 ],
 "metadata": {
  "colab": {
   "collapsed_sections": [],
   "name": "11_Assignment_GBDT_Instructions.ipynb",
   "provenance": [],
   "version": "0.3.2"
  },
  "kernelspec": {
   "display_name": "Python 3 (ipykernel)",
   "language": "python",
   "name": "python3"
  },
  "language_info": {
   "codemirror_mode": {
    "name": "ipython",
    "version": 3
   },
   "file_extension": ".py",
   "mimetype": "text/x-python",
   "name": "python",
   "nbconvert_exporter": "python",
   "pygments_lexer": "ipython3",
   "version": "3.9.12"
  }
 },
 "nbformat": 4,
 "nbformat_minor": 4
}
