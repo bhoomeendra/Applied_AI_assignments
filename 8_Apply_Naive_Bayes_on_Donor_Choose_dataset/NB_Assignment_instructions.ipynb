{
 "cells": [
  {
   "cell_type": "markdown",
   "metadata": {
    "id": "Dnubs-Nnb3cw"
   },
   "source": [
    "# Assignment 6: Apply NB"
   ]
  },
  {
   "cell_type": "markdown",
   "metadata": {
    "id": "RW0zYHb5m_wI"
   },
   "source": [
    "<ol>\n",
    "    <li>Minimum data points need to be considered for people having 4GB RAM is <strong>50k</strong> and for 8GB RAM is <strong>100k</strong></li>\n",
    "    <li>When you are using ramdomsearchcv or gridsearchcv you need not split the data into X_train,X_cv,X_test. As the above methods use kfold. The model will learn better if train data is more so splitting to X_train,X_test will suffice.</li>\n",
    "    <li>If you are writing for loops to tune your model then you need split the data into X_train,X_cv,X_test.</li>\n",
    "    <li>While splitting the data explore stratify parameter. </li>\n",
    "    <li><strong>Apply Multinomial NB on these feature sets</strong></li>\n",
    "        <ul>\n",
    "            <li>Features that need to be considered</li> \n",
    "                <dl>\n",
    "                  <dt>essay</dt>\n",
    "                    <dd>while encoding essay, try to experiment with the max_features and n_grams parameter of vectorizers and see if it increases AUC score.</dd>\n",
    "                  <dt>categorical features</dt>\n",
    "                  <dd> - teacher_prefix</dd>\n",
    "                  <dd> - project_grade_category</dd>\n",
    "                  <dd> - school_state</dd>\n",
    "                  <dd> - clean_categories</dd>\n",
    "                  <dd> - clean_subcategories</dd>\n",
    "                  <dt>numerical features</dt>\n",
    "                  <dd> - price</dd>\n",
    "                  <dd> - teacher_number_of_previously_posted_projects</dd>\n",
    "                  <dd>while encoding the numerical features check <a href='https://imgur.com/ldZA1zg'>this</a> and <a href='https://ac-classroom-production.s3.amazonaws.com/public/COMMENT/Annotation_2020-05-21_225912_0lyZzN8.jpg'>this</a></dd>\n",
    "                </dl>    \n",
    "            <li><font color='red'>Set 1</font>: categorical, numerical features + preprocessed_eassay (BOW)</li>\n",
    "            <li><font color='red'>Set 2</font>: categorical, numerical features + preprocessed_eassay (TFIDF)</li>\n",
    "        </ul>\n",
    "    <li><strong>The hyper paramter tuning(find best alpha:smoothing parameter)</strong>\n",
    "        <ul>\n",
    "    <li>Consider alpha values in range: 10^-5 to 10^2 like [0.00001,0.0005, 0.0001,0.005,0.001,0.05,0.01,0.1,0.5,1,5,10,50,100]</li>\n",
    "    <li>Explore class_prior = [0.5, 0.5] parameter which can be present in MultinomialNB function(go through <a href='https://scikit-learn.org/stable/modules/generated/sklearn.naive_bayes.MultinomialNB.html'>this</a> ) then check how results might change.\n",
    "    <li>Find the best hyper parameter which will give the maximum <a href='https://www.appliedaicourse.com/course/applied-ai-course-online/lessons/receiver-operating-characteristic-curve-roc-curve-and-auc-1/'>AUC</a> value</li>\n",
    "    <li>For hyper parameter tuning using k-fold cross validation(use GridsearchCV or RandomsearchCV)/simple cross validation data (write for loop to iterate over hyper parameter values)</li>\n",
    "    <li>You need to plot the performance of model both on train data and cross validation data for each hyper parameter, like shown in the figure\n",
    "    <img src='https://i.imgur.com/hUv6aEy.jpg' width=300px><dd>-while plotting take log(alpha) on your X-axis so that it will be more readable</dd></li>\n",
    "    <li>Once after you found the best hyper parameter, you need to train your model with it, and find the AUC on test data and plot the ROC curve on both train and test.\n",
    "    <img src='https://imgur.com/q2P65L5.jpg' width=300px></li>\n",
    "    <li>Along with plotting ROC curve, you need to print the <a href='https://www.appliedaicourse.com/course/applied-ai-course-online/lessons/confusion-matrix-tpr-fpr-fnr-tnr-1/'>confusion matrix</a> with predicted and original labels of test data points\n",
    "        <img src='https://i.imgur.com/IdN5Ctv.png' width=300px><dd>-plot the confusion matrix in heatmaps, while plotting the confusion matrix go through the <a href='https://stackoverflow.com/questions/61748441/how-to-fix-the-values-displayed-in-a-confusion-matrix-in-exponential-form-to-nor'>link </a>\n",
    "</dd></li>\n",
    "        </ul>\n",
    "<li>find the top 20 features from either from feature <font color='red'>Set 1</font> or feature <font color='red'>Set 2</font> using values of `feature_log_prob_ ` parameter of `MultinomialNB` \n",
    "(https://scikit-learn.org/stable/modules/generated/sklearn.naive_bayes.MultinomialNB.html) and print <strong>BOTH</strong> positive as well as negative corresponding feature names. <dd> - go through the <a href='https://imgur.com/mWvE7gj'>link </a> </dd>\n",
    "    </li>\n",
    "    <li>You need to summarize the results at the end of the notebook, summarize it in the table format\n",
    "        <img src='http://i.imgur.com/YVpIGGE.jpg' width=400px>\n",
    "    </li>\n",
    "</ol>"
   ]
  },
  {
   "cell_type": "markdown",
   "metadata": {
    "id": "chpSjDaXm9KG",
    "tags": []
   },
   "source": [
    "# IMPORTS"
   ]
  },
  {
   "cell_type": "code",
   "execution_count": 1,
   "metadata": {},
   "outputs": [],
   "source": [
    "import pandas as pd\n",
    "import numpy as np\n",
    "from sklearn.model_selection import train_test_split"
   ]
  },
  {
   "cell_type": "code",
   "execution_count": 2,
   "metadata": {},
   "outputs": [],
   "source": [
    "from sklearn.feature_extraction.text import TfidfVectorizer\n",
    "from sklearn.feature_extraction.text import CountVectorizer"
   ]
  },
  {
   "cell_type": "code",
   "execution_count": 3,
   "metadata": {},
   "outputs": [],
   "source": [
    "from sklearn.preprocessing import Normalizer #L2 norm\n",
    "from sklearn.preprocessing import StandardScaler# z= (x-mean)/sigma"
   ]
  },
  {
   "cell_type": "code",
   "execution_count": 4,
   "metadata": {},
   "outputs": [],
   "source": [
    "from scipy.sparse import hstack"
   ]
  },
  {
   "cell_type": "code",
   "execution_count": 5,
   "metadata": {},
   "outputs": [],
   "source": [
    "from sklearn.model_selection import RandomizedSearchCV"
   ]
  },
  {
   "cell_type": "code",
   "execution_count": 6,
   "metadata": {},
   "outputs": [],
   "source": [
    "from sklearn.naive_bayes import MultinomialNB"
   ]
  },
  {
   "cell_type": "code",
   "execution_count": 7,
   "metadata": {},
   "outputs": [],
   "source": [
    "from sklearn.metrics import roc_curve, roc_auc_score"
   ]
  },
  {
   "cell_type": "code",
   "execution_count": 8,
   "metadata": {},
   "outputs": [],
   "source": [
    "from sklearn.metrics import confusion_matrix,ConfusionMatrixDisplay"
   ]
  },
  {
   "cell_type": "code",
   "execution_count": 9,
   "metadata": {},
   "outputs": [],
   "source": [
    "import matplotlib.pyplot as plt"
   ]
  },
  {
   "cell_type": "code",
   "execution_count": 74,
   "metadata": {},
   "outputs": [],
   "source": [
    "def vectorizer(df_train,df_test,name,vect):\n",
    "    train = vect.fit_transform(df_train[name])\n",
    "    test = vect.transform(df_test[name])\n",
    "    return train,test,vect\n",
    "def vecotizer2d(df_train,df_test,name,vect):\n",
    "    train = vect.fit_transform(df_train[name].values.reshape(-1,1))\n",
    "    test = vect.transform(df_test[name].values.reshape(-1,1))\n",
    "    return train , test, vect\n",
    "def plotAucAllHyperParameter(plot_data):\n",
    "    x = [ s['alpha'] for s in plot_data['params']]\n",
    "    y_test = plot_data['mean_test_score']\n",
    "    y_train = plot_data['mean_train_score']\n",
    "    plt.plot(x,y_train,label=\"Train\",color='blue')\n",
    "    plt.plot(x,y_test,label=\"Test\",color='red')\n",
    "    plt.xlabel(\"Hyper parameter alpha -->\")\n",
    "    plt.ylabel(\"ROC AUC -->\")\n",
    "    plt.legend()\n",
    "    plt.show()"
   ]
  },
  {
   "cell_type": "markdown",
   "metadata": {
    "id": "inzYCIaib3c3"
   },
   "source": [
    "<h1>2. Naive Bayes </h1>"
   ]
  },
  {
   "cell_type": "markdown",
   "metadata": {
    "id": "FYqCIxzFb3c5"
   },
   "source": [
    "## 1.1 Loading Data"
   ]
  },
  {
   "cell_type": "code",
   "execution_count": 11,
   "metadata": {
    "id": "dA1jknyqb3c_"
   },
   "outputs": [
    {
     "name": "stdout",
     "output_type": "stream",
     "text": [
      "Number of data points in train data (109248, 9)\n",
      "--------------------------------------------------\n",
      "The attributes of data : ['school_state' 'teacher_prefix' 'project_grade_category'\n",
      " 'teacher_number_of_previously_posted_projects' 'project_is_approved'\n",
      " 'clean_categories' 'clean_subcategories' 'essay' 'price']\n"
     ]
    }
   ],
   "source": [
    "#make sure you are loading atleast 50k datapoints\n",
    "#you can work with features of preprocessed_data.csv for the assignment.\n",
    "# If you want to add more features, you can add. (This is purely optional, not mandatory)\n",
    "project_data = pd.read_csv('preprocessed_data.csv')\n",
    "print(\"Number of data points in train data\", project_data.shape)\n",
    "print('-'*50)\n",
    "print(\"The attributes of data :\", project_data.columns.values)"
   ]
  },
  {
   "cell_type": "markdown",
   "metadata": {
    "id": "WtVV13Fyb3dH"
   },
   "source": [
    "<h2>1.2 Splitting data into Train and cross validation(or test): Stratified Sampling</h2>"
   ]
  },
  {
   "cell_type": "code",
   "execution_count": 12,
   "metadata": {},
   "outputs": [],
   "source": [
    "k = list(project_data.columns.values)\n",
    "k.remove('project_is_approved')\n",
    "# Making input X and output Y \n",
    "X = project_data[k]\n",
    "y = project_data['project_is_approved']"
   ]
  },
  {
   "cell_type": "code",
   "execution_count": 13,
   "metadata": {},
   "outputs": [],
   "source": [
    "# write your code in following steps for task 1\n",
    "# 1. Split your data.\n",
    "X_train,X_test,y_train,y_test = train_test_split(X,y,test_size=0.2,stratify=y)\n",
    "#as I will be performing randomsearchCV no validation set"
   ]
  },
  {
   "cell_type": "markdown",
   "metadata": {},
   "source": [
    "## 1.3 Featueizing essay"
   ]
  },
  {
   "cell_type": "code",
   "execution_count": 14,
   "metadata": {},
   "outputs": [],
   "source": [
    "# 2. Perform Bag of Words Vectorization of text data.\n",
    "train_bow,test_bow,model_bow = vectorizer(X_train,X_test,'essay',CountVectorizer(ngram_range=(1,2)))"
   ]
  },
  {
   "cell_type": "code",
   "execution_count": 15,
   "metadata": {},
   "outputs": [
    {
     "name": "stdout",
     "output_type": "stream",
     "text": [
      "Train BOW shape (87398, 2267042) Test BOW :  (21850, 2267042)\n"
     ]
    }
   ],
   "source": [
    "print(\"Train BOW shape\",train_bow.shape,\"Test BOW : \",test_bow.shape)"
   ]
  },
  {
   "cell_type": "code",
   "execution_count": 16,
   "metadata": {},
   "outputs": [],
   "source": [
    "# 3. Perform tfidf vectorization of text data\n",
    "train_tfid,test_tfid,model_tfid = vectorizer(X_train,X_test,'essay',TfidfVectorizer(ngram_range=(1,2)))"
   ]
  },
  {
   "cell_type": "code",
   "execution_count": 17,
   "metadata": {},
   "outputs": [
    {
     "name": "stdout",
     "output_type": "stream",
     "text": [
      "Train BOW shape (87398, 2267042) Test BOW :  (21850, 2267042)\n"
     ]
    }
   ],
   "source": [
    "print(\"Train BOW shape\",train_tfid.shape,\"Test BOW : \",test_tfid.shape)"
   ]
  },
  {
   "cell_type": "markdown",
   "metadata": {},
   "source": [
    "<h1 style=\"color:red\"> Apply TF-IDF vectorization on 'Preprocessed_Title' <h1>"
   ]
  },
  {
   "cell_type": "markdown",
   "metadata": {},
   "source": [
    "<h2>1.4 Make Data Model Ready: encoding numerical, categorical features</h2>"
   ]
  },
  {
   "cell_type": "code",
   "execution_count": 18,
   "metadata": {},
   "outputs": [],
   "source": [
    "# 4. perform one-hot encoding of categorical features.\n",
    "# 'school_state', 'teacher_prefix', 'project_grade_category','clean_categories','clean_subcategories'\n",
    "train_state,test_state,model_state = vectorizer(X_train,X_test,'school_state',CountVectorizer(binary=True))\n",
    "train_prefic, test_prefix,model_prefix = vectorizer(X_train,X_test,'teacher_prefix',CountVectorizer(binary=True))\n",
    "train_grade, test_grade,model_grade = vectorizer(X_train,X_test,'project_grade_category',CountVectorizer(binary=True))\n",
    "trian_cat, test_cat,model_cat = vectorizer(X_train,X_test,'clean_categories',CountVectorizer(binary=True))\n",
    "train_sub, test_sub,model_sub = vectorizer(X_train,X_test,'clean_subcategories',CountVectorizer(binary=True))"
   ]
  },
  {
   "cell_type": "code",
   "execution_count": 19,
   "metadata": {},
   "outputs": [],
   "source": [
    "# 5. perform normalization of numerical features\n",
    "# price , teacher_number_of_previously_posted_projects\n",
    "\n",
    "# We are not using standard scalar because \n",
    "train_price,test_price,model_price = vecotizer2d(X_train,X_test,'price',Normalizer())\n",
    "train_prev_posted, test_prev_posted,model_prev_posted = vecotizer2d(X_train, X_test,'teacher_number_of_previously_posted_projects',Normalizer())"
   ]
  },
  {
   "cell_type": "code",
   "execution_count": 20,
   "metadata": {},
   "outputs": [
    {
     "name": "stdout",
     "output_type": "stream",
     "text": [
      "(87398, 2267042) (87398, 51) (87398, 5) (87398, 4) (87398, 9) (87398, 30) (87398, 1) (87398, 1)\n"
     ]
    }
   ],
   "source": [
    "print(train_bow.shape,train_state.shape,train_prefic.shape,train_grade.shape,trian_cat.shape,train_sub.shape,train_price.shape,train_prev_posted.shape)"
   ]
  },
  {
   "cell_type": "markdown",
   "metadata": {},
   "source": [
    "### Constructing a single featue vector"
   ]
  },
  {
   "cell_type": "code",
   "execution_count": 21,
   "metadata": {},
   "outputs": [],
   "source": [
    "# 6. For set 1 stack up all the features using hstack()\n",
    "train_set1 = hstack((train_bow,train_state,train_prefic,train_grade,trian_cat,train_sub,train_price,train_prev_posted))\n",
    "test_set1 = hstack((test_bow,test_state,test_prefix,test_grade,test_cat,test_sub,test_price,test_prev_posted))\n",
    "# 7. For set 2 stack up all the features using hstack()\n",
    "train_set2= hstack((train_tfid,train_state,train_prefic,train_grade,trian_cat,train_sub,train_price,train_prev_posted))\n",
    "test_set2 = hstack((test_tfid ,test_state,test_prefix,test_grade,test_cat,test_sub,test_price,test_prev_posted))"
   ]
  },
  {
   "cell_type": "markdown",
   "metadata": {},
   "source": [
    " 8. Perform hyperparameter tuning and represent the training and cross-validation AUC scores for different 'alpha' values, using a 2D line plot.\n",
    "\n",
    "\n",
    " 9. Find the best hyperparameter 'alpha' and fit the model. Plot ROC-AUC curve(by obtaining the probabilities using 'predict proba' method)\n",
    "\n",
    "\n",
    "\n",
    " 10. Plot confusion matrix based on the best threshold value\n",
    "\n",
    "\n",
    "\n",
    " 11. Either for the model in set 1 or in set 2, print the top 20 features(you have to print the names, not the indexes) associated with the positive and negative classes each.\n",
    "\n",
    "\n",
    "\n",
    " 12. Summarize your observations and compare both the models(ie., from set 1 and set 2) in terms of optimal hyperparameter value, train AUC and test AUC scores. \n",
    "\n",
    "\n",
    "\n",
    "13. You can use Prettytable or any other tabular format for comparison.\n",
    "\n",
    "\n",
    "please write all the code with proper documentation, and proper titles for each subsection\n",
    "go through documentations and blogs before you start coding\n",
    "first figure out what to do, and then think about how to do.\n",
    "reading and understanding error messages will be very much helpfull in debugging your code\n",
    "when you plot any graph make sure you use \n",
    "    a. Title, that describes your plot, this will be very helpful to the reader\n",
    "    b. Legends if needed\n",
    "    c. X-axis label\n",
    "    d. Y-axis label\n"
   ]
  },
  {
   "cell_type": "markdown",
   "metadata": {
    "id": "i-PyprDNb3dI"
   },
   "source": [
    " Split the dataset \n",
    " 1) If you want to apply simple cross-validation, split the dataset into 3 parts (ie., train, CV and test sets)\n",
    " 2) If you want to apply K-fold CV (or) GridSearch Cross Validation (or) Randomized Search Cross Validation, just split the dataset into 2 parts (ie., train and test sets)\n",
    "\n"
   ]
  },
  {
   "cell_type": "markdown",
   "metadata": {
    "id": "yYHPYadYb3dh"
   },
   "source": [
    "<h2>1.5 Appling NB on different kind of featurization as mentioned in the instructions</h2>\n",
    "\n",
    "<br>Apply NB on different kind of featurization as mentioned in the instructions\n",
    "<br> For Every model that you work on make sure you do the step 2 and step 3 of instrucations"
   ]
  },
  {
   "cell_type": "markdown",
   "metadata": {
    "id": "DNwqilFxb3di"
   },
   "source": [
    "# Set 1"
   ]
  },
  {
   "cell_type": "code",
   "execution_count": 67,
   "metadata": {},
   "outputs": [],
   "source": [
    "# Perform Hyperparameter Tuning.\n",
    "# Plot the training and the CV AUC scores, for different values of 'alpha', using a 2D line plot\n",
    "from sklearn.model_selection import GridSearchCV\n",
    "hp_space = {\"alpha\":[0.01,0.05,0.1,0.2,0.5,1]}\n",
    "mnb = MultinomialNB()\n",
    "gs = GridSearchCV(mnb,n_jobs=5,param_grid=hp_space,scoring='roc_auc',cv=5,return_train_score=True)"
   ]
  },
  {
   "cell_type": "code",
   "execution_count": 68,
   "metadata": {},
   "outputs": [
    {
     "data": {
      "text/html": [
       "<style>#sk-container-id-8 {color: black;background-color: white;}#sk-container-id-8 pre{padding: 0;}#sk-container-id-8 div.sk-toggleable {background-color: white;}#sk-container-id-8 label.sk-toggleable__label {cursor: pointer;display: block;width: 100%;margin-bottom: 0;padding: 0.3em;box-sizing: border-box;text-align: center;}#sk-container-id-8 label.sk-toggleable__label-arrow:before {content: \"▸\";float: left;margin-right: 0.25em;color: #696969;}#sk-container-id-8 label.sk-toggleable__label-arrow:hover:before {color: black;}#sk-container-id-8 div.sk-estimator:hover label.sk-toggleable__label-arrow:before {color: black;}#sk-container-id-8 div.sk-toggleable__content {max-height: 0;max-width: 0;overflow: hidden;text-align: left;background-color: #f0f8ff;}#sk-container-id-8 div.sk-toggleable__content pre {margin: 0.2em;color: black;border-radius: 0.25em;background-color: #f0f8ff;}#sk-container-id-8 input.sk-toggleable__control:checked~div.sk-toggleable__content {max-height: 200px;max-width: 100%;overflow: auto;}#sk-container-id-8 input.sk-toggleable__control:checked~label.sk-toggleable__label-arrow:before {content: \"▾\";}#sk-container-id-8 div.sk-estimator input.sk-toggleable__control:checked~label.sk-toggleable__label {background-color: #d4ebff;}#sk-container-id-8 div.sk-label input.sk-toggleable__control:checked~label.sk-toggleable__label {background-color: #d4ebff;}#sk-container-id-8 input.sk-hidden--visually {border: 0;clip: rect(1px 1px 1px 1px);clip: rect(1px, 1px, 1px, 1px);height: 1px;margin: -1px;overflow: hidden;padding: 0;position: absolute;width: 1px;}#sk-container-id-8 div.sk-estimator {font-family: monospace;background-color: #f0f8ff;border: 1px dotted black;border-radius: 0.25em;box-sizing: border-box;margin-bottom: 0.5em;}#sk-container-id-8 div.sk-estimator:hover {background-color: #d4ebff;}#sk-container-id-8 div.sk-parallel-item::after {content: \"\";width: 100%;border-bottom: 1px solid gray;flex-grow: 1;}#sk-container-id-8 div.sk-label:hover label.sk-toggleable__label {background-color: #d4ebff;}#sk-container-id-8 div.sk-serial::before {content: \"\";position: absolute;border-left: 1px solid gray;box-sizing: border-box;top: 0;bottom: 0;left: 50%;z-index: 0;}#sk-container-id-8 div.sk-serial {display: flex;flex-direction: column;align-items: center;background-color: white;padding-right: 0.2em;padding-left: 0.2em;position: relative;}#sk-container-id-8 div.sk-item {position: relative;z-index: 1;}#sk-container-id-8 div.sk-parallel {display: flex;align-items: stretch;justify-content: center;background-color: white;position: relative;}#sk-container-id-8 div.sk-item::before, #sk-container-id-8 div.sk-parallel-item::before {content: \"\";position: absolute;border-left: 1px solid gray;box-sizing: border-box;top: 0;bottom: 0;left: 50%;z-index: -1;}#sk-container-id-8 div.sk-parallel-item {display: flex;flex-direction: column;z-index: 1;position: relative;background-color: white;}#sk-container-id-8 div.sk-parallel-item:first-child::after {align-self: flex-end;width: 50%;}#sk-container-id-8 div.sk-parallel-item:last-child::after {align-self: flex-start;width: 50%;}#sk-container-id-8 div.sk-parallel-item:only-child::after {width: 0;}#sk-container-id-8 div.sk-dashed-wrapped {border: 1px dashed gray;margin: 0 0.4em 0.5em 0.4em;box-sizing: border-box;padding-bottom: 0.4em;background-color: white;}#sk-container-id-8 div.sk-label label {font-family: monospace;font-weight: bold;display: inline-block;line-height: 1.2em;}#sk-container-id-8 div.sk-label-container {text-align: center;}#sk-container-id-8 div.sk-container {/* jupyter's `normalize.less` sets `[hidden] { display: none; }` but bootstrap.min.css set `[hidden] { display: none !important; }` so we also need the `!important` here to be able to override the default hidden behavior on the sphinx rendered scikit-learn.org. See: https://github.com/scikit-learn/scikit-learn/issues/21755 */display: inline-block !important;position: relative;}#sk-container-id-8 div.sk-text-repr-fallback {display: none;}</style><div id=\"sk-container-id-8\" class=\"sk-top-container\"><div class=\"sk-text-repr-fallback\"><pre>GridSearchCV(cv=5, estimator=MultinomialNB(), n_jobs=5,\n",
       "             param_grid={&#x27;alpha&#x27;: [0.01, 0.05, 0.1, 0.2, 0.5, 1]},\n",
       "             return_train_score=True, scoring=&#x27;roc_auc&#x27;)</pre><b>In a Jupyter environment, please rerun this cell to show the HTML representation or trust the notebook. <br />On GitHub, the HTML representation is unable to render, please try loading this page with nbviewer.org.</b></div><div class=\"sk-container\" hidden><div class=\"sk-item sk-dashed-wrapped\"><div class=\"sk-label-container\"><div class=\"sk-label sk-toggleable\"><input class=\"sk-toggleable__control sk-hidden--visually\" id=\"sk-estimator-id-18\" type=\"checkbox\" ><label for=\"sk-estimator-id-18\" class=\"sk-toggleable__label sk-toggleable__label-arrow\">GridSearchCV</label><div class=\"sk-toggleable__content\"><pre>GridSearchCV(cv=5, estimator=MultinomialNB(), n_jobs=5,\n",
       "             param_grid={&#x27;alpha&#x27;: [0.01, 0.05, 0.1, 0.2, 0.5, 1]},\n",
       "             return_train_score=True, scoring=&#x27;roc_auc&#x27;)</pre></div></div></div><div class=\"sk-parallel\"><div class=\"sk-parallel-item\"><div class=\"sk-item\"><div class=\"sk-label-container\"><div class=\"sk-label sk-toggleable\"><input class=\"sk-toggleable__control sk-hidden--visually\" id=\"sk-estimator-id-19\" type=\"checkbox\" ><label for=\"sk-estimator-id-19\" class=\"sk-toggleable__label sk-toggleable__label-arrow\">estimator: MultinomialNB</label><div class=\"sk-toggleable__content\"><pre>MultinomialNB()</pre></div></div></div><div class=\"sk-serial\"><div class=\"sk-item\"><div class=\"sk-estimator sk-toggleable\"><input class=\"sk-toggleable__control sk-hidden--visually\" id=\"sk-estimator-id-20\" type=\"checkbox\" ><label for=\"sk-estimator-id-20\" class=\"sk-toggleable__label sk-toggleable__label-arrow\">MultinomialNB</label><div class=\"sk-toggleable__content\"><pre>MultinomialNB()</pre></div></div></div></div></div></div></div></div></div></div>"
      ],
      "text/plain": [
       "GridSearchCV(cv=5, estimator=MultinomialNB(), n_jobs=5,\n",
       "             param_grid={'alpha': [0.01, 0.05, 0.1, 0.2, 0.5, 1]},\n",
       "             return_train_score=True, scoring='roc_auc')"
      ]
     },
     "execution_count": 68,
     "metadata": {},
     "output_type": "execute_result"
    }
   ],
   "source": [
    "gs.fit(train_set1,y_train)"
   ]
  },
  {
   "cell_type": "code",
   "execution_count": 69,
   "metadata": {},
   "outputs": [
    {
     "name": "stdout",
     "output_type": "stream",
     "text": [
      "Optimal Hyperparameter is :  {'alpha': 0.1}\n"
     ]
    }
   ],
   "source": [
    "print(\"Optimal Hyperparameter is : \",gs.best_params_)"
   ]
  },
  {
   "cell_type": "markdown",
   "metadata": {},
   "source": [
    "#### as 1 was at the corner of the grid of the hyper parameter we will check in the values around 1 which are less then 1"
   ]
  },
  {
   "cell_type": "code",
   "execution_count": 70,
   "metadata": {},
   "outputs": [],
   "source": [
    "# hp_space = {\"alpha\":[0.01,0.1,0.5,1]}\n",
    "# mnb = MultinomialNB()\n",
    "# gs = GridSearchCV(mnb,n_jobs=5,param_grid=hp_space,scoring='roc_auc',cv=5,return_train_score=True)\n",
    "# Obtain the optimal value for 'alpha' and using the obtained optimal 'alpha' value, fit a multinomial naive bayes model, on the train data,\n",
    "# Note: If you have split the datase into 3 parts (ie., train, cv and test sets) in the beginning, then the training datafor this final model would be (train set + cv set)\n",
    "# Make class label and probability predictions on the train and test data."
   ]
  },
  {
   "cell_type": "code",
   "execution_count": 71,
   "metadata": {},
   "outputs": [],
   "source": [
    "# gs.fit(train_set1,y_train)"
   ]
  },
  {
   "cell_type": "code",
   "execution_count": 72,
   "metadata": {},
   "outputs": [
    {
     "data": {
      "text/plain": [
       "{'mean_fit_time': array([1.0948586 , 1.32178893, 1.14404993, 1.2185461 , 1.12848067,\n",
       "        1.03260908]),\n",
       " 'std_fit_time': array([0.1172158 , 0.23248384, 0.2391839 , 0.10358867, 0.25141538,\n",
       "        0.20631611]),\n",
       " 'mean_score_time': array([0.2142941 , 0.21411157, 0.18514829, 0.2015872 , 0.18193583,\n",
       "        0.16450701]),\n",
       " 'std_score_time': array([0.0460716 , 0.03758066, 0.04314957, 0.02870431, 0.04091065,\n",
       "        0.05050036]),\n",
       " 'param_alpha': masked_array(data=[0.01, 0.05, 0.1, 0.2, 0.5, 1],\n",
       "              mask=[False, False, False, False, False, False],\n",
       "        fill_value='?',\n",
       "             dtype=object),\n",
       " 'params': [{'alpha': 0.01},\n",
       "  {'alpha': 0.05},\n",
       "  {'alpha': 0.1},\n",
       "  {'alpha': 0.2},\n",
       "  {'alpha': 0.5},\n",
       "  {'alpha': 1}],\n",
       " 'split0_test_score': array([0.6213128 , 0.63789866, 0.64004384, 0.63678358, 0.60661995,\n",
       "        0.52849891]),\n",
       " 'split1_test_score': array([0.61433923, 0.63226507, 0.6327752 , 0.62869296, 0.59778922,\n",
       "        0.522155  ]),\n",
       " 'split2_test_score': array([0.62533118, 0.63503712, 0.63478737, 0.63093606, 0.60580976,\n",
       "        0.528032  ]),\n",
       " 'split3_test_score': array([0.62265564, 0.64255763, 0.64282806, 0.63985467, 0.61081454,\n",
       "        0.53165692]),\n",
       " 'split4_test_score': array([0.62222734, 0.64577921, 0.64525833, 0.6413559 , 0.61272878,\n",
       "        0.52843438]),\n",
       " 'mean_test_score': array([0.62117324, 0.63870754, 0.63913856, 0.63552463, 0.60675245,\n",
       "        0.52775544]),\n",
       " 'std_test_score': array([0.00366934, 0.00490843, 0.00471823, 0.00494094, 0.00516648,\n",
       "        0.00308794]),\n",
       " 'rank_test_score': array([4, 2, 1, 3, 5, 6], dtype=int32),\n",
       " 'split0_train_score': array([0.99968104, 0.99940876, 0.99910189, 0.99795888, 0.97409781,\n",
       "        0.77483247]),\n",
       " 'split1_train_score': array([0.99970149, 0.99939656, 0.9991422 , 0.99788629, 0.97346557,\n",
       "        0.77482828]),\n",
       " 'split2_train_score': array([0.99966696, 0.99943665, 0.9991653 , 0.99825416, 0.97387358,\n",
       "        0.77455763]),\n",
       " 'split3_train_score': array([0.99967879, 0.99945441, 0.99913608, 0.99807358, 0.97387119,\n",
       "        0.77386556]),\n",
       " 'split4_train_score': array([0.99968294, 0.99937345, 0.99907892, 0.99796162, 0.97453055,\n",
       "        0.77212156]),\n",
       " 'mean_train_score': array([0.99968224, 0.99941397, 0.99912488, 0.99802691, 0.97396774,\n",
       "        0.7740411 ]),\n",
       " 'std_train_score': array([1.11162026e-05, 2.87103305e-05, 3.06601824e-05, 1.28440448e-04,\n",
       "        3.47572407e-04, 1.02256370e-03])}"
      ]
     },
     "execution_count": 72,
     "metadata": {},
     "output_type": "execute_result"
    }
   ],
   "source": [
    "# print(\"Optimal Hyperparameter is : \",gs.best_params_)\n",
    "gs.cv_results_"
   ]
  },
  {
   "cell_type": "code",
   "execution_count": 73,
   "metadata": {},
   "outputs": [
    {
     "data": {
      "image/png": "[encoded data removed]",
      "text/plain": [
       "<Figure size 432x288 with 1 Axes>"
      ]
     },
     "metadata": {
      "needs_background": "light"
     },
     "output_type": "display_data"
    }
   ],
   "source": [
    "plotAucAllHyperParameter(gs.cv_results_)\n",
    "# Making the model with the best parameters "
   ]
  },
  {
   "cell_type": "code",
   "execution_count": 29,
   "metadata": {},
   "outputs": [
    {
     "data": {
      "text/html": [
       "<style>#sk-container-id-3 {color: black;background-color: white;}#sk-container-id-3 pre{padding: 0;}#sk-container-id-3 div.sk-toggleable {background-color: white;}#sk-container-id-3 label.sk-toggleable__label {cursor: pointer;display: block;width: 100%;margin-bottom: 0;padding: 0.3em;box-sizing: border-box;text-align: center;}#sk-container-id-3 label.sk-toggleable__label-arrow:before {content: \"▸\";float: left;margin-right: 0.25em;color: #696969;}#sk-container-id-3 label.sk-toggleable__label-arrow:hover:before {color: black;}#sk-container-id-3 div.sk-estimator:hover label.sk-toggleable__label-arrow:before {color: black;}#sk-container-id-3 div.sk-toggleable__content {max-height: 0;max-width: 0;overflow: hidden;text-align: left;background-color: #f0f8ff;}#sk-container-id-3 div.sk-toggleable__content pre {margin: 0.2em;color: black;border-radius: 0.25em;background-color: #f0f8ff;}#sk-container-id-3 input.sk-toggleable__control:checked~div.sk-toggleable__content {max-height: 200px;max-width: 100%;overflow: auto;}#sk-container-id-3 input.sk-toggleable__control:checked~label.sk-toggleable__label-arrow:before {content: \"▾\";}#sk-container-id-3 div.sk-estimator input.sk-toggleable__control:checked~label.sk-toggleable__label {background-color: #d4ebff;}#sk-container-id-3 div.sk-label input.sk-toggleable__control:checked~label.sk-toggleable__label {background-color: #d4ebff;}#sk-container-id-3 input.sk-hidden--visually {border: 0;clip: rect(1px 1px 1px 1px);clip: rect(1px, 1px, 1px, 1px);height: 1px;margin: -1px;overflow: hidden;padding: 0;position: absolute;width: 1px;}#sk-container-id-3 div.sk-estimator {font-family: monospace;background-color: #f0f8ff;border: 1px dotted black;border-radius: 0.25em;box-sizing: border-box;margin-bottom: 0.5em;}#sk-container-id-3 div.sk-estimator:hover {background-color: #d4ebff;}#sk-container-id-3 div.sk-parallel-item::after {content: \"\";width: 100%;border-bottom: 1px solid gray;flex-grow: 1;}#sk-container-id-3 div.sk-label:hover label.sk-toggleable__label {background-color: #d4ebff;}#sk-container-id-3 div.sk-serial::before {content: \"\";position: absolute;border-left: 1px solid gray;box-sizing: border-box;top: 0;bottom: 0;left: 50%;z-index: 0;}#sk-container-id-3 div.sk-serial {display: flex;flex-direction: column;align-items: center;background-color: white;padding-right: 0.2em;padding-left: 0.2em;position: relative;}#sk-container-id-3 div.sk-item {position: relative;z-index: 1;}#sk-container-id-3 div.sk-parallel {display: flex;align-items: stretch;justify-content: center;background-color: white;position: relative;}#sk-container-id-3 div.sk-item::before, #sk-container-id-3 div.sk-parallel-item::before {content: \"\";position: absolute;border-left: 1px solid gray;box-sizing: border-box;top: 0;bottom: 0;left: 50%;z-index: -1;}#sk-container-id-3 div.sk-parallel-item {display: flex;flex-direction: column;z-index: 1;position: relative;background-color: white;}#sk-container-id-3 div.sk-parallel-item:first-child::after {align-self: flex-end;width: 50%;}#sk-container-id-3 div.sk-parallel-item:last-child::after {align-self: flex-start;width: 50%;}#sk-container-id-3 div.sk-parallel-item:only-child::after {width: 0;}#sk-container-id-3 div.sk-dashed-wrapped {border: 1px dashed gray;margin: 0 0.4em 0.5em 0.4em;box-sizing: border-box;padding-bottom: 0.4em;background-color: white;}#sk-container-id-3 div.sk-label label {font-family: monospace;font-weight: bold;display: inline-block;line-height: 1.2em;}#sk-container-id-3 div.sk-label-container {text-align: center;}#sk-container-id-3 div.sk-container {/* jupyter's `normalize.less` sets `[hidden] { display: none; }` but bootstrap.min.css set `[hidden] { display: none !important; }` so we also need the `!important` here to be able to override the default hidden behavior on the sphinx rendered scikit-learn.org. See: https://github.com/scikit-learn/scikit-learn/issues/21755 */display: inline-block !important;position: relative;}#sk-container-id-3 div.sk-text-repr-fallback {display: none;}</style><div id=\"sk-container-id-3\" class=\"sk-top-container\"><div class=\"sk-text-repr-fallback\"><pre>MultinomialNB(alpha=0.1)</pre><b>In a Jupyter environment, please rerun this cell to show the HTML representation or trust the notebook. <br />On GitHub, the HTML representation is unable to render, please try loading this page with nbviewer.org.</b></div><div class=\"sk-container\" hidden><div class=\"sk-item\"><div class=\"sk-estimator sk-toggleable\"><input class=\"sk-toggleable__control sk-hidden--visually\" id=\"sk-estimator-id-7\" type=\"checkbox\" checked><label for=\"sk-estimator-id-7\" class=\"sk-toggleable__label sk-toggleable__label-arrow\">MultinomialNB</label><div class=\"sk-toggleable__content\"><pre>MultinomialNB(alpha=0.1)</pre></div></div></div></div></div>"
      ],
      "text/plain": [
       "MultinomialNB(alpha=0.1)"
      ]
     },
     "execution_count": 29,
     "metadata": {},
     "output_type": "execute_result"
    }
   ],
   "source": [
    "# Plot the ROC-AUC curves using the probability predictions made on train and test data.\n",
    "bestmnb = MultinomialNB(alpha=gs.best_params_)\n",
    "bestmnb.fit(train_set1,y_train)"
   ]
  },
  {
   "cell_type": "code",
   "execution_count": 30,
   "metadata": {},
   "outputs": [],
   "source": [
    "y_pred_test = bestmnb.predict_proba(test_set1)\n",
    "y_pred_train = bestmnb.predict_proba(train_set1)"
   ]
  },
  {
   "cell_type": "code",
   "execution_count": 31,
   "metadata": {},
   "outputs": [
    {
     "name": "stdout",
     "output_type": "stream",
     "text": [
      "(21850,)\n",
      "(21850,)\n"
     ]
    }
   ],
   "source": [
    "print(y_test.shape)\n",
    "print(y_pred_test[:,1].shape)"
   ]
  },
  {
   "cell_type": "code",
   "execution_count": 32,
   "metadata": {},
   "outputs": [
    {
     "name": "stdout",
     "output_type": "stream",
     "text": [
      "TEST AUC SCORE 0.6533980764868985\n"
     ]
    }
   ],
   "source": [
    "test = roc_curve(y_test, y_pred_test[:,1])# this returns a list which is the order of [false_postive_rate,true_positive_rate,thresholds]\n",
    "train = roc_curve(y_train,y_pred_train[:,1])\n",
    "print(\"TEST AUC SCORE\",roc_auc_score(y_test, y_pred_test[:,1]))"
   ]
  },
  {
   "cell_type": "code",
   "execution_count": 33,
   "metadata": {},
   "outputs": [],
   "source": [
    "opt = [ (1-test[0][i])*(test[1][i]) for i in range(len(test[0]))]\n",
    "optimal_theta = opt[opt.index(max(opt))]"
   ]
  },
  {
   "cell_type": "code",
   "execution_count": 34,
   "metadata": {},
   "outputs": [
    {
     "data": {
      "image/png": "[encoded data removed]",
      "text/plain": [
       "<Figure size 432x288 with 1 Axes>"
      ]
     },
     "metadata": {
      "needs_background": "light"
     },
     "output_type": "display_data"
    }
   ],
   "source": [
    "# Pick the best threshold among the probability estimates, such that it has to yield maximum value for TPR*(1-FPR)\n",
    "# Plot the confusion matrices(each for train and test data) afer encoding the predicted class labels, on the basis of the best threshod probability estimate.\n",
    "plt.plot(test[0],test[1],label=\"Test\",color='red')\n",
    "plt.plot(train[0],train[1],label=\"Train\",color='blue')\n",
    "plt.xlabel(\"False positive rate\")\n",
    "plt.ylabel(\"True positive rate\")\n",
    "plt.legend()\n",
    "plt.show()"
   ]
  },
  {
   "cell_type": "code",
   "execution_count": 35,
   "metadata": {},
   "outputs": [
    {
     "data": {
      "text/plain": [
       "<sklearn.metrics._plot.confusion_matrix.ConfusionMatrixDisplay at 0x14603290c160>"
      ]
     },
     "execution_count": 35,
     "metadata": {},
     "output_type": "execute_result"
    },
    {
     "data": {
      "image/png": "[encoded data removed]",
      "text/plain": [
       "<Figure size 432x288 with 2 Axes>"
      ]
     },
     "metadata": {
      "needs_background": "light"
     },
     "output_type": "display_data"
    }
   ],
   "source": [
    "predicted = y_pred_test[:,1]\n",
    "predicted[predicted>optimal_theta] = 1\n",
    "predicted[predicted<= optimal_theta] = 0\n",
    "matrix = confusion_matrix(y_test,predicted)\n",
    "disp = ConfusionMatrixDisplay(confusion_matrix=matrix)\n",
    "disp.plot()"
   ]
  },
  {
   "cell_type": "code",
   "execution_count": 36,
   "metadata": {},
   "outputs": [
    {
     "name": "stdout",
     "output_type": "stream",
     "text": [
      "Top featurs that contributed to the Negative class: \n",
      "1 .  love\n",
      "2 .  _prev_posted\n",
      "3 .  school\n",
      "4 .  not\n",
      "5 .  come\n",
      "6 .  help\n",
      "7 .  they\n",
      "8 .  students\n",
      "9 .  we\n",
      "10 .  learn\n",
      "11 .  learning\n",
      "12 .  my\n",
      "13 .  many\n",
      "14 .  the\n",
      "15 .  my students\n",
      "16 .  nannan\n",
      "17 .  need\n",
      "18 .  work\n",
      "19 .  _price\n",
      "20 .  classroom\n",
      "####################\n",
      "####################\n",
      "Top featurs that contributed to the Positive class: \n",
      "1 .  _prev_posted\n",
      "2 .  many\n",
      "3 .  work\n",
      "4 .  learning\n",
      "5 .  learn\n",
      "6 .  help\n",
      "7 .  my\n",
      "8 .  my students\n",
      "9 .  need\n",
      "10 .  not\n",
      "11 .  we\n",
      "12 .  reading\n",
      "13 .  school\n",
      "14 .  students\n",
      "15 .  classroom\n",
      "16 .  the\n",
      "17 .  they\n",
      "18 .  use\n",
      "19 .  _price\n",
      "20 .  nannan\n"
     ]
    }
   ],
   "source": [
    "def topKfretures_indices(model,class_,k):\n",
    "    max_index = np.argpartition(model.feature_log_prob_[class_], -k)[-k:]# Less the probality values the more negative the log value would be\n",
    "    return max_index\n",
    "def printTopKfeatur(model,class_,c):\n",
    "    indices = topKfretures_indices(model,class_,c)\n",
    "    featur_index = [train_bow.shape,train_state.shape,train_prefic.shape,train_grade.shape,\n",
    "                    trian_cat.shape,train_sub.shape,train_price.shape,train_prev_posted.shape]\n",
    "    mapp =  {0:'_wordE',1:'_state',2:'_prefic',3:'_grade',4:'_cat',5:'_sub',\n",
    "             6:'_price',7:'_prev_posted'}\n",
    "    models = {'_wordE':model_bow, '_state':model_state ,'_prefic':model_prefix ,\n",
    "              '_grade':model_grade ,'_cat':model_cat,'_sub':model_sub,\n",
    "             '_price':model_price,'_prev_posted':model_prev_posted}\n",
    "    \n",
    "    index_mapp = {}\n",
    "    caps = []\n",
    "    summ = 0 \n",
    "    for i in range(len(featur_index)):\n",
    "        summ += featur_index[i][1]\n",
    "        index_mapp[summ]=mapp[i]\n",
    "        caps.append(summ)\n",
    "    #print(caps)\n",
    "    inv_mapp = list(index_mapp.keys())\n",
    "    count=0\n",
    "    for i in indices:\n",
    "        found = False\n",
    "        count+=1\n",
    "        for k in range(len(inv_mapp)-2):\n",
    "\n",
    "            if i<inv_mapp[k]:\n",
    "                found = True\n",
    "                #print(i,inv_mapp[k],index_mapp[inv_mapp[k]])\n",
    "                class_num = k\n",
    "                model_index = i# index in full vector space\n",
    "                if class_num>0:\n",
    "                    model_index=model_index - caps[class_num-1]-1\n",
    "                # print(model_index)\n",
    "                # print(models[mapp[k]].vocabulary_.items())\n",
    "                for i in models[mapp[k]].vocabulary_.items():\n",
    "                    if i[1]==model_index:\n",
    "                        print(count,\". \",i[0])\n",
    "                        break\n",
    "                break\n",
    "        if not found:\n",
    "            if i<caps[-2]:\n",
    "                print(count,\". \",'_price')\n",
    "            elif i < caps[-1]:\n",
    "                print(count,\". \",'_prev_posted')\n",
    "print(\"Top featurs that contributed to the Negative class: \")\n",
    "printTopKfeatur(bestmnb,0,20)\n",
    "print(20*\"#\"+\"\\n\"+20*\"#\")\n",
    "print(\"Top featurs that contributed to the Positive class: \")\n",
    "printTopKfeatur(bestmnb,1,20)"
   ]
  },
  {
   "cell_type": "markdown",
   "metadata": {},
   "source": [
    "# Set 2"
   ]
  },
  {
   "cell_type": "code",
   "execution_count": 82,
   "metadata": {},
   "outputs": [
    {
     "data": {
      "text/html": [
       "<style>#sk-container-id-11 {color: black;background-color: white;}#sk-container-id-11 pre{padding: 0;}#sk-container-id-11 div.sk-toggleable {background-color: white;}#sk-container-id-11 label.sk-toggleable__label {cursor: pointer;display: block;width: 100%;margin-bottom: 0;padding: 0.3em;box-sizing: border-box;text-align: center;}#sk-container-id-11 label.sk-toggleable__label-arrow:before {content: \"▸\";float: left;margin-right: 0.25em;color: #696969;}#sk-container-id-11 label.sk-toggleable__label-arrow:hover:before {color: black;}#sk-container-id-11 div.sk-estimator:hover label.sk-toggleable__label-arrow:before {color: black;}#sk-container-id-11 div.sk-toggleable__content {max-height: 0;max-width: 0;overflow: hidden;text-align: left;background-color: #f0f8ff;}#sk-container-id-11 div.sk-toggleable__content pre {margin: 0.2em;color: black;border-radius: 0.25em;background-color: #f0f8ff;}#sk-container-id-11 input.sk-toggleable__control:checked~div.sk-toggleable__content {max-height: 200px;max-width: 100%;overflow: auto;}#sk-container-id-11 input.sk-toggleable__control:checked~label.sk-toggleable__label-arrow:before {content: \"▾\";}#sk-container-id-11 div.sk-estimator input.sk-toggleable__control:checked~label.sk-toggleable__label {background-color: #d4ebff;}#sk-container-id-11 div.sk-label input.sk-toggleable__control:checked~label.sk-toggleable__label {background-color: #d4ebff;}#sk-container-id-11 input.sk-hidden--visually {border: 0;clip: rect(1px 1px 1px 1px);clip: rect(1px, 1px, 1px, 1px);height: 1px;margin: -1px;overflow: hidden;padding: 0;position: absolute;width: 1px;}#sk-container-id-11 div.sk-estimator {font-family: monospace;background-color: #f0f8ff;border: 1px dotted black;border-radius: 0.25em;box-sizing: border-box;margin-bottom: 0.5em;}#sk-container-id-11 div.sk-estimator:hover {background-color: #d4ebff;}#sk-container-id-11 div.sk-parallel-item::after {content: \"\";width: 100%;border-bottom: 1px solid gray;flex-grow: 1;}#sk-container-id-11 div.sk-label:hover label.sk-toggleable__label {background-color: #d4ebff;}#sk-container-id-11 div.sk-serial::before {content: \"\";position: absolute;border-left: 1px solid gray;box-sizing: border-box;top: 0;bottom: 0;left: 50%;z-index: 0;}#sk-container-id-11 div.sk-serial {display: flex;flex-direction: column;align-items: center;background-color: white;padding-right: 0.2em;padding-left: 0.2em;position: relative;}#sk-container-id-11 div.sk-item {position: relative;z-index: 1;}#sk-container-id-11 div.sk-parallel {display: flex;align-items: stretch;justify-content: center;background-color: white;position: relative;}#sk-container-id-11 div.sk-item::before, #sk-container-id-11 div.sk-parallel-item::before {content: \"\";position: absolute;border-left: 1px solid gray;box-sizing: border-box;top: 0;bottom: 0;left: 50%;z-index: -1;}#sk-container-id-11 div.sk-parallel-item {display: flex;flex-direction: column;z-index: 1;position: relative;background-color: white;}#sk-container-id-11 div.sk-parallel-item:first-child::after {align-self: flex-end;width: 50%;}#sk-container-id-11 div.sk-parallel-item:last-child::after {align-self: flex-start;width: 50%;}#sk-container-id-11 div.sk-parallel-item:only-child::after {width: 0;}#sk-container-id-11 div.sk-dashed-wrapped {border: 1px dashed gray;margin: 0 0.4em 0.5em 0.4em;box-sizing: border-box;padding-bottom: 0.4em;background-color: white;}#sk-container-id-11 div.sk-label label {font-family: monospace;font-weight: bold;display: inline-block;line-height: 1.2em;}#sk-container-id-11 div.sk-label-container {text-align: center;}#sk-container-id-11 div.sk-container {/* jupyter's `normalize.less` sets `[hidden] { display: none; }` but bootstrap.min.css set `[hidden] { display: none !important; }` so we also need the `!important` here to be able to override the default hidden behavior on the sphinx rendered scikit-learn.org. See: https://github.com/scikit-learn/scikit-learn/issues/21755 */display: inline-block !important;position: relative;}#sk-container-id-11 div.sk-text-repr-fallback {display: none;}</style><div id=\"sk-container-id-11\" class=\"sk-top-container\"><div class=\"sk-text-repr-fallback\"><pre>GridSearchCV(cv=5, estimator=MultinomialNB(), n_jobs=5,\n",
       "             param_grid={&#x27;alpha&#x27;: [0.0001, 0.0005, 0.001, 0.005, 0.01, 0.1, 0.5,\n",
       "                                   1]},\n",
       "             return_train_score=True, scoring=&#x27;roc_auc&#x27;)</pre><b>In a Jupyter environment, please rerun this cell to show the HTML representation or trust the notebook. <br />On GitHub, the HTML representation is unable to render, please try loading this page with nbviewer.org.</b></div><div class=\"sk-container\" hidden><div class=\"sk-item sk-dashed-wrapped\"><div class=\"sk-label-container\"><div class=\"sk-label sk-toggleable\"><input class=\"sk-toggleable__control sk-hidden--visually\" id=\"sk-estimator-id-27\" type=\"checkbox\" ><label for=\"sk-estimator-id-27\" class=\"sk-toggleable__label sk-toggleable__label-arrow\">GridSearchCV</label><div class=\"sk-toggleable__content\"><pre>GridSearchCV(cv=5, estimator=MultinomialNB(), n_jobs=5,\n",
       "             param_grid={&#x27;alpha&#x27;: [0.0001, 0.0005, 0.001, 0.005, 0.01, 0.1, 0.5,\n",
       "                                   1]},\n",
       "             return_train_score=True, scoring=&#x27;roc_auc&#x27;)</pre></div></div></div><div class=\"sk-parallel\"><div class=\"sk-parallel-item\"><div class=\"sk-item\"><div class=\"sk-label-container\"><div class=\"sk-label sk-toggleable\"><input class=\"sk-toggleable__control sk-hidden--visually\" id=\"sk-estimator-id-28\" type=\"checkbox\" ><label for=\"sk-estimator-id-28\" class=\"sk-toggleable__label sk-toggleable__label-arrow\">estimator: MultinomialNB</label><div class=\"sk-toggleable__content\"><pre>MultinomialNB()</pre></div></div></div><div class=\"sk-serial\"><div class=\"sk-item\"><div class=\"sk-estimator sk-toggleable\"><input class=\"sk-toggleable__control sk-hidden--visually\" id=\"sk-estimator-id-29\" type=\"checkbox\" ><label for=\"sk-estimator-id-29\" class=\"sk-toggleable__label sk-toggleable__label-arrow\">MultinomialNB</label><div class=\"sk-toggleable__content\"><pre>MultinomialNB()</pre></div></div></div></div></div></div></div></div></div></div>"
      ],
      "text/plain": [
       "GridSearchCV(cv=5, estimator=MultinomialNB(), n_jobs=5,\n",
       "             param_grid={'alpha': [0.0001, 0.0005, 0.001, 0.005, 0.01, 0.1, 0.5,\n",
       "                                   1]},\n",
       "             return_train_score=True, scoring='roc_auc')"
      ]
     },
     "execution_count": 82,
     "metadata": {},
     "output_type": "execute_result"
    }
   ],
   "source": [
    "hp_space = {\"alpha\":[0.0001,0.0005,0.001,0.005,0.01,0.1,0.5,1]}\n",
    "mnb = MultinomialNB()\n",
    "gs = GridSearchCV(mnb,n_jobs=5,param_grid=hp_space,scoring='roc_auc',cv=5,return_train_score=True)\n",
    "# Perform Hyperparameter Tuning.\n",
    "# Plot the training and the CV AUC scores, for different values of 'alpha', using a 2D line plot\n",
    "gs.fit(train_set2,y_train)"
   ]
  },
  {
   "cell_type": "code",
   "execution_count": 83,
   "metadata": {},
   "outputs": [
    {
     "data": {
      "text/plain": [
       "{'alpha': 0.001}"
      ]
     },
     "execution_count": 83,
     "metadata": {},
     "output_type": "execute_result"
    }
   ],
   "source": [
    "gs.best_params_"
   ]
  },
  {
   "cell_type": "code",
   "execution_count": 84,
   "metadata": {},
   "outputs": [],
   "source": [
    "# Obtain the optimal value for 'alpha' and using the obtained optimal 'alpha' value, fit a multinomial naive bayes model, on the train data,\n",
    "# Note: If you have split the datase into 3 parts (ie., train, cv and test sets) in the beginning, then the training datafor this final model would be (train set + cv set)\n",
    "# Make class label and probability predictions on the train and test data.\n",
    "# hp_space = {\"alpha\":[0.00001,0.0001,0.001]}\n",
    "# mnb = MultinomialNB()\n",
    "# gs = GridSearchCV(mnb,n_jobs=10,param_grid=hp_space,scoring='roc_auc',cv=5,return_train_score=True)\n",
    "# gs.fit(train_set2,y_train)\n",
    "# gs.best_params_"
   ]
  },
  {
   "cell_type": "code",
   "execution_count": 85,
   "metadata": {},
   "outputs": [
    {
     "data": {
      "image/png": "[encoded data removed]",
      "text/plain": [
       "<Figure size 432x288 with 1 Axes>"
      ]
     },
     "metadata": {
      "needs_background": "light"
     },
     "output_type": "display_data"
    }
   ],
   "source": [
    "plotAucAllHyperParameter(gs.cv_results_)"
   ]
  },
  {
   "cell_type": "code",
   "execution_count": 86,
   "metadata": {},
   "outputs": [
    {
     "data": {
      "text/html": [
       "<style>#sk-container-id-12 {color: black;background-color: white;}#sk-container-id-12 pre{padding: 0;}#sk-container-id-12 div.sk-toggleable {background-color: white;}#sk-container-id-12 label.sk-toggleable__label {cursor: pointer;display: block;width: 100%;margin-bottom: 0;padding: 0.3em;box-sizing: border-box;text-align: center;}#sk-container-id-12 label.sk-toggleable__label-arrow:before {content: \"▸\";float: left;margin-right: 0.25em;color: #696969;}#sk-container-id-12 label.sk-toggleable__label-arrow:hover:before {color: black;}#sk-container-id-12 div.sk-estimator:hover label.sk-toggleable__label-arrow:before {color: black;}#sk-container-id-12 div.sk-toggleable__content {max-height: 0;max-width: 0;overflow: hidden;text-align: left;background-color: #f0f8ff;}#sk-container-id-12 div.sk-toggleable__content pre {margin: 0.2em;color: black;border-radius: 0.25em;background-color: #f0f8ff;}#sk-container-id-12 input.sk-toggleable__control:checked~div.sk-toggleable__content {max-height: 200px;max-width: 100%;overflow: auto;}#sk-container-id-12 input.sk-toggleable__control:checked~label.sk-toggleable__label-arrow:before {content: \"▾\";}#sk-container-id-12 div.sk-estimator input.sk-toggleable__control:checked~label.sk-toggleable__label {background-color: #d4ebff;}#sk-container-id-12 div.sk-label input.sk-toggleable__control:checked~label.sk-toggleable__label {background-color: #d4ebff;}#sk-container-id-12 input.sk-hidden--visually {border: 0;clip: rect(1px 1px 1px 1px);clip: rect(1px, 1px, 1px, 1px);height: 1px;margin: -1px;overflow: hidden;padding: 0;position: absolute;width: 1px;}#sk-container-id-12 div.sk-estimator {font-family: monospace;background-color: #f0f8ff;border: 1px dotted black;border-radius: 0.25em;box-sizing: border-box;margin-bottom: 0.5em;}#sk-container-id-12 div.sk-estimator:hover {background-color: #d4ebff;}#sk-container-id-12 div.sk-parallel-item::after {content: \"\";width: 100%;border-bottom: 1px solid gray;flex-grow: 1;}#sk-container-id-12 div.sk-label:hover label.sk-toggleable__label {background-color: #d4ebff;}#sk-container-id-12 div.sk-serial::before {content: \"\";position: absolute;border-left: 1px solid gray;box-sizing: border-box;top: 0;bottom: 0;left: 50%;z-index: 0;}#sk-container-id-12 div.sk-serial {display: flex;flex-direction: column;align-items: center;background-color: white;padding-right: 0.2em;padding-left: 0.2em;position: relative;}#sk-container-id-12 div.sk-item {position: relative;z-index: 1;}#sk-container-id-12 div.sk-parallel {display: flex;align-items: stretch;justify-content: center;background-color: white;position: relative;}#sk-container-id-12 div.sk-item::before, #sk-container-id-12 div.sk-parallel-item::before {content: \"\";position: absolute;border-left: 1px solid gray;box-sizing: border-box;top: 0;bottom: 0;left: 50%;z-index: -1;}#sk-container-id-12 div.sk-parallel-item {display: flex;flex-direction: column;z-index: 1;position: relative;background-color: white;}#sk-container-id-12 div.sk-parallel-item:first-child::after {align-self: flex-end;width: 50%;}#sk-container-id-12 div.sk-parallel-item:last-child::after {align-self: flex-start;width: 50%;}#sk-container-id-12 div.sk-parallel-item:only-child::after {width: 0;}#sk-container-id-12 div.sk-dashed-wrapped {border: 1px dashed gray;margin: 0 0.4em 0.5em 0.4em;box-sizing: border-box;padding-bottom: 0.4em;background-color: white;}#sk-container-id-12 div.sk-label label {font-family: monospace;font-weight: bold;display: inline-block;line-height: 1.2em;}#sk-container-id-12 div.sk-label-container {text-align: center;}#sk-container-id-12 div.sk-container {/* jupyter's `normalize.less` sets `[hidden] { display: none; }` but bootstrap.min.css set `[hidden] { display: none !important; }` so we also need the `!important` here to be able to override the default hidden behavior on the sphinx rendered scikit-learn.org. See: https://github.com/scikit-learn/scikit-learn/issues/21755 */display: inline-block !important;position: relative;}#sk-container-id-12 div.sk-text-repr-fallback {display: none;}</style><div id=\"sk-container-id-12\" class=\"sk-top-container\"><div class=\"sk-text-repr-fallback\"><pre>MultinomialNB(alpha=0.001)</pre><b>In a Jupyter environment, please rerun this cell to show the HTML representation or trust the notebook. <br />On GitHub, the HTML representation is unable to render, please try loading this page with nbviewer.org.</b></div><div class=\"sk-container\" hidden><div class=\"sk-item\"><div class=\"sk-estimator sk-toggleable\"><input class=\"sk-toggleable__control sk-hidden--visually\" id=\"sk-estimator-id-30\" type=\"checkbox\" checked><label for=\"sk-estimator-id-30\" class=\"sk-toggleable__label sk-toggleable__label-arrow\">MultinomialNB</label><div class=\"sk-toggleable__content\"><pre>MultinomialNB(alpha=0.001)</pre></div></div></div></div></div>"
      ],
      "text/plain": [
       "MultinomialNB(alpha=0.001)"
      ]
     },
     "execution_count": 86,
     "metadata": {},
     "output_type": "execute_result"
    }
   ],
   "source": [
    "bestmnb2 = MultinomialNB(alpha=gs.best_params_['alpha'])\n",
    "bestmnb2.fit(train_set2,y_train)"
   ]
  },
  {
   "cell_type": "code",
   "execution_count": 41,
   "metadata": {},
   "outputs": [
    {
     "data": {
      "text/plain": [
       "(87398, 2267143)"
      ]
     },
     "execution_count": 41,
     "metadata": {},
     "output_type": "execute_result"
    }
   ],
   "source": [
    "train_set2.shape"
   ]
  },
  {
   "cell_type": "code",
   "execution_count": 42,
   "metadata": {},
   "outputs": [
    {
     "data": {
      "text/plain": [
       "(21850, 2267143)"
      ]
     },
     "execution_count": 42,
     "metadata": {},
     "output_type": "execute_result"
    }
   ],
   "source": [
    "test_set2.shape"
   ]
  },
  {
   "cell_type": "code",
   "execution_count": 43,
   "metadata": {},
   "outputs": [],
   "source": [
    "y_pred_test = bestmnb2.predict_proba(test_set2)\n",
    "y_pred_train = bestmnb2.predict_proba(train_set2)"
   ]
  },
  {
   "cell_type": "code",
   "execution_count": 44,
   "metadata": {},
   "outputs": [
    {
     "name": "stdout",
     "output_type": "stream",
     "text": [
      "TEST AUC SCORE 0.6320794211174814\n"
     ]
    }
   ],
   "source": [
    "# Plot the ROC-AUC curves using the probability predictions made on train and test data.\n",
    "test = roc_curve(y_test, y_pred_test[:,1])# this returns a list which is the order of [false_postive_rate,true_positive_rate,thresholds]\n",
    "train = roc_curve(y_train,y_pred_train[:,1])\n",
    "print(\"TEST AUC SCORE\",roc_auc_score(y_test, y_pred_test[:,1]))"
   ]
  },
  {
   "cell_type": "code",
   "execution_count": 45,
   "metadata": {},
   "outputs": [],
   "source": [
    "opt = [ (1-test[0][i])*(test[1][i]) for i in range(len(test[0]))]"
   ]
  },
  {
   "cell_type": "code",
   "execution_count": 46,
   "metadata": {},
   "outputs": [],
   "source": [
    "optimal_theta = opt[opt.index(max(opt))]\n",
    "print(\"Optimal Theta set 2: \",optimal_theta)"
   ]
  },
  {
   "cell_type": "code",
   "execution_count": 47,
   "metadata": {},
   "outputs": [
    {
     "data": {
      "image/png": "[encoded data removed]",
      "text/plain": [
       "<Figure size 432x288 with 1 Axes>"
      ]
     },
     "metadata": {
      "needs_background": "light"
     },
     "output_type": "display_data"
    }
   ],
   "source": [
    "# Pick the best threshold among the probability estimates, such that it has to yield maximum value for TPR*(1-FPR)\n",
    "# Plot the confusion matrices(each for train and test data) afer encoding the predicted class labels, on the basis of the best threshod probability estimate.\n",
    "plt.plot(test[0],test[1],label=\"Test\",color='red')\n",
    "plt.plot(train[0],train[1],label=\"Train\",color='blue')\n",
    "plt.xlabel(\"False positive rate\")\n",
    "plt.ylabel(\"True positive rate\")\n",
    "plt.legend()\n",
    "plt.show()"
   ]
  },
  {
   "cell_type": "code",
   "execution_count": 48,
   "metadata": {},
   "outputs": [
    {
     "data": {
      "text/plain": [
       "<sklearn.metrics._plot.confusion_matrix.ConfusionMatrixDisplay at 0x14602e9c40d0>"
      ]
     },
     "execution_count": 48,
     "metadata": {},
     "output_type": "execute_result"
    },
    {
     "data": {
      "image/png": "[encoded data removed]",
      "text/plain": [
       "<Figure size 432x288 with 2 Axes>"
      ]
     },
     "metadata": {
      "needs_background": "light"
     },
     "output_type": "display_data"
    }
   ],
   "source": [
    "predicted = y_pred_test[:,1]\n",
    "predicted[predicted>optimal_theta] = 1\n",
    "predicted[predicted<= optimal_theta] = 0\n",
    "matrix = confusion_matrix(y_test,predicted)\n",
    "disp = ConfusionMatrixDisplay(confusion_matrix=matrix)\n",
    "disp.plot()"
   ]
  },
  {
   "cell_type": "code",
   "execution_count": 49,
   "metadata": {},
   "outputs": [],
   "source": [
    "# Either from set 1 (or) set 2, print the names of the top 20 features associated with the positive and negative classes each. (You have to print the names of the features, but not the indexes)\n",
    "# class 0 --> negative ,  class 1 ---> positive\n"
   ]
  },
  {
   "cell_type": "code",
   "execution_count": 50,
   "metadata": {},
   "outputs": [
    {
     "name": "stdout",
     "output_type": "stream",
     "text": [
      "Top featurs that contributed to the Negative class: \n",
      "1 .  dr\n",
      "2 .  grades_6_8\n",
      "4 .  music_arts\n",
      "5 .  grades_3_5\n",
      "6 .  history_geography\n",
      "7 .  literacy\n",
      "8 .  literature_writing\n",
      "10 .  care_hunger\n",
      "11 .  socialsciences\n",
      "12 .  az\n",
      "14 .  mrs\n",
      "15 .  literacy_language\n",
      "16 .  history_civics\n",
      "17 .  grades_9_12\n",
      "18 .  mr\n",
      "19 .  _price\n",
      "20 .  _prev_posted\n",
      "Top featurs that contributed to the Positive class: \n",
      "2 .  dr\n",
      "3 .  grades_6_8\n",
      "4 .  grades_9_12\n",
      "5 .  grades_3_5\n",
      "6 .  music_arts\n",
      "7 .  literacy\n",
      "8 .  literature_writing\n",
      "10 .  mrs\n",
      "11 .  az\n",
      "13 .  care_hunger\n",
      "14 .  history_civics\n",
      "15 .  socialsciences\n",
      "16 .  literacy_language\n",
      "17 .  history_geography\n",
      "18 .  mr\n",
      "19 .  _price\n",
      "20 .  _prev_posted\n"
     ]
    }
   ],
   "source": [
    "def printTopKfeatur(model,class_,c):\n",
    "    indices = topKfretures_indices(model,class_,c)\n",
    "    featur_index = [train_tfid.shape,train_state.shape,train_prefic.shape,train_grade.shape,\n",
    "                    trian_cat.shape,train_sub.shape,train_price.shape,train_prev_posted.shape]\n",
    "    mapp =  {0:'_wordE',1:'_state',2:'_prefic',3:'_grade',4:'_cat',5:'_sub',\n",
    "             6:'_price',7:'_prev_posted'}\n",
    "    models = {'_wordE':model_tfid, '_state':model_state ,'_prefic':model_prefix ,\n",
    "              '_grade':model_grade ,'_cat':model_cat,'_sub':model_sub,\n",
    "             '_price':model_price,'_prev_posted':model_prev_posted}\n",
    "    \n",
    "    index_mapp = {}\n",
    "    caps = []\n",
    "    summ = 0 \n",
    "    for i in range(len(featur_index)):\n",
    "        summ += featur_index[i][1]\n",
    "        index_mapp[summ]=mapp[i]\n",
    "        caps.append(summ)\n",
    "    #print(caps)\n",
    "    inv_mapp = list(index_mapp.keys())\n",
    "    count=0\n",
    "    for i in indices:\n",
    "        found = False\n",
    "        count+=1\n",
    "        for k in range(len(inv_mapp)-2):\n",
    "\n",
    "            if i<inv_mapp[k]:\n",
    "                found = True\n",
    "                #print(i,inv_mapp[k],index_mapp[inv_mapp[k]])\n",
    "                class_num = k\n",
    "                model_index = i# index in full vector space\n",
    "                if class_num>0:\n",
    "                    model_index=model_index - caps[class_num-1]-1\n",
    "                # print(model_index)\n",
    "                # print(models[mapp[k]].vocabulary_.items())\n",
    "                for i in models[mapp[k]].vocabulary_.items():\n",
    "                    if i[1]==model_index:\n",
    "                        print(count,\". \",i[0])\n",
    "                        break\n",
    "                break\n",
    "        if not found:\n",
    "            if i<caps[-2]:\n",
    "                print(count,\". \",'_price')\n",
    "            elif i < caps[-1]:\n",
    "                print(count,\". \",'_prev_posted')\n",
    "print(\"Top featurs that contributed to the Negative class: \")\n",
    "printTopKfeatur(bestmnb2,0,20)\n",
    "print(\"Top featurs that contributed to the Positive class: \")\n",
    "printTopKfeatur(bestmnb2,1,20)"
   ]
  },
  {
   "cell_type": "markdown",
   "metadata": {
    "id": "lS9hIHdib3dp"
   },
   "source": [
    "<h1>3. Summary</h1>\n",
    "\n",
    "<br> as mentioned in the step 5 of instructions\n",
    "Summarize your assignment work here in a few points, and also compare the final models (from set 1 and set 2), in terms of optimal hyperparameter value 'alpha', training AUC and test AUC scores.\n",
    " You can either use a pretty table or any other tabular structure.\n",
    " Reference Link for Pretty table:  https://pypi.org/project/prettytable/"
   ]
  },
  {
   "cell_type": "markdown",
   "metadata": {},
   "source": [
    " <img src='http://i.imgur.com/YVpIGGE.jpg' width=400px>"
   ]
  },
  {
   "cell_type": "code",
   "execution_count": 54,
   "metadata": {},
   "outputs": [
    {
     "name": "stdout",
     "output_type": "stream",
     "text": [
      "+------------+-------------------------+-----------------+----------+\n",
      "| Vectorizer |          Model          | Hyper Parameter |   AUC    |\n",
      "+------------+-------------------------+-----------------+----------+\n",
      "|    BOW     | Multinomial Naiye Bayse |       0.1       | 0.653398 |\n",
      "|   TFIDF    | Multinomial Naiye Bayse |      0.001      | 0.63207  |\n",
      "+------------+-------------------------+-----------------+----------+\n"
     ]
    }
   ],
   "source": [
    "from prettytable import PrettyTable\n",
    "x = PrettyTable()\n",
    "x.field_names = [\"Vectorizer\", \"Model\", \"Hyper Parameter\", \"AUC\"]\n",
    "x.add_row([\"BOW\",\"Multinomial Naiye Bayse\", 0.1, 0.6533980])\n",
    "x.add_row([\"TFIDF\", \"Multinomial Naiye Bayse\", 0.001, 0.63207])\n",
    "print(x)"
   ]
  },
  {
   "cell_type": "code",
   "execution_count": null,
   "metadata": {},
   "outputs": [],
   "source": []
  }
 ],
 "metadata": {
  "colab": {
   "collapsed_sections": [],
   "name": "6_Assignment_NB_Instructions.ipynb",
   "provenance": []
  },
  "kernelspec": {
   "display_name": "Python 3 (ipykernel)",
   "language": "python",
   "name": "python3"
  },
  "language_info": {
   "codemirror_mode": {
    "name": "ipython",
    "version": 3
   },
   "file_extension": ".py",
   "mimetype": "text/x-python",
   "name": "python",
   "nbconvert_exporter": "python",
   "pygments_lexer": "ipython3",
   "version": "3.9.12"
  }
 },
 "nbformat": 4,
 "nbformat_minor": 4
}
