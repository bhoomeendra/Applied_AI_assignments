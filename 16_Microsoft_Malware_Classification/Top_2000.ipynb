{
 "cells": [
  {
   "cell_type": "code",
   "execution_count": 1,
   "id": "59b09b00-4e2b-430f-a746-bdd3b9fc77f1",
   "metadata": {},
   "outputs": [],
   "source": [
    "import pickle as pkl\n",
    "import os\n",
    "import pandas as pd\n",
    "import numpy as np\n",
    "from scipy.sparse import hstack\n",
    "import matplotlib.pyplot as plt\n",
    "from sklearn.metrics import confusion_matrix\n",
    "\n",
    "def getPickel(path):\n",
    "    file = open(path,'rb')\n",
    "    obj =  pkl.load(file)\n",
    "    return obj\n",
    "\n",
    "def putPickel(var,path):\n",
    "    file = open(path,'wb')\n",
    "    pkl.dump(var,file)\n",
    "    file.close()"
   ]
  },
  {
   "cell_type": "code",
   "execution_count": 5,
   "id": "2ca63632-9772-43c3-8a53-1f37e1232045",
   "metadata": {},
   "outputs": [
    {
     "name": "stderr",
     "output_type": "stream",
     "text": [
      "/tmp/ipykernel_22231/3660176904.py:11: DeprecationWarning: Please use `coo_matrix` from the `scipy.sparse` namespace, the `scipy.sparse.coo` namespace is deprecated.\n",
      "  obj =  pkl.load(file)\n"
     ]
    }
   ],
   "source": [
    "rep = getPickel(\"/scratch/sisodiya.bhoomendra/uni_bi_gram.pkl\")"
   ]
  },
  {
   "cell_type": "code",
   "execution_count": 9,
   "id": "d1fbfe51-9d75-4d4a-8931-7f140e893391",
   "metadata": {},
   "outputs": [],
   "source": [
    "uni_bi_gram = rep.todense()"
   ]
  },
  {
   "cell_type": "code",
   "execution_count": 10,
   "id": "7cbf98c3-25a6-4a11-9456-caf1d9180bdc",
   "metadata": {},
   "outputs": [],
   "source": [
    "del rep"
   ]
  },
  {
   "cell_type": "code",
   "execution_count": 11,
   "id": "250574ad-a70d-43a3-8804-9f6619645069",
   "metadata": {},
   "outputs": [
    {
     "data": {
      "text/plain": [
       "1011"
      ]
     },
     "execution_count": 11,
     "metadata": {},
     "output_type": "execute_result"
    }
   ],
   "source": [
    "import gc\n",
    "gc.collect()"
   ]
  },
  {
   "cell_type": "code",
   "execution_count": 12,
   "id": "28c82a8c-f37d-4281-bb18-aa1947486b90",
   "metadata": {},
   "outputs": [
    {
     "data": {
      "text/plain": [
       "numpy.matrix"
      ]
     },
     "execution_count": 12,
     "metadata": {},
     "output_type": "execute_result"
    }
   ],
   "source": [
    "type(uni_bi_gram)"
   ]
  },
  {
   "cell_type": "code",
   "execution_count": 15,
   "id": "e3b38fb9-1b02-4100-a5db-8e807c74d737",
   "metadata": {},
   "outputs": [],
   "source": [
    "arr = np.asarray(uni_bi_gram)"
   ]
  },
  {
   "cell_type": "code",
   "execution_count": 16,
   "id": "24479e51-efcf-4acf-a092-5d431365e8c7",
   "metadata": {},
   "outputs": [
    {
     "data": {
      "text/plain": [
       "(10868, 66306)"
      ]
     },
     "execution_count": 16,
     "metadata": {},
     "output_type": "execute_result"
    }
   ],
   "source": [
    "arr.shape"
   ]
  },
  {
   "cell_type": "code",
   "execution_count": 19,
   "id": "bdbb222a-dd06-4e6d-9736-a437aabbfc1c",
   "metadata": {},
   "outputs": [],
   "source": [
    "sums = np.sum(arr,axis=1)"
   ]
  },
  {
   "cell_type": "code",
   "execution_count": 28,
   "id": "c6ad7312-5034-4043-aa5b-fdcdf0a23aa4",
   "metadata": {},
   "outputs": [],
   "source": [
    "topk = 2000\n",
    "topkSumsidx = np.argpartition(sums,-topk)[-topk:]"
   ]
  },
  {
   "cell_type": "code",
   "execution_count": 30,
   "id": "222bcbd7-da8d-4288-8815-e5713b7305df",
   "metadata": {},
   "outputs": [],
   "source": [
    "topkSumsidx.sort()"
   ]
  },
  {
   "cell_type": "code",
   "execution_count": 34,
   "id": "9b57f37b-00e1-4dcd-ab32-6523839837aa",
   "metadata": {},
   "outputs": [
    {
     "data": {
      "text/plain": [
       "2000"
      ]
     },
     "execution_count": 34,
     "metadata": {},
     "output_type": "execute_result"
    }
   ],
   "source": [
    "len(topkSumsidx)"
   ]
  },
  {
   "cell_type": "code",
   "execution_count": 35,
   "id": "5104a068-3701-438a-83a7-6dcf4df861a6",
   "metadata": {},
   "outputs": [],
   "source": [
    "train_data_2000 = arr[:,topkSumsidx]"
   ]
  },
  {
   "cell_type": "code",
   "execution_count": 36,
   "id": "d4ecee20-5651-440b-b804-88d82f87840c",
   "metadata": {},
   "outputs": [
    {
     "data": {
      "text/plain": [
       "(10868, 2000)"
      ]
     },
     "execution_count": 36,
     "metadata": {},
     "output_type": "execute_result"
    }
   ],
   "source": [
    "train_data_2000.shape"
   ]
  },
  {
   "cell_type": "code",
   "execution_count": 37,
   "id": "775af090-4130-4b48-86a3-4a8e2b4b2c5c",
   "metadata": {},
   "outputs": [],
   "source": [
    "putPickel(train_data_2000,\"/scratch/sisodiya.bhoomendra/train_data_2000.pkl\")"
   ]
  },
  {
   "cell_type": "code",
   "execution_count": null,
   "id": "5a491dcb-1084-4083-a3e3-1579d897972c",
   "metadata": {},
   "outputs": [],
   "source": []
  }
 ],
 "metadata": {
  "kernelspec": {
   "display_name": "Python 3 (ipykernel)",
   "language": "python",
   "name": "python3"
  },
  "language_info": {
   "codemirror_mode": {
    "name": "ipython",
    "version": 3
   },
   "file_extension": ".py",
   "mimetype": "text/x-python",
   "name": "python",
   "nbconvert_exporter": "python",
   "pygments_lexer": "ipython3",
   "version": "3.9.12"
  }
 },
 "nbformat": 4,
 "nbformat_minor": 5
}
