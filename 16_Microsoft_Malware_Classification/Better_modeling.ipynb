{
 "cells": [
  {
   "cell_type": "code",
   "execution_count": 1,
   "id": "3722352d-2e11-43d9-abdc-caea749c16b7",
   "metadata": {},
   "outputs": [],
   "source": [
    "import pickle as pkl\n",
    "import os\n",
    "import pandas as pd\n",
    "import numpy as np\n",
    "from scipy.sparse import hstack\n",
    "import matplotlib.pyplot as plt\n",
    "from sklearn.metrics import confusion_matrix\n",
    "\n",
    "def getPickel(path):\n",
    "    file = open(path,'rb')\n",
    "    obj =  pkl.load(file)\n",
    "    return obj\n",
    "\n",
    "def putPickel(var,path):\n",
    "    file = open(path,'wb')\n",
    "    pkl.dump(var,file)\n",
    "    file.close()"
   ]
  },
  {
   "cell_type": "code",
   "execution_count": null,
   "id": "56dcad4a-2150-48d9-8c3c-f5c3b82a9560",
   "metadata": {},
   "outputs": [],
   "source": [
    "train = getPickel(\"/scratch/sisodiya.bhoomendra/train_data_2000.pkl\")"
   ]
  },
  {
   "cell_type": "code",
   "execution_count": null,
   "id": "10c0a6e1-2852-4327-b887-aee3b6c3e2b3",
   "metadata": {},
   "outputs": [
    {
     "data": {
      "text/plain": [
       "(10868, 2000)"
      ]
     },
     "execution_count": 3,
     "metadata": {},
     "output_type": "execute_result"
    }
   ],
   "source": [
    "train.shape"
   ]
  },
  {
   "cell_type": "code",
   "execution_count": 4,
   "id": "4e08896e-1bd5-4a81-b96f-d0bce5d8a615",
   "metadata": {},
   "outputs": [],
   "source": [
    "asm_with_size = pd.read_csv(\"./asm_with_size.csv\")"
   ]
  },
  {
   "cell_type": "code",
   "execution_count": 8,
   "id": "6588a24d-e3be-4f13-b139-b4fcb3521055",
   "metadata": {},
   "outputs": [
    {
     "data": {
      "text/html": [
       "<div>\n",
       "<style scoped>\n",
       "    .dataframe tbody tr th:only-of-type {\n",
       "        vertical-align: middle;\n",
       "    }\n",
       "\n",
       "    .dataframe tbody tr th {\n",
       "        vertical-align: top;\n",
       "    }\n",
       "\n",
       "    .dataframe thead th {\n",
       "        text-align: right;\n",
       "    }\n",
       "</style>\n",
       "<table border=\"1\" class=\"dataframe\">\n",
       "  <thead>\n",
       "    <tr style=\"text-align: right;\">\n",
       "      <th></th>\n",
       "      <th>Unnamed: 0</th>\n",
       "      <th>ID</th>\n",
       "      <th>size_asm</th>\n",
       "      <th>Class</th>\n",
       "    </tr>\n",
       "  </thead>\n",
       "  <tbody>\n",
       "    <tr>\n",
       "      <th>0</th>\n",
       "      <td>0</td>\n",
       "      <td>01azqd4InC7m9JpocGv5</td>\n",
       "      <td>56.229886</td>\n",
       "      <td>9</td>\n",
       "    </tr>\n",
       "    <tr>\n",
       "      <th>1</th>\n",
       "      <td>1</td>\n",
       "      <td>01IsoiSMh5gxyDYTl4CB</td>\n",
       "      <td>13.999378</td>\n",
       "      <td>2</td>\n",
       "    </tr>\n",
       "    <tr>\n",
       "      <th>2</th>\n",
       "      <td>2</td>\n",
       "      <td>01jsnpXSAlgw6aPeDxrU</td>\n",
       "      <td>8.507785</td>\n",
       "      <td>9</td>\n",
       "    </tr>\n",
       "    <tr>\n",
       "      <th>3</th>\n",
       "      <td>3</td>\n",
       "      <td>01kcPWA9K2BOxQeS5Rju</td>\n",
       "      <td>0.078190</td>\n",
       "      <td>1</td>\n",
       "    </tr>\n",
       "    <tr>\n",
       "      <th>4</th>\n",
       "      <td>4</td>\n",
       "      <td>01SuzwMJEIXsK7A8dQbl</td>\n",
       "      <td>0.996723</td>\n",
       "      <td>8</td>\n",
       "    </tr>\n",
       "  </tbody>\n",
       "</table>\n",
       "</div>"
      ],
      "text/plain": [
       "   Unnamed: 0                    ID   size_asm  Class\n",
       "0           0  01azqd4InC7m9JpocGv5  56.229886      9\n",
       "1           1  01IsoiSMh5gxyDYTl4CB  13.999378      2\n",
       "2           2  01jsnpXSAlgw6aPeDxrU   8.507785      9\n",
       "3           3  01kcPWA9K2BOxQeS5Rju   0.078190      1\n",
       "4           4  01SuzwMJEIXsK7A8dQbl   0.996723      8"
      ]
     },
     "execution_count": 8,
     "metadata": {},
     "output_type": "execute_result"
    }
   ],
   "source": [
    "asm_with_size.head()"
   ]
  },
  {
   "cell_type": "code",
   "execution_count": 9,
   "id": "128417bb-5c02-4f1b-83de-5eeb96b25392",
   "metadata": {},
   "outputs": [
    {
     "data": {
      "text/html": [
       "<div>\n",
       "<style scoped>\n",
       "    .dataframe tbody tr th:only-of-type {\n",
       "        vertical-align: middle;\n",
       "    }\n",
       "\n",
       "    .dataframe tbody tr th {\n",
       "        vertical-align: top;\n",
       "    }\n",
       "\n",
       "    .dataframe thead th {\n",
       "        text-align: right;\n",
       "    }\n",
       "</style>\n",
       "<table border=\"1\" class=\"dataframe\">\n",
       "  <thead>\n",
       "    <tr style=\"text-align: right;\">\n",
       "      <th></th>\n",
       "      <th>Unnamed: 0</th>\n",
       "      <th>ID</th>\n",
       "      <th>0</th>\n",
       "      <th>1</th>\n",
       "      <th>2</th>\n",
       "      <th>3</th>\n",
       "      <th>4</th>\n",
       "      <th>5</th>\n",
       "      <th>6</th>\n",
       "      <th>7</th>\n",
       "      <th>...</th>\n",
       "      <th>f9</th>\n",
       "      <th>fa</th>\n",
       "      <th>fb</th>\n",
       "      <th>fc</th>\n",
       "      <th>fd</th>\n",
       "      <th>fe</th>\n",
       "      <th>ff</th>\n",
       "      <th>??</th>\n",
       "      <th>size</th>\n",
       "      <th>Class</th>\n",
       "    </tr>\n",
       "  </thead>\n",
       "  <tbody>\n",
       "    <tr>\n",
       "      <th>0</th>\n",
       "      <td>0</td>\n",
       "      <td>01azqd4InC7m9JpocGv5</td>\n",
       "      <td>601905</td>\n",
       "      <td>3905</td>\n",
       "      <td>2816</td>\n",
       "      <td>3832</td>\n",
       "      <td>3345</td>\n",
       "      <td>3242</td>\n",
       "      <td>3650</td>\n",
       "      <td>3201</td>\n",
       "      <td>...</td>\n",
       "      <td>3101</td>\n",
       "      <td>3211</td>\n",
       "      <td>3097</td>\n",
       "      <td>2758</td>\n",
       "      <td>3099</td>\n",
       "      <td>2759</td>\n",
       "      <td>5753</td>\n",
       "      <td>1824</td>\n",
       "      <td>4.234863</td>\n",
       "      <td>9</td>\n",
       "    </tr>\n",
       "    <tr>\n",
       "      <th>1</th>\n",
       "      <td>1</td>\n",
       "      <td>01IsoiSMh5gxyDYTl4CB</td>\n",
       "      <td>39755</td>\n",
       "      <td>8337</td>\n",
       "      <td>7249</td>\n",
       "      <td>7186</td>\n",
       "      <td>8663</td>\n",
       "      <td>6844</td>\n",
       "      <td>8420</td>\n",
       "      <td>7589</td>\n",
       "      <td>...</td>\n",
       "      <td>439</td>\n",
       "      <td>281</td>\n",
       "      <td>302</td>\n",
       "      <td>7639</td>\n",
       "      <td>518</td>\n",
       "      <td>17001</td>\n",
       "      <td>54902</td>\n",
       "      <td>8588</td>\n",
       "      <td>5.538818</td>\n",
       "      <td>2</td>\n",
       "    </tr>\n",
       "    <tr>\n",
       "      <th>2</th>\n",
       "      <td>2</td>\n",
       "      <td>01jsnpXSAlgw6aPeDxrU</td>\n",
       "      <td>93506</td>\n",
       "      <td>9542</td>\n",
       "      <td>2568</td>\n",
       "      <td>2438</td>\n",
       "      <td>8925</td>\n",
       "      <td>9330</td>\n",
       "      <td>9007</td>\n",
       "      <td>2342</td>\n",
       "      <td>...</td>\n",
       "      <td>2242</td>\n",
       "      <td>2885</td>\n",
       "      <td>2863</td>\n",
       "      <td>2471</td>\n",
       "      <td>2786</td>\n",
       "      <td>2680</td>\n",
       "      <td>49144</td>\n",
       "      <td>468</td>\n",
       "      <td>3.887939</td>\n",
       "      <td>9</td>\n",
       "    </tr>\n",
       "    <tr>\n",
       "      <th>3</th>\n",
       "      <td>3</td>\n",
       "      <td>01kcPWA9K2BOxQeS5Rju</td>\n",
       "      <td>21091</td>\n",
       "      <td>1213</td>\n",
       "      <td>726</td>\n",
       "      <td>817</td>\n",
       "      <td>1257</td>\n",
       "      <td>625</td>\n",
       "      <td>550</td>\n",
       "      <td>523</td>\n",
       "      <td>...</td>\n",
       "      <td>485</td>\n",
       "      <td>462</td>\n",
       "      <td>516</td>\n",
       "      <td>1133</td>\n",
       "      <td>471</td>\n",
       "      <td>761</td>\n",
       "      <td>7998</td>\n",
       "      <td>13940</td>\n",
       "      <td>0.574219</td>\n",
       "      <td>1</td>\n",
       "    </tr>\n",
       "    <tr>\n",
       "      <th>4</th>\n",
       "      <td>4</td>\n",
       "      <td>01SuzwMJEIXsK7A8dQbl</td>\n",
       "      <td>19764</td>\n",
       "      <td>710</td>\n",
       "      <td>302</td>\n",
       "      <td>433</td>\n",
       "      <td>559</td>\n",
       "      <td>410</td>\n",
       "      <td>262</td>\n",
       "      <td>249</td>\n",
       "      <td>...</td>\n",
       "      <td>350</td>\n",
       "      <td>209</td>\n",
       "      <td>239</td>\n",
       "      <td>653</td>\n",
       "      <td>221</td>\n",
       "      <td>242</td>\n",
       "      <td>2199</td>\n",
       "      <td>9008</td>\n",
       "      <td>0.370850</td>\n",
       "      <td>8</td>\n",
       "    </tr>\n",
       "  </tbody>\n",
       "</table>\n",
       "<p>5 rows × 261 columns</p>\n",
       "</div>"
      ],
      "text/plain": [
       "   Unnamed: 0                    ID       0     1     2     3     4     5  \\\n",
       "0           0  01azqd4InC7m9JpocGv5  601905  3905  2816  3832  3345  3242   \n",
       "1           1  01IsoiSMh5gxyDYTl4CB   39755  8337  7249  7186  8663  6844   \n",
       "2           2  01jsnpXSAlgw6aPeDxrU   93506  9542  2568  2438  8925  9330   \n",
       "3           3  01kcPWA9K2BOxQeS5Rju   21091  1213   726   817  1257   625   \n",
       "4           4  01SuzwMJEIXsK7A8dQbl   19764   710   302   433   559   410   \n",
       "\n",
       "      6     7  ...    f9    fa    fb    fc    fd     fe     ff     ??  \\\n",
       "0  3650  3201  ...  3101  3211  3097  2758  3099   2759   5753   1824   \n",
       "1  8420  7589  ...   439   281   302  7639   518  17001  54902   8588   \n",
       "2  9007  2342  ...  2242  2885  2863  2471  2786   2680  49144    468   \n",
       "3   550   523  ...   485   462   516  1133   471    761   7998  13940   \n",
       "4   262   249  ...   350   209   239   653   221    242   2199   9008   \n",
       "\n",
       "       size  Class  \n",
       "0  4.234863      9  \n",
       "1  5.538818      2  \n",
       "2  3.887939      9  \n",
       "3  0.574219      1  \n",
       "4  0.370850      8  \n",
       "\n",
       "[5 rows x 261 columns]"
      ]
     },
     "execution_count": 9,
     "metadata": {},
     "output_type": "execute_result"
    }
   ],
   "source": [
    "byte_file = pd.read_csv(\"./result_with_size.csv\")\n",
    "byte_file.head()"
   ]
  },
  {
   "cell_type": "code",
   "execution_count": 11,
   "id": "3ee73844-f025-4a0a-8c84-29f8d114de14",
   "metadata": {},
   "outputs": [
    {
     "data": {
      "text/html": [
       "<div>\n",
       "<style scoped>\n",
       "    .dataframe tbody tr th:only-of-type {\n",
       "        vertical-align: middle;\n",
       "    }\n",
       "\n",
       "    .dataframe tbody tr th {\n",
       "        vertical-align: top;\n",
       "    }\n",
       "\n",
       "    .dataframe thead th {\n",
       "        text-align: right;\n",
       "    }\n",
       "</style>\n",
       "<table border=\"1\" class=\"dataframe\">\n",
       "  <thead>\n",
       "    <tr style=\"text-align: right;\">\n",
       "      <th></th>\n",
       "      <th>ID</th>\n",
       "      <th>HEADER:</th>\n",
       "      <th>.text:</th>\n",
       "      <th>.Pav:</th>\n",
       "      <th>.idata:</th>\n",
       "      <th>.data:</th>\n",
       "      <th>.bss:</th>\n",
       "      <th>.rdata:</th>\n",
       "      <th>.edata:</th>\n",
       "      <th>.rsrc:</th>\n",
       "      <th>...</th>\n",
       "      <th>:dword</th>\n",
       "      <th>edx</th>\n",
       "      <th>esi</th>\n",
       "      <th>eax</th>\n",
       "      <th>ebx</th>\n",
       "      <th>ecx</th>\n",
       "      <th>edi</th>\n",
       "      <th>ebp</th>\n",
       "      <th>esp</th>\n",
       "      <th>eip</th>\n",
       "    </tr>\n",
       "  </thead>\n",
       "  <tbody>\n",
       "    <tr>\n",
       "      <th>0</th>\n",
       "      <td>01kcPWA9K2BOxQeS5Rju</td>\n",
       "      <td>19</td>\n",
       "      <td>744</td>\n",
       "      <td>0</td>\n",
       "      <td>127</td>\n",
       "      <td>57</td>\n",
       "      <td>0</td>\n",
       "      <td>323</td>\n",
       "      <td>0</td>\n",
       "      <td>3</td>\n",
       "      <td>...</td>\n",
       "      <td>137</td>\n",
       "      <td>18</td>\n",
       "      <td>66</td>\n",
       "      <td>15</td>\n",
       "      <td>43</td>\n",
       "      <td>83</td>\n",
       "      <td>0</td>\n",
       "      <td>17</td>\n",
       "      <td>48</td>\n",
       "      <td>29</td>\n",
       "    </tr>\n",
       "    <tr>\n",
       "      <th>1</th>\n",
       "      <td>1E93CpP60RHFNiT5Qfvn</td>\n",
       "      <td>17</td>\n",
       "      <td>838</td>\n",
       "      <td>0</td>\n",
       "      <td>103</td>\n",
       "      <td>49</td>\n",
       "      <td>0</td>\n",
       "      <td>0</td>\n",
       "      <td>0</td>\n",
       "      <td>3</td>\n",
       "      <td>...</td>\n",
       "      <td>130</td>\n",
       "      <td>18</td>\n",
       "      <td>29</td>\n",
       "      <td>48</td>\n",
       "      <td>82</td>\n",
       "      <td>12</td>\n",
       "      <td>0</td>\n",
       "      <td>14</td>\n",
       "      <td>0</td>\n",
       "      <td>20</td>\n",
       "    </tr>\n",
       "    <tr>\n",
       "      <th>2</th>\n",
       "      <td>3ekVow2ajZHbTnBcsDfX</td>\n",
       "      <td>17</td>\n",
       "      <td>427</td>\n",
       "      <td>0</td>\n",
       "      <td>50</td>\n",
       "      <td>43</td>\n",
       "      <td>0</td>\n",
       "      <td>145</td>\n",
       "      <td>0</td>\n",
       "      <td>3</td>\n",
       "      <td>...</td>\n",
       "      <td>84</td>\n",
       "      <td>13</td>\n",
       "      <td>42</td>\n",
       "      <td>10</td>\n",
       "      <td>67</td>\n",
       "      <td>14</td>\n",
       "      <td>0</td>\n",
       "      <td>11</td>\n",
       "      <td>0</td>\n",
       "      <td>9</td>\n",
       "    </tr>\n",
       "    <tr>\n",
       "      <th>3</th>\n",
       "      <td>3X2nY7iQaPBIWDrAZqJe</td>\n",
       "      <td>17</td>\n",
       "      <td>227</td>\n",
       "      <td>0</td>\n",
       "      <td>43</td>\n",
       "      <td>19</td>\n",
       "      <td>0</td>\n",
       "      <td>0</td>\n",
       "      <td>0</td>\n",
       "      <td>3</td>\n",
       "      <td>...</td>\n",
       "      <td>25</td>\n",
       "      <td>6</td>\n",
       "      <td>8</td>\n",
       "      <td>14</td>\n",
       "      <td>7</td>\n",
       "      <td>2</td>\n",
       "      <td>0</td>\n",
       "      <td>8</td>\n",
       "      <td>0</td>\n",
       "      <td>6</td>\n",
       "    </tr>\n",
       "    <tr>\n",
       "      <th>4</th>\n",
       "      <td>46OZzdsSKDCFV8h7XWxf</td>\n",
       "      <td>17</td>\n",
       "      <td>402</td>\n",
       "      <td>0</td>\n",
       "      <td>59</td>\n",
       "      <td>170</td>\n",
       "      <td>0</td>\n",
       "      <td>0</td>\n",
       "      <td>0</td>\n",
       "      <td>3</td>\n",
       "      <td>...</td>\n",
       "      <td>18</td>\n",
       "      <td>12</td>\n",
       "      <td>9</td>\n",
       "      <td>18</td>\n",
       "      <td>29</td>\n",
       "      <td>5</td>\n",
       "      <td>0</td>\n",
       "      <td>11</td>\n",
       "      <td>0</td>\n",
       "      <td>11</td>\n",
       "    </tr>\n",
       "  </tbody>\n",
       "</table>\n",
       "<p>5 rows × 52 columns</p>\n",
       "</div>"
      ],
      "text/plain": [
       "                     ID  HEADER:  .text:  .Pav:  .idata:  .data:  .bss:  \\\n",
       "0  01kcPWA9K2BOxQeS5Rju       19     744      0      127      57      0   \n",
       "1  1E93CpP60RHFNiT5Qfvn       17     838      0      103      49      0   \n",
       "2  3ekVow2ajZHbTnBcsDfX       17     427      0       50      43      0   \n",
       "3  3X2nY7iQaPBIWDrAZqJe       17     227      0       43      19      0   \n",
       "4  46OZzdsSKDCFV8h7XWxf       17     402      0       59     170      0   \n",
       "\n",
       "   .rdata:  .edata:  .rsrc:  ...  :dword  edx  esi  eax  ebx  ecx  edi  ebp  \\\n",
       "0      323        0       3  ...     137   18   66   15   43   83    0   17   \n",
       "1        0        0       3  ...     130   18   29   48   82   12    0   14   \n",
       "2      145        0       3  ...      84   13   42   10   67   14    0   11   \n",
       "3        0        0       3  ...      25    6    8   14    7    2    0    8   \n",
       "4        0        0       3  ...      18   12    9   18   29    5    0   11   \n",
       "\n",
       "   esp  eip  \n",
       "0   48   29  \n",
       "1    0   20  \n",
       "2    0    9  \n",
       "3    0    6  \n",
       "4    0   11  \n",
       "\n",
       "[5 rows x 52 columns]"
      ]
     },
     "execution_count": 11,
     "metadata": {},
     "output_type": "execute_result"
    }
   ],
   "source": [
    "asm_file_rep = pd.read_csv(\"./asmoutputfile.csv\")\n",
    "asm_file_rep.head()"
   ]
  },
  {
   "cell_type": "code",
   "execution_count": 13,
   "id": "ea60fd9e-50f6-4639-aba5-2860a0f44056",
   "metadata": {},
   "outputs": [],
   "source": [
    "full_asm = asm_with_size.merge(asm_file_rep,on=\"ID\")\n"
   ]
  },
  {
   "cell_type": "code",
   "execution_count": 19,
   "id": "f7e73dae-39f7-4b6d-80bb-d5de25e21984",
   "metadata": {},
   "outputs": [],
   "source": [
    "full_data = full_asm.merge(byte_file[['ID','size']],on=\"ID\")"
   ]
  },
  {
   "cell_type": "code",
   "execution_count": 20,
   "id": "541e1de6-0120-46f6-b992-8b2663862e6d",
   "metadata": {},
   "outputs": [
    {
     "data": {
      "text/html": [
       "<div>\n",
       "<style scoped>\n",
       "    .dataframe tbody tr th:only-of-type {\n",
       "        vertical-align: middle;\n",
       "    }\n",
       "\n",
       "    .dataframe tbody tr th {\n",
       "        vertical-align: top;\n",
       "    }\n",
       "\n",
       "    .dataframe thead th {\n",
       "        text-align: right;\n",
       "    }\n",
       "</style>\n",
       "<table border=\"1\" class=\"dataframe\">\n",
       "  <thead>\n",
       "    <tr style=\"text-align: right;\">\n",
       "      <th></th>\n",
       "      <th>Unnamed: 0</th>\n",
       "      <th>ID</th>\n",
       "      <th>size_asm</th>\n",
       "      <th>Class</th>\n",
       "      <th>HEADER:</th>\n",
       "      <th>.text:</th>\n",
       "      <th>.Pav:</th>\n",
       "      <th>.idata:</th>\n",
       "      <th>.data:</th>\n",
       "      <th>.bss:</th>\n",
       "      <th>...</th>\n",
       "      <th>edx</th>\n",
       "      <th>esi</th>\n",
       "      <th>eax</th>\n",
       "      <th>ebx</th>\n",
       "      <th>ecx</th>\n",
       "      <th>edi</th>\n",
       "      <th>ebp</th>\n",
       "      <th>esp</th>\n",
       "      <th>eip</th>\n",
       "      <th>size</th>\n",
       "    </tr>\n",
       "  </thead>\n",
       "  <tbody>\n",
       "    <tr>\n",
       "      <th>0</th>\n",
       "      <td>0</td>\n",
       "      <td>01azqd4InC7m9JpocGv5</td>\n",
       "      <td>56.229886</td>\n",
       "      <td>9</td>\n",
       "      <td>18</td>\n",
       "      <td>22430</td>\n",
       "      <td>0</td>\n",
       "      <td>1158</td>\n",
       "      <td>1366754</td>\n",
       "      <td>0</td>\n",
       "      <td>...</td>\n",
       "      <td>808</td>\n",
       "      <td>2290</td>\n",
       "      <td>1281</td>\n",
       "      <td>587</td>\n",
       "      <td>701</td>\n",
       "      <td>0</td>\n",
       "      <td>15</td>\n",
       "      <td>14</td>\n",
       "      <td>456</td>\n",
       "      <td>4.234863</td>\n",
       "    </tr>\n",
       "    <tr>\n",
       "      <th>1</th>\n",
       "      <td>1</td>\n",
       "      <td>01IsoiSMh5gxyDYTl4CB</td>\n",
       "      <td>13.999378</td>\n",
       "      <td>2</td>\n",
       "      <td>0</td>\n",
       "      <td>109939</td>\n",
       "      <td>0</td>\n",
       "      <td>616</td>\n",
       "      <td>24568</td>\n",
       "      <td>0</td>\n",
       "      <td>...</td>\n",
       "      <td>260</td>\n",
       "      <td>1090</td>\n",
       "      <td>391</td>\n",
       "      <td>905</td>\n",
       "      <td>420</td>\n",
       "      <td>0</td>\n",
       "      <td>24</td>\n",
       "      <td>22</td>\n",
       "      <td>227</td>\n",
       "      <td>5.538818</td>\n",
       "    </tr>\n",
       "    <tr>\n",
       "      <th>2</th>\n",
       "      <td>2</td>\n",
       "      <td>01jsnpXSAlgw6aPeDxrU</td>\n",
       "      <td>8.507785</td>\n",
       "      <td>9</td>\n",
       "      <td>18</td>\n",
       "      <td>68883</td>\n",
       "      <td>0</td>\n",
       "      <td>304</td>\n",
       "      <td>662</td>\n",
       "      <td>0</td>\n",
       "      <td>...</td>\n",
       "      <td>5</td>\n",
       "      <td>547</td>\n",
       "      <td>5</td>\n",
       "      <td>451</td>\n",
       "      <td>56</td>\n",
       "      <td>0</td>\n",
       "      <td>27</td>\n",
       "      <td>0</td>\n",
       "      <td>117</td>\n",
       "      <td>3.887939</td>\n",
       "    </tr>\n",
       "    <tr>\n",
       "      <th>3</th>\n",
       "      <td>3</td>\n",
       "      <td>01kcPWA9K2BOxQeS5Rju</td>\n",
       "      <td>0.078190</td>\n",
       "      <td>1</td>\n",
       "      <td>19</td>\n",
       "      <td>744</td>\n",
       "      <td>0</td>\n",
       "      <td>127</td>\n",
       "      <td>57</td>\n",
       "      <td>0</td>\n",
       "      <td>...</td>\n",
       "      <td>18</td>\n",
       "      <td>66</td>\n",
       "      <td>15</td>\n",
       "      <td>43</td>\n",
       "      <td>83</td>\n",
       "      <td>0</td>\n",
       "      <td>17</td>\n",
       "      <td>48</td>\n",
       "      <td>29</td>\n",
       "      <td>0.574219</td>\n",
       "    </tr>\n",
       "    <tr>\n",
       "      <th>4</th>\n",
       "      <td>4</td>\n",
       "      <td>01SuzwMJEIXsK7A8dQbl</td>\n",
       "      <td>0.996723</td>\n",
       "      <td>8</td>\n",
       "      <td>18</td>\n",
       "      <td>10368</td>\n",
       "      <td>0</td>\n",
       "      <td>206</td>\n",
       "      <td>4595</td>\n",
       "      <td>92</td>\n",
       "      <td>...</td>\n",
       "      <td>18</td>\n",
       "      <td>1228</td>\n",
       "      <td>24</td>\n",
       "      <td>1546</td>\n",
       "      <td>107</td>\n",
       "      <td>0</td>\n",
       "      <td>15</td>\n",
       "      <td>0</td>\n",
       "      <td>76</td>\n",
       "      <td>0.370850</td>\n",
       "    </tr>\n",
       "  </tbody>\n",
       "</table>\n",
       "<p>5 rows × 56 columns</p>\n",
       "</div>"
      ],
      "text/plain": [
       "   Unnamed: 0                    ID   size_asm  Class  HEADER:  .text:  .Pav:  \\\n",
       "0           0  01azqd4InC7m9JpocGv5  56.229886      9       18   22430      0   \n",
       "1           1  01IsoiSMh5gxyDYTl4CB  13.999378      2        0  109939      0   \n",
       "2           2  01jsnpXSAlgw6aPeDxrU   8.507785      9       18   68883      0   \n",
       "3           3  01kcPWA9K2BOxQeS5Rju   0.078190      1       19     744      0   \n",
       "4           4  01SuzwMJEIXsK7A8dQbl   0.996723      8       18   10368      0   \n",
       "\n",
       "   .idata:   .data:  .bss:  ...  edx   esi   eax   ebx  ecx  edi  ebp  esp  \\\n",
       "0     1158  1366754      0  ...  808  2290  1281   587  701    0   15   14   \n",
       "1      616    24568      0  ...  260  1090   391   905  420    0   24   22   \n",
       "2      304      662      0  ...    5   547     5   451   56    0   27    0   \n",
       "3      127       57      0  ...   18    66    15    43   83    0   17   48   \n",
       "4      206     4595     92  ...   18  1228    24  1546  107    0   15    0   \n",
       "\n",
       "   eip      size  \n",
       "0  456  4.234863  \n",
       "1  227  5.538818  \n",
       "2  117  3.887939  \n",
       "3   29  0.574219  \n",
       "4   76  0.370850  \n",
       "\n",
       "[5 rows x 56 columns]"
      ]
     },
     "execution_count": 20,
     "metadata": {},
     "output_type": "execute_result"
    }
   ],
   "source": [
    "full_data.head()"
   ]
  },
  {
   "cell_type": "code",
   "execution_count": 22,
   "id": "6a0643dd-d7fe-4998-90bd-a7ef0e93a482",
   "metadata": {},
   "outputs": [],
   "source": [
    "full_data.to_csv(\"./byte_asm_data.csv\")"
   ]
  },
  {
   "cell_type": "code",
   "execution_count": 25,
   "id": "f59204bb-b75a-4f7f-a562-7c0159fc8282",
   "metadata": {},
   "outputs": [],
   "source": [
    "full_data = full_data.set_index(\"ID\")"
   ]
  },
  {
   "cell_type": "code",
   "execution_count": 34,
   "id": "52ee4e5b-9011-4819-9634-41a0d1cc6ac8",
   "metadata": {},
   "outputs": [],
   "source": [
    "full_data = full_data.drop(columns=['Unnamed: 0'])"
   ]
  },
  {
   "cell_type": "code",
   "execution_count": 63,
   "id": "2d11026d-c6fc-482b-8c17-26c72383362b",
   "metadata": {},
   "outputs": [
    {
     "data": {
      "text/html": [
       "<div>\n",
       "<style scoped>\n",
       "    .dataframe tbody tr th:only-of-type {\n",
       "        vertical-align: middle;\n",
       "    }\n",
       "\n",
       "    .dataframe tbody tr th {\n",
       "        vertical-align: top;\n",
       "    }\n",
       "\n",
       "    .dataframe thead th {\n",
       "        text-align: right;\n",
       "    }\n",
       "</style>\n",
       "<table border=\"1\" class=\"dataframe\">\n",
       "  <thead>\n",
       "    <tr style=\"text-align: right;\">\n",
       "      <th></th>\n",
       "      <th>size_asm</th>\n",
       "      <th>Class</th>\n",
       "      <th>HEADER:</th>\n",
       "      <th>.text:</th>\n",
       "      <th>.Pav:</th>\n",
       "      <th>.idata:</th>\n",
       "      <th>.data:</th>\n",
       "      <th>.bss:</th>\n",
       "      <th>.rdata:</th>\n",
       "      <th>.edata:</th>\n",
       "      <th>...</th>\n",
       "      <th>edx</th>\n",
       "      <th>esi</th>\n",
       "      <th>eax</th>\n",
       "      <th>ebx</th>\n",
       "      <th>ecx</th>\n",
       "      <th>edi</th>\n",
       "      <th>ebp</th>\n",
       "      <th>esp</th>\n",
       "      <th>eip</th>\n",
       "      <th>size</th>\n",
       "    </tr>\n",
       "    <tr>\n",
       "      <th>ID</th>\n",
       "      <th></th>\n",
       "      <th></th>\n",
       "      <th></th>\n",
       "      <th></th>\n",
       "      <th></th>\n",
       "      <th></th>\n",
       "      <th></th>\n",
       "      <th></th>\n",
       "      <th></th>\n",
       "      <th></th>\n",
       "      <th></th>\n",
       "      <th></th>\n",
       "      <th></th>\n",
       "      <th></th>\n",
       "      <th></th>\n",
       "      <th></th>\n",
       "      <th></th>\n",
       "      <th></th>\n",
       "      <th></th>\n",
       "      <th></th>\n",
       "      <th></th>\n",
       "    </tr>\n",
       "  </thead>\n",
       "  <tbody>\n",
       "    <tr>\n",
       "      <th>01azqd4InC7m9JpocGv5</th>\n",
       "      <td>56.229886</td>\n",
       "      <td>9</td>\n",
       "      <td>18</td>\n",
       "      <td>22430</td>\n",
       "      <td>0</td>\n",
       "      <td>1158</td>\n",
       "      <td>1366754</td>\n",
       "      <td>0</td>\n",
       "      <td>1794</td>\n",
       "      <td>0</td>\n",
       "      <td>...</td>\n",
       "      <td>808</td>\n",
       "      <td>2290</td>\n",
       "      <td>1281</td>\n",
       "      <td>587</td>\n",
       "      <td>701</td>\n",
       "      <td>0</td>\n",
       "      <td>15</td>\n",
       "      <td>14</td>\n",
       "      <td>456</td>\n",
       "      <td>4.234863</td>\n",
       "    </tr>\n",
       "    <tr>\n",
       "      <th>01IsoiSMh5gxyDYTl4CB</th>\n",
       "      <td>13.999378</td>\n",
       "      <td>2</td>\n",
       "      <td>0</td>\n",
       "      <td>109939</td>\n",
       "      <td>0</td>\n",
       "      <td>616</td>\n",
       "      <td>24568</td>\n",
       "      <td>0</td>\n",
       "      <td>26405</td>\n",
       "      <td>0</td>\n",
       "      <td>...</td>\n",
       "      <td>260</td>\n",
       "      <td>1090</td>\n",
       "      <td>391</td>\n",
       "      <td>905</td>\n",
       "      <td>420</td>\n",
       "      <td>0</td>\n",
       "      <td>24</td>\n",
       "      <td>22</td>\n",
       "      <td>227</td>\n",
       "      <td>5.538818</td>\n",
       "    </tr>\n",
       "    <tr>\n",
       "      <th>01jsnpXSAlgw6aPeDxrU</th>\n",
       "      <td>8.507785</td>\n",
       "      <td>9</td>\n",
       "      <td>18</td>\n",
       "      <td>68883</td>\n",
       "      <td>0</td>\n",
       "      <td>304</td>\n",
       "      <td>662</td>\n",
       "      <td>0</td>\n",
       "      <td>1093</td>\n",
       "      <td>0</td>\n",
       "      <td>...</td>\n",
       "      <td>5</td>\n",
       "      <td>547</td>\n",
       "      <td>5</td>\n",
       "      <td>451</td>\n",
       "      <td>56</td>\n",
       "      <td>0</td>\n",
       "      <td>27</td>\n",
       "      <td>0</td>\n",
       "      <td>117</td>\n",
       "      <td>3.887939</td>\n",
       "    </tr>\n",
       "    <tr>\n",
       "      <th>01kcPWA9K2BOxQeS5Rju</th>\n",
       "      <td>0.078190</td>\n",
       "      <td>1</td>\n",
       "      <td>19</td>\n",
       "      <td>744</td>\n",
       "      <td>0</td>\n",
       "      <td>127</td>\n",
       "      <td>57</td>\n",
       "      <td>0</td>\n",
       "      <td>323</td>\n",
       "      <td>0</td>\n",
       "      <td>...</td>\n",
       "      <td>18</td>\n",
       "      <td>66</td>\n",
       "      <td>15</td>\n",
       "      <td>43</td>\n",
       "      <td>83</td>\n",
       "      <td>0</td>\n",
       "      <td>17</td>\n",
       "      <td>48</td>\n",
       "      <td>29</td>\n",
       "      <td>0.574219</td>\n",
       "    </tr>\n",
       "    <tr>\n",
       "      <th>01SuzwMJEIXsK7A8dQbl</th>\n",
       "      <td>0.996723</td>\n",
       "      <td>8</td>\n",
       "      <td>18</td>\n",
       "      <td>10368</td>\n",
       "      <td>0</td>\n",
       "      <td>206</td>\n",
       "      <td>4595</td>\n",
       "      <td>92</td>\n",
       "      <td>0</td>\n",
       "      <td>0</td>\n",
       "      <td>...</td>\n",
       "      <td>18</td>\n",
       "      <td>1228</td>\n",
       "      <td>24</td>\n",
       "      <td>1546</td>\n",
       "      <td>107</td>\n",
       "      <td>0</td>\n",
       "      <td>15</td>\n",
       "      <td>0</td>\n",
       "      <td>76</td>\n",
       "      <td>0.370850</td>\n",
       "    </tr>\n",
       "  </tbody>\n",
       "</table>\n",
       "<p>5 rows × 54 columns</p>\n",
       "</div>"
      ],
      "text/plain": [
       "                       size_asm  Class  HEADER:  .text:  .Pav:  .idata:  \\\n",
       "ID                                                                        \n",
       "01azqd4InC7m9JpocGv5  56.229886      9       18   22430      0     1158   \n",
       "01IsoiSMh5gxyDYTl4CB  13.999378      2        0  109939      0      616   \n",
       "01jsnpXSAlgw6aPeDxrU   8.507785      9       18   68883      0      304   \n",
       "01kcPWA9K2BOxQeS5Rju   0.078190      1       19     744      0      127   \n",
       "01SuzwMJEIXsK7A8dQbl   0.996723      8       18   10368      0      206   \n",
       "\n",
       "                       .data:  .bss:  .rdata:  .edata:  ...  edx   esi   eax  \\\n",
       "ID                                                      ...                    \n",
       "01azqd4InC7m9JpocGv5  1366754      0     1794        0  ...  808  2290  1281   \n",
       "01IsoiSMh5gxyDYTl4CB    24568      0    26405        0  ...  260  1090   391   \n",
       "01jsnpXSAlgw6aPeDxrU      662      0     1093        0  ...    5   547     5   \n",
       "01kcPWA9K2BOxQeS5Rju       57      0      323        0  ...   18    66    15   \n",
       "01SuzwMJEIXsK7A8dQbl     4595     92        0        0  ...   18  1228    24   \n",
       "\n",
       "                       ebx  ecx  edi  ebp  esp  eip      size  \n",
       "ID                                                             \n",
       "01azqd4InC7m9JpocGv5   587  701    0   15   14  456  4.234863  \n",
       "01IsoiSMh5gxyDYTl4CB   905  420    0   24   22  227  5.538818  \n",
       "01jsnpXSAlgw6aPeDxrU   451   56    0   27    0  117  3.887939  \n",
       "01kcPWA9K2BOxQeS5Rju    43   83    0   17   48   29  0.574219  \n",
       "01SuzwMJEIXsK7A8dQbl  1546  107    0   15    0   76  0.370850  \n",
       "\n",
       "[5 rows x 54 columns]"
      ]
     },
     "execution_count": 63,
     "metadata": {},
     "output_type": "execute_result"
    }
   ],
   "source": [
    "full_data.head()"
   ]
  },
  {
   "cell_type": "code",
   "execution_count": 45,
   "id": "79c915f4-e83b-49bf-9e15-f875ecbecd9e",
   "metadata": {},
   "outputs": [],
   "source": [
    "file_name = getPickel(\"/scratch/sisodiya.bhoomendra/file_name.pkl\")"
   ]
  },
  {
   "cell_type": "code",
   "execution_count": 46,
   "id": "bd263e26-b2ca-48d3-b8f3-3536bfd5cfdc",
   "metadata": {},
   "outputs": [],
   "source": [
    "num_data = []\n",
    "for name in file_name:\n",
    "    num_data.append(full_data.loc[name].to_numpy())   "
   ]
  },
  {
   "cell_type": "code",
   "execution_count": 50,
   "id": "8b535cde-bafd-4318-9581-42700576b3fd",
   "metadata": {},
   "outputs": [],
   "source": [
    "f = np.array(num_data)"
   ]
  },
  {
   "cell_type": "code",
   "execution_count": 57,
   "id": "c42684af-78ea-4358-9d57-5c675e8d8e46",
   "metadata": {},
   "outputs": [
    {
     "data": {
      "text/plain": [
       "(10868, 54)"
      ]
     },
     "execution_count": 57,
     "metadata": {},
     "output_type": "execute_result"
    }
   ],
   "source": [
    "f.shape"
   ]
  },
  {
   "cell_type": "code",
   "execution_count": 58,
   "id": "a542c570-66ad-4b28-bef7-138e76026ca5",
   "metadata": {},
   "outputs": [
    {
     "data": {
      "text/plain": [
       "(10868, 2000)"
      ]
     },
     "execution_count": 58,
     "metadata": {},
     "output_type": "execute_result"
    }
   ],
   "source": [
    "train.shape"
   ]
  },
  {
   "cell_type": "code",
   "execution_count": 59,
   "id": "80fe0c3d-ccdd-4c6e-8057-f7b659c9325f",
   "metadata": {},
   "outputs": [],
   "source": [
    "full = np.hstack((f,train))"
   ]
  },
  {
   "cell_type": "code",
   "execution_count": 64,
   "id": "e762125b-54cb-41a0-9ad0-5f61d1b790ef",
   "metadata": {},
   "outputs": [
    {
     "data": {
      "text/plain": [
       "(10868, 2054)"
      ]
     },
     "execution_count": 64,
     "metadata": {},
     "output_type": "execute_result"
    }
   ],
   "source": [
    "full.shape"
   ]
  },
  {
   "cell_type": "code",
   "execution_count": 65,
   "id": "7c2d2f21-e482-4d42-8cc7-e63a160931bb",
   "metadata": {},
   "outputs": [],
   "source": [
    "putPickel(full,\"/scratch/sisodiya.bhoomendra/train_size_asm_1_Class_1_asm_51_byte_2000_size_1.pkl\")"
   ]
  },
  {
   "cell_type": "code",
   "execution_count": 43,
   "id": "daffaa63-c2f9-4281-88d8-326b20ed62c8",
   "metadata": {},
   "outputs": [],
   "source": [
    "from xgboost import XGBClassifier\n",
    "from sklearn.calibration import CalibratedClassifierCV\n",
    "from sklearn.metrics import log_loss\n",
    "from sklearn.model_selection import train_test_split\n",
    "from sklearn.model_selection import RandomizedSearchCV"
   ]
  },
  {
   "cell_type": "code",
   "execution_count": 6,
   "id": "35c77efb-9897-4ea1-b773-b2de5c844249",
   "metadata": {},
   "outputs": [],
   "source": [
    "full = getPickel(\"/scratch/sisodiya.bhoomendra/train_size_asm_1_Class_1_asm_51_byte_2000_size_1.pkl\")"
   ]
  },
  {
   "cell_type": "code",
   "execution_count": 15,
   "id": "ff60eef0-5ffd-4c5a-986c-2d2f1ce95781",
   "metadata": {},
   "outputs": [
    {
     "data": {
      "text/plain": [
       "(10868, 2054)"
      ]
     },
     "execution_count": 15,
     "metadata": {},
     "output_type": "execute_result"
    }
   ],
   "source": [
    "full.shape"
   ]
  },
  {
   "cell_type": "code",
   "execution_count": 23,
   "id": "d68ff527-4e86-470f-8e07-1e423d29f283",
   "metadata": {},
   "outputs": [
    {
     "data": {
      "text/plain": [
       "array([1, 2, 3, 4, 5, 6, 7, 8, 9], dtype=int8)"
      ]
     },
     "execution_count": 23,
     "metadata": {},
     "output_type": "execute_result"
    }
   ],
   "source": [
    "tags = np.asarray(full[:,1],dtype=np.int8)\n",
    "np.unique(tags)"
   ]
  },
  {
   "cell_type": "code",
   "execution_count": 24,
   "id": "6000722e-bce3-42f0-971c-587c28b8b1b0",
   "metadata": {},
   "outputs": [],
   "source": [
    "data_y = tags"
   ]
  },
  {
   "cell_type": "code",
   "execution_count": 25,
   "id": "f5dc0122-1510-4002-845a-1c743bfaf333",
   "metadata": {},
   "outputs": [],
   "source": [
    "p1 = full[:,:1]\n",
    "p2 = full[:,2:]"
   ]
  },
  {
   "cell_type": "code",
   "execution_count": 26,
   "id": "0e74a090-cb15-4c5e-a852-d6733773fff5",
   "metadata": {},
   "outputs": [
    {
     "data": {
      "text/plain": [
       "((10868, 1), (10868, 2052))"
      ]
     },
     "execution_count": 26,
     "metadata": {},
     "output_type": "execute_result"
    }
   ],
   "source": [
    "p1.shape,p2.shape"
   ]
  },
  {
   "cell_type": "code",
   "execution_count": 27,
   "id": "ebdc8abb-8dce-4edc-bbde-67371cf28051",
   "metadata": {},
   "outputs": [],
   "source": [
    "X = np.hstack((p1,p2))"
   ]
  },
  {
   "cell_type": "code",
   "execution_count": 31,
   "id": "7fea7971-4609-4851-bfbf-7fc024f21f5e",
   "metadata": {},
   "outputs": [],
   "source": [
    "data_y = data_y-1"
   ]
  },
  {
   "cell_type": "code",
   "execution_count": 32,
   "id": "167d3dda-5b0f-4039-9cb9-2cd4db0dc1a5",
   "metadata": {},
   "outputs": [],
   "source": [
    "putPickel(data_y,\"/scratch/sisodiya.bhoomendra/labels.pkl\")\n",
    "putPickel(X,\"/scratch/sisodiya.bhoomendra/X_size_asm_1_Class_1_asm_51_byte_2000_size_1.pkl\")"
   ]
  },
  {
   "cell_type": "code",
   "execution_count": 39,
   "id": "6c4c7122-9312-4295-9835-b6e0b6ce1ff5",
   "metadata": {},
   "outputs": [],
   "source": [
    "data_y = getPickel(\"/scratch/sisodiya.bhoomendra/labels.pkl\")\n",
    "X = getPickel(\"/scratch/sisodiya.bhoomendra/X_size_asm_1_Class_1_asm_51_byte_2000_size_1_asm_img_800.pkl\")"
   ]
  },
  {
   "cell_type": "code",
   "execution_count": 40,
   "id": "559b824c-8ebf-4c2b-90c8-d66585ab3165",
   "metadata": {},
   "outputs": [
    {
     "data": {
      "text/plain": [
       "(10868,)"
      ]
     },
     "execution_count": 40,
     "metadata": {},
     "output_type": "execute_result"
    }
   ],
   "source": [
    "data_y.shape"
   ]
  },
  {
   "cell_type": "code",
   "execution_count": 41,
   "id": "a9a95e7a-d947-4d43-94b8-337125b5a4d0",
   "metadata": {},
   "outputs": [
    {
     "data": {
      "text/plain": [
       "(array([0, 1, 2, 3, 4, 5, 6, 7, 8], dtype=int8),\n",
       " array([1541, 2478, 2942,  475,   42,  751,  398, 1228, 1013]))"
      ]
     },
     "execution_count": 41,
     "metadata": {},
     "output_type": "execute_result"
    }
   ],
   "source": [
    "np.unique(data_y,return_counts=True)"
   ]
  },
  {
   "cell_type": "code",
   "execution_count": 44,
   "id": "cf7d1996-6d49-460c-bd2a-54f262ee28ee",
   "metadata": {},
   "outputs": [],
   "source": [
    "X_train, X_test, y_train, y_test = train_test_split(X, data_y,stratify=data_y,test_size=0.20)"
   ]
  },
  {
   "cell_type": "code",
   "execution_count": 45,
   "id": "c34d39f4-d4a5-4c57-9ca1-dd077c45a526",
   "metadata": {},
   "outputs": [],
   "source": [
    "bx_cfl=XGBClassifier(tree_method='gpu_hist',subsample=1,learning_rate=0.15,max_depth=10,n_estimators=1000)"
   ]
  },
  {
   "cell_type": "code",
   "execution_count": 44,
   "id": "64853149-a7dd-48cf-a0fb-66da4a053ed3",
   "metadata": {},
   "outputs": [],
   "source": [
    "prams={\n",
    "    'learning_rate':[0.01,0.05,0.1,0.2],\n",
    "     'n_estimators':[500,700,1000,2000],\n",
    "     'max_depth':[3,5],\n",
    "    'colsample_bytree':[0.5,1]\n",
    "}"
   ]
  },
  {
   "cell_type": "code",
   "execution_count": 47,
   "id": "377255fb-7191-4ebd-a384-465656c99af2",
   "metadata": {},
   "outputs": [
    {
     "name": "stdout",
     "output_type": "stream",
     "text": [
      "Fitting 5 folds for each of 10 candidates, totalling 50 fits\n"
     ]
    },
    {
     "data": {
      "text/html": [
       "<style>#sk-container-id-1 {color: black;background-color: white;}#sk-container-id-1 pre{padding: 0;}#sk-container-id-1 div.sk-toggleable {background-color: white;}#sk-container-id-1 label.sk-toggleable__label {cursor: pointer;display: block;width: 100%;margin-bottom: 0;padding: 0.3em;box-sizing: border-box;text-align: center;}#sk-container-id-1 label.sk-toggleable__label-arrow:before {content: \"▸\";float: left;margin-right: 0.25em;color: #696969;}#sk-container-id-1 label.sk-toggleable__label-arrow:hover:before {color: black;}#sk-container-id-1 div.sk-estimator:hover label.sk-toggleable__label-arrow:before {color: black;}#sk-container-id-1 div.sk-toggleable__content {max-height: 0;max-width: 0;overflow: hidden;text-align: left;background-color: #f0f8ff;}#sk-container-id-1 div.sk-toggleable__content pre {margin: 0.2em;color: black;border-radius: 0.25em;background-color: #f0f8ff;}#sk-container-id-1 input.sk-toggleable__control:checked~div.sk-toggleable__content {max-height: 200px;max-width: 100%;overflow: auto;}#sk-container-id-1 input.sk-toggleable__control:checked~label.sk-toggleable__label-arrow:before {content: \"▾\";}#sk-container-id-1 div.sk-estimator input.sk-toggleable__control:checked~label.sk-toggleable__label {background-color: #d4ebff;}#sk-container-id-1 div.sk-label input.sk-toggleable__control:checked~label.sk-toggleable__label {background-color: #d4ebff;}#sk-container-id-1 input.sk-hidden--visually {border: 0;clip: rect(1px 1px 1px 1px);clip: rect(1px, 1px, 1px, 1px);height: 1px;margin: -1px;overflow: hidden;padding: 0;position: absolute;width: 1px;}#sk-container-id-1 div.sk-estimator {font-family: monospace;background-color: #f0f8ff;border: 1px dotted black;border-radius: 0.25em;box-sizing: border-box;margin-bottom: 0.5em;}#sk-container-id-1 div.sk-estimator:hover {background-color: #d4ebff;}#sk-container-id-1 div.sk-parallel-item::after {content: \"\";width: 100%;border-bottom: 1px solid gray;flex-grow: 1;}#sk-container-id-1 div.sk-label:hover label.sk-toggleable__label {background-color: #d4ebff;}#sk-container-id-1 div.sk-serial::before {content: \"\";position: absolute;border-left: 1px solid gray;box-sizing: border-box;top: 0;bottom: 0;left: 50%;z-index: 0;}#sk-container-id-1 div.sk-serial {display: flex;flex-direction: column;align-items: center;background-color: white;padding-right: 0.2em;padding-left: 0.2em;position: relative;}#sk-container-id-1 div.sk-item {position: relative;z-index: 1;}#sk-container-id-1 div.sk-parallel {display: flex;align-items: stretch;justify-content: center;background-color: white;position: relative;}#sk-container-id-1 div.sk-item::before, #sk-container-id-1 div.sk-parallel-item::before {content: \"\";position: absolute;border-left: 1px solid gray;box-sizing: border-box;top: 0;bottom: 0;left: 50%;z-index: -1;}#sk-container-id-1 div.sk-parallel-item {display: flex;flex-direction: column;z-index: 1;position: relative;background-color: white;}#sk-container-id-1 div.sk-parallel-item:first-child::after {align-self: flex-end;width: 50%;}#sk-container-id-1 div.sk-parallel-item:last-child::after {align-self: flex-start;width: 50%;}#sk-container-id-1 div.sk-parallel-item:only-child::after {width: 0;}#sk-container-id-1 div.sk-dashed-wrapped {border: 1px dashed gray;margin: 0 0.4em 0.5em 0.4em;box-sizing: border-box;padding-bottom: 0.4em;background-color: white;}#sk-container-id-1 div.sk-label label {font-family: monospace;font-weight: bold;display: inline-block;line-height: 1.2em;}#sk-container-id-1 div.sk-label-container {text-align: center;}#sk-container-id-1 div.sk-container {/* jupyter's `normalize.less` sets `[hidden] { display: none; }` but bootstrap.min.css set `[hidden] { display: none !important; }` so we also need the `!important` here to be able to override the default hidden behavior on the sphinx rendered scikit-learn.org. See: https://github.com/scikit-learn/scikit-learn/issues/21755 */display: inline-block !important;position: relative;}#sk-container-id-1 div.sk-text-repr-fallback {display: none;}</style><div id=\"sk-container-id-1\" class=\"sk-top-container\"><div class=\"sk-text-repr-fallback\"><pre>RandomizedSearchCV(estimator=XGBClassifier(base_score=None, booster=None,\n",
       "                                           callbacks=None,\n",
       "                                           colsample_bylevel=None,\n",
       "                                           colsample_bynode=None,\n",
       "                                           colsample_bytree=None,\n",
       "                                           early_stopping_rounds=None,\n",
       "                                           enable_categorical=False,\n",
       "                                           eval_metric=None, gamma=None,\n",
       "                                           gpu_id=None, grow_policy=None,\n",
       "                                           importance_type=None,\n",
       "                                           interaction_constraints=None,\n",
       "                                           learning_rate=None, max_bin=None,\n",
       "                                           max_c...\n",
       "                                           min_child_weight=None, missing=nan,\n",
       "                                           monotone_constraints=None,\n",
       "                                           n_estimators=100, n_jobs=None,\n",
       "                                           num_parallel_tree=None,\n",
       "                                           predictor=None, random_state=None,\n",
       "                                           reg_alpha=None, reg_lambda=None, ...),\n",
       "                   n_jobs=20,\n",
       "                   param_distributions={&#x27;colsample_bytree&#x27;: [0.5, 1],\n",
       "                                        &#x27;learning_rate&#x27;: [0.01, 0.05, 0.1, 0.2],\n",
       "                                        &#x27;max_depth&#x27;: [3, 5],\n",
       "                                        &#x27;n_estimators&#x27;: [500, 700, 1000],\n",
       "                                        &#x27;subsample&#x27;: [0.5, 1]},\n",
       "                   verbose=100)</pre><b>In a Jupyter environment, please rerun this cell to show the HTML representation or trust the notebook. <br />On GitHub, the HTML representation is unable to render, please try loading this page with nbviewer.org.</b></div><div class=\"sk-container\" hidden><div class=\"sk-item sk-dashed-wrapped\"><div class=\"sk-label-container\"><div class=\"sk-label sk-toggleable\"><input class=\"sk-toggleable__control sk-hidden--visually\" id=\"sk-estimator-id-1\" type=\"checkbox\" ><label for=\"sk-estimator-id-1\" class=\"sk-toggleable__label sk-toggleable__label-arrow\">RandomizedSearchCV</label><div class=\"sk-toggleable__content\"><pre>RandomizedSearchCV(estimator=XGBClassifier(base_score=None, booster=None,\n",
       "                                           callbacks=None,\n",
       "                                           colsample_bylevel=None,\n",
       "                                           colsample_bynode=None,\n",
       "                                           colsample_bytree=None,\n",
       "                                           early_stopping_rounds=None,\n",
       "                                           enable_categorical=False,\n",
       "                                           eval_metric=None, gamma=None,\n",
       "                                           gpu_id=None, grow_policy=None,\n",
       "                                           importance_type=None,\n",
       "                                           interaction_constraints=None,\n",
       "                                           learning_rate=None, max_bin=None,\n",
       "                                           max_c...\n",
       "                                           min_child_weight=None, missing=nan,\n",
       "                                           monotone_constraints=None,\n",
       "                                           n_estimators=100, n_jobs=None,\n",
       "                                           num_parallel_tree=None,\n",
       "                                           predictor=None, random_state=None,\n",
       "                                           reg_alpha=None, reg_lambda=None, ...),\n",
       "                   n_jobs=20,\n",
       "                   param_distributions={&#x27;colsample_bytree&#x27;: [0.5, 1],\n",
       "                                        &#x27;learning_rate&#x27;: [0.01, 0.05, 0.1, 0.2],\n",
       "                                        &#x27;max_depth&#x27;: [3, 5],\n",
       "                                        &#x27;n_estimators&#x27;: [500, 700, 1000],\n",
       "                                        &#x27;subsample&#x27;: [0.5, 1]},\n",
       "                   verbose=100)</pre></div></div></div><div class=\"sk-parallel\"><div class=\"sk-parallel-item\"><div class=\"sk-item\"><div class=\"sk-label-container\"><div class=\"sk-label sk-toggleable\"><input class=\"sk-toggleable__control sk-hidden--visually\" id=\"sk-estimator-id-2\" type=\"checkbox\" ><label for=\"sk-estimator-id-2\" class=\"sk-toggleable__label sk-toggleable__label-arrow\">estimator: XGBClassifier</label><div class=\"sk-toggleable__content\"><pre>XGBClassifier(base_score=None, booster=None, callbacks=None,\n",
       "              colsample_bylevel=None, colsample_bynode=None,\n",
       "              colsample_bytree=None, early_stopping_rounds=None,\n",
       "              enable_categorical=False, eval_metric=None, gamma=None,\n",
       "              gpu_id=None, grow_policy=None, importance_type=None,\n",
       "              interaction_constraints=None, learning_rate=None, max_bin=None,\n",
       "              max_cat_to_onehot=None, max_delta_step=None, max_depth=None,\n",
       "              max_leaves=None, min_child_weight=None, missing=nan,\n",
       "              monotone_constraints=None, n_estimators=100, n_jobs=None,\n",
       "              num_parallel_tree=None, predictor=None, random_state=None,\n",
       "              reg_alpha=None, reg_lambda=None, ...)</pre></div></div></div><div class=\"sk-serial\"><div class=\"sk-item\"><div class=\"sk-estimator sk-toggleable\"><input class=\"sk-toggleable__control sk-hidden--visually\" id=\"sk-estimator-id-3\" type=\"checkbox\" ><label for=\"sk-estimator-id-3\" class=\"sk-toggleable__label sk-toggleable__label-arrow\">XGBClassifier</label><div class=\"sk-toggleable__content\"><pre>XGBClassifier(base_score=None, booster=None, callbacks=None,\n",
       "              colsample_bylevel=None, colsample_bynode=None,\n",
       "              colsample_bytree=None, early_stopping_rounds=None,\n",
       "              enable_categorical=False, eval_metric=None, gamma=None,\n",
       "              gpu_id=None, grow_policy=None, importance_type=None,\n",
       "              interaction_constraints=None, learning_rate=None, max_bin=None,\n",
       "              max_cat_to_onehot=None, max_delta_step=None, max_depth=None,\n",
       "              max_leaves=None, min_child_weight=None, missing=nan,\n",
       "              monotone_constraints=None, n_estimators=100, n_jobs=None,\n",
       "              num_parallel_tree=None, predictor=None, random_state=None,\n",
       "              reg_alpha=None, reg_lambda=None, ...)</pre></div></div></div></div></div></div></div></div></div></div>"
      ],
      "text/plain": [
       "RandomizedSearchCV(estimator=XGBClassifier(base_score=None, booster=None,\n",
       "                                           callbacks=None,\n",
       "                                           colsample_bylevel=None,\n",
       "                                           colsample_bynode=None,\n",
       "                                           colsample_bytree=None,\n",
       "                                           early_stopping_rounds=None,\n",
       "                                           enable_categorical=False,\n",
       "                                           eval_metric=None, gamma=None,\n",
       "                                           gpu_id=None, grow_policy=None,\n",
       "                                           importance_type=None,\n",
       "                                           interaction_constraints=None,\n",
       "                                           learning_rate=None, max_bin=None,\n",
       "                                           max_c...\n",
       "                                           min_child_weight=None, missing=nan,\n",
       "                                           monotone_constraints=None,\n",
       "                                           n_estimators=100, n_jobs=None,\n",
       "                                           num_parallel_tree=None,\n",
       "                                           predictor=None, random_state=None,\n",
       "                                           reg_alpha=None, reg_lambda=None, ...),\n",
       "                   n_jobs=20,\n",
       "                   param_distributions={'colsample_bytree': [0.5, 1],\n",
       "                                        'learning_rate': [0.01, 0.05, 0.1, 0.2],\n",
       "                                        'max_depth': [3, 5],\n",
       "                                        'n_estimators': [500, 700, 1000],\n",
       "                                        'subsample': [0.5, 1]},\n",
       "                   verbose=100)"
      ]
     },
     "execution_count": 47,
     "metadata": {},
     "output_type": "execute_result"
    }
   ],
   "source": [
    "random_cfl1=RandomizedSearchCV(x_cfl,param_distributions=prams,verbose=100,n_jobs=20,)\n",
    "random_cfl1.fit(X_train,y_train)"
   ]
  },
  {
   "cell_type": "code",
   "execution_count": 53,
   "id": "3586e836-9d4d-4d23-b94a-994aa81f03da",
   "metadata": {},
   "outputs": [
    {
     "data": {
      "text/plain": [
       "{'subsample': 1,\n",
       " 'n_estimators': 700,\n",
       " 'max_depth': 5,\n",
       " 'learning_rate': 0.1,\n",
       " 'colsample_bytree': 0.5}"
      ]
     },
     "execution_count": 53,
     "metadata": {},
     "output_type": "execute_result"
    }
   ],
   "source": [
    "random_cfl1.best_params_"
   ]
  },
  {
   "cell_type": "code",
   "execution_count": 49,
   "id": "7e8f0bfa-aa2d-49d2-9955-217a2fe729ec",
   "metadata": {},
   "outputs": [],
   "source": [
    "bxclf = random_cfl1.best_estimator_"
   ]
  },
  {
   "cell_type": "code",
   "execution_count": 50,
   "id": "dbdf3fa3-0ab7-46fd-9d13-6095e0a101f1",
   "metadata": {},
   "outputs": [
    {
     "data": {
      "text/plain": [
       "5530"
      ]
     },
     "execution_count": 50,
     "metadata": {},
     "output_type": "execute_result"
    }
   ],
   "source": [
    "import gc\n",
    "gc.collect()"
   ]
  },
  {
   "cell_type": "code",
   "execution_count": 51,
   "id": "268f1eb0-a282-4135-b7ad-055cc4fc9bdf",
   "metadata": {},
   "outputs": [
    {
     "name": "stdout",
     "output_type": "stream",
     "text": [
      "[CV 3/5; 1/10] START colsample_bytree=0.5, learning_rate=0.1, max_depth=5, n_estimators=500, subsample=0.5\n",
      "[CV 3/5; 1/10] END colsample_bytree=0.5, learning_rate=0.1, max_depth=5, n_estimators=500, subsample=0.5;, score=0.991 total time= 4.8min\n",
      "[CV 2/5; 6/10] START colsample_bytree=1, learning_rate=0.1, max_depth=3, n_estimators=500, subsample=1\n",
      "[CV 2/5; 6/10] END colsample_bytree=1, learning_rate=0.1, max_depth=3, n_estimators=500, subsample=1;, score=0.994 total time= 4.2min\n",
      "[CV 3/5; 8/10] START colsample_bytree=1, learning_rate=0.1, max_depth=3, n_estimators=700, subsample=1\n",
      "[CV 3/5; 8/10] END colsample_bytree=1, learning_rate=0.1, max_depth=3, n_estimators=700, subsample=1;, score=0.993 total time= 6.0min\n",
      "[CV 5/5; 1/10] START colsample_bytree=0.5, learning_rate=0.1, max_depth=5, n_estimators=500, subsample=0.5\n",
      "[CV 5/5; 1/10] END colsample_bytree=0.5, learning_rate=0.1, max_depth=5, n_estimators=500, subsample=0.5;, score=0.994 total time= 4.8min\n",
      "[CV 1/5; 6/10] START colsample_bytree=1, learning_rate=0.1, max_depth=3, n_estimators=500, subsample=1\n",
      "[CV 1/5; 6/10] END colsample_bytree=1, learning_rate=0.1, max_depth=3, n_estimators=500, subsample=1;, score=0.996 total time= 4.1min\n",
      "[CV 1/5; 8/10] START colsample_bytree=1, learning_rate=0.1, max_depth=3, n_estimators=700, subsample=1\n",
      "[CV 1/5; 8/10] END colsample_bytree=1, learning_rate=0.1, max_depth=3, n_estimators=700, subsample=1;, score=0.996 total time= 6.1min\n",
      "[CV 1/5; 1/10] START colsample_bytree=0.5, learning_rate=0.1, max_depth=5, n_estimators=500, subsample=0.5\n",
      "[CV 1/5; 1/10] END colsample_bytree=0.5, learning_rate=0.1, max_depth=5, n_estimators=500, subsample=0.5;, score=0.995 total time= 4.8min\n",
      "[CV 3/5; 6/10] START colsample_bytree=1, learning_rate=0.1, max_depth=3, n_estimators=500, subsample=1\n",
      "[CV 3/5; 6/10] END colsample_bytree=1, learning_rate=0.1, max_depth=3, n_estimators=500, subsample=1;, score=0.992 total time= 4.1min\n",
      "[CV 2/5; 8/10] START colsample_bytree=1, learning_rate=0.1, max_depth=3, n_estimators=700, subsample=1\n",
      "[CV 2/5; 8/10] END colsample_bytree=1, learning_rate=0.1, max_depth=3, n_estimators=700, subsample=1;, score=0.994 total time= 6.1min\n",
      "[CV 2/5; 1/10] START colsample_bytree=0.5, learning_rate=0.1, max_depth=5, n_estimators=500, subsample=0.5\n",
      "[CV 2/5; 1/10] END colsample_bytree=0.5, learning_rate=0.1, max_depth=5, n_estimators=500, subsample=0.5;, score=0.996 total time= 4.8min\n",
      "[CV 4/5; 6/10] START colsample_bytree=1, learning_rate=0.1, max_depth=3, n_estimators=500, subsample=1\n",
      "[CV 4/5; 6/10] END colsample_bytree=1, learning_rate=0.1, max_depth=3, n_estimators=500, subsample=1;, score=0.995 total time= 4.2min\n",
      "[CV 4/5; 8/10] START colsample_bytree=1, learning_rate=0.1, max_depth=3, n_estimators=700, subsample=1\n",
      "[CV 4/5; 8/10] END colsample_bytree=1, learning_rate=0.1, max_depth=3, n_estimators=700, subsample=1;, score=0.995 total time= 6.0min\n",
      "[CV 4/5; 1/10] START colsample_bytree=0.5, learning_rate=0.1, max_depth=5, n_estimators=500, subsample=0.5\n",
      "[CV 4/5; 1/10] END colsample_bytree=0.5, learning_rate=0.1, max_depth=5, n_estimators=500, subsample=0.5;, score=0.996 total time= 4.8min\n",
      "[CV 5/5; 6/10] START colsample_bytree=1, learning_rate=0.1, max_depth=3, n_estimators=500, subsample=1\n",
      "[CV 5/5; 6/10] END colsample_bytree=1, learning_rate=0.1, max_depth=3, n_estimators=500, subsample=1;, score=0.996 total time= 4.2min\n",
      "[CV 5/5; 8/10] START colsample_bytree=1, learning_rate=0.1, max_depth=3, n_estimators=700, subsample=1\n",
      "[CV 5/5; 8/10] END colsample_bytree=1, learning_rate=0.1, max_depth=3, n_estimators=700, subsample=1;, score=0.996 total time= 6.1min\n"
     ]
    },
    {
     "data": {
      "text/html": [
       "<style>#sk-container-id-2 {color: black;background-color: white;}#sk-container-id-2 pre{padding: 0;}#sk-container-id-2 div.sk-toggleable {background-color: white;}#sk-container-id-2 label.sk-toggleable__label {cursor: pointer;display: block;width: 100%;margin-bottom: 0;padding: 0.3em;box-sizing: border-box;text-align: center;}#sk-container-id-2 label.sk-toggleable__label-arrow:before {content: \"▸\";float: left;margin-right: 0.25em;color: #696969;}#sk-container-id-2 label.sk-toggleable__label-arrow:hover:before {color: black;}#sk-container-id-2 div.sk-estimator:hover label.sk-toggleable__label-arrow:before {color: black;}#sk-container-id-2 div.sk-toggleable__content {max-height: 0;max-width: 0;overflow: hidden;text-align: left;background-color: #f0f8ff;}#sk-container-id-2 div.sk-toggleable__content pre {margin: 0.2em;color: black;border-radius: 0.25em;background-color: #f0f8ff;}#sk-container-id-2 input.sk-toggleable__control:checked~div.sk-toggleable__content {max-height: 200px;max-width: 100%;overflow: auto;}#sk-container-id-2 input.sk-toggleable__control:checked~label.sk-toggleable__label-arrow:before {content: \"▾\";}#sk-container-id-2 div.sk-estimator input.sk-toggleable__control:checked~label.sk-toggleable__label {background-color: #d4ebff;}#sk-container-id-2 div.sk-label input.sk-toggleable__control:checked~label.sk-toggleable__label {background-color: #d4ebff;}#sk-container-id-2 input.sk-hidden--visually {border: 0;clip: rect(1px 1px 1px 1px);clip: rect(1px, 1px, 1px, 1px);height: 1px;margin: -1px;overflow: hidden;padding: 0;position: absolute;width: 1px;}#sk-container-id-2 div.sk-estimator {font-family: monospace;background-color: #f0f8ff;border: 1px dotted black;border-radius: 0.25em;box-sizing: border-box;margin-bottom: 0.5em;}#sk-container-id-2 div.sk-estimator:hover {background-color: #d4ebff;}#sk-container-id-2 div.sk-parallel-item::after {content: \"\";width: 100%;border-bottom: 1px solid gray;flex-grow: 1;}#sk-container-id-2 div.sk-label:hover label.sk-toggleable__label {background-color: #d4ebff;}#sk-container-id-2 div.sk-serial::before {content: \"\";position: absolute;border-left: 1px solid gray;box-sizing: border-box;top: 0;bottom: 0;left: 50%;z-index: 0;}#sk-container-id-2 div.sk-serial {display: flex;flex-direction: column;align-items: center;background-color: white;padding-right: 0.2em;padding-left: 0.2em;position: relative;}#sk-container-id-2 div.sk-item {position: relative;z-index: 1;}#sk-container-id-2 div.sk-parallel {display: flex;align-items: stretch;justify-content: center;background-color: white;position: relative;}#sk-container-id-2 div.sk-item::before, #sk-container-id-2 div.sk-parallel-item::before {content: \"\";position: absolute;border-left: 1px solid gray;box-sizing: border-box;top: 0;bottom: 0;left: 50%;z-index: -1;}#sk-container-id-2 div.sk-parallel-item {display: flex;flex-direction: column;z-index: 1;position: relative;background-color: white;}#sk-container-id-2 div.sk-parallel-item:first-child::after {align-self: flex-end;width: 50%;}#sk-container-id-2 div.sk-parallel-item:last-child::after {align-self: flex-start;width: 50%;}#sk-container-id-2 div.sk-parallel-item:only-child::after {width: 0;}#sk-container-id-2 div.sk-dashed-wrapped {border: 1px dashed gray;margin: 0 0.4em 0.5em 0.4em;box-sizing: border-box;padding-bottom: 0.4em;background-color: white;}#sk-container-id-2 div.sk-label label {font-family: monospace;font-weight: bold;display: inline-block;line-height: 1.2em;}#sk-container-id-2 div.sk-label-container {text-align: center;}#sk-container-id-2 div.sk-container {/* jupyter's `normalize.less` sets `[hidden] { display: none; }` but bootstrap.min.css set `[hidden] { display: none !important; }` so we also need the `!important` here to be able to override the default hidden behavior on the sphinx rendered scikit-learn.org. See: https://github.com/scikit-learn/scikit-learn/issues/21755 */display: inline-block !important;position: relative;}#sk-container-id-2 div.sk-text-repr-fallback {display: none;}</style><div id=\"sk-container-id-2\" class=\"sk-top-container\"><div class=\"sk-text-repr-fallback\"><pre>CalibratedClassifierCV(base_estimator=XGBClassifier(base_score=0.5,\n",
       "                                                    booster=&#x27;gbtree&#x27;,\n",
       "                                                    callbacks=None,\n",
       "                                                    colsample_bylevel=1,\n",
       "                                                    colsample_bynode=1,\n",
       "                                                    colsample_bytree=0.5,\n",
       "                                                    early_stopping_rounds=None,\n",
       "                                                    enable_categorical=False,\n",
       "                                                    eval_metric=None, gamma=0,\n",
       "                                                    gpu_id=0,\n",
       "                                                    grow_policy=&#x27;depthwise&#x27;,\n",
       "                                                    importance_type=None,\n",
       "                                                    interaction_constraints=&#x27;&#x27;,\n",
       "                                                    learning_rate=0.1,\n",
       "                                                    max_bin=256,\n",
       "                                                    max_cat_to_onehot=4,\n",
       "                                                    max_delta_step=0,\n",
       "                                                    max_depth=5, max_leaves=0,\n",
       "                                                    min_child_weight=1,\n",
       "                                                    missing=nan,\n",
       "                                                    monotone_constraints=&#x27;()&#x27;,\n",
       "                                                    n_estimators=700, n_jobs=0,\n",
       "                                                    num_parallel_tree=1,\n",
       "                                                    objective=&#x27;multi:softprob&#x27;,\n",
       "                                                    predictor=&#x27;auto&#x27;,\n",
       "                                                    random_state=0, reg_alpha=0, ...))</pre><b>In a Jupyter environment, please rerun this cell to show the HTML representation or trust the notebook. <br />On GitHub, the HTML representation is unable to render, please try loading this page with nbviewer.org.</b></div><div class=\"sk-container\" hidden><div class=\"sk-item sk-dashed-wrapped\"><div class=\"sk-label-container\"><div class=\"sk-label sk-toggleable\"><input class=\"sk-toggleable__control sk-hidden--visually\" id=\"sk-estimator-id-4\" type=\"checkbox\" ><label for=\"sk-estimator-id-4\" class=\"sk-toggleable__label sk-toggleable__label-arrow\">CalibratedClassifierCV</label><div class=\"sk-toggleable__content\"><pre>CalibratedClassifierCV(base_estimator=XGBClassifier(base_score=0.5,\n",
       "                                                    booster=&#x27;gbtree&#x27;,\n",
       "                                                    callbacks=None,\n",
       "                                                    colsample_bylevel=1,\n",
       "                                                    colsample_bynode=1,\n",
       "                                                    colsample_bytree=0.5,\n",
       "                                                    early_stopping_rounds=None,\n",
       "                                                    enable_categorical=False,\n",
       "                                                    eval_metric=None, gamma=0,\n",
       "                                                    gpu_id=0,\n",
       "                                                    grow_policy=&#x27;depthwise&#x27;,\n",
       "                                                    importance_type=None,\n",
       "                                                    interaction_constraints=&#x27;&#x27;,\n",
       "                                                    learning_rate=0.1,\n",
       "                                                    max_bin=256,\n",
       "                                                    max_cat_to_onehot=4,\n",
       "                                                    max_delta_step=0,\n",
       "                                                    max_depth=5, max_leaves=0,\n",
       "                                                    min_child_weight=1,\n",
       "                                                    missing=nan,\n",
       "                                                    monotone_constraints=&#x27;()&#x27;,\n",
       "                                                    n_estimators=700, n_jobs=0,\n",
       "                                                    num_parallel_tree=1,\n",
       "                                                    objective=&#x27;multi:softprob&#x27;,\n",
       "                                                    predictor=&#x27;auto&#x27;,\n",
       "                                                    random_state=0, reg_alpha=0, ...))</pre></div></div></div><div class=\"sk-parallel\"><div class=\"sk-parallel-item\"><div class=\"sk-item\"><div class=\"sk-label-container\"><div class=\"sk-label sk-toggleable\"><input class=\"sk-toggleable__control sk-hidden--visually\" id=\"sk-estimator-id-5\" type=\"checkbox\" ><label for=\"sk-estimator-id-5\" class=\"sk-toggleable__label sk-toggleable__label-arrow\">base_estimator: XGBClassifier</label><div class=\"sk-toggleable__content\"><pre>XGBClassifier(base_score=0.5, booster=&#x27;gbtree&#x27;, callbacks=None,\n",
       "              colsample_bylevel=1, colsample_bynode=1, colsample_bytree=0.5,\n",
       "              early_stopping_rounds=None, enable_categorical=False,\n",
       "              eval_metric=None, gamma=0, gpu_id=0, grow_policy=&#x27;depthwise&#x27;,\n",
       "              importance_type=None, interaction_constraints=&#x27;&#x27;,\n",
       "              learning_rate=0.1, max_bin=256, max_cat_to_onehot=4,\n",
       "              max_delta_step=0, max_depth=5, max_leaves=0, min_child_weight=1,\n",
       "              missing=nan, monotone_constraints=&#x27;()&#x27;, n_estimators=700,\n",
       "              n_jobs=0, num_parallel_tree=1, objective=&#x27;multi:softprob&#x27;,\n",
       "              predictor=&#x27;auto&#x27;, random_state=0, reg_alpha=0, ...)</pre></div></div></div><div class=\"sk-serial\"><div class=\"sk-item\"><div class=\"sk-estimator sk-toggleable\"><input class=\"sk-toggleable__control sk-hidden--visually\" id=\"sk-estimator-id-6\" type=\"checkbox\" ><label for=\"sk-estimator-id-6\" class=\"sk-toggleable__label sk-toggleable__label-arrow\">XGBClassifier</label><div class=\"sk-toggleable__content\"><pre>XGBClassifier(base_score=0.5, booster=&#x27;gbtree&#x27;, callbacks=None,\n",
       "              colsample_bylevel=1, colsample_bynode=1, colsample_bytree=0.5,\n",
       "              early_stopping_rounds=None, enable_categorical=False,\n",
       "              eval_metric=None, gamma=0, gpu_id=0, grow_policy=&#x27;depthwise&#x27;,\n",
       "              importance_type=None, interaction_constraints=&#x27;&#x27;,\n",
       "              learning_rate=0.1, max_bin=256, max_cat_to_onehot=4,\n",
       "              max_delta_step=0, max_depth=5, max_leaves=0, min_child_weight=1,\n",
       "              missing=nan, monotone_constraints=&#x27;()&#x27;, n_estimators=700,\n",
       "              n_jobs=0, num_parallel_tree=1, objective=&#x27;multi:softprob&#x27;,\n",
       "              predictor=&#x27;auto&#x27;, random_state=0, reg_alpha=0, ...)</pre></div></div></div></div></div></div></div></div></div></div>"
      ],
      "text/plain": [
       "CalibratedClassifierCV(base_estimator=XGBClassifier(base_score=0.5,\n",
       "                                                    booster='gbtree',\n",
       "                                                    callbacks=None,\n",
       "                                                    colsample_bylevel=1,\n",
       "                                                    colsample_bynode=1,\n",
       "                                                    colsample_bytree=0.5,\n",
       "                                                    early_stopping_rounds=None,\n",
       "                                                    enable_categorical=False,\n",
       "                                                    eval_metric=None, gamma=0,\n",
       "                                                    gpu_id=0,\n",
       "                                                    grow_policy='depthwise',\n",
       "                                                    importance_type=None,\n",
       "                                                    interaction_constraints='',\n",
       "                                                    learning_rate=0.1,\n",
       "                                                    max_bin=256,\n",
       "                                                    max_cat_to_onehot=4,\n",
       "                                                    max_delta_step=0,\n",
       "                                                    max_depth=5, max_leaves=0,\n",
       "                                                    min_child_weight=1,\n",
       "                                                    missing=nan,\n",
       "                                                    monotone_constraints='()',\n",
       "                                                    n_estimators=700, n_jobs=0,\n",
       "                                                    num_parallel_tree=1,\n",
       "                                                    objective='multi:softprob',\n",
       "                                                    predictor='auto',\n",
       "                                                    random_state=0, reg_alpha=0, ...))"
      ]
     },
     "execution_count": 51,
     "metadata": {},
     "output_type": "execute_result"
    },
    {
     "name": "stdout",
     "output_type": "stream",
     "text": [
      "[CV 3/5; 3/10] START colsample_bytree=0.5, learning_rate=0.2, max_depth=3, n_estimators=1000, subsample=0.5\n",
      "[CV 3/5; 3/10] END colsample_bytree=0.5, learning_rate=0.2, max_depth=3, n_estimators=1000, subsample=0.5;, score=0.992 total time= 8.0min\n",
      "[CV 1/5; 7/10] START colsample_bytree=1, learning_rate=0.1, max_depth=5, n_estimators=1000, subsample=1\n",
      "[CV 1/5; 7/10] END colsample_bytree=1, learning_rate=0.1, max_depth=5, n_estimators=1000, subsample=1;, score=0.997 total time= 8.1min\n",
      "[CV 5/5; 3/10] START colsample_bytree=0.5, learning_rate=0.2, max_depth=3, n_estimators=1000, subsample=0.5\n",
      "[CV 5/5; 3/10] END colsample_bytree=0.5, learning_rate=0.2, max_depth=3, n_estimators=1000, subsample=0.5;, score=0.996 total time= 8.1min\n",
      "[CV 3/5; 7/10] START colsample_bytree=1, learning_rate=0.1, max_depth=5, n_estimators=1000, subsample=1\n",
      "[CV 3/5; 7/10] END colsample_bytree=1, learning_rate=0.1, max_depth=5, n_estimators=1000, subsample=1;, score=0.991 total time= 8.1min\n",
      "[CV 2/5; 3/10] START colsample_bytree=0.5, learning_rate=0.2, max_depth=3, n_estimators=1000, subsample=0.5\n",
      "[CV 2/5; 3/10] END colsample_bytree=0.5, learning_rate=0.2, max_depth=3, n_estimators=1000, subsample=0.5;, score=0.996 total time= 8.1min\n",
      "[CV 2/5; 7/10] START colsample_bytree=1, learning_rate=0.1, max_depth=5, n_estimators=1000, subsample=1\n",
      "[CV 2/5; 7/10] END colsample_bytree=1, learning_rate=0.1, max_depth=5, n_estimators=1000, subsample=1;, score=0.994 total time= 8.1min\n",
      "[CV 1/5; 3/10] START colsample_bytree=0.5, learning_rate=0.2, max_depth=3, n_estimators=1000, subsample=0.5\n",
      "[CV 1/5; 3/10] END colsample_bytree=0.5, learning_rate=0.2, max_depth=3, n_estimators=1000, subsample=0.5;, score=0.995 total time= 8.1min\n",
      "[CV 4/5; 7/10] START colsample_bytree=1, learning_rate=0.1, max_depth=5, n_estimators=1000, subsample=1\n",
      "[CV 4/5; 7/10] END colsample_bytree=1, learning_rate=0.1, max_depth=5, n_estimators=1000, subsample=1;, score=0.996 total time= 8.1min\n",
      "[CV 4/5; 3/10] START colsample_bytree=0.5, learning_rate=0.2, max_depth=3, n_estimators=1000, subsample=0.5\n",
      "[CV 4/5; 3/10] END colsample_bytree=0.5, learning_rate=0.2, max_depth=3, n_estimators=1000, subsample=0.5;, score=0.996 total time= 8.1min\n",
      "[CV 5/5; 7/10] START colsample_bytree=1, learning_rate=0.1, max_depth=5, n_estimators=1000, subsample=1\n",
      "[CV 5/5; 7/10] END colsample_bytree=1, learning_rate=0.1, max_depth=5, n_estimators=1000, subsample=1;, score=0.996 total time= 8.1min\n"
     ]
    }
   ],
   "source": [
    "c_cfl=CalibratedClassifierCV(bxclf,method='sigmoid')\n",
    "c_cfl.fit(X_train,y_train)"
   ]
  },
  {
   "cell_type": "code",
   "execution_count": 54,
   "id": "ab98dbdb-9e7f-4876-b5cc-681b2a8d4233",
   "metadata": {},
   "outputs": [
    {
     "name": "stdout",
     "output_type": "stream",
     "text": [
      "train loss 0.01139256797506202\n",
      "cv loss 0.02853877942537122\n",
      "test loss 0.05453603417467377\n"
     ]
    }
   ],
   "source": [
    "predict_y = c_cfl.predict_proba(X_train)\n",
    "print ('train loss',log_loss(y_train, predict_y))\n",
    "predict_y = c_cfl.predict_proba(X_cv)\n",
    "print ('cv loss',log_loss(y_cv, predict_y))\n",
    "predict_y = c_cfl.predict_proba(X_test)\n",
    "print ('test loss',log_loss(y_test, predict_y))"
   ]
  },
  {
   "cell_type": "code",
   "execution_count": 46,
   "id": "349436a8-bf5f-4ca2-9ea6-251e1c531232",
   "metadata": {},
   "outputs": [
    {
     "data": {
      "text/html": [
       "<style>#sk-container-id-1 {color: black;background-color: white;}#sk-container-id-1 pre{padding: 0;}#sk-container-id-1 div.sk-toggleable {background-color: white;}#sk-container-id-1 label.sk-toggleable__label {cursor: pointer;display: block;width: 100%;margin-bottom: 0;padding: 0.3em;box-sizing: border-box;text-align: center;}#sk-container-id-1 label.sk-toggleable__label-arrow:before {content: \"▸\";float: left;margin-right: 0.25em;color: #696969;}#sk-container-id-1 label.sk-toggleable__label-arrow:hover:before {color: black;}#sk-container-id-1 div.sk-estimator:hover label.sk-toggleable__label-arrow:before {color: black;}#sk-container-id-1 div.sk-toggleable__content {max-height: 0;max-width: 0;overflow: hidden;text-align: left;background-color: #f0f8ff;}#sk-container-id-1 div.sk-toggleable__content pre {margin: 0.2em;color: black;border-radius: 0.25em;background-color: #f0f8ff;}#sk-container-id-1 input.sk-toggleable__control:checked~div.sk-toggleable__content {max-height: 200px;max-width: 100%;overflow: auto;}#sk-container-id-1 input.sk-toggleable__control:checked~label.sk-toggleable__label-arrow:before {content: \"▾\";}#sk-container-id-1 div.sk-estimator input.sk-toggleable__control:checked~label.sk-toggleable__label {background-color: #d4ebff;}#sk-container-id-1 div.sk-label input.sk-toggleable__control:checked~label.sk-toggleable__label {background-color: #d4ebff;}#sk-container-id-1 input.sk-hidden--visually {border: 0;clip: rect(1px 1px 1px 1px);clip: rect(1px, 1px, 1px, 1px);height: 1px;margin: -1px;overflow: hidden;padding: 0;position: absolute;width: 1px;}#sk-container-id-1 div.sk-estimator {font-family: monospace;background-color: #f0f8ff;border: 1px dotted black;border-radius: 0.25em;box-sizing: border-box;margin-bottom: 0.5em;}#sk-container-id-1 div.sk-estimator:hover {background-color: #d4ebff;}#sk-container-id-1 div.sk-parallel-item::after {content: \"\";width: 100%;border-bottom: 1px solid gray;flex-grow: 1;}#sk-container-id-1 div.sk-label:hover label.sk-toggleable__label {background-color: #d4ebff;}#sk-container-id-1 div.sk-serial::before {content: \"\";position: absolute;border-left: 1px solid gray;box-sizing: border-box;top: 0;bottom: 0;left: 50%;z-index: 0;}#sk-container-id-1 div.sk-serial {display: flex;flex-direction: column;align-items: center;background-color: white;padding-right: 0.2em;padding-left: 0.2em;position: relative;}#sk-container-id-1 div.sk-item {position: relative;z-index: 1;}#sk-container-id-1 div.sk-parallel {display: flex;align-items: stretch;justify-content: center;background-color: white;position: relative;}#sk-container-id-1 div.sk-item::before, #sk-container-id-1 div.sk-parallel-item::before {content: \"\";position: absolute;border-left: 1px solid gray;box-sizing: border-box;top: 0;bottom: 0;left: 50%;z-index: -1;}#sk-container-id-1 div.sk-parallel-item {display: flex;flex-direction: column;z-index: 1;position: relative;background-color: white;}#sk-container-id-1 div.sk-parallel-item:first-child::after {align-self: flex-end;width: 50%;}#sk-container-id-1 div.sk-parallel-item:last-child::after {align-self: flex-start;width: 50%;}#sk-container-id-1 div.sk-parallel-item:only-child::after {width: 0;}#sk-container-id-1 div.sk-dashed-wrapped {border: 1px dashed gray;margin: 0 0.4em 0.5em 0.4em;box-sizing: border-box;padding-bottom: 0.4em;background-color: white;}#sk-container-id-1 div.sk-label label {font-family: monospace;font-weight: bold;display: inline-block;line-height: 1.2em;}#sk-container-id-1 div.sk-label-container {text-align: center;}#sk-container-id-1 div.sk-container {/* jupyter's `normalize.less` sets `[hidden] { display: none; }` but bootstrap.min.css set `[hidden] { display: none !important; }` so we also need the `!important` here to be able to override the default hidden behavior on the sphinx rendered scikit-learn.org. See: https://github.com/scikit-learn/scikit-learn/issues/21755 */display: inline-block !important;position: relative;}#sk-container-id-1 div.sk-text-repr-fallback {display: none;}</style><div id=\"sk-container-id-1\" class=\"sk-top-container\"><div class=\"sk-text-repr-fallback\"><pre>XGBClassifier(base_score=0.5, booster=&#x27;gbtree&#x27;, callbacks=None,\n",
       "              colsample_bylevel=1, colsample_bynode=1, colsample_bytree=1,\n",
       "              early_stopping_rounds=None, enable_categorical=False,\n",
       "              eval_metric=None, gamma=0, gpu_id=0, grow_policy=&#x27;depthwise&#x27;,\n",
       "              importance_type=None, interaction_constraints=&#x27;&#x27;,\n",
       "              learning_rate=0.15, max_bin=256, max_cat_to_onehot=4,\n",
       "              max_delta_step=0, max_depth=10, max_leaves=0, min_child_weight=1,\n",
       "              missing=nan, monotone_constraints=&#x27;()&#x27;, n_estimators=1000,\n",
       "              n_jobs=0, num_parallel_tree=1, objective=&#x27;multi:softprob&#x27;,\n",
       "              predictor=&#x27;auto&#x27;, random_state=0, reg_alpha=0, ...)</pre><b>In a Jupyter environment, please rerun this cell to show the HTML representation or trust the notebook. <br />On GitHub, the HTML representation is unable to render, please try loading this page with nbviewer.org.</b></div><div class=\"sk-container\" hidden><div class=\"sk-item\"><div class=\"sk-estimator sk-toggleable\"><input class=\"sk-toggleable__control sk-hidden--visually\" id=\"sk-estimator-id-1\" type=\"checkbox\" checked><label for=\"sk-estimator-id-1\" class=\"sk-toggleable__label sk-toggleable__label-arrow\">XGBClassifier</label><div class=\"sk-toggleable__content\"><pre>XGBClassifier(base_score=0.5, booster=&#x27;gbtree&#x27;, callbacks=None,\n",
       "              colsample_bylevel=1, colsample_bynode=1, colsample_bytree=1,\n",
       "              early_stopping_rounds=None, enable_categorical=False,\n",
       "              eval_metric=None, gamma=0, gpu_id=0, grow_policy=&#x27;depthwise&#x27;,\n",
       "              importance_type=None, interaction_constraints=&#x27;&#x27;,\n",
       "              learning_rate=0.15, max_bin=256, max_cat_to_onehot=4,\n",
       "              max_delta_step=0, max_depth=10, max_leaves=0, min_child_weight=1,\n",
       "              missing=nan, monotone_constraints=&#x27;()&#x27;, n_estimators=1000,\n",
       "              n_jobs=0, num_parallel_tree=1, objective=&#x27;multi:softprob&#x27;,\n",
       "              predictor=&#x27;auto&#x27;, random_state=0, reg_alpha=0, ...)</pre></div></div></div></div></div>"
      ],
      "text/plain": [
       "XGBClassifier(base_score=0.5, booster='gbtree', callbacks=None,\n",
       "              colsample_bylevel=1, colsample_bynode=1, colsample_bytree=1,\n",
       "              early_stopping_rounds=None, enable_categorical=False,\n",
       "              eval_metric=None, gamma=0, gpu_id=0, grow_policy='depthwise',\n",
       "              importance_type=None, interaction_constraints='',\n",
       "              learning_rate=0.15, max_bin=256, max_cat_to_onehot=4,\n",
       "              max_delta_step=0, max_depth=10, max_leaves=0, min_child_weight=1,\n",
       "              missing=nan, monotone_constraints='()', n_estimators=1000,\n",
       "              n_jobs=0, num_parallel_tree=1, objective='multi:softprob',\n",
       "              predictor='auto', random_state=0, reg_alpha=0, ...)"
      ]
     },
     "execution_count": 46,
     "metadata": {},
     "output_type": "execute_result"
    }
   ],
   "source": [
    "bx_cfl.fit(X_train,y_train)"
   ]
  },
  {
   "cell_type": "code",
   "execution_count": 47,
   "id": "8e5e8a09-3cbc-4b74-ae87-e8e7b036ce02",
   "metadata": {},
   "outputs": [
    {
     "data": {
      "text/html": [
       "<style>#sk-container-id-2 {color: black;background-color: white;}#sk-container-id-2 pre{padding: 0;}#sk-container-id-2 div.sk-toggleable {background-color: white;}#sk-container-id-2 label.sk-toggleable__label {cursor: pointer;display: block;width: 100%;margin-bottom: 0;padding: 0.3em;box-sizing: border-box;text-align: center;}#sk-container-id-2 label.sk-toggleable__label-arrow:before {content: \"▸\";float: left;margin-right: 0.25em;color: #696969;}#sk-container-id-2 label.sk-toggleable__label-arrow:hover:before {color: black;}#sk-container-id-2 div.sk-estimator:hover label.sk-toggleable__label-arrow:before {color: black;}#sk-container-id-2 div.sk-toggleable__content {max-height: 0;max-width: 0;overflow: hidden;text-align: left;background-color: #f0f8ff;}#sk-container-id-2 div.sk-toggleable__content pre {margin: 0.2em;color: black;border-radius: 0.25em;background-color: #f0f8ff;}#sk-container-id-2 input.sk-toggleable__control:checked~div.sk-toggleable__content {max-height: 200px;max-width: 100%;overflow: auto;}#sk-container-id-2 input.sk-toggleable__control:checked~label.sk-toggleable__label-arrow:before {content: \"▾\";}#sk-container-id-2 div.sk-estimator input.sk-toggleable__control:checked~label.sk-toggleable__label {background-color: #d4ebff;}#sk-container-id-2 div.sk-label input.sk-toggleable__control:checked~label.sk-toggleable__label {background-color: #d4ebff;}#sk-container-id-2 input.sk-hidden--visually {border: 0;clip: rect(1px 1px 1px 1px);clip: rect(1px, 1px, 1px, 1px);height: 1px;margin: -1px;overflow: hidden;padding: 0;position: absolute;width: 1px;}#sk-container-id-2 div.sk-estimator {font-family: monospace;background-color: #f0f8ff;border: 1px dotted black;border-radius: 0.25em;box-sizing: border-box;margin-bottom: 0.5em;}#sk-container-id-2 div.sk-estimator:hover {background-color: #d4ebff;}#sk-container-id-2 div.sk-parallel-item::after {content: \"\";width: 100%;border-bottom: 1px solid gray;flex-grow: 1;}#sk-container-id-2 div.sk-label:hover label.sk-toggleable__label {background-color: #d4ebff;}#sk-container-id-2 div.sk-serial::before {content: \"\";position: absolute;border-left: 1px solid gray;box-sizing: border-box;top: 0;bottom: 0;left: 50%;z-index: 0;}#sk-container-id-2 div.sk-serial {display: flex;flex-direction: column;align-items: center;background-color: white;padding-right: 0.2em;padding-left: 0.2em;position: relative;}#sk-container-id-2 div.sk-item {position: relative;z-index: 1;}#sk-container-id-2 div.sk-parallel {display: flex;align-items: stretch;justify-content: center;background-color: white;position: relative;}#sk-container-id-2 div.sk-item::before, #sk-container-id-2 div.sk-parallel-item::before {content: \"\";position: absolute;border-left: 1px solid gray;box-sizing: border-box;top: 0;bottom: 0;left: 50%;z-index: -1;}#sk-container-id-2 div.sk-parallel-item {display: flex;flex-direction: column;z-index: 1;position: relative;background-color: white;}#sk-container-id-2 div.sk-parallel-item:first-child::after {align-self: flex-end;width: 50%;}#sk-container-id-2 div.sk-parallel-item:last-child::after {align-self: flex-start;width: 50%;}#sk-container-id-2 div.sk-parallel-item:only-child::after {width: 0;}#sk-container-id-2 div.sk-dashed-wrapped {border: 1px dashed gray;margin: 0 0.4em 0.5em 0.4em;box-sizing: border-box;padding-bottom: 0.4em;background-color: white;}#sk-container-id-2 div.sk-label label {font-family: monospace;font-weight: bold;display: inline-block;line-height: 1.2em;}#sk-container-id-2 div.sk-label-container {text-align: center;}#sk-container-id-2 div.sk-container {/* jupyter's `normalize.less` sets `[hidden] { display: none; }` but bootstrap.min.css set `[hidden] { display: none !important; }` so we also need the `!important` here to be able to override the default hidden behavior on the sphinx rendered scikit-learn.org. See: https://github.com/scikit-learn/scikit-learn/issues/21755 */display: inline-block !important;position: relative;}#sk-container-id-2 div.sk-text-repr-fallback {display: none;}</style><div id=\"sk-container-id-2\" class=\"sk-top-container\"><div class=\"sk-text-repr-fallback\"><pre>CalibratedClassifierCV(base_estimator=XGBClassifier(base_score=0.5,\n",
       "                                                    booster=&#x27;gbtree&#x27;,\n",
       "                                                    callbacks=None,\n",
       "                                                    colsample_bylevel=1,\n",
       "                                                    colsample_bynode=1,\n",
       "                                                    colsample_bytree=1,\n",
       "                                                    early_stopping_rounds=None,\n",
       "                                                    enable_categorical=False,\n",
       "                                                    eval_metric=None, gamma=0,\n",
       "                                                    gpu_id=0,\n",
       "                                                    grow_policy=&#x27;depthwise&#x27;,\n",
       "                                                    importance_type=None,\n",
       "                                                    interaction_constraints=&#x27;&#x27;,\n",
       "                                                    learning_rate=0.15,\n",
       "                                                    max_bin=256,\n",
       "                                                    max_cat_to_onehot=4,\n",
       "                                                    max_delta_step=0,\n",
       "                                                    max_depth=10, max_leaves=0,\n",
       "                                                    min_child_weight=1,\n",
       "                                                    missing=nan,\n",
       "                                                    monotone_constraints=&#x27;()&#x27;,\n",
       "                                                    n_estimators=1000, n_jobs=0,\n",
       "                                                    num_parallel_tree=1,\n",
       "                                                    objective=&#x27;multi:softprob&#x27;,\n",
       "                                                    predictor=&#x27;auto&#x27;,\n",
       "                                                    random_state=0, reg_alpha=0, ...))</pre><b>In a Jupyter environment, please rerun this cell to show the HTML representation or trust the notebook. <br />On GitHub, the HTML representation is unable to render, please try loading this page with nbviewer.org.</b></div><div class=\"sk-container\" hidden><div class=\"sk-item sk-dashed-wrapped\"><div class=\"sk-label-container\"><div class=\"sk-label sk-toggleable\"><input class=\"sk-toggleable__control sk-hidden--visually\" id=\"sk-estimator-id-2\" type=\"checkbox\" ><label for=\"sk-estimator-id-2\" class=\"sk-toggleable__label sk-toggleable__label-arrow\">CalibratedClassifierCV</label><div class=\"sk-toggleable__content\"><pre>CalibratedClassifierCV(base_estimator=XGBClassifier(base_score=0.5,\n",
       "                                                    booster=&#x27;gbtree&#x27;,\n",
       "                                                    callbacks=None,\n",
       "                                                    colsample_bylevel=1,\n",
       "                                                    colsample_bynode=1,\n",
       "                                                    colsample_bytree=1,\n",
       "                                                    early_stopping_rounds=None,\n",
       "                                                    enable_categorical=False,\n",
       "                                                    eval_metric=None, gamma=0,\n",
       "                                                    gpu_id=0,\n",
       "                                                    grow_policy=&#x27;depthwise&#x27;,\n",
       "                                                    importance_type=None,\n",
       "                                                    interaction_constraints=&#x27;&#x27;,\n",
       "                                                    learning_rate=0.15,\n",
       "                                                    max_bin=256,\n",
       "                                                    max_cat_to_onehot=4,\n",
       "                                                    max_delta_step=0,\n",
       "                                                    max_depth=10, max_leaves=0,\n",
       "                                                    min_child_weight=1,\n",
       "                                                    missing=nan,\n",
       "                                                    monotone_constraints=&#x27;()&#x27;,\n",
       "                                                    n_estimators=1000, n_jobs=0,\n",
       "                                                    num_parallel_tree=1,\n",
       "                                                    objective=&#x27;multi:softprob&#x27;,\n",
       "                                                    predictor=&#x27;auto&#x27;,\n",
       "                                                    random_state=0, reg_alpha=0, ...))</pre></div></div></div><div class=\"sk-parallel\"><div class=\"sk-parallel-item\"><div class=\"sk-item\"><div class=\"sk-label-container\"><div class=\"sk-label sk-toggleable\"><input class=\"sk-toggleable__control sk-hidden--visually\" id=\"sk-estimator-id-3\" type=\"checkbox\" ><label for=\"sk-estimator-id-3\" class=\"sk-toggleable__label sk-toggleable__label-arrow\">base_estimator: XGBClassifier</label><div class=\"sk-toggleable__content\"><pre>XGBClassifier(base_score=0.5, booster=&#x27;gbtree&#x27;, callbacks=None,\n",
       "              colsample_bylevel=1, colsample_bynode=1, colsample_bytree=1,\n",
       "              early_stopping_rounds=None, enable_categorical=False,\n",
       "              eval_metric=None, gamma=0, gpu_id=0, grow_policy=&#x27;depthwise&#x27;,\n",
       "              importance_type=None, interaction_constraints=&#x27;&#x27;,\n",
       "              learning_rate=0.15, max_bin=256, max_cat_to_onehot=4,\n",
       "              max_delta_step=0, max_depth=10, max_leaves=0, min_child_weight=1,\n",
       "              missing=nan, monotone_constraints=&#x27;()&#x27;, n_estimators=1000,\n",
       "              n_jobs=0, num_parallel_tree=1, objective=&#x27;multi:softprob&#x27;,\n",
       "              predictor=&#x27;auto&#x27;, random_state=0, reg_alpha=0, ...)</pre></div></div></div><div class=\"sk-serial\"><div class=\"sk-item\"><div class=\"sk-estimator sk-toggleable\"><input class=\"sk-toggleable__control sk-hidden--visually\" id=\"sk-estimator-id-4\" type=\"checkbox\" ><label for=\"sk-estimator-id-4\" class=\"sk-toggleable__label sk-toggleable__label-arrow\">XGBClassifier</label><div class=\"sk-toggleable__content\"><pre>XGBClassifier(base_score=0.5, booster=&#x27;gbtree&#x27;, callbacks=None,\n",
       "              colsample_bylevel=1, colsample_bynode=1, colsample_bytree=1,\n",
       "              early_stopping_rounds=None, enable_categorical=False,\n",
       "              eval_metric=None, gamma=0, gpu_id=0, grow_policy=&#x27;depthwise&#x27;,\n",
       "              importance_type=None, interaction_constraints=&#x27;&#x27;,\n",
       "              learning_rate=0.15, max_bin=256, max_cat_to_onehot=4,\n",
       "              max_delta_step=0, max_depth=10, max_leaves=0, min_child_weight=1,\n",
       "              missing=nan, monotone_constraints=&#x27;()&#x27;, n_estimators=1000,\n",
       "              n_jobs=0, num_parallel_tree=1, objective=&#x27;multi:softprob&#x27;,\n",
       "              predictor=&#x27;auto&#x27;, random_state=0, reg_alpha=0, ...)</pre></div></div></div></div></div></div></div></div></div></div>"
      ],
      "text/plain": [
       "CalibratedClassifierCV(base_estimator=XGBClassifier(base_score=0.5,\n",
       "                                                    booster='gbtree',\n",
       "                                                    callbacks=None,\n",
       "                                                    colsample_bylevel=1,\n",
       "                                                    colsample_bynode=1,\n",
       "                                                    colsample_bytree=1,\n",
       "                                                    early_stopping_rounds=None,\n",
       "                                                    enable_categorical=False,\n",
       "                                                    eval_metric=None, gamma=0,\n",
       "                                                    gpu_id=0,\n",
       "                                                    grow_policy='depthwise',\n",
       "                                                    importance_type=None,\n",
       "                                                    interaction_constraints='',\n",
       "                                                    learning_rate=0.15,\n",
       "                                                    max_bin=256,\n",
       "                                                    max_cat_to_onehot=4,\n",
       "                                                    max_delta_step=0,\n",
       "                                                    max_depth=10, max_leaves=0,\n",
       "                                                    min_child_weight=1,\n",
       "                                                    missing=nan,\n",
       "                                                    monotone_constraints='()',\n",
       "                                                    n_estimators=1000, n_jobs=0,\n",
       "                                                    num_parallel_tree=1,\n",
       "                                                    objective='multi:softprob',\n",
       "                                                    predictor='auto',\n",
       "                                                    random_state=0, reg_alpha=0, ...))"
      ]
     },
     "execution_count": 47,
     "metadata": {},
     "output_type": "execute_result"
    }
   ],
   "source": [
    "c_cfl=CalibratedClassifierCV(bx_cfl,method='sigmoid')\n",
    "c_cfl.fit(X_train,y_train)"
   ]
  },
  {
   "cell_type": "code",
   "execution_count": 49,
   "id": "1580264e-123a-4680-ab7c-89bf8c722e80",
   "metadata": {},
   "outputs": [
    {
     "name": "stdout",
     "output_type": "stream",
     "text": [
      "train loss 0.00880546194066976\n",
      "test loss 0.028432012890028422\n"
     ]
    }
   ],
   "source": [
    "predict_y = c_cfl.predict_proba(X_train)\n",
    "print ('train loss',log_loss(y_train, predict_y))\n",
    "# predict_y = c_cfl.predict_proba(X_cv)\n",
    "# print ('cv loss',log_loss(y_cv, predict_y))\n",
    "predict_y = c_cfl.predict_proba(X_test)\n",
    "print ('test loss',log_loss(y_test, predict_y))"
   ]
  },
  {
   "cell_type": "code",
   "execution_count": 2,
   "id": "1ef2fed6-f5e0-47c6-8a79-dee7d0b7e223",
   "metadata": {},
   "outputs": [],
   "source": [
    "files_asm = \"/scratch/sisodiya.bhoomendra/asr_file/\"\n",
    "images_asm = \"/scratch/sisodiya.bhoomendra/asm_image/\""
   ]
  },
  {
   "cell_type": "code",
   "execution_count": 3,
   "id": "a135a1e8-57a0-43fb-a0dc-8655a4826907",
   "metadata": {},
   "outputs": [],
   "source": [
    "import numpy as np\n",
    "import os\n",
    "import codecs\n",
    "import imageio\n",
    "import array\n",
    "from datetime import datetime as dt\n",
    "from tqdm import tqdm\n",
    "import gc\n",
    "\n",
    "asmfile_list=os.listdir(files_asm)"
   ]
  },
  {
   "cell_type": "code",
   "execution_count": 4,
   "id": "316a937e-8b50-40c9-ab68-4289bb4c5e01",
   "metadata": {},
   "outputs": [],
   "source": [
    "file_names = getPickel(\"/scratch/sisodiya.bhoomendra/file_name.pkl\")"
   ]
  },
  {
   "cell_type": "code",
   "execution_count": 6,
   "id": "1b3d920e-a49e-4205-98ab-e11e50f012e0",
   "metadata": {},
   "outputs": [],
   "source": [
    "def extract_images_from_text(arr_of_filenames):\n",
    "    vecs = []\n",
    "    count = 0\n",
    "    for file_name in tqdm(arr_of_filenames):\n",
    "        file_path = os.path.join(files_asm,file_name+\".asm\")\n",
    "        asm_file = codecs.open(file_path, 'rb')\n",
    "        size_asm_file = os.path.getsize(file_path)        \n",
    "        \n",
    "        width_of_file = int(size_asm_file**0.5)\n",
    "        \n",
    "        remainder = size_asm_file % width_of_file\n",
    "        \n",
    "        array_of_image = array.array('B')\n",
    "        \n",
    "        array_of_image.fromfile(asm_file, size_asm_file-remainder)\n",
    "        \n",
    "        asm_file.close()\n",
    "        \n",
    "        arr_of_generated_image = np.uint8(array_of_image)\n",
    "             \n",
    "        vecs.append(arr_of_generated_image[:800])\n",
    "        \n",
    "        count+=1\n",
    "        if count%500 == 0:\n",
    "            gc.collect()\n",
    "    \n",
    "    return np.array(vecs)\n"
   ]
  },
  {
   "cell_type": "code",
   "execution_count": 7,
   "id": "f2ac0c89-395a-45ce-98b4-4f9c6d5de996",
   "metadata": {},
   "outputs": [],
   "source": [
    "def parts(st,end):\n",
    "    output = extract_images_from_text(file_names[st:end])\n",
    "    putPickel(output,os.path.join(images_asm,f\"asm_img_{st}_{end}.pkl\"))"
   ]
  },
  {
   "cell_type": "code",
   "execution_count": 8,
   "id": "2798253a-87fb-4e79-a809-f1e3244577ef",
   "metadata": {},
   "outputs": [
    {
     "name": "stderr",
     "output_type": "stream",
     "text": [
      "100%|█████████████████████████████████████████████| 1000/1000 [00:28<00:00, 34.50it/s]\n"
     ]
    }
   ],
   "source": [
    "parts(0,1000)"
   ]
  },
  {
   "cell_type": "code",
   "execution_count": 9,
   "id": "7e7ce99d-1597-4122-ab19-557ecce49dee",
   "metadata": {},
   "outputs": [
    {
     "data": {
      "text/plain": [
       "293"
      ]
     },
     "execution_count": 9,
     "metadata": {},
     "output_type": "execute_result"
    }
   ],
   "source": [
    "gc.collect()"
   ]
  },
  {
   "cell_type": "code",
   "execution_count": 10,
   "id": "c2ada614-d265-4098-bb2a-7ce2abcf9126",
   "metadata": {},
   "outputs": [
    {
     "name": "stderr",
     "output_type": "stream",
     "text": [
      "100%|█████████████████████████████████████████████| 1000/1000 [02:00<00:00,  8.32it/s]\n"
     ]
    },
    {
     "data": {
      "text/plain": [
       "0"
      ]
     },
     "execution_count": 10,
     "metadata": {},
     "output_type": "execute_result"
    }
   ],
   "source": [
    "parts(1000,2000)\n",
    "gc.collect()"
   ]
  },
  {
   "cell_type": "code",
   "execution_count": 11,
   "id": "d09645a0-90d7-49e3-b8c0-85599a0bf6d2",
   "metadata": {},
   "outputs": [
    {
     "name": "stderr",
     "output_type": "stream",
     "text": [
      "100%|█████████████████████████████████████████████| 1000/1000 [02:03<00:00,  8.12it/s]\n"
     ]
    },
    {
     "data": {
      "text/plain": [
       "0"
      ]
     },
     "execution_count": 11,
     "metadata": {},
     "output_type": "execute_result"
    }
   ],
   "source": [
    "parts(2000,3000)\n",
    "gc.collect()"
   ]
  },
  {
   "cell_type": "code",
   "execution_count": 12,
   "id": "a39a6a26-d086-4f84-82e0-97c707f0c741",
   "metadata": {},
   "outputs": [
    {
     "name": "stderr",
     "output_type": "stream",
     "text": [
      "100%|█████████████████████████████████████████████| 1000/1000 [02:00<00:00,  8.31it/s]\n"
     ]
    },
    {
     "data": {
      "text/plain": [
       "0"
      ]
     },
     "execution_count": 12,
     "metadata": {},
     "output_type": "execute_result"
    }
   ],
   "source": [
    "parts(3000,4000)\n",
    "gc.collect()"
   ]
  },
  {
   "cell_type": "code",
   "execution_count": 13,
   "id": "ce8506fb-f384-4e4b-b201-a4b99f0fa365",
   "metadata": {},
   "outputs": [
    {
     "name": "stderr",
     "output_type": "stream",
     "text": [
      "100%|█████████████████████████████████████████████| 1000/1000 [01:56<00:00,  8.58it/s]\n"
     ]
    },
    {
     "data": {
      "text/plain": [
       "0"
      ]
     },
     "execution_count": 13,
     "metadata": {},
     "output_type": "execute_result"
    }
   ],
   "source": [
    "parts(4000,5000)\n",
    "gc.collect()"
   ]
  },
  {
   "cell_type": "code",
   "execution_count": 14,
   "id": "1e46b85c-9895-4175-bb14-96f56e366fd5",
   "metadata": {},
   "outputs": [
    {
     "name": "stderr",
     "output_type": "stream",
     "text": [
      "100%|█████████████████████████████████████████████| 1000/1000 [01:57<00:00,  8.48it/s]\n"
     ]
    },
    {
     "data": {
      "text/plain": [
       "0"
      ]
     },
     "execution_count": 14,
     "metadata": {},
     "output_type": "execute_result"
    }
   ],
   "source": [
    "parts(5000,6000)\n",
    "gc.collect()"
   ]
  },
  {
   "cell_type": "code",
   "execution_count": 15,
   "id": "8b4cf194-f9a7-4f69-ab42-9a4394c6eafb",
   "metadata": {},
   "outputs": [
    {
     "name": "stderr",
     "output_type": "stream",
     "text": [
      "100%|█████████████████████████████████████████████| 1000/1000 [01:55<00:00,  8.64it/s]\n"
     ]
    },
    {
     "data": {
      "text/plain": [
       "0"
      ]
     },
     "execution_count": 15,
     "metadata": {},
     "output_type": "execute_result"
    }
   ],
   "source": [
    "parts(6000,7000)\n",
    "gc.collect()"
   ]
  },
  {
   "cell_type": "code",
   "execution_count": 16,
   "id": "f5cfacf5-ca82-40fe-b67a-2ad123987ec9",
   "metadata": {},
   "outputs": [
    {
     "name": "stderr",
     "output_type": "stream",
     "text": [
      "100%|█████████████████████████████████████████████| 1000/1000 [01:54<00:00,  8.76it/s]\n"
     ]
    },
    {
     "data": {
      "text/plain": [
       "0"
      ]
     },
     "execution_count": 16,
     "metadata": {},
     "output_type": "execute_result"
    }
   ],
   "source": [
    "parts(7000,8000)\n",
    "gc.collect()"
   ]
  },
  {
   "cell_type": "code",
   "execution_count": 17,
   "id": "9430ff00-b202-4390-a848-4ba8773385ee",
   "metadata": {},
   "outputs": [],
   "source": [
    "parts(8000,9000)\n",
    "gc.collect()\n",
    "\n",
    "parts(9000,10000)\n",
    "gc.collect()\n",
    "\n",
    "parts(10000,len(file_names))\n",
    "gc.collect()"
   ]
  },
  {
   "cell_type": "code",
   "execution_count": 21,
   "id": "d19613b1-4bb9-4e0d-9d85-37a8f2844af1",
   "metadata": {},
   "outputs": [
    {
     "name": "stdout",
     "output_type": "stream",
     "text": [
      "8.1M\t/scratch/sisodiya.bhoomendra/asm_image/8wSjurzyd3Z1UfgFJe6h.png\n",
      "784K\t/scratch/sisodiya.bhoomendra/asm_image/asm_img_0_1000.pkl\n",
      "680K\t/scratch/sisodiya.bhoomendra/asm_image/asm_img_10000_10868.pkl\n",
      "784K\t/scratch/sisodiya.bhoomendra/asm_image/asm_img_1000_2000.pkl\n",
      "784K\t/scratch/sisodiya.bhoomendra/asm_image/asm_img_2000_3000.pkl\n",
      "784K\t/scratch/sisodiya.bhoomendra/asm_image/asm_img_3000_4000.pkl\n",
      "784K\t/scratch/sisodiya.bhoomendra/asm_image/asm_img_4000_5000.pkl\n",
      "784K\t/scratch/sisodiya.bhoomendra/asm_image/asm_img_5000_6000.pkl\n",
      "784K\t/scratch/sisodiya.bhoomendra/asm_image/asm_img_6000_7000.pkl\n",
      "784K\t/scratch/sisodiya.bhoomendra/asm_image/asm_img_7000_8000.pkl\n",
      "784K\t/scratch/sisodiya.bhoomendra/asm_image/asm_img_8000_9000.pkl\n",
      "784K\t/scratch/sisodiya.bhoomendra/asm_image/asm_img_9000_10000.pkl\n"
     ]
    }
   ],
   "source": [
    "! du -h /scratch/sisodiya.bhoomendra/asm_image/*"
   ]
  },
  {
   "cell_type": "code",
   "execution_count": 38,
   "id": "bfbf4724-50ef-4210-8645-c0b57fffb02c",
   "metadata": {},
   "outputs": [],
   "source": [
    "paths = [\"/scratch/sisodiya.bhoomendra/asm_image/asm_img_0_1000.pkl\",\"/scratch/sisodiya.bhoomendra/asm_image/asm_img_1000_2000.pkl\"\n",
    ",\"/scratch/sisodiya.bhoomendra/asm_image/asm_img_2000_3000.pkl\"\n",
    ",\"/scratch/sisodiya.bhoomendra/asm_image/asm_img_3000_4000.pkl\",\"/scratch/sisodiya.bhoomendra/asm_image/asm_img_4000_5000.pkl\"\n",
    ",\"/scratch/sisodiya.bhoomendra/asm_image/asm_img_5000_6000.pkl\",\"/scratch/sisodiya.bhoomendra/asm_image/asm_img_6000_7000.pkl\"\n",
    ",\"/scratch/sisodiya.bhoomendra/asm_image/asm_img_7000_8000.pkl\",\"/scratch/sisodiya.bhoomendra/asm_image/asm_img_8000_9000.pkl\"\n",
    ",\"/scratch/sisodiya.bhoomendra/asm_image/asm_img_9000_10000.pkl\",\"/scratch/sisodiya.bhoomendra/asm_image/asm_img_10000_10868.pkl\"\n",
    "]\n",
    "\n",
    "from numpy import vstack\n",
    "\n",
    "all_img_asm = []\n",
    "for path in paths:\n",
    "    all_img_asm.append(getPickel(path))\n",
    "\n",
    "len(all_img_asm)\n",
    "\n",
    "asm_features = vstack(all_img_asm)\n",
    "\n",
    "asm_features.shape\n",
    "\n",
    "putPickel(asm_features,\"/scratch/sisodiya.bhoomendra/asm_img_features_800.pkl\")\n",
    "\n",
    "X = getPickel(\"/scratch/sisodiya.bhoomendra/X_size_asm_1_Class_1_asm_51_byte_2000_size_1.pkl\")\n",
    "\n",
    "X.shape\n",
    "\n",
    "from numpy import hstack\n",
    "final_X = hstack([X,asm_features])\n",
    "\n",
    "final_X.shape\n",
    "\n",
    "putPickel(final_X,\"/scratch/sisodiya.bhoomendra/X_size_asm_1_Class_1_asm_51_byte_2000_size_1_asm_img_800.pkl\")"
   ]
  },
  {
   "cell_type": "code",
   "execution_count": null,
   "id": "97383019-9db7-449d-bb50-6df03f942036",
   "metadata": {},
   "outputs": [],
   "source": []
  }
 ],
 "metadata": {
  "kernelspec": {
   "display_name": "Python 3 (ipykernel)",
   "language": "python",
   "name": "python3"
  },
  "language_info": {
   "codemirror_mode": {
    "name": "ipython",
    "version": 3
   },
   "file_extension": ".py",
   "mimetype": "text/x-python",
   "name": "python",
   "nbconvert_exporter": "python",
   "pygments_lexer": "ipython3",
   "version": "3.9.12"
  }
 },
 "nbformat": 4,
 "nbformat_minor": 5
}
