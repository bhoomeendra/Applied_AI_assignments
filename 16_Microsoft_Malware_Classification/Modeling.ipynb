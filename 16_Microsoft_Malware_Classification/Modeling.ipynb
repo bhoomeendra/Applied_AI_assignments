{
 "cells": [
  {
   "cell_type": "code",
   "execution_count": null,
   "id": "5eed98b1-632d-4d7f-9538-bdfcbabcdca9",
   "metadata": {},
   "outputs": [],
   "source": [
    "\n",
    "paths = '/scratch/sisodiya.bhoomeendra'\n",
    "\n",
    "final_data = getPickel(\"/scratch/sisodiya.bhoomendra/train_data.pkl\")\n",
    "\n",
    "data = final_data.tocsr()\n",
    "\n",
    "del final_data\n",
    "import gc; gc.collect()\n",
    "\n",
    "data_y = data[:,0]\n",
    "data_y = data_y.astype(dtype=np.int8)\n",
    "data_x = data[:,1:]\n",
    "del data\n",
    "import gc; gc.collect()\n",
    "\n",
    "dense_data_y = data_y.todense()\n",
    "del data_y\n",
    "gc.collect()\n",
    "k = np.squeeze(np.asarray(dense_data_y.reshape(-1)))\n",
    "\n",
    "k = k-1\n",
    "\n",
    "dense_data_x = data_x.todense()\n",
    "del data_x\n",
    "gc.collect()\n",
    "\n",
    "from sklearn.model_selection import train_test_split\n",
    "# split the data into test and train by maintaining same distribution of output varaible 'y_true' [stratify=y_true]\n",
    "X_train, X_test, y_train, y_test = train_test_split(dense_data_x, k,stratify=k,test_size=0.20)\n",
    "\n",
    "del dense_data_x,dense_data_y\n",
    "gc.collect()\n",
    "\n",
    "X_train_n, X_cv, y_train_n, y_cv = train_test_split(X_train, y_train,stratify=y_train,test_size=0.20)\n",
    "del X_train,y_train\n",
    "gc.collect()\n",
    "X_train = X_train_n\n",
    "y_train = y_train_n\n",
    "\n",
    "print('Number of data points in train data:', X_train.shape[0])\n",
    "print('Number of data points in test data:', X_test.shape[0])\n",
    "print('Number of data points in cross validation data:', X_cv.shape[0])\n",
    "\n",
    "# Training a hyper-parameter tuned Xg-Boost regressor on our train data\n",
    "\n",
    "# find more about XGBClassifier function here http://xgboost.readthedocs.io/en/latest/python/python_api.html?#xgboost.XGBClassifier\n",
    "# -------------------------\n",
    "# default paramters\n",
    "# class xgboost.XGBClassifier(max_depth=3, learning_rate=0.1, n_estimators=100, silent=True, \n",
    "# objective='binary:logistic', booster='gbtree', n_jobs=1, nthread=None, gamma=0, min_child_weight=1, \n",
    "# max_delta_step=0, subsample=1, colsample_bytree=1, colsample_bylevel=1, reg_alpha=0, reg_lambda=1, \n",
    "# scale_pos_weight=1, base_score=0.5, random_state=0, seed=None, missing=None, **kwargs)\n",
    "\n",
    "# some of methods of RandomForestRegressor()\n",
    "# fit(X, y, sample_weight=None, eval_set=None, eval_metric=None, early_stopping_rounds=None, verbose=True, xgb_model=None)\n",
    "# get_params([deep])\tGet parameters for this estimator.\n",
    "# predict(data, output_margin=False, ntree_limit=0) : Predict with data. NOTE: This function is not thread safe.\n",
    "# get_score(importance_type='weight') -> get the feature importance\n",
    "# -----------------------\n",
    "# video link1: https://www.appliedaicourse.com/course/applied-ai-course-online/lessons/regression-using-decision-trees-2/\n",
    "# video link2: https://www.appliedaicourse.com/course/applied-ai-course-online/lessons/what-are-ensembles/\n",
    "# -----------------------"
   ]
  },
  {
   "cell_type": "markdown",
   "id": "00571dcf-6b31-4e42-b572-29f70169658b",
   "metadata": {},
   "source": [
    "# 1"
   ]
  },
  {
   "cell_type": "code",
   "execution_count": 1,
   "id": "1e9165c8-a0df-4d07-8600-08f29baf0f34",
   "metadata": {},
   "outputs": [],
   "source": [
    "import pickle as pkl\n",
    "import os\n",
    "import pandas as pd\n",
    "import numpy as np\n",
    "from scipy.sparse import hstack\n",
    "import matplotlib.pyplot as plt\n",
    "from sklearn.metrics import confusion_matrix\n",
    "\n",
    "def getPickel(path):\n",
    "    file = open(path,'rb')\n",
    "    obj =  pkl.load(file)\n",
    "    return obj\n",
    "\n",
    "def putPickel(var,path):\n",
    "    file = open(path,'wb')\n",
    "    pkl.dump(var,file)\n",
    "    file.close()"
   ]
  },
  {
   "cell_type": "markdown",
   "id": "95fb9cf2-fb81-4529-9f3f-5705a3f78bd5",
   "metadata": {},
   "source": [
    "# 2"
   ]
  },
  {
   "cell_type": "code",
   "execution_count": 2,
   "id": "64db2de4-7be4-48f1-84f1-eebc4b0ccbfc",
   "metadata": {},
   "outputs": [],
   "source": [
    "def plot_confusion_matrix(test_y, predict_y):\n",
    "    C = confusion_matrix(test_y, predict_y)\n",
    "    print(\"Number of misclassified points \",(len(test_y)-np.trace(C))/len(test_y)*100)\n",
    "    # C = 9,9 matrix, each cell (i,j) represents number of points of class i are predicted class j\n",
    "    \n",
    "    A =(((C.T)/(C.sum(axis=1))).T)\n",
    "    #divid each element of the confusion matrix with the sum of elements in that column\n",
    "    \n",
    "    # C = [[1, 2],\n",
    "    #     [3, 4]]\n",
    "    # C.T = [[1, 3],\n",
    "    #        [2, 4]]\n",
    "    # C.sum(axis = 1)  axis=0 corresonds to columns and axis=1 corresponds to rows in two diamensional array\n",
    "    # C.sum(axix =1) = [[3, 7]]\n",
    "    # ((C.T)/(C.sum(axis=1))) = [[1/3, 3/7]\n",
    "    #                           [2/3, 4/7]]\n",
    "\n",
    "    # ((C.T)/(C.sum(axis=1))).T = [[1/3, 2/3]\n",
    "    #                           [3/7, 4/7]]\n",
    "    # sum of row elements = 1\n",
    "    \n",
    "    B =(C/C.sum(axis=0))\n",
    "    #divid each element of the confusion matrix with the sum of elements in that row\n",
    "    # C = [[1, 2],\n",
    "    #     [3, 4]]\n",
    "    # C.sum(axis = 0)  axis=0 corresonds to columns and axis=1 corresponds to rows in two diamensional array\n",
    "    # C.sum(axix =0) = [[4, 6]]\n",
    "    # (C/C.sum(axis=0)) = [[1/4, 2/6],\n",
    "    #                      [3/4, 4/6]] \n",
    "    \n",
    "    labels = [1,2,3,4,5,6,7,8,9]\n",
    "    cmap=sns.light_palette(\"green\")\n",
    "    # representing A in heatmap format\n",
    "    print(\"-\"*50, \"Confusion matrix\", \"-\"*50)\n",
    "    plt.figure(figsize=(10,5))\n",
    "    sns.heatmap(C, annot=True, cmap=cmap, fmt=\".3f\", xticklabels=labels, yticklabels=labels)\n",
    "    plt.xlabel('Predicted Class')\n",
    "    plt.ylabel('Original Class')\n",
    "    plt.show()\n",
    "\n",
    "    print(\"-\"*50, \"Precision matrix\", \"-\"*50)\n",
    "    plt.figure(figsize=(10,5))\n",
    "    sns.heatmap(B, annot=True, cmap=cmap, fmt=\".3f\", xticklabels=labels, yticklabels=labels)\n",
    "    plt.xlabel('Predicted Class')\n",
    "    plt.ylabel('Original Class')\n",
    "    plt.show()\n",
    "    print(\"Sum of columns in precision matrix\",B.sum(axis=0))\n",
    "    \n",
    "    # representing B in heatmap format\n",
    "    print(\"-\"*50, \"Recall matrix\"    , \"-\"*50)\n",
    "    plt.figure(figsize=(10,5))\n",
    "    sns.heatmap(A, annot=True, cmap=cmap, fmt=\".3f\", xticklabels=labels, yticklabels=labels)\n",
    "    plt.xlabel('Predicted Class')\n",
    "    plt.ylabel('Original Class')\n",
    "    plt.show()\n",
    "    print(\"Sum of rows in precision matrix\",A.sum(axis=1))\n",
    "\n",
    "from xgboost import XGBClassifier\n",
    "from sklearn.calibration import CalibratedClassifierCV\n",
    "from sklearn.metrics import log_loss\n"
   ]
  },
  {
   "cell_type": "code",
   "execution_count": null,
   "id": "467a3019-4d11-4564-9fdf-6ea4a6b3190e",
   "metadata": {},
   "outputs": [],
   "source": [
    "alpha=[100,500,1000]\n",
    "cv_log_error_array=[]\n",
    "xgb_models = []\n",
    "\n",
    "for i in alpha:\n",
    "    print(\"Going to fit\")\n",
    "    x_cfl=XGBClassifier(n_estimators=i,tree_method='gpu_hist')\n",
    "    x_cfl.fit(X_train,y_train)\n",
    "    print(\"XGB Fitted\")\n",
    "    xgb_models.append(x_cfl)"
   ]
  },
  {
   "cell_type": "code",
   "execution_count": 2,
   "id": "d128d04c-ddbc-4c5d-a6a5-5c410e0917ff",
   "metadata": {},
   "outputs": [],
   "source": []
  },
  {
   "cell_type": "code",
   "execution_count": 6,
   "id": "bf5d9743-f231-442d-8237-692c334036a0",
   "metadata": {},
   "outputs": [
    {
     "name": "stdout",
     "output_type": "stream",
     "text": [
      "Going to fit\n",
      "XGB Fitted\n"
     ]
    }
   ],
   "source": [
    "print(\"Going to fit\")\n",
    "x_cfl=XGBClassifier(n_estimators=1000,tree_method='gpu_hist')\n",
    "x_cfl.fit(X_train,y_train)\n",
    "print(\"XGB Fitted\")\n",
    "xgb_models.append(x_cfl)"
   ]
  },
  {
   "cell_type": "code",
   "execution_count": 21,
   "id": "9e2c687d-864a-4089-b912-5d84cc1ee5a1",
   "metadata": {},
   "outputs": [
    {
     "name": "stdout",
     "output_type": "stream",
     "text": [
      "Going to fit\n",
      "XGB Fitted\n"
     ]
    }
   ],
   "source": [
    "print(\"Going to fit\")\n",
    "x_cfl=XGBClassifier(n_estimators=3000,tree_method='gpu_hist')\n",
    "x_cfl.fit(X_train,y_train)\n",
    "print(\"XGB Fitted\")\n",
    "xgb_models.append(x_cfl)"
   ]
  },
  {
   "cell_type": "code",
   "execution_count": 22,
   "id": "4a0cc433-f17d-466b-b42d-5881af30b16b",
   "metadata": {},
   "outputs": [
    {
     "data": {
      "text/plain": [
       "4"
      ]
     },
     "execution_count": 22,
     "metadata": {},
     "output_type": "execute_result"
    }
   ],
   "source": [
    "len(xgb_models)"
   ]
  },
  {
   "cell_type": "code",
   "execution_count": 23,
   "id": "800a2641-096d-4948-a94b-cbf29f16b397",
   "metadata": {},
   "outputs": [],
   "source": [
    "putPickel(xgb_models,\"/scratch/sisodiya.bhoomendra/xgb_models.pkl\")"
   ]
  },
  {
   "cell_type": "code",
   "execution_count": 9,
   "id": "92709859-48c9-49a6-9060-535882ed82ab",
   "metadata": {},
   "outputs": [],
   "source": [
    "putPickel(X_train,\"/scratch/sisodiya.bhoomendra/X_train.pkl\")\n",
    "putPickel(y_train,\"/scratch/sisodiya.bhoomendra/y_train.pkl\")\n",
    "putPickel(X_test,\"/scratch/sisodiya.bhoomendra/X_test.pkl\")\n",
    "putPickel(y_test,\"/scratch/sisodiya.bhoomendra/y_test.pkl\")\n",
    "putPickel(X_cv,\"/scratch/sisodiya.bhoomendra/X_cv.pkl\")\n",
    "putPickel(y_cv,\"/scratch/sisodiya.bhoomendra/y_cv.pkl\")"
   ]
  },
  {
   "cell_type": "code",
   "execution_count": 3,
   "id": "d35df971-009b-4e71-ab06-e5d7c32d4e65",
   "metadata": {},
   "outputs": [],
   "source": [
    "X_train = getPickel(\"/scratch/sisodiya.bhoomendra/X_train.pkl\")"
   ]
  },
  {
   "cell_type": "code",
   "execution_count": 4,
   "id": "2524e9ac-f7d8-41d4-9689-a7b6026fe209",
   "metadata": {},
   "outputs": [
    {
     "data": {
      "text/plain": [
       "(6955, 66307)"
      ]
     },
     "execution_count": 4,
     "metadata": {},
     "output_type": "execute_result"
    }
   ],
   "source": [
    "X_train.shape"
   ]
  },
  {
   "cell_type": "code",
   "execution_count": 50,
   "id": "51995b6b-f5d6-41b1-94bd-51f39fc0615c",
   "metadata": {},
   "outputs": [
    {
     "data": {
      "text/plain": [
       "array([[5.52246094e-01, 2.36110000e+04, 1.38700000e+03, ...,\n",
       "        0.00000000e+00, 0.00000000e+00, 7.96100000e+03],\n",
       "       [1.26025391e+00, 0.00000000e+00, 0.00000000e+00, ...,\n",
       "        0.00000000e+00, 0.00000000e+00, 3.41760000e+05],\n",
       "       [8.09960938e+00, 1.15100000e+04, 5.45300000e+03, ...,\n",
       "        0.00000000e+00, 0.00000000e+00, 1.39886400e+06],\n",
       "       ...,\n",
       "       [1.60009766e+00, 4.93960000e+04, 5.05500000e+03, ...,\n",
       "        0.00000000e+00, 0.00000000e+00, 1.47500000e+04],\n",
       "       [8.63769531e-01, 8.32700000e+04, 1.13100000e+03, ...,\n",
       "        0.00000000e+00, 0.00000000e+00, 1.37700000e+03],\n",
       "       [8.09960938e+00, 1.15040000e+04, 5.67100000e+03, ...,\n",
       "        0.00000000e+00, 0.00000000e+00, 1.39742400e+06]])"
      ]
     },
     "execution_count": 50,
     "metadata": {},
     "output_type": "execute_result"
    }
   ],
   "source": [
    "X_train_arr"
   ]
  },
  {
   "cell_type": "code",
   "execution_count": 26,
   "id": "2f316212-3f63-4c6a-b1d1-2fdfc2f88ee2",
   "metadata": {},
   "outputs": [],
   "source": [
    "X_train_arr = np.array(X_train)"
   ]
  },
  {
   "cell_type": "code",
   "execution_count": 27,
   "id": "98381969-f3d4-498b-bb9b-6be83a02f21c",
   "metadata": {},
   "outputs": [],
   "source": [
    "sums = np.sum(X_train_arr,axis=0)"
   ]
  },
  {
   "cell_type": "code",
   "execution_count": 49,
   "id": "0efc7170-cae6-4d4e-a5c5-f7f6d2a03992",
   "metadata": {},
   "outputs": [
    {
     "data": {
      "text/plain": [
       "31232.238090515137"
      ]
     },
     "execution_count": 49,
     "metadata": {},
     "output_type": "execute_result"
    }
   ],
   "source": []
  },
  {
   "cell_type": "markdown",
   "id": "e09a3663-ed2c-4325-816d-861b2716fde2",
   "metadata": {},
   "source": [
    "# 3"
   ]
  },
  {
   "cell_type": "code",
   "execution_count": 3,
   "id": "63ad6312-e92a-46d3-8191-315fd3abdc99",
   "metadata": {},
   "outputs": [],
   "source": [
    "xgb_models = getPickel(\"/scratch/sisodiya.bhoomendra/xgb_models.pkl\")\n",
    "X_train = getPickel(\"/scratch/sisodiya.bhoomendra/X_train.pkl\")\n",
    "y_train = getPickel(\"/scratch/sisodiya.bhoomendra/y_train.pkl\")\n",
    "X_cv = getPickel(\"/scratch/sisodiya.bhoomendra/X_cv.pkl\")\n",
    "y_cv = getPickel(\"/scratch/sisodiya.bhoomendra/y_cv.pkl\")"
   ]
  },
  {
   "cell_type": "code",
   "execution_count": 5,
   "id": "ce97fb86-704b-419b-a8e0-228408100523",
   "metadata": {},
   "outputs": [
    {
     "data": {
      "text/plain": [
       "4"
      ]
     },
     "execution_count": 5,
     "metadata": {},
     "output_type": "execute_result"
    }
   ],
   "source": [
    "len(xgb_models)"
   ]
  },
  {
   "cell_type": "code",
   "execution_count": 6,
   "id": "13db4d93-49c1-447c-b38e-e79d711cf767",
   "metadata": {},
   "outputs": [
    {
     "name": "stdout",
     "output_type": "stream",
     "text": [
      "Calibrated\n"
     ]
    },
    {
     "ename": "NameError",
     "evalue": "name 'calibration_models' is not defined",
     "output_type": "error",
     "traceback": [
      "\u001b[0;31m---------------------------------------------------------------------------\u001b[0m",
      "\u001b[0;31mNameError\u001b[0m                                 Traceback (most recent call last)",
      "Input \u001b[0;32mIn [6]\u001b[0m, in \u001b[0;36m<cell line: 4>\u001b[0;34m()\u001b[0m\n\u001b[1;32m      2\u001b[0m sig_clf\u001b[38;5;241m.\u001b[39mfit(X_train, y_train)\n\u001b[1;32m      3\u001b[0m \u001b[38;5;28mprint\u001b[39m(\u001b[38;5;124m\"\u001b[39m\u001b[38;5;124mCalibrated\u001b[39m\u001b[38;5;124m\"\u001b[39m)\n\u001b[0;32m----> 4\u001b[0m \u001b[43mcalibration_models\u001b[49m\u001b[38;5;241m.\u001b[39mappend(sig_clf)\n\u001b[1;32m      5\u001b[0m putPickel(calibration_models,\u001b[38;5;124m\"\u001b[39m\u001b[38;5;124m/scratch/sisodiya.bhoomendra/calibration_models.pkl\u001b[39m\u001b[38;5;124m\"\u001b[39m)\n",
      "\u001b[0;31mNameError\u001b[0m: name 'calibration_models' is not defined"
     ]
    }
   ],
   "source": [
    "sig_clf = CalibratedClassifierCV(xgb_models[-1], method=\"sigmoid\")\n",
    "sig_clf.fit(X_train, y_train)\n",
    "print(\"Calibrated\")"
   ]
  },
  {
   "cell_type": "markdown",
   "id": "e537e562-1158-4d1c-915c-34e8d7c1df67",
   "metadata": {},
   "source": [
    "# 5"
   ]
  },
  {
   "cell_type": "code",
   "execution_count": 8,
   "id": "1d161229-de4b-4d33-a62b-7344533f3420",
   "metadata": {},
   "outputs": [],
   "source": [
    "calibration_models = getPickel(\"/scratch/sisodiya.bhoomendra/calibration_models.pkl\")"
   ]
  },
  {
   "cell_type": "code",
   "execution_count": 10,
   "id": "614ce1bf-2401-4b5f-8614-55bae992073a",
   "metadata": {},
   "outputs": [],
   "source": [
    "calibration_models.append(sig_clf)"
   ]
  },
  {
   "cell_type": "code",
   "execution_count": 11,
   "id": "aed085d5-9125-4b1c-9707-78eab26a8262",
   "metadata": {},
   "outputs": [
    {
     "data": {
      "text/plain": [
       "4"
      ]
     },
     "execution_count": 11,
     "metadata": {},
     "output_type": "execute_result"
    }
   ],
   "source": [
    "len(xgb_models)"
   ]
  },
  {
   "cell_type": "code",
   "execution_count": 12,
   "id": "e6cebab0-4fb4-4cec-bc88-0f50e29f38f5",
   "metadata": {},
   "outputs": [],
   "source": [
    "cv_log_error_array = []\n",
    "\n",
    "for x_cfl,sig_clf in zip(xgb_models,calibration_models):\n",
    "    predict_y = sig_clf.predict_proba(X_cv)\n",
    "    cv_log_error_array.append(log_loss(y_cv, predict_y, labels=x_cfl.classes_, eps=1e-15))"
   ]
  },
  {
   "cell_type": "code",
   "execution_count": 13,
   "id": "04781e7f-78a4-46bd-9606-773a1124b95e",
   "metadata": {},
   "outputs": [
    {
     "name": "stdout",
     "output_type": "stream",
     "text": [
      "log_loss for c =  100 is 0.03140532921118688\n",
      "log_loss for c =  500 is 0.0313569809782841\n",
      "log_loss for c =  1000 is 0.031356068428278865\n",
      "log_loss for c =  3000 is 0.031359569657102015\n"
     ]
    }
   ],
   "source": [
    "alpha = [100,500,1000,3000]\n",
    "for i in range(len(cv_log_error_array)):\n",
    "    print ('log_loss for c = ',alpha[i],'is',cv_log_error_array[i])"
   ]
  },
  {
   "cell_type": "code",
   "execution_count": 14,
   "id": "22d413ab-9ee8-450f-b2a0-ba2d8c0da920",
   "metadata": {},
   "outputs": [],
   "source": [
    "best_alpha = np.argmin(cv_log_error_array)"
   ]
  },
  {
   "cell_type": "code",
   "execution_count": 15,
   "id": "8f983f8d-8067-4537-8fa3-29165f1a1268",
   "metadata": {},
   "outputs": [],
   "source": [
    "putPickel(calibration_models,\"/scratch/sisodiya.bhoomendra/calibration_models.pkl\")"
   ]
  },
  {
   "cell_type": "code",
   "execution_count": 16,
   "id": "b1abfc10-5753-4d1d-ac9c-fa3ebe02f7ce",
   "metadata": {},
   "outputs": [
    {
     "data": {
      "text/plain": [
       "2"
      ]
     },
     "execution_count": 16,
     "metadata": {},
     "output_type": "execute_result"
    }
   ],
   "source": [
    "best_alpha"
   ]
  },
  {
   "cell_type": "code",
   "execution_count": 17,
   "id": "3a7bbe66-9ed3-41ed-b069-e3626d143ae9",
   "metadata": {},
   "outputs": [
    {
     "name": "stdout",
     "output_type": "stream",
     "text": [
      "log_loss for c =  100 is 0.03140532921118688\n",
      "log_loss for c =  500 is 0.0313569809782841\n",
      "log_loss for c =  1000 is 0.031356068428278865\n",
      "log_loss for c =  3000 is 0.031359569657102015\n"
     ]
    },
    {
     "data": {
      "image/png": "[encoded data removed]",
      "text/plain": [
       "<Figure size 432x288 with 1 Axes>"
      ]
     },
     "metadata": {
      "needs_background": "light"
     },
     "output_type": "display_data"
    },
    {
     "name": "stdout",
     "output_type": "stream",
     "text": [
      "Done *************** Done\n"
     ]
    }
   ],
   "source": [
    "for i in range(len(cv_log_error_array)):\n",
    "    print ('log_loss for c = ',alpha[i],'is',cv_log_error_array[i])\n",
    "\n",
    "\n",
    "best_alpha = np.argmin(cv_log_error_array)\n",
    "\n",
    "fig, ax = plt.subplots()\n",
    "ax.plot(alpha, cv_log_error_array,c='g')\n",
    "for i, txt in enumerate(np.round(cv_log_error_array,3)):\n",
    "    ax.annotate((alpha[i],np.round(txt,3)), (alpha[i],cv_log_error_array[i]))\n",
    "plt.grid()\n",
    "plt.title(\"Cross Validation Error for each alpha\")\n",
    "plt.xlabel(\"Alpha i's\")\n",
    "plt.ylabel(\"Error measure\")\n",
    "plt.show()\n",
    "\n",
    "print(\"Done *************** Done\")"
   ]
  },
  {
   "cell_type": "code",
   "execution_count": 18,
   "id": "6c30956a-3f03-4a90-899c-0bbd729da221",
   "metadata": {},
   "outputs": [],
   "source": [
    "X_test = getPickel(\"/scratch/sisodiya.bhoomendra/X_test.pkl\")\n",
    "y_test = getPickel(\"/scratch/sisodiya.bhoomendra/y_test.pkl\")"
   ]
  },
  {
   "cell_type": "code",
   "execution_count": 19,
   "id": "933874f2-c558-4179-8b1a-1a8c00fba6bc",
   "metadata": {},
   "outputs": [
    {
     "name": "stdout",
     "output_type": "stream",
     "text": [
      "For values of best alpha =  1000 The train log loss is: 0.015649960952976397\n",
      "For values of best alpha =  1000 The cross validation log loss is: 0.031356068428278865\n",
      "For values of best alpha =  1000 The test log loss is: 0.05039140380844563\n"
     ]
    }
   ],
   "source": [
    "x_cfl = xgb_models[best_alpha]\n",
    "sig_clf = calibration_models[best_alpha]\n",
    "    \n",
    "predict_y = sig_clf.predict_proba(X_train)\n",
    "print ('For values of best alpha = ', alpha[best_alpha], \"The train log loss is:\",log_loss(y_train, predict_y))\n",
    "predict_y = sig_clf.predict_proba(X_cv)\n",
    "print('For values of best alpha = ', alpha[best_alpha], \"The cross validation log loss is:\",log_loss(y_cv, predict_y))\n",
    "predict_y = sig_clf.predict_proba(X_test)\n",
    "print('For values of best alpha = ', alpha[best_alpha], \"The test log loss is:\",log_loss(y_test, predict_y))"
   ]
  },
  {
   "cell_type": "code",
   "execution_count": 20,
   "id": "38c79465-16d2-4bf3-9a25-d4e8b6196216",
   "metadata": {},
   "outputs": [
    {
     "name": "stdout",
     "output_type": "stream",
     "text": [
      "Number of misclassified points  1.1039558417663293\n",
      "-------------------------------------------------- Confusion matrix --------------------------------------------------\n"
     ]
    },
    {
     "data": {
      "image/png": "[encoded data removed]",
      "text/plain": [
       "<Figure size 720x360 with 2 Axes>"
      ]
     },
     "metadata": {
      "needs_background": "light"
     },
     "output_type": "display_data"
    },
    {
     "name": "stdout",
     "output_type": "stream",
     "text": [
      "-------------------------------------------------- Precision matrix --------------------------------------------------\n"
     ]
    },
    {
     "data": {
      "image/png": "[encoded data removed]",
      "text/plain": [
       "<Figure size 720x360 with 2 Axes>"
      ]
     },
     "metadata": {
      "needs_background": "light"
     },
     "output_type": "display_data"
    },
    {
     "name": "stdout",
     "output_type": "stream",
     "text": [
      "Sum of columns in precision matrix [1. 1. 1. 1. 1. 1. 1. 1. 1.]\n",
      "-------------------------------------------------- Recall matrix --------------------------------------------------\n"
     ]
    },
    {
     "data": {
      "image/png": "[encoded data removed]",
      "text/plain": [
       "<Figure size 720x360 with 2 Axes>"
      ]
     },
     "metadata": {
      "needs_background": "light"
     },
     "output_type": "display_data"
    },
    {
     "name": "stdout",
     "output_type": "stream",
     "text": [
      "Sum of rows in precision matrix [1. 1. 1. 1. 1. 1. 1. 1. 1.]\n"
     ]
    }
   ],
   "source": [
    "import seaborn as sns\n",
    "plot_confusion_matrix(y_test, sig_clf.predict(X_test))"
   ]
  },
  {
   "cell_type": "code",
   "execution_count": 3,
   "id": "bfd01616-d3d0-4167-a500-be13a0b5fe27",
   "metadata": {},
   "outputs": [],
   "source": [
    "# Finding the 2000 most frequent in byte file and in asm file finding the 800 most frequent across all the files\n",
    "# Those will be used as features"
   ]
  },
  {
   "cell_type": "code",
   "execution_count": null,
   "id": "2445e8fc-34ac-4d74-9ac8-2c9e29748337",
   "metadata": {},
   "outputs": [],
   "source": []
  }
 ],
 "metadata": {
  "kernelspec": {
   "display_name": "Python 3 (ipykernel)",
   "language": "python",
   "name": "python3"
  },
  "language_info": {
   "codemirror_mode": {
    "name": "ipython",
    "version": 3
   },
   "file_extension": ".py",
   "mimetype": "text/x-python",
   "name": "python",
   "nbconvert_exporter": "python",
   "pygments_lexer": "ipython3",
   "version": "3.9.12"
  }
 },
 "nbformat": 4,
 "nbformat_minor": 5
}
